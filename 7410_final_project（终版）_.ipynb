{
  "cells": [
    {
      "attachments": {},
      "cell_type": "markdown",
      "metadata": {
        "id": "Alf93WR3072M"
      },
      "source": [
        "***Background***\n",
        "Camping invokes different meanings to different people. For the adventurer, it represents a wilderness experience. To a parent, camping is an escape, a family vacation, and inexpensive accommodation. \n",
        "\n",
        "Since 2020, domestic long-distance travel and overseas travel have been restricted, and camping that combines short-distance, outdoor, social, entertainment and other attributes has rapidly increased.\n",
        "\n",
        "The American camping culture is mature, and China has great potential. Camping has both leisure and social attributes, and at the same time, the threshold for participation is low, so the participation rate is high\n",
        "\n",
        "Strong social attributes are the main reason for the rapid development of camping. The convenience of communication in the Internet makes most social interactions online, but more and more people are not satisfied with the more \"virtual\" social interactions.\n",
        "\n",
        "From the perspective of facilities, camping still has huge room for development. Camping is very dependent on campsites, and even that is mostly done in parks.\n",
        "\n",
        "Hong Kong has personnel and geographical advantages for camping.Hong Kong has many mountains and islands, and is rich in both mountainous and marine outdoor resources. Hong Kong retains nearly 75% of its countryside, facing away from the dense forest of concrete buildings.\n",
        "\n",
        "Hong Kong's country parks are also spread all over Hong Kong, fully accounting for three-quarters of the 1,108 square kilometers of land in Hong Kong.Each country park has also set up different facilities for different users, including family-friendly family trails and educational nature trails. \n",
        "\n",
        "In Hong Kong, you can enter a country park within an hour's drive from any area, which is rare in the world. It is precisely because of this that Hong Kong is at the forefront of the world in terms of logistics, rescue and security.\n",
        "\n",
        "***Motivation***\n",
        "Camping is a popular form of accommodation and outdoor recreation, providing liminal opportunities to escape, rejuvenate, and socialize with family, friends, and fellow campers. The fast-paced life in Hong Kong and the increasing emphasis on mental health make us hope that this article can help more people start camping in Hong Kong.With an unchanging life routine and a two-point-one-line life trajectory. Many people like us, may look forward to a breakout, a breath of fresh air, and a moment of chill.\n",
        "\n",
        "Life is not only the camp in front of you, but also the endless wilderness in the distance.We hope that this article can effectively help a person who is new to camping in Hong Kong to get started.\n",
        "\n",
        "***data source***\n",
        "\n",
        "·data.gov.hk--Basic information about camping in HK\n",
        "Name_of_Building/Facility, Address_of_Building/Facility,\n",
        "CountryPark, Source_of_water, TentSpace,Website, Latitude,Longitude\n",
        "\n",
        "Gocamping.hk is a website in Hong Kong that focuses on outdoor camping and public parking information. The website provides an interactive map with real-time information on various campsites, outdoor campsites and public car parks in Hong Kong. Users can obtain the ranking of campsites in Hong Kong, camping site layout, camping facilities, positioning information and comments through this website, and exchange experiences and suggestions with other campers through the message board. The website also provides relevant camping ratings, activity recommendations, disclaimers and other information to help users have a better camping experience and healthy travel.\n",
        "\n",
        "\n",
        "·Gocamping--Crawl camper experience sharing content\n"
      ]
    },
    {
      "attachments": {},
      "cell_type": "markdown",
      "metadata": {
        "id": "kBWyBAD0V4vN"
      },
      "source": [
        "# import data"
      ]
    },
    {
      "cell_type": "code",
      "execution_count": 2,
      "metadata": {
        "id": "xuufUS2Ty4uK"
      },
      "outputs": [],
      "source": [
        "figuresPath = 'C:/Users/hp/Desktop/7410project/data/HK_Campsite.csv'"
      ]
    },
    {
      "cell_type": "code",
      "execution_count": 3,
      "metadata": {
        "id": "sKsVrkqVy4-n"
      },
      "outputs": [],
      "source": [
        "import pandas as pd\n",
        "\n",
        "# load data\n",
        "df = pd.read_csv(figuresPath)"
      ]
    },
    {
      "cell_type": "code",
      "execution_count": 4,
      "metadata": {
        "colab": {
          "base_uri": "https://localhost:8080/",
          "height": 1000
        },
        "id": "EjCW7ZwPzp2_",
        "outputId": "a068e928-7c70-45b3-c458-bf47f7df1951"
      },
      "outputs": [
        {
          "data": {
            "text/html": [
              "<div>\n",
              "<style scoped>\n",
              "    .dataframe tbody tr th:only-of-type {\n",
              "        vertical-align: middle;\n",
              "    }\n",
              "\n",
              "    .dataframe tbody tr th {\n",
              "        vertical-align: top;\n",
              "    }\n",
              "\n",
              "    .dataframe thead th {\n",
              "        text-align: right;\n",
              "    }\n",
              "</style>\n",
              "<table border=\"1\" class=\"dataframe\">\n",
              "  <thead>\n",
              "    <tr style=\"text-align: right;\">\n",
              "      <th></th>\n",
              "      <th>Name_of_Building/Facility</th>\n",
              "      <th>Address_of_Building/Facility</th>\n",
              "      <th>建築物/設施名稱</th>\n",
              "      <th>建築物/設施名稱.1</th>\n",
              "      <th>CountryPark</th>\n",
              "      <th>郊野公園</th>\n",
              "      <th>Source_of_water</th>\n",
              "      <th>水源</th>\n",
              "      <th>TentSpace</th>\n",
              "      <th>營位數目</th>\n",
              "      <th>Opening Hours</th>\n",
              "      <th>開放時間</th>\n",
              "      <th>Website</th>\n",
              "      <th>網頁</th>\n",
              "      <th>Latitude</th>\n",
              "      <th>Longitude</th>\n",
              "    </tr>\n",
              "  </thead>\n",
              "  <tbody>\n",
              "    <tr>\n",
              "      <th>0</th>\n",
              "      <td>Lau Shui Heung Camp Site</td>\n",
              "      <td>Lau Shui Heung</td>\n",
              "      <td>流水響營地</td>\n",
              "      <td>流水響</td>\n",
              "      <td>PAT SIN LENG COUNTRY PARK</td>\n",
              "      <td>八仙嶺郊野公園</td>\n",
              "      <td>STREAM WATER (SEASONAL SUPPLY)</td>\n",
              "      <td>溪澗(季節性水源)</td>\n",
              "      <td>Less than 20</td>\n",
              "      <td>Less than 20</td>\n",
              "      <td>N.A.</td>\n",
              "      <td>N.A.</td>\n",
              "      <td>http://www.afcd.gov.hk/english/country/cou_vis...</td>\n",
              "      <td>http://www.afcd.gov.hk/tc_chi/country/cou_vis/...</td>\n",
              "      <td>22.49139</td>\n",
              "      <td>114.16708</td>\n",
              "    </tr>\n",
              "    <tr>\n",
              "      <th>1</th>\n",
              "      <td>Tung Lung Chau Camp Site</td>\n",
              "      <td>Tung Lung Chau</td>\n",
              "      <td>東龍洲營地</td>\n",
              "      <td>東龍洲</td>\n",
              "      <td>TUNG LUNG FORT SPECIAL AREA</td>\n",
              "      <td>東龍洲特別地區</td>\n",
              "      <td>TAP</td>\n",
              "      <td>水喉</td>\n",
              "      <td>Less than 20</td>\n",
              "      <td>Less than 20</td>\n",
              "      <td>N.A.</td>\n",
              "      <td>N.A.</td>\n",
              "      <td>http://www.afcd.gov.hk/english/country/cou_vis...</td>\n",
              "      <td>http://www.afcd.gov.hk/tc_chi/country/cou_vis/...</td>\n",
              "      <td>22.25548</td>\n",
              "      <td>114.29593</td>\n",
              "    </tr>\n",
              "    <tr>\n",
              "      <th>2</th>\n",
              "      <td>Tai Mong Tsai Campsite</td>\n",
              "      <td>Tai Mong Tsai</td>\n",
              "      <td>大網仔營地</td>\n",
              "      <td>大網仔</td>\n",
              "      <td>SAI KUNG EAST COUNTRY PARK</td>\n",
              "      <td>西貢東郊野公園</td>\n",
              "      <td>TAP</td>\n",
              "      <td>水喉</td>\n",
              "      <td>Less than 20</td>\n",
              "      <td>Less than 20</td>\n",
              "      <td>N.A.</td>\n",
              "      <td>N.A.</td>\n",
              "      <td>http://www.afcd.gov.hk/english/country/cou_vis...</td>\n",
              "      <td>http://www.afcd.gov.hk/tc_chi/country/cou_vis/...</td>\n",
              "      <td>22.38553</td>\n",
              "      <td>114.30775</td>\n",
              "    </tr>\n",
              "    <tr>\n",
              "      <th>3</th>\n",
              "      <td>Chung Pui Camp Site</td>\n",
              "      <td>Chung Pui</td>\n",
              "      <td>涌背營地</td>\n",
              "      <td>涌背</td>\n",
              "      <td>PAT SIN LENG COUNTRY PARK</td>\n",
              "      <td>八仙嶺郊野公園</td>\n",
              "      <td>TAP</td>\n",
              "      <td>水喉</td>\n",
              "      <td>20-50</td>\n",
              "      <td>20-50</td>\n",
              "      <td>N.A.</td>\n",
              "      <td>N.A.</td>\n",
              "      <td>http://www.afcd.gov.hk/english/country/cou_vis...</td>\n",
              "      <td>http://www.afcd.gov.hk/tc_chi/country/cou_vis/...</td>\n",
              "      <td>22.48748</td>\n",
              "      <td>114.24293</td>\n",
              "    </tr>\n",
              "    <tr>\n",
              "      <th>4</th>\n",
              "      <td>Hok Tau Camp Site</td>\n",
              "      <td>Hok Tau</td>\n",
              "      <td>鶴藪營地</td>\n",
              "      <td>鶴藪</td>\n",
              "      <td>PAT SIN LENG COUNTRY PARK</td>\n",
              "      <td>八仙嶺郊野公園</td>\n",
              "      <td>TAP</td>\n",
              "      <td>水喉</td>\n",
              "      <td>20-50</td>\n",
              "      <td>20-50</td>\n",
              "      <td>N.A.</td>\n",
              "      <td>N.A.</td>\n",
              "      <td>http://www.afcd.gov.hk/english/country/cou_vis...</td>\n",
              "      <td>http://www.afcd.gov.hk/tc_chi/country/cou_vis/...</td>\n",
              "      <td>22.49841</td>\n",
              "      <td>114.17778</td>\n",
              "    </tr>\n",
              "    <tr>\n",
              "      <th>5</th>\n",
              "      <td>Sam A Chung Camp Site</td>\n",
              "      <td>Sam A Chung</td>\n",
              "      <td>三椏涌營地</td>\n",
              "      <td>三椏涌</td>\n",
              "      <td>PLOVER COVE COUNTRY PARK</td>\n",
              "      <td>船灣郊野公園</td>\n",
              "      <td>STREAM WATER (SEASONAL SUPPLY)</td>\n",
              "      <td>溪澗(季節性水源)</td>\n",
              "      <td>Less than 20</td>\n",
              "      <td>Less than 20</td>\n",
              "      <td>N.A.</td>\n",
              "      <td>N.A.</td>\n",
              "      <td>http://www.afcd.gov.hk/english/country/cou_vis...</td>\n",
              "      <td>http://www.afcd.gov.hk/tc_chi/country/cou_vis/...</td>\n",
              "      <td>22.50664</td>\n",
              "      <td>114.27020</td>\n",
              "    </tr>\n",
              "    <tr>\n",
              "      <th>6</th>\n",
              "      <td>Wan Tsai South Camp Site</td>\n",
              "      <td>Wan Tsai South</td>\n",
              "      <td>灣仔南營地</td>\n",
              "      <td>灣仔南</td>\n",
              "      <td>SAI KUNG WEST COUNTRY PARK (WAN TSAI EXTENSION)</td>\n",
              "      <td>西貢西郊野公園(灣仔擴建部分)</td>\n",
              "      <td>TAP</td>\n",
              "      <td>水喉</td>\n",
              "      <td>More than 50</td>\n",
              "      <td>More than 50</td>\n",
              "      <td>N.A.</td>\n",
              "      <td>N.A.</td>\n",
              "      <td>http://www.afcd.gov.hk/english/country/cou_vis...</td>\n",
              "      <td>http://www.afcd.gov.hk/tc_chi/country/cou_vis/...</td>\n",
              "      <td>22.46162</td>\n",
              "      <td>114.34213</td>\n",
              "    </tr>\n",
              "    <tr>\n",
              "      <th>7</th>\n",
              "      <td>Wong Shek Camp Site</td>\n",
              "      <td>Wong Shek</td>\n",
              "      <td>黃石營地</td>\n",
              "      <td>黃石</td>\n",
              "      <td>SAI KUNG EAST COUNTRY PARK</td>\n",
              "      <td>西貢東郊野公園</td>\n",
              "      <td>TAP</td>\n",
              "      <td>水喉</td>\n",
              "      <td>Less than 20</td>\n",
              "      <td>Less than 20</td>\n",
              "      <td>N.A.</td>\n",
              "      <td>N.A.</td>\n",
              "      <td>http://www.afcd.gov.hk/english/country/cou_vis...</td>\n",
              "      <td>http://www.afcd.gov.hk/tc_chi/country/cou_vis/...</td>\n",
              "      <td>22.43446</td>\n",
              "      <td>114.33623</td>\n",
              "    </tr>\n",
              "    <tr>\n",
              "      <th>8</th>\n",
              "      <td>Pak Tam Au Camp Site</td>\n",
              "      <td>Pak Tam Au</td>\n",
              "      <td>北潭凹營地</td>\n",
              "      <td>北潭凹</td>\n",
              "      <td>SAI KUNG EAST COUNTRY PARK</td>\n",
              "      <td>西貢東郊野公園</td>\n",
              "      <td>STREAM WATER (SEASONAL SUPPLY)</td>\n",
              "      <td>溪澗(季節性水源)</td>\n",
              "      <td>Less than 20</td>\n",
              "      <td>Less than 20</td>\n",
              "      <td>N.A.</td>\n",
              "      <td>N.A.</td>\n",
              "      <td>http://www.afcd.gov.hk/english/country/cou_vis...</td>\n",
              "      <td>http://www.afcd.gov.hk/tc_chi/country/cou_vis/...</td>\n",
              "      <td>22.42293</td>\n",
              "      <td>114.33584</td>\n",
              "    </tr>\n",
              "    <tr>\n",
              "      <th>9</th>\n",
              "      <td>Sai Wan Camp Site</td>\n",
              "      <td>Sai Wan</td>\n",
              "      <td>西灣營地</td>\n",
              "      <td>西灣</td>\n",
              "      <td>SAI KUNG EAST COUNTRY PARK</td>\n",
              "      <td>西貢東郊野公園</td>\n",
              "      <td>TAP</td>\n",
              "      <td>水喉</td>\n",
              "      <td>More than 50</td>\n",
              "      <td>More than 50</td>\n",
              "      <td>N.A.</td>\n",
              "      <td>N.A.</td>\n",
              "      <td>http://www.afcd.gov.hk/english/country/cou_vis...</td>\n",
              "      <td>http://www.afcd.gov.hk/tc_chi/country/cou_vis/...</td>\n",
              "      <td>22.40200</td>\n",
              "      <td>114.37152</td>\n",
              "    </tr>\n",
              "  </tbody>\n",
              "</table>\n",
              "</div>"
            ],
            "text/plain": [
              "  Name_of_Building/Facility Address_of_Building/Facility 建築物/設施名稱 建築物/設施名稱.1  \\\n",
              "0  Lau Shui Heung Camp Site               Lau Shui Heung    流水響營地        流水響   \n",
              "1  Tung Lung Chau Camp Site               Tung Lung Chau    東龍洲營地        東龍洲   \n",
              "2    Tai Mong Tsai Campsite                Tai Mong Tsai    大網仔營地        大網仔   \n",
              "3       Chung Pui Camp Site                    Chung Pui     涌背營地         涌背   \n",
              "4         Hok Tau Camp Site                      Hok Tau     鶴藪營地         鶴藪   \n",
              "5     Sam A Chung Camp Site                  Sam A Chung    三椏涌營地        三椏涌   \n",
              "6  Wan Tsai South Camp Site               Wan Tsai South    灣仔南營地        灣仔南   \n",
              "7       Wong Shek Camp Site                    Wong Shek     黃石營地         黃石   \n",
              "8      Pak Tam Au Camp Site                   Pak Tam Au    北潭凹營地        北潭凹   \n",
              "9         Sai Wan Camp Site                      Sai Wan     西灣營地         西灣   \n",
              "\n",
              "                                       CountryPark             郊野公園  \\\n",
              "0                        PAT SIN LENG COUNTRY PARK          八仙嶺郊野公園   \n",
              "1                      TUNG LUNG FORT SPECIAL AREA          東龍洲特別地區   \n",
              "2                       SAI KUNG EAST COUNTRY PARK          西貢東郊野公園   \n",
              "3                        PAT SIN LENG COUNTRY PARK          八仙嶺郊野公園   \n",
              "4                        PAT SIN LENG COUNTRY PARK          八仙嶺郊野公園   \n",
              "5                         PLOVER COVE COUNTRY PARK           船灣郊野公園   \n",
              "6  SAI KUNG WEST COUNTRY PARK (WAN TSAI EXTENSION)  西貢西郊野公園(灣仔擴建部分)   \n",
              "7                       SAI KUNG EAST COUNTRY PARK          西貢東郊野公園   \n",
              "8                       SAI KUNG EAST COUNTRY PARK          西貢東郊野公園   \n",
              "9                       SAI KUNG EAST COUNTRY PARK          西貢東郊野公園   \n",
              "\n",
              "                  Source_of_water         水源     TentSpace          營位數目  \\\n",
              "0  STREAM WATER (SEASONAL SUPPLY)  溪澗(季節性水源)  Less than 20  Less than 20   \n",
              "1                             TAP         水喉  Less than 20  Less than 20   \n",
              "2                             TAP         水喉  Less than 20  Less than 20   \n",
              "3                             TAP         水喉         20-50         20-50   \n",
              "4                             TAP         水喉         20-50         20-50   \n",
              "5  STREAM WATER (SEASONAL SUPPLY)  溪澗(季節性水源)  Less than 20  Less than 20   \n",
              "6                             TAP         水喉  More than 50  More than 50   \n",
              "7                             TAP         水喉  Less than 20  Less than 20   \n",
              "8  STREAM WATER (SEASONAL SUPPLY)  溪澗(季節性水源)  Less than 20  Less than 20   \n",
              "9                             TAP         水喉  More than 50  More than 50   \n",
              "\n",
              "  Opening Hours  開放時間                                            Website  \\\n",
              "0          N.A.  N.A.  http://www.afcd.gov.hk/english/country/cou_vis...   \n",
              "1          N.A.  N.A.  http://www.afcd.gov.hk/english/country/cou_vis...   \n",
              "2          N.A.  N.A.  http://www.afcd.gov.hk/english/country/cou_vis...   \n",
              "3          N.A.  N.A.  http://www.afcd.gov.hk/english/country/cou_vis...   \n",
              "4          N.A.  N.A.  http://www.afcd.gov.hk/english/country/cou_vis...   \n",
              "5          N.A.  N.A.  http://www.afcd.gov.hk/english/country/cou_vis...   \n",
              "6          N.A.  N.A.  http://www.afcd.gov.hk/english/country/cou_vis...   \n",
              "7          N.A.  N.A.  http://www.afcd.gov.hk/english/country/cou_vis...   \n",
              "8          N.A.  N.A.  http://www.afcd.gov.hk/english/country/cou_vis...   \n",
              "9          N.A.  N.A.  http://www.afcd.gov.hk/english/country/cou_vis...   \n",
              "\n",
              "                                                  網頁  Latitude  Longitude  \n",
              "0  http://www.afcd.gov.hk/tc_chi/country/cou_vis/...  22.49139  114.16708  \n",
              "1  http://www.afcd.gov.hk/tc_chi/country/cou_vis/...  22.25548  114.29593  \n",
              "2  http://www.afcd.gov.hk/tc_chi/country/cou_vis/...  22.38553  114.30775  \n",
              "3  http://www.afcd.gov.hk/tc_chi/country/cou_vis/...  22.48748  114.24293  \n",
              "4  http://www.afcd.gov.hk/tc_chi/country/cou_vis/...  22.49841  114.17778  \n",
              "5  http://www.afcd.gov.hk/tc_chi/country/cou_vis/...  22.50664  114.27020  \n",
              "6  http://www.afcd.gov.hk/tc_chi/country/cou_vis/...  22.46162  114.34213  \n",
              "7  http://www.afcd.gov.hk/tc_chi/country/cou_vis/...  22.43446  114.33623  \n",
              "8  http://www.afcd.gov.hk/tc_chi/country/cou_vis/...  22.42293  114.33584  \n",
              "9  http://www.afcd.gov.hk/tc_chi/country/cou_vis/...  22.40200  114.37152  "
            ]
          },
          "execution_count": 4,
          "metadata": {},
          "output_type": "execute_result"
        }
      ],
      "source": [
        "# preview the data\n",
        "df.head(10)"
      ]
    },
    {
      "cell_type": "code",
      "execution_count": 5,
      "metadata": {
        "colab": {
          "base_uri": "https://localhost:8080/"
        },
        "id": "H7Z1XKKozq3A",
        "outputId": "9a6e37ec-0878-4d69-a89c-04b580d9e6d4"
      },
      "outputs": [
        {
          "name": "stdout",
          "output_type": "stream",
          "text": [
            "<class 'pandas.core.frame.DataFrame'>\n",
            "RangeIndex: 41 entries, 0 to 40\n",
            "Data columns (total 16 columns):\n",
            " #   Column                        Non-Null Count  Dtype  \n",
            "---  ------                        --------------  -----  \n",
            " 0   Name_of_Building/Facility     41 non-null     object \n",
            " 1   Address_of_Building/Facility  41 non-null     object \n",
            " 2   建築物/設施名稱                      41 non-null     object \n",
            " 3   建築物/設施名稱.1                    41 non-null     object \n",
            " 4   CountryPark                   41 non-null     object \n",
            " 5   郊野公園                          41 non-null     object \n",
            " 6   Source_of_water               41 non-null     object \n",
            " 7   水源                            41 non-null     object \n",
            " 8   TentSpace                     41 non-null     object \n",
            " 9   營位數目                          41 non-null     object \n",
            " 10  Opening Hours                 41 non-null     object \n",
            " 11  開放時間                          41 non-null     object \n",
            " 12  Website                       41 non-null     object \n",
            " 13  網頁                            41 non-null     object \n",
            " 14  Latitude                      41 non-null     float64\n",
            " 15  Longitude                     41 non-null     float64\n",
            "dtypes: float64(2), object(14)\n",
            "memory usage: 5.2+ KB\n"
          ]
        }
      ],
      "source": [
        "# Data Frame information (null, data type etc)\n",
        "df.info()"
      ]
    },
    {
      "attachments": {},
      "cell_type": "markdown",
      "metadata": {
        "id": "IMrXEYFG0Fuw"
      },
      "source": [
        "The first part is the index information of the data frame, including the number of rows of the data frame and the range of index values, here from 0 to 40.  The second part is information about each column of the dataframe, including the column name, the number of non-null values for the column, the data type (such as object, float64, etc.), and the amount of memory occupied by the column's data. From this information, we can know that this dataframe has 41 rows and 16 columns, the data types are object and float64, the number of non-null values is 41 in each column, and the memory size occupied by the dataframe is 5.2KB."
      ]
    },
    {
      "attachments": {},
      "cell_type": "markdown",
      "metadata": {
        "id": "L_4IxFKtt82C"
      },
      "source": [
        "# clean data"
      ]
    },
    {
      "cell_type": "code",
      "execution_count": 6,
      "metadata": {
        "colab": {
          "base_uri": "https://localhost:8080/",
          "height": 1000
        },
        "id": "fLVZyKc_0-3b",
        "outputId": "995eb610-22d7-4f13-8ebd-67dc92f31025"
      },
      "outputs": [
        {
          "data": {
            "text/html": [
              "<div>\n",
              "<style scoped>\n",
              "    .dataframe tbody tr th:only-of-type {\n",
              "        vertical-align: middle;\n",
              "    }\n",
              "\n",
              "    .dataframe tbody tr th {\n",
              "        vertical-align: top;\n",
              "    }\n",
              "\n",
              "    .dataframe thead th {\n",
              "        text-align: right;\n",
              "    }\n",
              "</style>\n",
              "<table border=\"1\" class=\"dataframe\">\n",
              "  <thead>\n",
              "    <tr style=\"text-align: right;\">\n",
              "      <th></th>\n",
              "      <th>Name_of_Building/Facility</th>\n",
              "      <th>Address_of_Building/Facility</th>\n",
              "      <th>建築物/設施名稱</th>\n",
              "      <th>建築物/設施名稱.1</th>\n",
              "      <th>CountryPark</th>\n",
              "      <th>郊野公園</th>\n",
              "      <th>Source_of_water</th>\n",
              "      <th>水源</th>\n",
              "      <th>TentSpace</th>\n",
              "      <th>營位數目</th>\n",
              "      <th>Website</th>\n",
              "      <th>網頁</th>\n",
              "      <th>Latitude</th>\n",
              "      <th>Longitude</th>\n",
              "    </tr>\n",
              "  </thead>\n",
              "  <tbody>\n",
              "    <tr>\n",
              "      <th>0</th>\n",
              "      <td>Lau Shui Heung Camp Site</td>\n",
              "      <td>Lau Shui Heung</td>\n",
              "      <td>流水響營地</td>\n",
              "      <td>流水響</td>\n",
              "      <td>PAT SIN LENG COUNTRY PARK</td>\n",
              "      <td>八仙嶺郊野公園</td>\n",
              "      <td>STREAM WATER (SEASONAL SUPPLY)</td>\n",
              "      <td>溪澗(季節性水源)</td>\n",
              "      <td>Less than 20</td>\n",
              "      <td>Less than 20</td>\n",
              "      <td>http://www.afcd.gov.hk/english/country/cou_vis...</td>\n",
              "      <td>http://www.afcd.gov.hk/tc_chi/country/cou_vis/...</td>\n",
              "      <td>22.49139</td>\n",
              "      <td>114.16708</td>\n",
              "    </tr>\n",
              "    <tr>\n",
              "      <th>1</th>\n",
              "      <td>Tung Lung Chau Camp Site</td>\n",
              "      <td>Tung Lung Chau</td>\n",
              "      <td>東龍洲營地</td>\n",
              "      <td>東龍洲</td>\n",
              "      <td>TUNG LUNG FORT SPECIAL AREA</td>\n",
              "      <td>東龍洲特別地區</td>\n",
              "      <td>TAP</td>\n",
              "      <td>水喉</td>\n",
              "      <td>Less than 20</td>\n",
              "      <td>Less than 20</td>\n",
              "      <td>http://www.afcd.gov.hk/english/country/cou_vis...</td>\n",
              "      <td>http://www.afcd.gov.hk/tc_chi/country/cou_vis/...</td>\n",
              "      <td>22.25548</td>\n",
              "      <td>114.29593</td>\n",
              "    </tr>\n",
              "    <tr>\n",
              "      <th>2</th>\n",
              "      <td>Tai Mong Tsai Campsite</td>\n",
              "      <td>Tai Mong Tsai</td>\n",
              "      <td>大網仔營地</td>\n",
              "      <td>大網仔</td>\n",
              "      <td>SAI KUNG EAST COUNTRY PARK</td>\n",
              "      <td>西貢東郊野公園</td>\n",
              "      <td>TAP</td>\n",
              "      <td>水喉</td>\n",
              "      <td>Less than 20</td>\n",
              "      <td>Less than 20</td>\n",
              "      <td>http://www.afcd.gov.hk/english/country/cou_vis...</td>\n",
              "      <td>http://www.afcd.gov.hk/tc_chi/country/cou_vis/...</td>\n",
              "      <td>22.38553</td>\n",
              "      <td>114.30775</td>\n",
              "    </tr>\n",
              "    <tr>\n",
              "      <th>3</th>\n",
              "      <td>Chung Pui Camp Site</td>\n",
              "      <td>Chung Pui</td>\n",
              "      <td>涌背營地</td>\n",
              "      <td>涌背</td>\n",
              "      <td>PAT SIN LENG COUNTRY PARK</td>\n",
              "      <td>八仙嶺郊野公園</td>\n",
              "      <td>TAP</td>\n",
              "      <td>水喉</td>\n",
              "      <td>20-50</td>\n",
              "      <td>20-50</td>\n",
              "      <td>http://www.afcd.gov.hk/english/country/cou_vis...</td>\n",
              "      <td>http://www.afcd.gov.hk/tc_chi/country/cou_vis/...</td>\n",
              "      <td>22.48748</td>\n",
              "      <td>114.24293</td>\n",
              "    </tr>\n",
              "    <tr>\n",
              "      <th>4</th>\n",
              "      <td>Hok Tau Camp Site</td>\n",
              "      <td>Hok Tau</td>\n",
              "      <td>鶴藪營地</td>\n",
              "      <td>鶴藪</td>\n",
              "      <td>PAT SIN LENG COUNTRY PARK</td>\n",
              "      <td>八仙嶺郊野公園</td>\n",
              "      <td>TAP</td>\n",
              "      <td>水喉</td>\n",
              "      <td>20-50</td>\n",
              "      <td>20-50</td>\n",
              "      <td>http://www.afcd.gov.hk/english/country/cou_vis...</td>\n",
              "      <td>http://www.afcd.gov.hk/tc_chi/country/cou_vis/...</td>\n",
              "      <td>22.49841</td>\n",
              "      <td>114.17778</td>\n",
              "    </tr>\n",
              "    <tr>\n",
              "      <th>5</th>\n",
              "      <td>Sam A Chung Camp Site</td>\n",
              "      <td>Sam A Chung</td>\n",
              "      <td>三椏涌營地</td>\n",
              "      <td>三椏涌</td>\n",
              "      <td>PLOVER COVE COUNTRY PARK</td>\n",
              "      <td>船灣郊野公園</td>\n",
              "      <td>STREAM WATER (SEASONAL SUPPLY)</td>\n",
              "      <td>溪澗(季節性水源)</td>\n",
              "      <td>Less than 20</td>\n",
              "      <td>Less than 20</td>\n",
              "      <td>http://www.afcd.gov.hk/english/country/cou_vis...</td>\n",
              "      <td>http://www.afcd.gov.hk/tc_chi/country/cou_vis/...</td>\n",
              "      <td>22.50664</td>\n",
              "      <td>114.27020</td>\n",
              "    </tr>\n",
              "    <tr>\n",
              "      <th>6</th>\n",
              "      <td>Wan Tsai South Camp Site</td>\n",
              "      <td>Wan Tsai South</td>\n",
              "      <td>灣仔南營地</td>\n",
              "      <td>灣仔南</td>\n",
              "      <td>SAI KUNG WEST COUNTRY PARK (WAN TSAI EXTENSION)</td>\n",
              "      <td>西貢西郊野公園(灣仔擴建部分)</td>\n",
              "      <td>TAP</td>\n",
              "      <td>水喉</td>\n",
              "      <td>More than 50</td>\n",
              "      <td>More than 50</td>\n",
              "      <td>http://www.afcd.gov.hk/english/country/cou_vis...</td>\n",
              "      <td>http://www.afcd.gov.hk/tc_chi/country/cou_vis/...</td>\n",
              "      <td>22.46162</td>\n",
              "      <td>114.34213</td>\n",
              "    </tr>\n",
              "    <tr>\n",
              "      <th>7</th>\n",
              "      <td>Wong Shek Camp Site</td>\n",
              "      <td>Wong Shek</td>\n",
              "      <td>黃石營地</td>\n",
              "      <td>黃石</td>\n",
              "      <td>SAI KUNG EAST COUNTRY PARK</td>\n",
              "      <td>西貢東郊野公園</td>\n",
              "      <td>TAP</td>\n",
              "      <td>水喉</td>\n",
              "      <td>Less than 20</td>\n",
              "      <td>Less than 20</td>\n",
              "      <td>http://www.afcd.gov.hk/english/country/cou_vis...</td>\n",
              "      <td>http://www.afcd.gov.hk/tc_chi/country/cou_vis/...</td>\n",
              "      <td>22.43446</td>\n",
              "      <td>114.33623</td>\n",
              "    </tr>\n",
              "    <tr>\n",
              "      <th>8</th>\n",
              "      <td>Pak Tam Au Camp Site</td>\n",
              "      <td>Pak Tam Au</td>\n",
              "      <td>北潭凹營地</td>\n",
              "      <td>北潭凹</td>\n",
              "      <td>SAI KUNG EAST COUNTRY PARK</td>\n",
              "      <td>西貢東郊野公園</td>\n",
              "      <td>STREAM WATER (SEASONAL SUPPLY)</td>\n",
              "      <td>溪澗(季節性水源)</td>\n",
              "      <td>Less than 20</td>\n",
              "      <td>Less than 20</td>\n",
              "      <td>http://www.afcd.gov.hk/english/country/cou_vis...</td>\n",
              "      <td>http://www.afcd.gov.hk/tc_chi/country/cou_vis/...</td>\n",
              "      <td>22.42293</td>\n",
              "      <td>114.33584</td>\n",
              "    </tr>\n",
              "    <tr>\n",
              "      <th>9</th>\n",
              "      <td>Sai Wan Camp Site</td>\n",
              "      <td>Sai Wan</td>\n",
              "      <td>西灣營地</td>\n",
              "      <td>西灣</td>\n",
              "      <td>SAI KUNG EAST COUNTRY PARK</td>\n",
              "      <td>西貢東郊野公園</td>\n",
              "      <td>TAP</td>\n",
              "      <td>水喉</td>\n",
              "      <td>More than 50</td>\n",
              "      <td>More than 50</td>\n",
              "      <td>http://www.afcd.gov.hk/english/country/cou_vis...</td>\n",
              "      <td>http://www.afcd.gov.hk/tc_chi/country/cou_vis/...</td>\n",
              "      <td>22.40200</td>\n",
              "      <td>114.37152</td>\n",
              "    </tr>\n",
              "  </tbody>\n",
              "</table>\n",
              "</div>"
            ],
            "text/plain": [
              "  Name_of_Building/Facility Address_of_Building/Facility 建築物/設施名稱 建築物/設施名稱.1  \\\n",
              "0  Lau Shui Heung Camp Site               Lau Shui Heung    流水響營地        流水響   \n",
              "1  Tung Lung Chau Camp Site               Tung Lung Chau    東龍洲營地        東龍洲   \n",
              "2    Tai Mong Tsai Campsite                Tai Mong Tsai    大網仔營地        大網仔   \n",
              "3       Chung Pui Camp Site                    Chung Pui     涌背營地         涌背   \n",
              "4         Hok Tau Camp Site                      Hok Tau     鶴藪營地         鶴藪   \n",
              "5     Sam A Chung Camp Site                  Sam A Chung    三椏涌營地        三椏涌   \n",
              "6  Wan Tsai South Camp Site               Wan Tsai South    灣仔南營地        灣仔南   \n",
              "7       Wong Shek Camp Site                    Wong Shek     黃石營地         黃石   \n",
              "8      Pak Tam Au Camp Site                   Pak Tam Au    北潭凹營地        北潭凹   \n",
              "9         Sai Wan Camp Site                      Sai Wan     西灣營地         西灣   \n",
              "\n",
              "                                       CountryPark             郊野公園  \\\n",
              "0                        PAT SIN LENG COUNTRY PARK          八仙嶺郊野公園   \n",
              "1                      TUNG LUNG FORT SPECIAL AREA          東龍洲特別地區   \n",
              "2                       SAI KUNG EAST COUNTRY PARK          西貢東郊野公園   \n",
              "3                        PAT SIN LENG COUNTRY PARK          八仙嶺郊野公園   \n",
              "4                        PAT SIN LENG COUNTRY PARK          八仙嶺郊野公園   \n",
              "5                         PLOVER COVE COUNTRY PARK           船灣郊野公園   \n",
              "6  SAI KUNG WEST COUNTRY PARK (WAN TSAI EXTENSION)  西貢西郊野公園(灣仔擴建部分)   \n",
              "7                       SAI KUNG EAST COUNTRY PARK          西貢東郊野公園   \n",
              "8                       SAI KUNG EAST COUNTRY PARK          西貢東郊野公園   \n",
              "9                       SAI KUNG EAST COUNTRY PARK          西貢東郊野公園   \n",
              "\n",
              "                  Source_of_water         水源     TentSpace          營位數目  \\\n",
              "0  STREAM WATER (SEASONAL SUPPLY)  溪澗(季節性水源)  Less than 20  Less than 20   \n",
              "1                             TAP         水喉  Less than 20  Less than 20   \n",
              "2                             TAP         水喉  Less than 20  Less than 20   \n",
              "3                             TAP         水喉         20-50         20-50   \n",
              "4                             TAP         水喉         20-50         20-50   \n",
              "5  STREAM WATER (SEASONAL SUPPLY)  溪澗(季節性水源)  Less than 20  Less than 20   \n",
              "6                             TAP         水喉  More than 50  More than 50   \n",
              "7                             TAP         水喉  Less than 20  Less than 20   \n",
              "8  STREAM WATER (SEASONAL SUPPLY)  溪澗(季節性水源)  Less than 20  Less than 20   \n",
              "9                             TAP         水喉  More than 50  More than 50   \n",
              "\n",
              "                                             Website  \\\n",
              "0  http://www.afcd.gov.hk/english/country/cou_vis...   \n",
              "1  http://www.afcd.gov.hk/english/country/cou_vis...   \n",
              "2  http://www.afcd.gov.hk/english/country/cou_vis...   \n",
              "3  http://www.afcd.gov.hk/english/country/cou_vis...   \n",
              "4  http://www.afcd.gov.hk/english/country/cou_vis...   \n",
              "5  http://www.afcd.gov.hk/english/country/cou_vis...   \n",
              "6  http://www.afcd.gov.hk/english/country/cou_vis...   \n",
              "7  http://www.afcd.gov.hk/english/country/cou_vis...   \n",
              "8  http://www.afcd.gov.hk/english/country/cou_vis...   \n",
              "9  http://www.afcd.gov.hk/english/country/cou_vis...   \n",
              "\n",
              "                                                  網頁  Latitude  Longitude  \n",
              "0  http://www.afcd.gov.hk/tc_chi/country/cou_vis/...  22.49139  114.16708  \n",
              "1  http://www.afcd.gov.hk/tc_chi/country/cou_vis/...  22.25548  114.29593  \n",
              "2  http://www.afcd.gov.hk/tc_chi/country/cou_vis/...  22.38553  114.30775  \n",
              "3  http://www.afcd.gov.hk/tc_chi/country/cou_vis/...  22.48748  114.24293  \n",
              "4  http://www.afcd.gov.hk/tc_chi/country/cou_vis/...  22.49841  114.17778  \n",
              "5  http://www.afcd.gov.hk/tc_chi/country/cou_vis/...  22.50664  114.27020  \n",
              "6  http://www.afcd.gov.hk/tc_chi/country/cou_vis/...  22.46162  114.34213  \n",
              "7  http://www.afcd.gov.hk/tc_chi/country/cou_vis/...  22.43446  114.33623  \n",
              "8  http://www.afcd.gov.hk/tc_chi/country/cou_vis/...  22.42293  114.33584  \n",
              "9  http://www.afcd.gov.hk/tc_chi/country/cou_vis/...  22.40200  114.37152  "
            ]
          },
          "execution_count": 6,
          "metadata": {},
          "output_type": "execute_result"
        }
      ],
      "source": [
        "#Replace N.A. with null values and delete\n",
        "df = pd.read_csv(figuresPath)\n",
        "df = df.replace('N.A.', pd.NA)\n",
        "df_new = df.dropna(axis=1)\n",
        "df_new.head(10)"
      ]
    },
    {
      "cell_type": "code",
      "execution_count": 7,
      "metadata": {
        "id": "6F9zz-a61HuL"
      },
      "outputs": [],
      "source": [
        "df_new.to_csv('HK_Campsite_cleaned.csv', index=False)"
      ]
    },
    {
      "cell_type": "code",
      "execution_count": 8,
      "metadata": {
        "colab": {
          "base_uri": "https://localhost:8080/",
          "height": 895
        },
        "id": "U4cvgFrnX3gj",
        "outputId": "64f2935a-06dc-4ec7-eb05-562e16a70e0c"
      },
      "outputs": [
        {
          "data": {
            "text/html": [
              "<div>\n",
              "<style scoped>\n",
              "    .dataframe tbody tr th:only-of-type {\n",
              "        vertical-align: middle;\n",
              "    }\n",
              "\n",
              "    .dataframe tbody tr th {\n",
              "        vertical-align: top;\n",
              "    }\n",
              "\n",
              "    .dataframe thead th {\n",
              "        text-align: right;\n",
              "    }\n",
              "</style>\n",
              "<table border=\"1\" class=\"dataframe\">\n",
              "  <thead>\n",
              "    <tr style=\"text-align: right;\">\n",
              "      <th></th>\n",
              "      <th>Name_of_Building/Facility</th>\n",
              "      <th>Address_of_Building/Facility</th>\n",
              "      <th>建築物/設施名稱</th>\n",
              "      <th>建築物/設施名稱.1</th>\n",
              "      <th>CountryPark</th>\n",
              "      <th>郊野公園</th>\n",
              "      <th>Source_of_water</th>\n",
              "      <th>水源</th>\n",
              "      <th>TentSpace</th>\n",
              "      <th>營位數目</th>\n",
              "      <th>Website</th>\n",
              "      <th>網頁</th>\n",
              "      <th>Latitude</th>\n",
              "      <th>Longitude</th>\n",
              "    </tr>\n",
              "  </thead>\n",
              "  <tbody>\n",
              "    <tr>\n",
              "      <th>0</th>\n",
              "      <td>Lau Shui Heung Camp Site</td>\n",
              "      <td>Lau Shui Heung</td>\n",
              "      <td>流水響營地</td>\n",
              "      <td>流水響</td>\n",
              "      <td>PAT SIN LENG COUNTRY PARK</td>\n",
              "      <td>八仙嶺郊野公園</td>\n",
              "      <td>STREAM WATER (SEASONAL SUPPLY)</td>\n",
              "      <td>溪澗(季節性水源)</td>\n",
              "      <td>Less than 20</td>\n",
              "      <td>Less than 20</td>\n",
              "      <td>http://www.afcd.gov.hk/english/country/cou_vis...</td>\n",
              "      <td>http://www.afcd.gov.hk/tc_chi/country/cou_vis/...</td>\n",
              "      <td>22.49139</td>\n",
              "      <td>114.16708</td>\n",
              "    </tr>\n",
              "    <tr>\n",
              "      <th>1</th>\n",
              "      <td>Tung Lung Chau Camp Site</td>\n",
              "      <td>Tung Lung Chau</td>\n",
              "      <td>東龍洲營地</td>\n",
              "      <td>東龍洲</td>\n",
              "      <td>TUNG LUNG FORT SPECIAL AREA</td>\n",
              "      <td>東龍洲特別地區</td>\n",
              "      <td>TAP</td>\n",
              "      <td>水喉</td>\n",
              "      <td>Less than 20</td>\n",
              "      <td>Less than 20</td>\n",
              "      <td>http://www.afcd.gov.hk/english/country/cou_vis...</td>\n",
              "      <td>http://www.afcd.gov.hk/tc_chi/country/cou_vis/...</td>\n",
              "      <td>22.25548</td>\n",
              "      <td>114.29593</td>\n",
              "    </tr>\n",
              "    <tr>\n",
              "      <th>2</th>\n",
              "      <td>Tai Mong Tsai Campsite</td>\n",
              "      <td>Tai Mong Tsai</td>\n",
              "      <td>大網仔營地</td>\n",
              "      <td>大網仔</td>\n",
              "      <td>SAI KUNG EAST COUNTRY PARK</td>\n",
              "      <td>西貢東郊野公園</td>\n",
              "      <td>TAP</td>\n",
              "      <td>水喉</td>\n",
              "      <td>Less than 20</td>\n",
              "      <td>Less than 20</td>\n",
              "      <td>http://www.afcd.gov.hk/english/country/cou_vis...</td>\n",
              "      <td>http://www.afcd.gov.hk/tc_chi/country/cou_vis/...</td>\n",
              "      <td>22.38553</td>\n",
              "      <td>114.30775</td>\n",
              "    </tr>\n",
              "    <tr>\n",
              "      <th>3</th>\n",
              "      <td>Chung Pui Camp Site</td>\n",
              "      <td>Chung Pui</td>\n",
              "      <td>涌背營地</td>\n",
              "      <td>涌背</td>\n",
              "      <td>PAT SIN LENG COUNTRY PARK</td>\n",
              "      <td>八仙嶺郊野公園</td>\n",
              "      <td>TAP</td>\n",
              "      <td>水喉</td>\n",
              "      <td>20-50</td>\n",
              "      <td>20-50</td>\n",
              "      <td>http://www.afcd.gov.hk/english/country/cou_vis...</td>\n",
              "      <td>http://www.afcd.gov.hk/tc_chi/country/cou_vis/...</td>\n",
              "      <td>22.48748</td>\n",
              "      <td>114.24293</td>\n",
              "    </tr>\n",
              "    <tr>\n",
              "      <th>4</th>\n",
              "      <td>Hok Tau Camp Site</td>\n",
              "      <td>Hok Tau</td>\n",
              "      <td>鶴藪營地</td>\n",
              "      <td>鶴藪</td>\n",
              "      <td>PAT SIN LENG COUNTRY PARK</td>\n",
              "      <td>八仙嶺郊野公園</td>\n",
              "      <td>TAP</td>\n",
              "      <td>水喉</td>\n",
              "      <td>20-50</td>\n",
              "      <td>20-50</td>\n",
              "      <td>http://www.afcd.gov.hk/english/country/cou_vis...</td>\n",
              "      <td>http://www.afcd.gov.hk/tc_chi/country/cou_vis/...</td>\n",
              "      <td>22.49841</td>\n",
              "      <td>114.17778</td>\n",
              "    </tr>\n",
              "  </tbody>\n",
              "</table>\n",
              "</div>"
            ],
            "text/plain": [
              "  Name_of_Building/Facility Address_of_Building/Facility 建築物/設施名稱 建築物/設施名稱.1  \\\n",
              "0  Lau Shui Heung Camp Site               Lau Shui Heung    流水響營地        流水響   \n",
              "1  Tung Lung Chau Camp Site               Tung Lung Chau    東龍洲營地        東龍洲   \n",
              "2    Tai Mong Tsai Campsite                Tai Mong Tsai    大網仔營地        大網仔   \n",
              "3       Chung Pui Camp Site                    Chung Pui     涌背營地         涌背   \n",
              "4         Hok Tau Camp Site                      Hok Tau     鶴藪營地         鶴藪   \n",
              "\n",
              "                   CountryPark     郊野公園                 Source_of_water  \\\n",
              "0    PAT SIN LENG COUNTRY PARK  八仙嶺郊野公園  STREAM WATER (SEASONAL SUPPLY)   \n",
              "1  TUNG LUNG FORT SPECIAL AREA  東龍洲特別地區                             TAP   \n",
              "2   SAI KUNG EAST COUNTRY PARK  西貢東郊野公園                             TAP   \n",
              "3    PAT SIN LENG COUNTRY PARK  八仙嶺郊野公園                             TAP   \n",
              "4    PAT SIN LENG COUNTRY PARK  八仙嶺郊野公園                             TAP   \n",
              "\n",
              "          水源     TentSpace          營位數目  \\\n",
              "0  溪澗(季節性水源)  Less than 20  Less than 20   \n",
              "1         水喉  Less than 20  Less than 20   \n",
              "2         水喉  Less than 20  Less than 20   \n",
              "3         水喉         20-50         20-50   \n",
              "4         水喉         20-50         20-50   \n",
              "\n",
              "                                             Website  \\\n",
              "0  http://www.afcd.gov.hk/english/country/cou_vis...   \n",
              "1  http://www.afcd.gov.hk/english/country/cou_vis...   \n",
              "2  http://www.afcd.gov.hk/english/country/cou_vis...   \n",
              "3  http://www.afcd.gov.hk/english/country/cou_vis...   \n",
              "4  http://www.afcd.gov.hk/english/country/cou_vis...   \n",
              "\n",
              "                                                  網頁  Latitude  Longitude  \n",
              "0  http://www.afcd.gov.hk/tc_chi/country/cou_vis/...  22.49139  114.16708  \n",
              "1  http://www.afcd.gov.hk/tc_chi/country/cou_vis/...  22.25548  114.29593  \n",
              "2  http://www.afcd.gov.hk/tc_chi/country/cou_vis/...  22.38553  114.30775  \n",
              "3  http://www.afcd.gov.hk/tc_chi/country/cou_vis/...  22.48748  114.24293  \n",
              "4  http://www.afcd.gov.hk/tc_chi/country/cou_vis/...  22.49841  114.17778  "
            ]
          },
          "execution_count": 8,
          "metadata": {},
          "output_type": "execute_result"
        }
      ],
      "source": [
        "df_new.head(5)"
      ]
    },
    {
      "cell_type": "code",
      "execution_count": 2,
      "metadata": {},
      "outputs": [
        {
          "name": "stdout",
          "output_type": "stream",
          "text": [
            "Looking in indexes: https://pypi.tuna.tsinghua.edu.cn/simple\n",
            "Collecting folium\n",
            "  Downloading https://pypi.tuna.tsinghua.edu.cn/packages/0e/0f/22068577bc5eafdcbf5521dbaed6a5317a434ad6847ad3711dee1fd1f6ba/folium-0.14.0-py2.py3-none-any.whl (102 kB)\n",
            "Requirement already satisfied: requests in c:\\users\\hp\\appdata\\local\\programs\\python\\python39\\lib\\site-packages (from folium) (2.28.2)\n",
            "Requirement already satisfied: numpy in c:\\users\\hp\\appdata\\local\\programs\\python\\python39\\lib\\site-packages (from folium) (1.23.5)\n",
            "Collecting branca>=0.6.0\n",
            "  Downloading https://pypi.tuna.tsinghua.edu.cn/packages/a6/18/cea6374623d82efc292996997cee0a13ae99359c7e66db22f92dc8484dd1/branca-0.6.0-py3-none-any.whl (24 kB)\n",
            "Collecting jinja2>=2.9\n",
            "  Downloading https://pypi.tuna.tsinghua.edu.cn/packages/bc/c3/f068337a370801f372f2f8f6bad74a5c140f6fda3d9de154052708dd3c65/Jinja2-3.1.2-py3-none-any.whl (133 kB)\n",
            "Collecting MarkupSafe>=2.0\n",
            "  Using cached https://pypi.tuna.tsinghua.edu.cn/packages/46/0c/10ee33673c5e36fa3809cf136971f81d951ca38516188ee11a965d9b2fe9/MarkupSafe-2.1.2-cp39-cp39-win_amd64.whl (16 kB)\n",
            "Requirement already satisfied: idna<4,>=2.5 in c:\\users\\hp\\appdata\\local\\programs\\python\\python39\\lib\\site-packages (from requests->folium) (3.4)\n",
            "Requirement already satisfied: charset-normalizer<4,>=2 in c:\\users\\hp\\appdata\\local\\programs\\python\\python39\\lib\\site-packages (from requests->folium) (3.1.0)\n",
            "Requirement already satisfied: certifi>=2017.4.17 in c:\\users\\hp\\appdata\\local\\programs\\python\\python39\\lib\\site-packages (from requests->folium) (2022.12.7)\n",
            "Requirement already satisfied: urllib3<1.27,>=1.21.1 in c:\\users\\hp\\appdata\\local\\programs\\python\\python39\\lib\\site-packages (from requests->folium) (1.26.15)\n",
            "Installing collected packages: MarkupSafe, jinja2, branca, folium\n",
            "Successfully installed MarkupSafe-2.1.2 branca-0.6.0 folium-0.14.0 jinja2-3.1.2\n",
            "Note: you may need to restart the kernel to use updated packages.\n"
          ]
        },
        {
          "name": "stderr",
          "output_type": "stream",
          "text": [
            "WARNING: You are using pip version 21.2.4; however, version 23.1.2 is available.\n",
            "You should consider upgrading via the 'c:\\Users\\hp\\AppData\\Local\\Programs\\Python\\Python39\\python.exe -m pip install --upgrade pip' command.\n"
          ]
        }
      ],
      "source": [
        "%pip install folium"
      ]
    },
    {
      "attachments": {},
      "cell_type": "markdown",
      "metadata": {
        "id": "LAu-FiBOZpi5"
      },
      "source": [
        "# make a map"
      ]
    },
    {
      "cell_type": "code",
      "execution_count": null,
      "metadata": {},
      "outputs": [],
      "source": []
    },
    {
      "cell_type": "code",
      "execution_count": 9,
      "metadata": {
        "colab": {
          "base_uri": "https://localhost:8080/",
          "height": 851
        },
        "id": "HSDkGgnuZE57",
        "outputId": "434e70ca-cecd-4e22-b21f-9eedaebdd77e"
      },
      "outputs": [
        {
          "data": {
            "text/html": [
              "<div style=\"width:100%;\"><div style=\"position:relative;width:100%;height:0;padding-bottom:60%;\"><span style=\"color:#565656\">Make this Notebook Trusted to load map: File -> Trust Notebook</span><iframe srcdoc=\"&lt;!DOCTYPE html&gt;\n",
              "&lt;html&gt;\n",
              "&lt;head&gt;\n",
              "    \n",
              "    &lt;meta http-equiv=&quot;content-type&quot; content=&quot;text/html; charset=UTF-8&quot; /&gt;\n",
              "    \n",
              "        &lt;script&gt;\n",
              "            L_NO_TOUCH = false;\n",
              "            L_DISABLE_3D = false;\n",
              "        &lt;/script&gt;\n",
              "    \n",
              "    &lt;style&gt;html, body {width: 100%;height: 100%;margin: 0;padding: 0;}&lt;/style&gt;\n",
              "    &lt;style&gt;#map {position:absolute;top:0;bottom:0;right:0;left:0;}&lt;/style&gt;\n",
              "    &lt;script src=&quot;https://cdn.jsdelivr.net/npm/leaflet@1.9.3/dist/leaflet.js&quot;&gt;&lt;/script&gt;\n",
              "    &lt;script src=&quot;https://code.jquery.com/jquery-1.12.4.min.js&quot;&gt;&lt;/script&gt;\n",
              "    &lt;script src=&quot;https://cdn.jsdelivr.net/npm/bootstrap@5.2.2/dist/js/bootstrap.bundle.min.js&quot;&gt;&lt;/script&gt;\n",
              "    &lt;script src=&quot;https://cdnjs.cloudflare.com/ajax/libs/Leaflet.awesome-markers/2.0.2/leaflet.awesome-markers.js&quot;&gt;&lt;/script&gt;\n",
              "    &lt;link rel=&quot;stylesheet&quot; href=&quot;https://cdn.jsdelivr.net/npm/leaflet@1.9.3/dist/leaflet.css&quot;/&gt;\n",
              "    &lt;link rel=&quot;stylesheet&quot; href=&quot;https://cdn.jsdelivr.net/npm/bootstrap@5.2.2/dist/css/bootstrap.min.css&quot;/&gt;\n",
              "    &lt;link rel=&quot;stylesheet&quot; href=&quot;https://netdna.bootstrapcdn.com/bootstrap/3.0.0/css/bootstrap.min.css&quot;/&gt;\n",
              "    &lt;link rel=&quot;stylesheet&quot; href=&quot;https://cdn.jsdelivr.net/npm/@fortawesome/fontawesome-free@6.2.0/css/all.min.css&quot;/&gt;\n",
              "    &lt;link rel=&quot;stylesheet&quot; href=&quot;https://cdnjs.cloudflare.com/ajax/libs/Leaflet.awesome-markers/2.0.2/leaflet.awesome-markers.css&quot;/&gt;\n",
              "    &lt;link rel=&quot;stylesheet&quot; href=&quot;https://cdn.jsdelivr.net/gh/python-visualization/folium/folium/templates/leaflet.awesome.rotate.min.css&quot;/&gt;\n",
              "    \n",
              "            &lt;meta name=&quot;viewport&quot; content=&quot;width=device-width,\n",
              "                initial-scale=1.0, maximum-scale=1.0, user-scalable=no&quot; /&gt;\n",
              "            &lt;style&gt;\n",
              "                #map_71a2876de4753e3e4d809dee9a84ff06 {\n",
              "                    position: relative;\n",
              "                    width: 70.0%;\n",
              "                    height: 70.0%;\n",
              "                    left: 0.0%;\n",
              "                    top: 0.0%;\n",
              "                }\n",
              "                .leaflet-container { font-size: 1rem; }\n",
              "            &lt;/style&gt;\n",
              "        \n",
              "&lt;/head&gt;\n",
              "&lt;body&gt;\n",
              "    \n",
              "    \n",
              "            &lt;div class=&quot;folium-map&quot; id=&quot;map_71a2876de4753e3e4d809dee9a84ff06&quot; &gt;&lt;/div&gt;\n",
              "        \n",
              "&lt;/body&gt;\n",
              "&lt;script&gt;\n",
              "    \n",
              "    \n",
              "            var map_71a2876de4753e3e4d809dee9a84ff06 = L.map(\n",
              "                &quot;map_71a2876de4753e3e4d809dee9a84ff06&quot;,\n",
              "                {\n",
              "                    center: [22.3569, 114.1153],\n",
              "                    crs: L.CRS.EPSG3857,\n",
              "                    zoom: 10,\n",
              "                    zoomControl: true,\n",
              "                    preferCanvas: false,\n",
              "                }\n",
              "            );\n",
              "\n",
              "            \n",
              "\n",
              "        \n",
              "    \n",
              "            var tile_layer_8a2d5c6a36567041154b61050c5d0088 = L.tileLayer(\n",
              "                &quot;https://{s}.tile.openstreetmap.org/{z}/{x}/{y}.png&quot;,\n",
              "                {&quot;attribution&quot;: &quot;Data by \\u0026copy; \\u003ca target=\\&quot;_blank\\&quot; href=\\&quot;http://openstreetmap.org\\&quot;\\u003eOpenStreetMap\\u003c/a\\u003e, under \\u003ca target=\\&quot;_blank\\&quot; href=\\&quot;http://www.openstreetmap.org/copyright\\&quot;\\u003eODbL\\u003c/a\\u003e.&quot;, &quot;detectRetina&quot;: false, &quot;maxNativeZoom&quot;: 18, &quot;maxZoom&quot;: 18, &quot;minZoom&quot;: 0, &quot;noWrap&quot;: false, &quot;opacity&quot;: 1, &quot;subdomains&quot;: &quot;abc&quot;, &quot;tms&quot;: false}\n",
              "            ).addTo(map_71a2876de4753e3e4d809dee9a84ff06);\n",
              "        \n",
              "    \n",
              "            var marker_1135bd404ab0e321562736bb9dd7bf1b = L.marker(\n",
              "                [22.49139, 114.16708],\n",
              "                {}\n",
              "            ).addTo(map_71a2876de4753e3e4d809dee9a84ff06);\n",
              "        \n",
              "    \n",
              "            var icon_3a41224321acc9cef78af6f9424b4cca = L.AwesomeMarkers.icon(\n",
              "                {&quot;extraClasses&quot;: &quot;fa-rotate-0&quot;, &quot;icon&quot;: &quot;info-sign&quot;, &quot;iconColor&quot;: &quot;white&quot;, &quot;markerColor&quot;: &quot;green&quot;, &quot;prefix&quot;: &quot;glyphicon&quot;}\n",
              "            );\n",
              "            marker_1135bd404ab0e321562736bb9dd7bf1b.setIcon(icon_3a41224321acc9cef78af6f9424b4cca);\n",
              "        \n",
              "    \n",
              "        var popup_c39a7f252f15094403e7f28ca837ce5c = L.popup({&quot;maxWidth&quot;: &quot;100%&quot;});\n",
              "\n",
              "        \n",
              "            \n",
              "                var html_33171f2bcc035f159621187f8ef15342 = $(`&lt;div id=&quot;html_33171f2bcc035f159621187f8ef15342&quot; style=&quot;width: 100.0%; height: 100.0%;&quot;&gt;Lau Shui Heung Camp Site&lt;/div&gt;`)[0];\n",
              "                popup_c39a7f252f15094403e7f28ca837ce5c.setContent(html_33171f2bcc035f159621187f8ef15342);\n",
              "            \n",
              "        \n",
              "\n",
              "        marker_1135bd404ab0e321562736bb9dd7bf1b.bindPopup(popup_c39a7f252f15094403e7f28ca837ce5c)\n",
              "        ;\n",
              "\n",
              "        \n",
              "    \n",
              "    \n",
              "            var marker_7fff202d8c544d30b57062dc8e5e09ee = L.marker(\n",
              "                [22.25548, 114.29593],\n",
              "                {}\n",
              "            ).addTo(map_71a2876de4753e3e4d809dee9a84ff06);\n",
              "        \n",
              "    \n",
              "            var icon_1c7b760cd65d70251fbaa389cd7af266 = L.AwesomeMarkers.icon(\n",
              "                {&quot;extraClasses&quot;: &quot;fa-rotate-0&quot;, &quot;icon&quot;: &quot;info-sign&quot;, &quot;iconColor&quot;: &quot;white&quot;, &quot;markerColor&quot;: &quot;green&quot;, &quot;prefix&quot;: &quot;glyphicon&quot;}\n",
              "            );\n",
              "            marker_7fff202d8c544d30b57062dc8e5e09ee.setIcon(icon_1c7b760cd65d70251fbaa389cd7af266);\n",
              "        \n",
              "    \n",
              "        var popup_67cbab6132a84d14a00744b6c5853541 = L.popup({&quot;maxWidth&quot;: &quot;100%&quot;});\n",
              "\n",
              "        \n",
              "            \n",
              "                var html_e9876979faaaaf65494ca5de970e117b = $(`&lt;div id=&quot;html_e9876979faaaaf65494ca5de970e117b&quot; style=&quot;width: 100.0%; height: 100.0%;&quot;&gt;Tung Lung Chau Camp Site&lt;/div&gt;`)[0];\n",
              "                popup_67cbab6132a84d14a00744b6c5853541.setContent(html_e9876979faaaaf65494ca5de970e117b);\n",
              "            \n",
              "        \n",
              "\n",
              "        marker_7fff202d8c544d30b57062dc8e5e09ee.bindPopup(popup_67cbab6132a84d14a00744b6c5853541)\n",
              "        ;\n",
              "\n",
              "        \n",
              "    \n",
              "    \n",
              "            var marker_5aa1a993321d6a393390b213cd15addc = L.marker(\n",
              "                [22.38553, 114.30775],\n",
              "                {}\n",
              "            ).addTo(map_71a2876de4753e3e4d809dee9a84ff06);\n",
              "        \n",
              "    \n",
              "            var icon_e9e47ffd12c71d3ed7330a56dbebe912 = L.AwesomeMarkers.icon(\n",
              "                {&quot;extraClasses&quot;: &quot;fa-rotate-0&quot;, &quot;icon&quot;: &quot;info-sign&quot;, &quot;iconColor&quot;: &quot;white&quot;, &quot;markerColor&quot;: &quot;green&quot;, &quot;prefix&quot;: &quot;glyphicon&quot;}\n",
              "            );\n",
              "            marker_5aa1a993321d6a393390b213cd15addc.setIcon(icon_e9e47ffd12c71d3ed7330a56dbebe912);\n",
              "        \n",
              "    \n",
              "        var popup_37dd485a6dc1e2335e80d48e484087e7 = L.popup({&quot;maxWidth&quot;: &quot;100%&quot;});\n",
              "\n",
              "        \n",
              "            \n",
              "                var html_0e63c59ed54c17db2f80e007a13b61e7 = $(`&lt;div id=&quot;html_0e63c59ed54c17db2f80e007a13b61e7&quot; style=&quot;width: 100.0%; height: 100.0%;&quot;&gt;Tai Mong Tsai Campsite&lt;/div&gt;`)[0];\n",
              "                popup_37dd485a6dc1e2335e80d48e484087e7.setContent(html_0e63c59ed54c17db2f80e007a13b61e7);\n",
              "            \n",
              "        \n",
              "\n",
              "        marker_5aa1a993321d6a393390b213cd15addc.bindPopup(popup_37dd485a6dc1e2335e80d48e484087e7)\n",
              "        ;\n",
              "\n",
              "        \n",
              "    \n",
              "    \n",
              "            var marker_4f8ca10fd322629871d397537fc7496d = L.marker(\n",
              "                [22.48748, 114.24293],\n",
              "                {}\n",
              "            ).addTo(map_71a2876de4753e3e4d809dee9a84ff06);\n",
              "        \n",
              "    \n",
              "            var icon_6a08711e624f1d5315b0dc5ebcbf96f8 = L.AwesomeMarkers.icon(\n",
              "                {&quot;extraClasses&quot;: &quot;fa-rotate-0&quot;, &quot;icon&quot;: &quot;info-sign&quot;, &quot;iconColor&quot;: &quot;white&quot;, &quot;markerColor&quot;: &quot;green&quot;, &quot;prefix&quot;: &quot;glyphicon&quot;}\n",
              "            );\n",
              "            marker_4f8ca10fd322629871d397537fc7496d.setIcon(icon_6a08711e624f1d5315b0dc5ebcbf96f8);\n",
              "        \n",
              "    \n",
              "        var popup_384127f92a115d9d32403848f969e21e = L.popup({&quot;maxWidth&quot;: &quot;100%&quot;});\n",
              "\n",
              "        \n",
              "            \n",
              "                var html_00f19ab736c9c31074a45ea221733dd5 = $(`&lt;div id=&quot;html_00f19ab736c9c31074a45ea221733dd5&quot; style=&quot;width: 100.0%; height: 100.0%;&quot;&gt;Chung Pui Camp Site&lt;/div&gt;`)[0];\n",
              "                popup_384127f92a115d9d32403848f969e21e.setContent(html_00f19ab736c9c31074a45ea221733dd5);\n",
              "            \n",
              "        \n",
              "\n",
              "        marker_4f8ca10fd322629871d397537fc7496d.bindPopup(popup_384127f92a115d9d32403848f969e21e)\n",
              "        ;\n",
              "\n",
              "        \n",
              "    \n",
              "    \n",
              "            var marker_56ef6fd5e5c3ad11371212c920a09197 = L.marker(\n",
              "                [22.49841, 114.17778],\n",
              "                {}\n",
              "            ).addTo(map_71a2876de4753e3e4d809dee9a84ff06);\n",
              "        \n",
              "    \n",
              "            var icon_1c12dc452101cbcb528e1126334a64c4 = L.AwesomeMarkers.icon(\n",
              "                {&quot;extraClasses&quot;: &quot;fa-rotate-0&quot;, &quot;icon&quot;: &quot;info-sign&quot;, &quot;iconColor&quot;: &quot;white&quot;, &quot;markerColor&quot;: &quot;green&quot;, &quot;prefix&quot;: &quot;glyphicon&quot;}\n",
              "            );\n",
              "            marker_56ef6fd5e5c3ad11371212c920a09197.setIcon(icon_1c12dc452101cbcb528e1126334a64c4);\n",
              "        \n",
              "    \n",
              "        var popup_81b2aefb7aa257300ef5ae82458d23d6 = L.popup({&quot;maxWidth&quot;: &quot;100%&quot;});\n",
              "\n",
              "        \n",
              "            \n",
              "                var html_832608c3b4f310353abb177642aa2b1d = $(`&lt;div id=&quot;html_832608c3b4f310353abb177642aa2b1d&quot; style=&quot;width: 100.0%; height: 100.0%;&quot;&gt;Hok Tau Camp Site&lt;/div&gt;`)[0];\n",
              "                popup_81b2aefb7aa257300ef5ae82458d23d6.setContent(html_832608c3b4f310353abb177642aa2b1d);\n",
              "            \n",
              "        \n",
              "\n",
              "        marker_56ef6fd5e5c3ad11371212c920a09197.bindPopup(popup_81b2aefb7aa257300ef5ae82458d23d6)\n",
              "        ;\n",
              "\n",
              "        \n",
              "    \n",
              "    \n",
              "            var marker_28ab832b54313e9455543efe510e3c86 = L.marker(\n",
              "                [22.50664, 114.2702],\n",
              "                {}\n",
              "            ).addTo(map_71a2876de4753e3e4d809dee9a84ff06);\n",
              "        \n",
              "    \n",
              "            var icon_c20689b0f0307e80f2d5346decb412dd = L.AwesomeMarkers.icon(\n",
              "                {&quot;extraClasses&quot;: &quot;fa-rotate-0&quot;, &quot;icon&quot;: &quot;info-sign&quot;, &quot;iconColor&quot;: &quot;white&quot;, &quot;markerColor&quot;: &quot;green&quot;, &quot;prefix&quot;: &quot;glyphicon&quot;}\n",
              "            );\n",
              "            marker_28ab832b54313e9455543efe510e3c86.setIcon(icon_c20689b0f0307e80f2d5346decb412dd);\n",
              "        \n",
              "    \n",
              "        var popup_7e7027a3a8c2d9799aa06cbd2f19b0b4 = L.popup({&quot;maxWidth&quot;: &quot;100%&quot;});\n",
              "\n",
              "        \n",
              "            \n",
              "                var html_574af268698a42537ba02a3c487ff569 = $(`&lt;div id=&quot;html_574af268698a42537ba02a3c487ff569&quot; style=&quot;width: 100.0%; height: 100.0%;&quot;&gt;Sam A Chung Camp Site&lt;/div&gt;`)[0];\n",
              "                popup_7e7027a3a8c2d9799aa06cbd2f19b0b4.setContent(html_574af268698a42537ba02a3c487ff569);\n",
              "            \n",
              "        \n",
              "\n",
              "        marker_28ab832b54313e9455543efe510e3c86.bindPopup(popup_7e7027a3a8c2d9799aa06cbd2f19b0b4)\n",
              "        ;\n",
              "\n",
              "        \n",
              "    \n",
              "    \n",
              "            var marker_39d8ee69e454e045917ca72c796c66a8 = L.marker(\n",
              "                [22.46162, 114.34213],\n",
              "                {}\n",
              "            ).addTo(map_71a2876de4753e3e4d809dee9a84ff06);\n",
              "        \n",
              "    \n",
              "            var icon_8ae5c988a65eb72e0987263a1e12827c = L.AwesomeMarkers.icon(\n",
              "                {&quot;extraClasses&quot;: &quot;fa-rotate-0&quot;, &quot;icon&quot;: &quot;info-sign&quot;, &quot;iconColor&quot;: &quot;white&quot;, &quot;markerColor&quot;: &quot;green&quot;, &quot;prefix&quot;: &quot;glyphicon&quot;}\n",
              "            );\n",
              "            marker_39d8ee69e454e045917ca72c796c66a8.setIcon(icon_8ae5c988a65eb72e0987263a1e12827c);\n",
              "        \n",
              "    \n",
              "        var popup_32a9c39a289cc3552e8421303cd90a67 = L.popup({&quot;maxWidth&quot;: &quot;100%&quot;});\n",
              "\n",
              "        \n",
              "            \n",
              "                var html_e092cec5d8a4c1b784cae3248831d645 = $(`&lt;div id=&quot;html_e092cec5d8a4c1b784cae3248831d645&quot; style=&quot;width: 100.0%; height: 100.0%;&quot;&gt;Wan Tsai South Camp Site&lt;/div&gt;`)[0];\n",
              "                popup_32a9c39a289cc3552e8421303cd90a67.setContent(html_e092cec5d8a4c1b784cae3248831d645);\n",
              "            \n",
              "        \n",
              "\n",
              "        marker_39d8ee69e454e045917ca72c796c66a8.bindPopup(popup_32a9c39a289cc3552e8421303cd90a67)\n",
              "        ;\n",
              "\n",
              "        \n",
              "    \n",
              "    \n",
              "            var marker_a3f872949d13db6e617d3721a0c4bf8e = L.marker(\n",
              "                [22.43446, 114.33623],\n",
              "                {}\n",
              "            ).addTo(map_71a2876de4753e3e4d809dee9a84ff06);\n",
              "        \n",
              "    \n",
              "            var icon_7731c875e9931b0122df94824919fea2 = L.AwesomeMarkers.icon(\n",
              "                {&quot;extraClasses&quot;: &quot;fa-rotate-0&quot;, &quot;icon&quot;: &quot;info-sign&quot;, &quot;iconColor&quot;: &quot;white&quot;, &quot;markerColor&quot;: &quot;green&quot;, &quot;prefix&quot;: &quot;glyphicon&quot;}\n",
              "            );\n",
              "            marker_a3f872949d13db6e617d3721a0c4bf8e.setIcon(icon_7731c875e9931b0122df94824919fea2);\n",
              "        \n",
              "    \n",
              "        var popup_dacccb46f75832c490b1fe25d15feef8 = L.popup({&quot;maxWidth&quot;: &quot;100%&quot;});\n",
              "\n",
              "        \n",
              "            \n",
              "                var html_ba37187addb45edd94c565bf263a4a55 = $(`&lt;div id=&quot;html_ba37187addb45edd94c565bf263a4a55&quot; style=&quot;width: 100.0%; height: 100.0%;&quot;&gt;Wong Shek Camp Site&lt;/div&gt;`)[0];\n",
              "                popup_dacccb46f75832c490b1fe25d15feef8.setContent(html_ba37187addb45edd94c565bf263a4a55);\n",
              "            \n",
              "        \n",
              "\n",
              "        marker_a3f872949d13db6e617d3721a0c4bf8e.bindPopup(popup_dacccb46f75832c490b1fe25d15feef8)\n",
              "        ;\n",
              "\n",
              "        \n",
              "    \n",
              "    \n",
              "            var marker_222f9139083a9cefd74128f6ea2ba16c = L.marker(\n",
              "                [22.42293, 114.33584],\n",
              "                {}\n",
              "            ).addTo(map_71a2876de4753e3e4d809dee9a84ff06);\n",
              "        \n",
              "    \n",
              "            var icon_9c53ce7648246477817369239e916519 = L.AwesomeMarkers.icon(\n",
              "                {&quot;extraClasses&quot;: &quot;fa-rotate-0&quot;, &quot;icon&quot;: &quot;info-sign&quot;, &quot;iconColor&quot;: &quot;white&quot;, &quot;markerColor&quot;: &quot;green&quot;, &quot;prefix&quot;: &quot;glyphicon&quot;}\n",
              "            );\n",
              "            marker_222f9139083a9cefd74128f6ea2ba16c.setIcon(icon_9c53ce7648246477817369239e916519);\n",
              "        \n",
              "    \n",
              "        var popup_f29f744a215ddd7337689e102871b465 = L.popup({&quot;maxWidth&quot;: &quot;100%&quot;});\n",
              "\n",
              "        \n",
              "            \n",
              "                var html_f1a0247d0172c15ff2e39b142cc995b1 = $(`&lt;div id=&quot;html_f1a0247d0172c15ff2e39b142cc995b1&quot; style=&quot;width: 100.0%; height: 100.0%;&quot;&gt;Pak Tam Au Camp Site&lt;/div&gt;`)[0];\n",
              "                popup_f29f744a215ddd7337689e102871b465.setContent(html_f1a0247d0172c15ff2e39b142cc995b1);\n",
              "            \n",
              "        \n",
              "\n",
              "        marker_222f9139083a9cefd74128f6ea2ba16c.bindPopup(popup_f29f744a215ddd7337689e102871b465)\n",
              "        ;\n",
              "\n",
              "        \n",
              "    \n",
              "    \n",
              "            var marker_a4ed9435c95dc8fb3e4ed625c6e7f634 = L.marker(\n",
              "                [22.402, 114.37152],\n",
              "                {}\n",
              "            ).addTo(map_71a2876de4753e3e4d809dee9a84ff06);\n",
              "        \n",
              "    \n",
              "            var icon_ae31ebe78d6906d52b49b53b1fa35908 = L.AwesomeMarkers.icon(\n",
              "                {&quot;extraClasses&quot;: &quot;fa-rotate-0&quot;, &quot;icon&quot;: &quot;info-sign&quot;, &quot;iconColor&quot;: &quot;white&quot;, &quot;markerColor&quot;: &quot;green&quot;, &quot;prefix&quot;: &quot;glyphicon&quot;}\n",
              "            );\n",
              "            marker_a4ed9435c95dc8fb3e4ed625c6e7f634.setIcon(icon_ae31ebe78d6906d52b49b53b1fa35908);\n",
              "        \n",
              "    \n",
              "        var popup_090433656be29be2c99b0b2c39def7aa = L.popup({&quot;maxWidth&quot;: &quot;100%&quot;});\n",
              "\n",
              "        \n",
              "            \n",
              "                var html_d33ea11fe352ec9c2220ff4e835ede22 = $(`&lt;div id=&quot;html_d33ea11fe352ec9c2220ff4e835ede22&quot; style=&quot;width: 100.0%; height: 100.0%;&quot;&gt;Sai Wan Camp Site&lt;/div&gt;`)[0];\n",
              "                popup_090433656be29be2c99b0b2c39def7aa.setContent(html_d33ea11fe352ec9c2220ff4e835ede22);\n",
              "            \n",
              "        \n",
              "\n",
              "        marker_a4ed9435c95dc8fb3e4ed625c6e7f634.bindPopup(popup_090433656be29be2c99b0b2c39def7aa)\n",
              "        ;\n",
              "\n",
              "        \n",
              "    \n",
              "    \n",
              "            var marker_d6ff43853d15d5b00af88d142c2e9b42 = L.marker(\n",
              "                [22.3733, 114.3752],\n",
              "                {}\n",
              "            ).addTo(map_71a2876de4753e3e4d809dee9a84ff06);\n",
              "        \n",
              "    \n",
              "            var icon_ef571b797c3982928e07b4207792c3d0 = L.AwesomeMarkers.icon(\n",
              "                {&quot;extraClasses&quot;: &quot;fa-rotate-0&quot;, &quot;icon&quot;: &quot;info-sign&quot;, &quot;iconColor&quot;: &quot;white&quot;, &quot;markerColor&quot;: &quot;green&quot;, &quot;prefix&quot;: &quot;glyphicon&quot;}\n",
              "            );\n",
              "            marker_d6ff43853d15d5b00af88d142c2e9b42.setIcon(icon_ef571b797c3982928e07b4207792c3d0);\n",
              "        \n",
              "    \n",
              "        var popup_338302efde85edfb6657d72d4f689acd = L.popup({&quot;maxWidth&quot;: &quot;100%&quot;});\n",
              "\n",
              "        \n",
              "            \n",
              "                var html_623262712df2d4499a8ce4dc7245dca4 = $(`&lt;div id=&quot;html_623262712df2d4499a8ce4dc7245dca4&quot; style=&quot;width: 100.0%; height: 100.0%;&quot;&gt;Long Ke Wan Camp Site&lt;/div&gt;`)[0];\n",
              "                popup_338302efde85edfb6657d72d4f689acd.setContent(html_623262712df2d4499a8ce4dc7245dca4);\n",
              "            \n",
              "        \n",
              "\n",
              "        marker_d6ff43853d15d5b00af88d142c2e9b42.bindPopup(popup_338302efde85edfb6657d72d4f689acd)\n",
              "        ;\n",
              "\n",
              "        \n",
              "    \n",
              "    \n",
              "            var marker_8886a41481c3d8da1970c795fd3e488e = L.marker(\n",
              "                [22.44103, 114.32673],\n",
              "                {}\n",
              "            ).addTo(map_71a2876de4753e3e4d809dee9a84ff06);\n",
              "        \n",
              "    \n",
              "            var icon_c905cdae079e6e08a9389664d7f36500 = L.AwesomeMarkers.icon(\n",
              "                {&quot;extraClasses&quot;: &quot;fa-rotate-0&quot;, &quot;icon&quot;: &quot;info-sign&quot;, &quot;iconColor&quot;: &quot;white&quot;, &quot;markerColor&quot;: &quot;green&quot;, &quot;prefix&quot;: &quot;glyphicon&quot;}\n",
              "            );\n",
              "            marker_8886a41481c3d8da1970c795fd3e488e.setIcon(icon_c905cdae079e6e08a9389664d7f36500);\n",
              "        \n",
              "    \n",
              "        var popup_3b6f301804de64602ff25e967c02e327 = L.popup({&quot;maxWidth&quot;: &quot;100%&quot;});\n",
              "\n",
              "        \n",
              "            \n",
              "                var html_2634d03aa443a96b8682f036e01a19e2 = $(`&lt;div id=&quot;html_2634d03aa443a96b8682f036e01a19e2&quot; style=&quot;width: 100.0%; height: 100.0%;&quot;&gt;Hau Tong Kai Camp Site&lt;/div&gt;`)[0];\n",
              "                popup_3b6f301804de64602ff25e967c02e327.setContent(html_2634d03aa443a96b8682f036e01a19e2);\n",
              "            \n",
              "        \n",
              "\n",
              "        marker_8886a41481c3d8da1970c795fd3e488e.bindPopup(popup_3b6f301804de64602ff25e967c02e327)\n",
              "        ;\n",
              "\n",
              "        \n",
              "    \n",
              "    \n",
              "            var marker_142fce1d546d16ada5cee7362a7ae448 = L.marker(\n",
              "                [22.37811, 114.33194],\n",
              "                {}\n",
              "            ).addTo(map_71a2876de4753e3e4d809dee9a84ff06);\n",
              "        \n",
              "    \n",
              "            var icon_bf0fc719879eecffd6baf4e44c77f001 = L.AwesomeMarkers.icon(\n",
              "                {&quot;extraClasses&quot;: &quot;fa-rotate-0&quot;, &quot;icon&quot;: &quot;info-sign&quot;, &quot;iconColor&quot;: &quot;white&quot;, &quot;markerColor&quot;: &quot;green&quot;, &quot;prefix&quot;: &quot;glyphicon&quot;}\n",
              "            );\n",
              "            marker_142fce1d546d16ada5cee7362a7ae448.setIcon(icon_bf0fc719879eecffd6baf4e44c77f001);\n",
              "        \n",
              "    \n",
              "        var popup_ede1ac62a09f2edf48c20519a10bdd3a = L.popup({&quot;maxWidth&quot;: &quot;100%&quot;});\n",
              "\n",
              "        \n",
              "            \n",
              "                var html_cab2b63ac1deb000e133cca3dd0a8897 = $(`&lt;div id=&quot;html_cab2b63ac1deb000e133cca3dd0a8897&quot; style=&quot;width: 100.0%; height: 100.0%;&quot;&gt;Yuen Ng Fan Camp Site&lt;/div&gt;`)[0];\n",
              "                popup_ede1ac62a09f2edf48c20519a10bdd3a.setContent(html_cab2b63ac1deb000e133cca3dd0a8897);\n",
              "            \n",
              "        \n",
              "\n",
              "        marker_142fce1d546d16ada5cee7362a7ae448.bindPopup(popup_ede1ac62a09f2edf48c20519a10bdd3a)\n",
              "        ;\n",
              "\n",
              "        \n",
              "    \n",
              "    \n",
              "            var marker_7f2a7edca3a002280d4727cc48eb19a4 = L.marker(\n",
              "                [22.35924, 114.36504],\n",
              "                {}\n",
              "            ).addTo(map_71a2876de4753e3e4d809dee9a84ff06);\n",
              "        \n",
              "    \n",
              "            var icon_d20727d7884b05d08e1fb7d588708822 = L.AwesomeMarkers.icon(\n",
              "                {&quot;extraClasses&quot;: &quot;fa-rotate-0&quot;, &quot;icon&quot;: &quot;info-sign&quot;, &quot;iconColor&quot;: &quot;white&quot;, &quot;markerColor&quot;: &quot;green&quot;, &quot;prefix&quot;: &quot;glyphicon&quot;}\n",
              "            );\n",
              "            marker_7f2a7edca3a002280d4727cc48eb19a4.setIcon(icon_d20727d7884b05d08e1fb7d588708822);\n",
              "        \n",
              "    \n",
              "        var popup_467f2e691bca9b9138ad2050137c9280 = L.popup({&quot;maxWidth&quot;: &quot;100%&quot;});\n",
              "\n",
              "        \n",
              "            \n",
              "                var html_778d1254ed572d609986f60c349f861e = $(`&lt;div id=&quot;html_778d1254ed572d609986f60c349f861e&quot; style=&quot;width: 100.0%; height: 100.0%;&quot;&gt;Pak Lap Camp Site&lt;/div&gt;`)[0];\n",
              "                popup_467f2e691bca9b9138ad2050137c9280.setContent(html_778d1254ed572d609986f60c349f861e);\n",
              "            \n",
              "        \n",
              "\n",
              "        marker_7f2a7edca3a002280d4727cc48eb19a4.bindPopup(popup_467f2e691bca9b9138ad2050137c9280)\n",
              "        ;\n",
              "\n",
              "        \n",
              "    \n",
              "    \n",
              "            var marker_4ec9951511cf6c6ac2f287dfbcf32465 = L.marker(\n",
              "                [22.3822, 114.32692],\n",
              "                {}\n",
              "            ).addTo(map_71a2876de4753e3e4d809dee9a84ff06);\n",
              "        \n",
              "    \n",
              "            var icon_e5391a669274926f517e626fd7d52bc9 = L.AwesomeMarkers.icon(\n",
              "                {&quot;extraClasses&quot;: &quot;fa-rotate-0&quot;, &quot;icon&quot;: &quot;info-sign&quot;, &quot;iconColor&quot;: &quot;white&quot;, &quot;markerColor&quot;: &quot;green&quot;, &quot;prefix&quot;: &quot;glyphicon&quot;}\n",
              "            );\n",
              "            marker_4ec9951511cf6c6ac2f287dfbcf32465.setIcon(icon_e5391a669274926f517e626fd7d52bc9);\n",
              "        \n",
              "    \n",
              "        var popup_8dd5ce9691c609c11b05b926cbd116db = L.popup({&quot;maxWidth&quot;: &quot;100%&quot;});\n",
              "\n",
              "        \n",
              "            \n",
              "                var html_1970311070dee25379dcf1e0ede3b95b = $(`&lt;div id=&quot;html_1970311070dee25379dcf1e0ede3b95b&quot; style=&quot;width: 100.0%; height: 100.0%;&quot;&gt;Po Kwu Wan Camp Site&lt;/div&gt;`)[0];\n",
              "                popup_8dd5ce9691c609c11b05b926cbd116db.setContent(html_1970311070dee25379dcf1e0ede3b95b);\n",
              "            \n",
              "        \n",
              "\n",
              "        marker_4ec9951511cf6c6ac2f287dfbcf32465.bindPopup(popup_8dd5ce9691c609c11b05b926cbd116db)\n",
              "        ;\n",
              "\n",
              "        \n",
              "    \n",
              "    \n",
              "            var marker_3ad65eeab65bda0f2beeab8dbd649250 = L.marker(\n",
              "                [22.46508, 114.3381],\n",
              "                {}\n",
              "            ).addTo(map_71a2876de4753e3e4d809dee9a84ff06);\n",
              "        \n",
              "    \n",
              "            var icon_53299695f02332e384063439ce11f0e2 = L.AwesomeMarkers.icon(\n",
              "                {&quot;extraClasses&quot;: &quot;fa-rotate-0&quot;, &quot;icon&quot;: &quot;info-sign&quot;, &quot;iconColor&quot;: &quot;white&quot;, &quot;markerColor&quot;: &quot;green&quot;, &quot;prefix&quot;: &quot;glyphicon&quot;}\n",
              "            );\n",
              "            marker_3ad65eeab65bda0f2beeab8dbd649250.setIcon(icon_53299695f02332e384063439ce11f0e2);\n",
              "        \n",
              "    \n",
              "        var popup_9284f28f1343e2827cf7f3321a754eaa = L.popup({&quot;maxWidth&quot;: &quot;100%&quot;});\n",
              "\n",
              "        \n",
              "            \n",
              "                var html_737fcbc5c98e96517d1531c67ddf20cc = $(`&lt;div id=&quot;html_737fcbc5c98e96517d1531c67ddf20cc&quot; style=&quot;width: 100.0%; height: 100.0%;&quot;&gt;Wan Tsai West Camp Site&lt;/div&gt;`)[0];\n",
              "                popup_9284f28f1343e2827cf7f3321a754eaa.setContent(html_737fcbc5c98e96517d1531c67ddf20cc);\n",
              "            \n",
              "        \n",
              "\n",
              "        marker_3ad65eeab65bda0f2beeab8dbd649250.bindPopup(popup_9284f28f1343e2827cf7f3321a754eaa)\n",
              "        ;\n",
              "\n",
              "        \n",
              "    \n",
              "    \n",
              "            var marker_5949114d22bac895085b015c278efcfa = L.marker(\n",
              "                [22.43669, 114.33373],\n",
              "                {}\n",
              "            ).addTo(map_71a2876de4753e3e4d809dee9a84ff06);\n",
              "        \n",
              "    \n",
              "            var icon_db2d0c4acaf1caca974b8efb5562ae06 = L.AwesomeMarkers.icon(\n",
              "                {&quot;extraClasses&quot;: &quot;fa-rotate-0&quot;, &quot;icon&quot;: &quot;info-sign&quot;, &quot;iconColor&quot;: &quot;white&quot;, &quot;markerColor&quot;: &quot;green&quot;, &quot;prefix&quot;: &quot;glyphicon&quot;}\n",
              "            );\n",
              "            marker_5949114d22bac895085b015c278efcfa.setIcon(icon_db2d0c4acaf1caca974b8efb5562ae06);\n",
              "        \n",
              "    \n",
              "        var popup_198caeac0b7a6032c55ba0b5b7632a92 = L.popup({&quot;maxWidth&quot;: &quot;100%&quot;});\n",
              "\n",
              "        \n",
              "            \n",
              "                var html_adf691a3392f96facc9c09b380749059 = $(`&lt;div id=&quot;html_adf691a3392f96facc9c09b380749059&quot; style=&quot;width: 100.0%; height: 100.0%;&quot;&gt;Tai Tan Camp Site&lt;/div&gt;`)[0];\n",
              "                popup_198caeac0b7a6032c55ba0b5b7632a92.setContent(html_adf691a3392f96facc9c09b380749059);\n",
              "            \n",
              "        \n",
              "\n",
              "        marker_5949114d22bac895085b015c278efcfa.bindPopup(popup_198caeac0b7a6032c55ba0b5b7632a92)\n",
              "        ;\n",
              "\n",
              "        \n",
              "    \n",
              "    \n",
              "            var marker_1904a55f694f27c8bbf3151b788af285 = L.marker(\n",
              "                [22.40626, 114.32522],\n",
              "                {}\n",
              "            ).addTo(map_71a2876de4753e3e4d809dee9a84ff06);\n",
              "        \n",
              "    \n",
              "            var icon_5f540d8dea477f09af6929ff01379414 = L.AwesomeMarkers.icon(\n",
              "                {&quot;extraClasses&quot;: &quot;fa-rotate-0&quot;, &quot;icon&quot;: &quot;info-sign&quot;, &quot;iconColor&quot;: &quot;white&quot;, &quot;markerColor&quot;: &quot;green&quot;, &quot;prefix&quot;: &quot;glyphicon&quot;}\n",
              "            );\n",
              "            marker_1904a55f694f27c8bbf3151b788af285.setIcon(icon_5f540d8dea477f09af6929ff01379414);\n",
              "        \n",
              "    \n",
              "        var popup_236ad7473a506b3f971e5b7a064da38f = L.popup({&quot;maxWidth&quot;: &quot;100%&quot;});\n",
              "\n",
              "        \n",
              "            \n",
              "                var html_f0a330c4a8f04ca0477116b2ee974a50 = $(`&lt;div id=&quot;html_f0a330c4a8f04ca0477116b2ee974a50&quot; style=&quot;width: 100.0%; height: 100.0%;&quot;&gt;Yee Ting Camp Site&lt;/div&gt;`)[0];\n",
              "                popup_236ad7473a506b3f971e5b7a064da38f.setContent(html_f0a330c4a8f04ca0477116b2ee974a50);\n",
              "            \n",
              "        \n",
              "\n",
              "        marker_1904a55f694f27c8bbf3151b788af285.bindPopup(popup_236ad7473a506b3f971e5b7a064da38f)\n",
              "        ;\n",
              "\n",
              "        \n",
              "    \n",
              "    \n",
              "            var marker_371de1a090635b17d460a17103f4159b = L.marker(\n",
              "                [22.40274, 114.27519],\n",
              "                {}\n",
              "            ).addTo(map_71a2876de4753e3e4d809dee9a84ff06);\n",
              "        \n",
              "    \n",
              "            var icon_6fe4a61645a2485495007ece53989f3a = L.AwesomeMarkers.icon(\n",
              "                {&quot;extraClasses&quot;: &quot;fa-rotate-0&quot;, &quot;icon&quot;: &quot;info-sign&quot;, &quot;iconColor&quot;: &quot;white&quot;, &quot;markerColor&quot;: &quot;green&quot;, &quot;prefix&quot;: &quot;glyphicon&quot;}\n",
              "            );\n",
              "            marker_371de1a090635b17d460a17103f4159b.setIcon(icon_6fe4a61645a2485495007ece53989f3a);\n",
              "        \n",
              "    \n",
              "        var popup_b1415fbedca33dea1dc40e59386c0051 = L.popup({&quot;maxWidth&quot;: &quot;100%&quot;});\n",
              "\n",
              "        \n",
              "            \n",
              "                var html_a90dd5fa3f0ae873242086d7dda0450c = $(`&lt;div id=&quot;html_a90dd5fa3f0ae873242086d7dda0450c&quot; style=&quot;width: 100.0%; height: 100.0%;&quot;&gt;Shui Long Wo Camp Site&lt;/div&gt;`)[0];\n",
              "                popup_b1415fbedca33dea1dc40e59386c0051.setContent(html_a90dd5fa3f0ae873242086d7dda0450c);\n",
              "            \n",
              "        \n",
              "\n",
              "        marker_371de1a090635b17d460a17103f4159b.bindPopup(popup_b1415fbedca33dea1dc40e59386c0051)\n",
              "        ;\n",
              "\n",
              "        \n",
              "    \n",
              "    \n",
              "            var marker_32f864ffa128b016149687c55908ef3e = L.marker(\n",
              "                [22.54069, 114.44109],\n",
              "                {}\n",
              "            ).addTo(map_71a2876de4753e3e4d809dee9a84ff06);\n",
              "        \n",
              "    \n",
              "            var icon_7e543b348ea06fa7fe85f44c246e0295 = L.AwesomeMarkers.icon(\n",
              "                {&quot;extraClasses&quot;: &quot;fa-rotate-0&quot;, &quot;icon&quot;: &quot;info-sign&quot;, &quot;iconColor&quot;: &quot;white&quot;, &quot;markerColor&quot;: &quot;green&quot;, &quot;prefix&quot;: &quot;glyphicon&quot;}\n",
              "            );\n",
              "            marker_32f864ffa128b016149687c55908ef3e.setIcon(icon_7e543b348ea06fa7fe85f44c246e0295);\n",
              "        \n",
              "    \n",
              "        var popup_30806ec3bf98275f072b9fd1f98b1074 = L.popup({&quot;maxWidth&quot;: &quot;100%&quot;});\n",
              "\n",
              "        \n",
              "            \n",
              "                var html_3da7645a8e23c74484865cf38767ee72 = $(`&lt;div id=&quot;html_3da7645a8e23c74484865cf38767ee72&quot; style=&quot;width: 100.0%; height: 100.0%;&quot;&gt;Tung Ping Chau Camp Site&lt;/div&gt;`)[0];\n",
              "                popup_30806ec3bf98275f072b9fd1f98b1074.setContent(html_3da7645a8e23c74484865cf38767ee72);\n",
              "            \n",
              "        \n",
              "\n",
              "        marker_32f864ffa128b016149687c55908ef3e.bindPopup(popup_30806ec3bf98275f072b9fd1f98b1074)\n",
              "        ;\n",
              "\n",
              "        \n",
              "    \n",
              "    \n",
              "            var marker_50c5d154b966d0399c7349c17085b25b = L.marker(\n",
              "                [22.41132, 114.15779],\n",
              "                {}\n",
              "            ).addTo(map_71a2876de4753e3e4d809dee9a84ff06);\n",
              "        \n",
              "    \n",
              "            var icon_785aff6c69aad74e3ed37aac96bdd48d = L.AwesomeMarkers.icon(\n",
              "                {&quot;extraClasses&quot;: &quot;fa-rotate-0&quot;, &quot;icon&quot;: &quot;info-sign&quot;, &quot;iconColor&quot;: &quot;white&quot;, &quot;markerColor&quot;: &quot;green&quot;, &quot;prefix&quot;: &quot;glyphicon&quot;}\n",
              "            );\n",
              "            marker_50c5d154b966d0399c7349c17085b25b.setIcon(icon_785aff6c69aad74e3ed37aac96bdd48d);\n",
              "        \n",
              "    \n",
              "        var popup_8289473c89b9749e04235af62731df6b = L.popup({&quot;maxWidth&quot;: &quot;100%&quot;});\n",
              "\n",
              "        \n",
              "            \n",
              "                var html_a7d65081d604eba902dc23d4620b2b42 = $(`&lt;div id=&quot;html_a7d65081d604eba902dc23d4620b2b42&quot; style=&quot;width: 100.0%; height: 100.0%;&quot;&gt;Lead Mine Pass Camp Site&lt;/div&gt;`)[0];\n",
              "                popup_8289473c89b9749e04235af62731df6b.setContent(html_a7d65081d604eba902dc23d4620b2b42);\n",
              "            \n",
              "        \n",
              "\n",
              "        marker_50c5d154b966d0399c7349c17085b25b.bindPopup(popup_8289473c89b9749e04235af62731df6b)\n",
              "        ;\n",
              "\n",
              "        \n",
              "    \n",
              "    \n",
              "            var marker_757d0c69f516363d42e190d69be00fdd = L.marker(\n",
              "                [22.40507, 114.10509],\n",
              "                {}\n",
              "            ).addTo(map_71a2876de4753e3e4d809dee9a84ff06);\n",
              "        \n",
              "    \n",
              "            var icon_953f83d20943883ddbe25ba5435ca097 = L.AwesomeMarkers.icon(\n",
              "                {&quot;extraClasses&quot;: &quot;fa-rotate-0&quot;, &quot;icon&quot;: &quot;info-sign&quot;, &quot;iconColor&quot;: &quot;white&quot;, &quot;markerColor&quot;: &quot;green&quot;, &quot;prefix&quot;: &quot;glyphicon&quot;}\n",
              "            );\n",
              "            marker_757d0c69f516363d42e190d69be00fdd.setIcon(icon_953f83d20943883ddbe25ba5435ca097);\n",
              "        \n",
              "    \n",
              "        var popup_95e68d49d54562049aeff83b21b9ad42 = L.popup({&quot;maxWidth&quot;: &quot;100%&quot;});\n",
              "\n",
              "        \n",
              "            \n",
              "                var html_ac271cfd41109ffe2b116b767d833ac4 = $(`&lt;div id=&quot;html_ac271cfd41109ffe2b116b767d833ac4&quot; style=&quot;width: 100.0%; height: 100.0%;&quot;&gt;Rotary Club Park Camp Site&lt;/div&gt;`)[0];\n",
              "                popup_95e68d49d54562049aeff83b21b9ad42.setContent(html_ac271cfd41109ffe2b116b767d833ac4);\n",
              "            \n",
              "        \n",
              "\n",
              "        marker_757d0c69f516363d42e190d69be00fdd.bindPopup(popup_95e68d49d54562049aeff83b21b9ad42)\n",
              "        ;\n",
              "\n",
              "        \n",
              "    \n",
              "    \n",
              "            var marker_7ab260187b29d98e1fb152e60ba24a42 = L.marker(\n",
              "                [22.40681, 114.10323],\n",
              "                {}\n",
              "            ).addTo(map_71a2876de4753e3e4d809dee9a84ff06);\n",
              "        \n",
              "    \n",
              "            var icon_65dc29d59200cd21c0505c947870bced = L.AwesomeMarkers.icon(\n",
              "                {&quot;extraClasses&quot;: &quot;fa-rotate-0&quot;, &quot;icon&quot;: &quot;info-sign&quot;, &quot;iconColor&quot;: &quot;white&quot;, &quot;markerColor&quot;: &quot;green&quot;, &quot;prefix&quot;: &quot;glyphicon&quot;}\n",
              "            );\n",
              "            marker_7ab260187b29d98e1fb152e60ba24a42.setIcon(icon_65dc29d59200cd21c0505c947870bced);\n",
              "        \n",
              "    \n",
              "        var popup_224fb6d53811e15d7f6353fec2cb8be4 = L.popup({&quot;maxWidth&quot;: &quot;100%&quot;});\n",
              "\n",
              "        \n",
              "            \n",
              "                var html_fa99d85c55c309cd125fd7b659b2941d = $(`&lt;div id=&quot;html_fa99d85c55c309cd125fd7b659b2941d&quot; style=&quot;width: 100.0%; height: 100.0%;&quot;&gt;Twisk Camp Site&lt;/div&gt;`)[0];\n",
              "                popup_224fb6d53811e15d7f6353fec2cb8be4.setContent(html_fa99d85c55c309cd125fd7b659b2941d);\n",
              "            \n",
              "        \n",
              "\n",
              "        marker_7ab260187b29d98e1fb152e60ba24a42.bindPopup(popup_224fb6d53811e15d7f6353fec2cb8be4)\n",
              "        ;\n",
              "\n",
              "        \n",
              "    \n",
              "    \n",
              "            var marker_c23cd8e818996f35cac454962013233d = L.marker(\n",
              "                [22.40996, 114.0717],\n",
              "                {}\n",
              "            ).addTo(map_71a2876de4753e3e4d809dee9a84ff06);\n",
              "        \n",
              "    \n",
              "            var icon_6c5e79255f11c21a948299de2bde7d0a = L.AwesomeMarkers.icon(\n",
              "                {&quot;extraClasses&quot;: &quot;fa-rotate-0&quot;, &quot;icon&quot;: &quot;info-sign&quot;, &quot;iconColor&quot;: &quot;white&quot;, &quot;markerColor&quot;: &quot;green&quot;, &quot;prefix&quot;: &quot;glyphicon&quot;}\n",
              "            );\n",
              "            marker_c23cd8e818996f35cac454962013233d.setIcon(icon_6c5e79255f11c21a948299de2bde7d0a);\n",
              "        \n",
              "    \n",
              "        var popup_1174c7d488da9cf630298fc2b86e2898 = L.popup({&quot;maxWidth&quot;: &quot;100%&quot;});\n",
              "\n",
              "        \n",
              "            \n",
              "                var html_7389dece558d9eff67a2fd509da8e312 = $(`&lt;div id=&quot;html_7389dece558d9eff67a2fd509da8e312&quot; style=&quot;width: 100.0%; height: 100.0%;&quot;&gt;Ho Pui Camp Site&lt;/div&gt;`)[0];\n",
              "                popup_1174c7d488da9cf630298fc2b86e2898.setContent(html_7389dece558d9eff67a2fd509da8e312);\n",
              "            \n",
              "        \n",
              "\n",
              "        marker_c23cd8e818996f35cac454962013233d.bindPopup(popup_1174c7d488da9cf630298fc2b86e2898)\n",
              "        ;\n",
              "\n",
              "        \n",
              "    \n",
              "    \n",
              "            var marker_82d4f1f1e15a827f47f1f2a9f60cac76 = L.marker(\n",
              "                [22.39009, 114.06604],\n",
              "                {}\n",
              "            ).addTo(map_71a2876de4753e3e4d809dee9a84ff06);\n",
              "        \n",
              "    \n",
              "            var icon_3c325efac3cc89cf079419f13c3b7f1b = L.AwesomeMarkers.icon(\n",
              "                {&quot;extraClasses&quot;: &quot;fa-rotate-0&quot;, &quot;icon&quot;: &quot;info-sign&quot;, &quot;iconColor&quot;: &quot;white&quot;, &quot;markerColor&quot;: &quot;green&quot;, &quot;prefix&quot;: &quot;glyphicon&quot;}\n",
              "            );\n",
              "            marker_82d4f1f1e15a827f47f1f2a9f60cac76.setIcon(icon_3c325efac3cc89cf079419f13c3b7f1b);\n",
              "        \n",
              "    \n",
              "        var popup_7c3c77c1220d638b2014e22cc67ad1bb = L.popup({&quot;maxWidth&quot;: &quot;100%&quot;});\n",
              "\n",
              "        \n",
              "            \n",
              "                var html_07b0f1e3bc5860f03256e59d541d6b0a = $(`&lt;div id=&quot;html_07b0f1e3bc5860f03256e59d541d6b0a&quot; style=&quot;width: 100.0%; height: 100.0%;&quot;&gt;Tin Fu Tsai Camp Site&lt;/div&gt;`)[0];\n",
              "                popup_7c3c77c1220d638b2014e22cc67ad1bb.setContent(html_07b0f1e3bc5860f03256e59d541d6b0a);\n",
              "            \n",
              "        \n",
              "\n",
              "        marker_82d4f1f1e15a827f47f1f2a9f60cac76.bindPopup(popup_7c3c77c1220d638b2014e22cc67ad1bb)\n",
              "        ;\n",
              "\n",
              "        \n",
              "    \n",
              "    \n",
              "            var marker_9cd2c8eac17a5919697e07c5e6c1547a = L.marker(\n",
              "                [22.25328, 113.9862],\n",
              "                {}\n",
              "            ).addTo(map_71a2876de4753e3e4d809dee9a84ff06);\n",
              "        \n",
              "    \n",
              "            var icon_56dae4363f0adb93c11c302dfee809b7 = L.AwesomeMarkers.icon(\n",
              "                {&quot;extraClasses&quot;: &quot;fa-rotate-0&quot;, &quot;icon&quot;: &quot;info-sign&quot;, &quot;iconColor&quot;: &quot;white&quot;, &quot;markerColor&quot;: &quot;green&quot;, &quot;prefix&quot;: &quot;glyphicon&quot;}\n",
              "            );\n",
              "            marker_9cd2c8eac17a5919697e07c5e6c1547a.setIcon(icon_56dae4363f0adb93c11c302dfee809b7);\n",
              "        \n",
              "    \n",
              "        var popup_60b6925c75ed246512df015a71ef2149 = L.popup({&quot;maxWidth&quot;: &quot;100%&quot;});\n",
              "\n",
              "        \n",
              "            \n",
              "                var html_5791273241be66c71d0151072dc745ff = $(`&lt;div id=&quot;html_5791273241be66c71d0151072dc745ff&quot; style=&quot;width: 100.0%; height: 100.0%;&quot;&gt;Nam Shan Camp Site&lt;/div&gt;`)[0];\n",
              "                popup_60b6925c75ed246512df015a71ef2149.setContent(html_5791273241be66c71d0151072dc745ff);\n",
              "            \n",
              "        \n",
              "\n",
              "        marker_9cd2c8eac17a5919697e07c5e6c1547a.bindPopup(popup_60b6925c75ed246512df015a71ef2149)\n",
              "        ;\n",
              "\n",
              "        \n",
              "    \n",
              "    \n",
              "            var marker_7ef4061b7439d66db137b070829fa18d = L.marker(\n",
              "                [22.25183, 113.99408],\n",
              "                {}\n",
              "            ).addTo(map_71a2876de4753e3e4d809dee9a84ff06);\n",
              "        \n",
              "    \n",
              "            var icon_706029bfc1e549bf850cb16f29d8061b = L.AwesomeMarkers.icon(\n",
              "                {&quot;extraClasses&quot;: &quot;fa-rotate-0&quot;, &quot;icon&quot;: &quot;info-sign&quot;, &quot;iconColor&quot;: &quot;white&quot;, &quot;markerColor&quot;: &quot;green&quot;, &quot;prefix&quot;: &quot;glyphicon&quot;}\n",
              "            );\n",
              "            marker_7ef4061b7439d66db137b070829fa18d.setIcon(icon_706029bfc1e549bf850cb16f29d8061b);\n",
              "        \n",
              "    \n",
              "        var popup_2e8b81d245266ec406aa23cacf93cb17 = L.popup({&quot;maxWidth&quot;: &quot;100%&quot;});\n",
              "\n",
              "        \n",
              "            \n",
              "                var html_bf9bc7356bc1694f45dd58cfae5a80ab = $(`&lt;div id=&quot;html_bf9bc7356bc1694f45dd58cfae5a80ab&quot; style=&quot;width: 100.0%; height: 100.0%;&quot;&gt;Pak Fu Tin Camp Site&lt;/div&gt;`)[0];\n",
              "                popup_2e8b81d245266ec406aa23cacf93cb17.setContent(html_bf9bc7356bc1694f45dd58cfae5a80ab);\n",
              "            \n",
              "        \n",
              "\n",
              "        marker_7ef4061b7439d66db137b070829fa18d.bindPopup(popup_2e8b81d245266ec406aa23cacf93cb17)\n",
              "        ;\n",
              "\n",
              "        \n",
              "    \n",
              "    \n",
              "            var marker_2351c1ec47604ea20ac50b71e611a4c4 = L.marker(\n",
              "                [22.23753, 113.98818],\n",
              "                {}\n",
              "            ).addTo(map_71a2876de4753e3e4d809dee9a84ff06);\n",
              "        \n",
              "    \n",
              "            var icon_7dd8d3e37d3616ee56e6731c0cb10b78 = L.AwesomeMarkers.icon(\n",
              "                {&quot;extraClasses&quot;: &quot;fa-rotate-0&quot;, &quot;icon&quot;: &quot;info-sign&quot;, &quot;iconColor&quot;: &quot;white&quot;, &quot;markerColor&quot;: &quot;green&quot;, &quot;prefix&quot;: &quot;glyphicon&quot;}\n",
              "            );\n",
              "            marker_2351c1ec47604ea20ac50b71e611a4c4.setIcon(icon_7dd8d3e37d3616ee56e6731c0cb10b78);\n",
              "        \n",
              "    \n",
              "        var popup_89f08cdde5bf1e8375fd7f904b691a25 = L.popup({&quot;maxWidth&quot;: &quot;100%&quot;});\n",
              "\n",
              "        \n",
              "            \n",
              "                var html_af3036f61e1ce66d098f064d877c8f4c = $(`&lt;div id=&quot;html_af3036f61e1ce66d098f064d877c8f4c&quot; style=&quot;width: 100.0%; height: 100.0%;&quot;&gt;Shap Long Camp Site&lt;/div&gt;`)[0];\n",
              "                popup_89f08cdde5bf1e8375fd7f904b691a25.setContent(html_af3036f61e1ce66d098f064d877c8f4c);\n",
              "            \n",
              "        \n",
              "\n",
              "        marker_2351c1ec47604ea20ac50b71e611a4c4.bindPopup(popup_89f08cdde5bf1e8375fd7f904b691a25)\n",
              "        ;\n",
              "\n",
              "        \n",
              "    \n",
              "    \n",
              "            var marker_aa5394721afc54eed3304deeec6b76a8 = L.marker(\n",
              "                [22.21206, 113.91518],\n",
              "                {}\n",
              "            ).addTo(map_71a2876de4753e3e4d809dee9a84ff06);\n",
              "        \n",
              "    \n",
              "            var icon_6b4f483bf289ef792fc14de5dd25b82b = L.AwesomeMarkers.icon(\n",
              "                {&quot;extraClasses&quot;: &quot;fa-rotate-0&quot;, &quot;icon&quot;: &quot;info-sign&quot;, &quot;iconColor&quot;: &quot;white&quot;, &quot;markerColor&quot;: &quot;green&quot;, &quot;prefix&quot;: &quot;glyphicon&quot;}\n",
              "            );\n",
              "            marker_aa5394721afc54eed3304deeec6b76a8.setIcon(icon_6b4f483bf289ef792fc14de5dd25b82b);\n",
              "        \n",
              "    \n",
              "        var popup_fcc2fa33609651f2f65276ef4bffc1f9 = L.popup({&quot;maxWidth&quot;: &quot;100%&quot;});\n",
              "\n",
              "        \n",
              "            \n",
              "                var html_c80d8a397bd4bac951c938c99fb44ada = $(`&lt;div id=&quot;html_c80d8a397bd4bac951c938c99fb44ada&quot; style=&quot;width: 100.0%; height: 100.0%;&quot;&gt;Lo Kei Wan Camp Site&lt;/div&gt;`)[0];\n",
              "                popup_fcc2fa33609651f2f65276ef4bffc1f9.setContent(html_c80d8a397bd4bac951c938c99fb44ada);\n",
              "            \n",
              "        \n",
              "\n",
              "        marker_aa5394721afc54eed3304deeec6b76a8.bindPopup(popup_fcc2fa33609651f2f65276ef4bffc1f9)\n",
              "        ;\n",
              "\n",
              "        \n",
              "    \n",
              "    \n",
              "            var marker_e8423cf2229881fef521736017809271 = L.marker(\n",
              "                [22.21313, 113.90331],\n",
              "                {}\n",
              "            ).addTo(map_71a2876de4753e3e4d809dee9a84ff06);\n",
              "        \n",
              "    \n",
              "            var icon_25cf7af5d1e958031ecc41a9f47daa46 = L.AwesomeMarkers.icon(\n",
              "                {&quot;extraClasses&quot;: &quot;fa-rotate-0&quot;, &quot;icon&quot;: &quot;info-sign&quot;, &quot;iconColor&quot;: &quot;white&quot;, &quot;markerColor&quot;: &quot;green&quot;, &quot;prefix&quot;: &quot;glyphicon&quot;}\n",
              "            );\n",
              "            marker_e8423cf2229881fef521736017809271.setIcon(icon_25cf7af5d1e958031ecc41a9f47daa46);\n",
              "        \n",
              "    \n",
              "        var popup_4cdaadc443b639399a50be253c3b2ffd = L.popup({&quot;maxWidth&quot;: &quot;100%&quot;});\n",
              "\n",
              "        \n",
              "            \n",
              "                var html_f35294f24bc9c838222d011c0283dd54 = $(`&lt;div id=&quot;html_f35294f24bc9c838222d011c0283dd54&quot; style=&quot;width: 100.0%; height: 100.0%;&quot;&gt;Shek Lam Chau Camp Site&lt;/div&gt;`)[0];\n",
              "                popup_4cdaadc443b639399a50be253c3b2ffd.setContent(html_f35294f24bc9c838222d011c0283dd54);\n",
              "            \n",
              "        \n",
              "\n",
              "        marker_e8423cf2229881fef521736017809271.bindPopup(popup_4cdaadc443b639399a50be253c3b2ffd)\n",
              "        ;\n",
              "\n",
              "        \n",
              "    \n",
              "    \n",
              "            var marker_73dc825b4db33fd46f30146b7d668ab6 = L.marker(\n",
              "                [22.21327, 113.87802],\n",
              "                {}\n",
              "            ).addTo(map_71a2876de4753e3e4d809dee9a84ff06);\n",
              "        \n",
              "    \n",
              "            var icon_e80251a4e915b3e1e2ab95be63b4d6be = L.AwesomeMarkers.icon(\n",
              "                {&quot;extraClasses&quot;: &quot;fa-rotate-0&quot;, &quot;icon&quot;: &quot;info-sign&quot;, &quot;iconColor&quot;: &quot;white&quot;, &quot;markerColor&quot;: &quot;green&quot;, &quot;prefix&quot;: &quot;glyphicon&quot;}\n",
              "            );\n",
              "            marker_73dc825b4db33fd46f30146b7d668ab6.setIcon(icon_e80251a4e915b3e1e2ab95be63b4d6be);\n",
              "        \n",
              "    \n",
              "        var popup_19243bd9d08867d844ce0908d3303823 = L.popup({&quot;maxWidth&quot;: &quot;100%&quot;});\n",
              "\n",
              "        \n",
              "            \n",
              "                var html_fa5503749b17c861e83d48a3b9651ab3 = $(`&lt;div id=&quot;html_fa5503749b17c861e83d48a3b9651ab3&quot; style=&quot;width: 100.0%; height: 100.0%;&quot;&gt;Tai Long Wan Camp Site&lt;/div&gt;`)[0];\n",
              "                popup_19243bd9d08867d844ce0908d3303823.setContent(html_fa5503749b17c861e83d48a3b9651ab3);\n",
              "            \n",
              "        \n",
              "\n",
              "        marker_73dc825b4db33fd46f30146b7d668ab6.bindPopup(popup_19243bd9d08867d844ce0908d3303823)\n",
              "        ;\n",
              "\n",
              "        \n",
              "    \n",
              "    \n",
              "            var marker_03c6eaa5f45c08ebf5221fc213fd512f = L.marker(\n",
              "                [22.20449, 113.86373],\n",
              "                {}\n",
              "            ).addTo(map_71a2876de4753e3e4d809dee9a84ff06);\n",
              "        \n",
              "    \n",
              "            var icon_bddba2f077d6d63df676beff16b61d04 = L.AwesomeMarkers.icon(\n",
              "                {&quot;extraClasses&quot;: &quot;fa-rotate-0&quot;, &quot;icon&quot;: &quot;info-sign&quot;, &quot;iconColor&quot;: &quot;white&quot;, &quot;markerColor&quot;: &quot;green&quot;, &quot;prefix&quot;: &quot;glyphicon&quot;}\n",
              "            );\n",
              "            marker_03c6eaa5f45c08ebf5221fc213fd512f.setIcon(icon_bddba2f077d6d63df676beff16b61d04);\n",
              "        \n",
              "    \n",
              "        var popup_bda199ec2bba17698c81d1a257fd6817 = L.popup({&quot;maxWidth&quot;: &quot;100%&quot;});\n",
              "\n",
              "        \n",
              "            \n",
              "                var html_aa5d87f12df686811826b740d6c6dcd9 = $(`&lt;div id=&quot;html_aa5d87f12df686811826b740d6c6dcd9&quot; style=&quot;width: 100.0%; height: 100.0%;&quot;&gt;Kau Ling Chung Camp Site&lt;/div&gt;`)[0];\n",
              "                popup_bda199ec2bba17698c81d1a257fd6817.setContent(html_aa5d87f12df686811826b740d6c6dcd9);\n",
              "            \n",
              "        \n",
              "\n",
              "        marker_03c6eaa5f45c08ebf5221fc213fd512f.bindPopup(popup_bda199ec2bba17698c81d1a257fd6817)\n",
              "        ;\n",
              "\n",
              "        \n",
              "    \n",
              "    \n",
              "            var marker_2b57b674ff6a12c3ecb4f901d501695e = L.marker(\n",
              "                [22.23065, 113.86651],\n",
              "                {}\n",
              "            ).addTo(map_71a2876de4753e3e4d809dee9a84ff06);\n",
              "        \n",
              "    \n",
              "            var icon_aacc16f74e14285726ea8b948719fa39 = L.AwesomeMarkers.icon(\n",
              "                {&quot;extraClasses&quot;: &quot;fa-rotate-0&quot;, &quot;icon&quot;: &quot;info-sign&quot;, &quot;iconColor&quot;: &quot;white&quot;, &quot;markerColor&quot;: &quot;green&quot;, &quot;prefix&quot;: &quot;glyphicon&quot;}\n",
              "            );\n",
              "            marker_2b57b674ff6a12c3ecb4f901d501695e.setIcon(icon_aacc16f74e14285726ea8b948719fa39);\n",
              "        \n",
              "    \n",
              "        var popup_548c3f7ea1741afbb00e7b1eb80d56a1 = L.popup({&quot;maxWidth&quot;: &quot;100%&quot;});\n",
              "\n",
              "        \n",
              "            \n",
              "                var html_9a96d2c485574a93549944bda38677d8 = $(`&lt;div id=&quot;html_9a96d2c485574a93549944bda38677d8&quot; style=&quot;width: 100.0%; height: 100.0%;&quot;&gt;Man Cheung Po Camp Site&lt;/div&gt;`)[0];\n",
              "                popup_548c3f7ea1741afbb00e7b1eb80d56a1.setContent(html_9a96d2c485574a93549944bda38677d8);\n",
              "            \n",
              "        \n",
              "\n",
              "        marker_2b57b674ff6a12c3ecb4f901d501695e.bindPopup(popup_548c3f7ea1741afbb00e7b1eb80d56a1)\n",
              "        ;\n",
              "\n",
              "        \n",
              "    \n",
              "    \n",
              "            var marker_acb97c8ceb4ec42c5c4fd692a01b6e37 = L.marker(\n",
              "                [22.39294, 114.25116],\n",
              "                {}\n",
              "            ).addTo(map_71a2876de4753e3e4d809dee9a84ff06);\n",
              "        \n",
              "    \n",
              "            var icon_e2d54f22221065c9d81b7f8001cc57cd = L.AwesomeMarkers.icon(\n",
              "                {&quot;extraClasses&quot;: &quot;fa-rotate-0&quot;, &quot;icon&quot;: &quot;info-sign&quot;, &quot;iconColor&quot;: &quot;white&quot;, &quot;markerColor&quot;: &quot;green&quot;, &quot;prefix&quot;: &quot;glyphicon&quot;}\n",
              "            );\n",
              "            marker_acb97c8ceb4ec42c5c4fd692a01b6e37.setIcon(icon_e2d54f22221065c9d81b7f8001cc57cd);\n",
              "        \n",
              "    \n",
              "        var popup_b4f339c9e1f1973f253ea20eebfbb4dc = L.popup({&quot;maxWidth&quot;: &quot;100%&quot;});\n",
              "\n",
              "        \n",
              "            \n",
              "                var html_fed29838c4d49e26313e7314459c0060 = $(`&lt;div id=&quot;html_fed29838c4d49e26313e7314459c0060&quot; style=&quot;width: 100.0%; height: 100.0%;&quot;&gt;Ngong Ping Camp Site&lt;/div&gt;`)[0];\n",
              "                popup_b4f339c9e1f1973f253ea20eebfbb4dc.setContent(html_fed29838c4d49e26313e7314459c0060);\n",
              "            \n",
              "        \n",
              "\n",
              "        marker_acb97c8ceb4ec42c5c4fd692a01b6e37.bindPopup(popup_b4f339c9e1f1973f253ea20eebfbb4dc)\n",
              "        ;\n",
              "\n",
              "        \n",
              "    \n",
              "    \n",
              "            var marker_e703f2c134252c30115da34d4d7ebbe0 = L.marker(\n",
              "                [22.20866, 113.84368],\n",
              "                {}\n",
              "            ).addTo(map_71a2876de4753e3e4d809dee9a84ff06);\n",
              "        \n",
              "    \n",
              "            var icon_55a74a1ec049fa015f93c0d0d989eef2 = L.AwesomeMarkers.icon(\n",
              "                {&quot;extraClasses&quot;: &quot;fa-rotate-0&quot;, &quot;icon&quot;: &quot;info-sign&quot;, &quot;iconColor&quot;: &quot;white&quot;, &quot;markerColor&quot;: &quot;green&quot;, &quot;prefix&quot;: &quot;glyphicon&quot;}\n",
              "            );\n",
              "            marker_e703f2c134252c30115da34d4d7ebbe0.setIcon(icon_55a74a1ec049fa015f93c0d0d989eef2);\n",
              "        \n",
              "    \n",
              "        var popup_f03fdfa8abb8f2873129b03a217b2ffc = L.popup({&quot;maxWidth&quot;: &quot;100%&quot;});\n",
              "\n",
              "        \n",
              "            \n",
              "                var html_24511d3241aaaa54266f24d86eed6d64 = $(`&lt;div id=&quot;html_24511d3241aaaa54266f24d86eed6d64&quot; style=&quot;width: 100.0%; height: 100.0%;&quot;&gt;Tsin Yue Wan Camp Site&lt;/div&gt;`)[0];\n",
              "                popup_f03fdfa8abb8f2873129b03a217b2ffc.setContent(html_24511d3241aaaa54266f24d86eed6d64);\n",
              "            \n",
              "        \n",
              "\n",
              "        marker_e703f2c134252c30115da34d4d7ebbe0.bindPopup(popup_f03fdfa8abb8f2873129b03a217b2ffc)\n",
              "        ;\n",
              "\n",
              "        \n",
              "    \n",
              "    \n",
              "            var marker_d8ee43511fd1aff3f7336897e7a35946 = L.marker(\n",
              "                [22.2549, 113.91422],\n",
              "                {}\n",
              "            ).addTo(map_71a2876de4753e3e4d809dee9a84ff06);\n",
              "        \n",
              "    \n",
              "            var icon_03065e7d7a442006ed21be22bb082b7e = L.AwesomeMarkers.icon(\n",
              "                {&quot;extraClasses&quot;: &quot;fa-rotate-0&quot;, &quot;icon&quot;: &quot;info-sign&quot;, &quot;iconColor&quot;: &quot;white&quot;, &quot;markerColor&quot;: &quot;green&quot;, &quot;prefix&quot;: &quot;glyphicon&quot;}\n",
              "            );\n",
              "            marker_d8ee43511fd1aff3f7336897e7a35946.setIcon(icon_03065e7d7a442006ed21be22bb082b7e);\n",
              "        \n",
              "    \n",
              "        var popup_890d387c7c1951148f296443058756d9 = L.popup({&quot;maxWidth&quot;: &quot;100%&quot;});\n",
              "\n",
              "        \n",
              "            \n",
              "                var html_a7066b1b781c2f281788f10d29e0ecb9 = $(`&lt;div id=&quot;html_a7066b1b781c2f281788f10d29e0ecb9&quot; style=&quot;width: 100.0%; height: 100.0%;&quot;&gt;Ngong Ping Camp Site&lt;/div&gt;`)[0];\n",
              "                popup_890d387c7c1951148f296443058756d9.setContent(html_a7066b1b781c2f281788f10d29e0ecb9);\n",
              "            \n",
              "        \n",
              "\n",
              "        marker_d8ee43511fd1aff3f7336897e7a35946.bindPopup(popup_890d387c7c1951148f296443058756d9)\n",
              "        ;\n",
              "\n",
              "        \n",
              "    \n",
              "    \n",
              "            var marker_514a4963db33f44bc6acc2d64d259f2e = L.marker(\n",
              "                [22.23884, 113.85283],\n",
              "                {}\n",
              "            ).addTo(map_71a2876de4753e3e4d809dee9a84ff06);\n",
              "        \n",
              "    \n",
              "            var icon_9f08ca06a5cc35bda46ed7db244e39c1 = L.AwesomeMarkers.icon(\n",
              "                {&quot;extraClasses&quot;: &quot;fa-rotate-0&quot;, &quot;icon&quot;: &quot;info-sign&quot;, &quot;iconColor&quot;: &quot;white&quot;, &quot;markerColor&quot;: &quot;green&quot;, &quot;prefix&quot;: &quot;glyphicon&quot;}\n",
              "            );\n",
              "            marker_514a4963db33f44bc6acc2d64d259f2e.setIcon(icon_9f08ca06a5cc35bda46ed7db244e39c1);\n",
              "        \n",
              "    \n",
              "        var popup_85e4bacfcf933a3494cc6ef2da65d7d6 = L.popup({&quot;maxWidth&quot;: &quot;100%&quot;});\n",
              "\n",
              "        \n",
              "            \n",
              "                var html_efe409ca6c1032ce82f3c601b519d515 = $(`&lt;div id=&quot;html_efe409ca6c1032ce82f3c601b519d515&quot; style=&quot;width: 100.0%; height: 100.0%;&quot;&gt;Nga Ying Kok Camp Site&lt;/div&gt;`)[0];\n",
              "                popup_85e4bacfcf933a3494cc6ef2da65d7d6.setContent(html_efe409ca6c1032ce82f3c601b519d515);\n",
              "            \n",
              "        \n",
              "\n",
              "        marker_514a4963db33f44bc6acc2d64d259f2e.bindPopup(popup_85e4bacfcf933a3494cc6ef2da65d7d6)\n",
              "        ;\n",
              "\n",
              "        \n",
              "    \n",
              "    \n",
              "            var marker_bf81d4d84fa2ea7bade5f4690d70dcad = L.marker(\n",
              "                [22.42639, 114.31181],\n",
              "                {}\n",
              "            ).addTo(map_71a2876de4753e3e4d809dee9a84ff06);\n",
              "        \n",
              "    \n",
              "            var icon_25d39afe076023db671f06e25211f245 = L.AwesomeMarkers.icon(\n",
              "                {&quot;extraClasses&quot;: &quot;fa-rotate-0&quot;, &quot;icon&quot;: &quot;info-sign&quot;, &quot;iconColor&quot;: &quot;white&quot;, &quot;markerColor&quot;: &quot;green&quot;, &quot;prefix&quot;: &quot;glyphicon&quot;}\n",
              "            );\n",
              "            marker_bf81d4d84fa2ea7bade5f4690d70dcad.setIcon(icon_25d39afe076023db671f06e25211f245);\n",
              "        \n",
              "    \n",
              "        var popup_10518766cedaeb4503f27513eb68e29c = L.popup({&quot;maxWidth&quot;: &quot;100%&quot;});\n",
              "\n",
              "        \n",
              "            \n",
              "                var html_a74a05efb1205037416aae46c19b6661 = $(`&lt;div id=&quot;html_a74a05efb1205037416aae46c19b6661&quot; style=&quot;width: 100.0%; height: 100.0%;&quot;&gt;Cheung Sheung Camp Site&lt;/div&gt;`)[0];\n",
              "                popup_10518766cedaeb4503f27513eb68e29c.setContent(html_a74a05efb1205037416aae46c19b6661);\n",
              "            \n",
              "        \n",
              "\n",
              "        marker_bf81d4d84fa2ea7bade5f4690d70dcad.bindPopup(popup_10518766cedaeb4503f27513eb68e29c)\n",
              "        ;\n",
              "\n",
              "        \n",
              "    \n",
              "    \n",
              "            var marker_8bd573a7d3fddcd955eb527f305b8d78 = L.marker(\n",
              "                [22.40962, 114.3743],\n",
              "                {}\n",
              "            ).addTo(map_71a2876de4753e3e4d809dee9a84ff06);\n",
              "        \n",
              "    \n",
              "            var icon_c2281f4c4d764458b9fde87ebbde4256 = L.AwesomeMarkers.icon(\n",
              "                {&quot;extraClasses&quot;: &quot;fa-rotate-0&quot;, &quot;icon&quot;: &quot;info-sign&quot;, &quot;iconColor&quot;: &quot;white&quot;, &quot;markerColor&quot;: &quot;green&quot;, &quot;prefix&quot;: &quot;glyphicon&quot;}\n",
              "            );\n",
              "            marker_8bd573a7d3fddcd955eb527f305b8d78.setIcon(icon_c2281f4c4d764458b9fde87ebbde4256);\n",
              "        \n",
              "    \n",
              "        var popup_c7453df44aacb1f724c1142bb279d2f9 = L.popup({&quot;maxWidth&quot;: &quot;100%&quot;});\n",
              "\n",
              "        \n",
              "            \n",
              "                var html_8836b9bcc0bdc8c6f9c40cfaf392c174 = $(`&lt;div id=&quot;html_8836b9bcc0bdc8c6f9c40cfaf392c174&quot; style=&quot;width: 100.0%; height: 100.0%;&quot;&gt;Ham Tin Wan Camp Site&lt;/div&gt;`)[0];\n",
              "                popup_c7453df44aacb1f724c1142bb279d2f9.setContent(html_8836b9bcc0bdc8c6f9c40cfaf392c174);\n",
              "            \n",
              "        \n",
              "\n",
              "        marker_8bd573a7d3fddcd955eb527f305b8d78.bindPopup(popup_c7453df44aacb1f724c1142bb279d2f9)\n",
              "        ;\n",
              "\n",
              "        \n",
              "    \n",
              "    \n",
              "            var marker_aa922f0f18e2366de85e986f914c1fcd = L.marker(\n",
              "                [22.22887, 113.88991],\n",
              "                {}\n",
              "            ).addTo(map_71a2876de4753e3e4d809dee9a84ff06);\n",
              "        \n",
              "    \n",
              "            var icon_27fb5d3719407b95f4567b7018ee558b = L.AwesomeMarkers.icon(\n",
              "                {&quot;extraClasses&quot;: &quot;fa-rotate-0&quot;, &quot;icon&quot;: &quot;info-sign&quot;, &quot;iconColor&quot;: &quot;white&quot;, &quot;markerColor&quot;: &quot;green&quot;, &quot;prefix&quot;: &quot;glyphicon&quot;}\n",
              "            );\n",
              "            marker_aa922f0f18e2366de85e986f914c1fcd.setIcon(icon_27fb5d3719407b95f4567b7018ee558b);\n",
              "        \n",
              "    \n",
              "        var popup_e1ddad919acf97256931381412f893ee = L.popup({&quot;maxWidth&quot;: &quot;100%&quot;});\n",
              "\n",
              "        \n",
              "            \n",
              "                var html_679f6a27deec441c623dbca5439fd1c5 = $(`&lt;div id=&quot;html_679f6a27deec441c623dbca5439fd1c5&quot; style=&quot;width: 100.0%; height: 100.0%;&quot;&gt;Shek Pik Camp Site&lt;/div&gt;`)[0];\n",
              "                popup_e1ddad919acf97256931381412f893ee.setContent(html_679f6a27deec441c623dbca5439fd1c5);\n",
              "            \n",
              "        \n",
              "\n",
              "        marker_aa922f0f18e2366de85e986f914c1fcd.bindPopup(popup_e1ddad919acf97256931381412f893ee)\n",
              "        ;\n",
              "\n",
              "        \n",
              "    \n",
              "    \n",
              "            var marker_9d3e7f876668e6082ecd439f91e1586a = L.marker(\n",
              "                [22.51459, 114.23185],\n",
              "                {}\n",
              "            ).addTo(map_71a2876de4753e3e4d809dee9a84ff06);\n",
              "        \n",
              "    \n",
              "            var icon_7155370efc41e4a278d28b1c9c636a30 = L.AwesomeMarkers.icon(\n",
              "                {&quot;extraClasses&quot;: &quot;fa-rotate-0&quot;, &quot;icon&quot;: &quot;info-sign&quot;, &quot;iconColor&quot;: &quot;white&quot;, &quot;markerColor&quot;: &quot;green&quot;, &quot;prefix&quot;: &quot;glyphicon&quot;}\n",
              "            );\n",
              "            marker_9d3e7f876668e6082ecd439f91e1586a.setIcon(icon_7155370efc41e4a278d28b1c9c636a30);\n",
              "        \n",
              "    \n",
              "        var popup_c3fb7b586b452bf84a5a12a2fdbba434 = L.popup({&quot;maxWidth&quot;: &quot;100%&quot;});\n",
              "\n",
              "        \n",
              "            \n",
              "                var html_07099c9fe83a797f536fdec34e255ef7 = $(`&lt;div id=&quot;html_07099c9fe83a797f536fdec34e255ef7&quot; style=&quot;width: 100.0%; height: 100.0%;&quot;&gt;Kong Ha Au Campsite&lt;/div&gt;`)[0];\n",
              "                popup_c3fb7b586b452bf84a5a12a2fdbba434.setContent(html_07099c9fe83a797f536fdec34e255ef7);\n",
              "            \n",
              "        \n",
              "\n",
              "        marker_9d3e7f876668e6082ecd439f91e1586a.bindPopup(popup_c3fb7b586b452bf84a5a12a2fdbba434)\n",
              "        ;\n",
              "\n",
              "        \n",
              "    \n",
              "&lt;/script&gt;\n",
              "&lt;/html&gt;\" style=\"position:absolute;width:100%;height:100%;left:0;top:0;border:none !important;\" allowfullscreen webkitallowfullscreen mozallowfullscreen></iframe></div></div>"
            ],
            "text/plain": [
              "<folium.folium.Map at 0x28019b08f40>"
            ]
          },
          "execution_count": 9,
          "metadata": {},
          "output_type": "execute_result"
        }
      ],
      "source": [
        "import folium\n",
        "import pandas as pd\n",
        "data = pd.read_csv('C:/Users/hp/Desktop/7410project/data/HK_Campsite_cleaned.csv')\n",
        "\n",
        "#Define the central coordinates of the map\n",
        "center = [22.3569, 114.1153]\n",
        "\n",
        "#Create an empty map\n",
        "m = folium.Map(location=center, zoom_start=10,width='70%', height='70%')\n",
        "\n",
        "#Add the coordinates of each camping site to the map\n",
        "for index, row in df.iterrows():\n",
        "    folium.Marker([row['Latitude'], row['Longitude']],\n",
        "                  popup=row['Name_of_Building/Facility'],\n",
        "                  icon=folium.Icon(color='green')).add_to(m)\n",
        "\n",
        "m.save('campsite_map.html')\n",
        "m"
      ]
    },
    {
      "attachments": {},
      "cell_type": "markdown",
      "metadata": {
        "id": "ho4C73iSjzDE"
      },
      "source": [
        "We created a new map and used the iterrows() method to iterate through each row in the dataset. Use the Marker() method in each row to add the coordinates of the camping site to the map and display the name as information in the pop-up. Finally, we save the map to an html file and use the m object to display the map in the Jupyter Notebook.  At the same time, considering the aesthetics of the map display, when creating an empty map, we set the size of the map to 70% of the window size through the 'width' and 'height' parameters  After doing this series of map presentations, we found that the original map was more cluttered, there were too many content presentations that were not related to the location of the camp, and it would affect the user's perception when using it, so we made the following adjustments: the adjustment of the display icon of each campsite; At the same time, we divide the camps according to different areas and parks in Hong Kong layer by floor, so that users can intuitively see the number of camps in different areas of Hong Kong, and can simply and intuitively select the closest or closer camp location according to their location"
      ]
    },
    {
      "cell_type": "code",
      "execution_count": 11,
      "metadata": {
        "colab": {
          "base_uri": "https://localhost:8080/",
          "height": 851
        },
        "id": "8Mbk9ymifDQz",
        "outputId": "a1930000-68cb-40ff-d3fa-19617daaae5a"
      },
      "outputs": [
        {
          "data": {
            "text/html": [
              "<div style=\"width:100%;\"><div style=\"position:relative;width:100%;height:0;padding-bottom:60%;\"><span style=\"color:#565656\">Make this Notebook Trusted to load map: File -> Trust Notebook</span><iframe srcdoc=\"&lt;!DOCTYPE html&gt;\n",
              "&lt;html&gt;\n",
              "&lt;head&gt;\n",
              "    \n",
              "    &lt;meta http-equiv=&quot;content-type&quot; content=&quot;text/html; charset=UTF-8&quot; /&gt;\n",
              "    \n",
              "        &lt;script&gt;\n",
              "            L_NO_TOUCH = false;\n",
              "            L_DISABLE_3D = false;\n",
              "        &lt;/script&gt;\n",
              "    \n",
              "    &lt;style&gt;html, body {width: 100%;height: 100%;margin: 0;padding: 0;}&lt;/style&gt;\n",
              "    &lt;style&gt;#map {position:absolute;top:0;bottom:0;right:0;left:0;}&lt;/style&gt;\n",
              "    &lt;script src=&quot;https://cdn.jsdelivr.net/npm/leaflet@1.9.3/dist/leaflet.js&quot;&gt;&lt;/script&gt;\n",
              "    &lt;script src=&quot;https://code.jquery.com/jquery-1.12.4.min.js&quot;&gt;&lt;/script&gt;\n",
              "    &lt;script src=&quot;https://cdn.jsdelivr.net/npm/bootstrap@5.2.2/dist/js/bootstrap.bundle.min.js&quot;&gt;&lt;/script&gt;\n",
              "    &lt;script src=&quot;https://cdnjs.cloudflare.com/ajax/libs/Leaflet.awesome-markers/2.0.2/leaflet.awesome-markers.js&quot;&gt;&lt;/script&gt;\n",
              "    &lt;link rel=&quot;stylesheet&quot; href=&quot;https://cdn.jsdelivr.net/npm/leaflet@1.9.3/dist/leaflet.css&quot;/&gt;\n",
              "    &lt;link rel=&quot;stylesheet&quot; href=&quot;https://cdn.jsdelivr.net/npm/bootstrap@5.2.2/dist/css/bootstrap.min.css&quot;/&gt;\n",
              "    &lt;link rel=&quot;stylesheet&quot; href=&quot;https://netdna.bootstrapcdn.com/bootstrap/3.0.0/css/bootstrap.min.css&quot;/&gt;\n",
              "    &lt;link rel=&quot;stylesheet&quot; href=&quot;https://cdn.jsdelivr.net/npm/@fortawesome/fontawesome-free@6.2.0/css/all.min.css&quot;/&gt;\n",
              "    &lt;link rel=&quot;stylesheet&quot; href=&quot;https://cdnjs.cloudflare.com/ajax/libs/Leaflet.awesome-markers/2.0.2/leaflet.awesome-markers.css&quot;/&gt;\n",
              "    &lt;link rel=&quot;stylesheet&quot; href=&quot;https://cdn.jsdelivr.net/gh/python-visualization/folium/folium/templates/leaflet.awesome.rotate.min.css&quot;/&gt;\n",
              "    \n",
              "            &lt;meta name=&quot;viewport&quot; content=&quot;width=device-width,\n",
              "                initial-scale=1.0, maximum-scale=1.0, user-scalable=no&quot; /&gt;\n",
              "            &lt;style&gt;\n",
              "                #map_c14162fed54c2853aa9bdc0315bac2ec {\n",
              "                    position: relative;\n",
              "                    width: 70.0%;\n",
              "                    height: 70.0%;\n",
              "                    left: 0.0%;\n",
              "                    top: 0.0%;\n",
              "                }\n",
              "                .leaflet-container { font-size: 1rem; }\n",
              "            &lt;/style&gt;\n",
              "        \n",
              "&lt;/head&gt;\n",
              "&lt;body&gt;\n",
              "    \n",
              "    \n",
              "            &lt;div class=&quot;folium-map&quot; id=&quot;map_c14162fed54c2853aa9bdc0315bac2ec&quot; &gt;&lt;/div&gt;\n",
              "        \n",
              "&lt;/body&gt;\n",
              "&lt;script&gt;\n",
              "    \n",
              "    \n",
              "            var map_c14162fed54c2853aa9bdc0315bac2ec = L.map(\n",
              "                &quot;map_c14162fed54c2853aa9bdc0315bac2ec&quot;,\n",
              "                {\n",
              "                    center: [22.3569, 114.1153],\n",
              "                    crs: L.CRS.EPSG3857,\n",
              "                    zoom: 10,\n",
              "                    zoomControl: true,\n",
              "                    preferCanvas: false,\n",
              "                }\n",
              "            );\n",
              "\n",
              "            \n",
              "\n",
              "        \n",
              "    \n",
              "            var tile_layer_65d198ccacc5b13557fa73d60d4ce834 = L.tileLayer(\n",
              "                &quot;https://cartodb-basemaps-{s}.global.ssl.fastly.net/light_all/{z}/{x}/{y}.png&quot;,\n",
              "                {&quot;attribution&quot;: &quot;\\u0026copy; \\u003ca target=\\&quot;_blank\\&quot; href=\\&quot;http://www.openstreetmap.org/copyright\\&quot;\\u003eOpenStreetMap\\u003c/a\\u003e contributors \\u0026copy; \\u003ca target=\\&quot;_blank\\&quot; href=\\&quot;http://cartodb.com/attributions\\&quot;\\u003eCartoDB\\u003c/a\\u003e, CartoDB \\u003ca target=\\&quot;_blank\\&quot; href =\\&quot;http://cartodb.com/attributions\\&quot;\\u003eattributions\\u003c/a\\u003e&quot;, &quot;detectRetina&quot;: false, &quot;maxNativeZoom&quot;: 18, &quot;maxZoom&quot;: 18, &quot;minZoom&quot;: 0, &quot;noWrap&quot;: false, &quot;opacity&quot;: 1, &quot;subdomains&quot;: &quot;abc&quot;, &quot;tms&quot;: false}\n",
              "            ).addTo(map_c14162fed54c2853aa9bdc0315bac2ec);\n",
              "        \n",
              "    \n",
              "            var marker_86daa79397bbe188c9f9958399663928 = L.marker(\n",
              "                [22.49139, 114.16708],\n",
              "                {}\n",
              "            ).addTo(map_c14162fed54c2853aa9bdc0315bac2ec);\n",
              "        \n",
              "    \n",
              "            var icon_c5cb583a7698a4c44f780aebe84e6528 = L.AwesomeMarkers.icon(\n",
              "                {&quot;extraClasses&quot;: &quot;fa-rotate-0&quot;, &quot;icon&quot;: &quot;glyphicon glyphicon-tent&quot;, &quot;iconColor&quot;: &quot;white&quot;, &quot;markerColor&quot;: &quot;green&quot;, &quot;prefix&quot;: &quot;glyphicon&quot;}\n",
              "            );\n",
              "            marker_86daa79397bbe188c9f9958399663928.setIcon(icon_c5cb583a7698a4c44f780aebe84e6528);\n",
              "        \n",
              "    \n",
              "        var popup_5d51fc43f2cc0d4fb5b4a9266f9cb421 = L.popup({&quot;maxWidth&quot;: &quot;100%&quot;});\n",
              "\n",
              "        \n",
              "            \n",
              "                var html_f95b93af1097c3ed99175da20869d565 = $(`&lt;div id=&quot;html_f95b93af1097c3ed99175da20869d565&quot; style=&quot;width: 100.0%; height: 100.0%;&quot;&gt;Lau Shui Heung Camp Site&lt;/div&gt;`)[0];\n",
              "                popup_5d51fc43f2cc0d4fb5b4a9266f9cb421.setContent(html_f95b93af1097c3ed99175da20869d565);\n",
              "            \n",
              "        \n",
              "\n",
              "        marker_86daa79397bbe188c9f9958399663928.bindPopup(popup_5d51fc43f2cc0d4fb5b4a9266f9cb421)\n",
              "        ;\n",
              "\n",
              "        \n",
              "    \n",
              "    \n",
              "            var marker_0f221bc7b4a39c658f46a10c0a829060 = L.marker(\n",
              "                [22.25548, 114.29593],\n",
              "                {}\n",
              "            ).addTo(map_c14162fed54c2853aa9bdc0315bac2ec);\n",
              "        \n",
              "    \n",
              "            var icon_2f04151f70dabae01c6d59a9918f5a57 = L.AwesomeMarkers.icon(\n",
              "                {&quot;extraClasses&quot;: &quot;fa-rotate-0&quot;, &quot;icon&quot;: &quot;glyphicon glyphicon-tent&quot;, &quot;iconColor&quot;: &quot;white&quot;, &quot;markerColor&quot;: &quot;green&quot;, &quot;prefix&quot;: &quot;glyphicon&quot;}\n",
              "            );\n",
              "            marker_0f221bc7b4a39c658f46a10c0a829060.setIcon(icon_2f04151f70dabae01c6d59a9918f5a57);\n",
              "        \n",
              "    \n",
              "        var popup_6485e5dea14f8b449eda6d3b84662335 = L.popup({&quot;maxWidth&quot;: &quot;100%&quot;});\n",
              "\n",
              "        \n",
              "            \n",
              "                var html_ef2688be4f03a18503c5d571f023dfe3 = $(`&lt;div id=&quot;html_ef2688be4f03a18503c5d571f023dfe3&quot; style=&quot;width: 100.0%; height: 100.0%;&quot;&gt;Tung Lung Chau Camp Site&lt;/div&gt;`)[0];\n",
              "                popup_6485e5dea14f8b449eda6d3b84662335.setContent(html_ef2688be4f03a18503c5d571f023dfe3);\n",
              "            \n",
              "        \n",
              "\n",
              "        marker_0f221bc7b4a39c658f46a10c0a829060.bindPopup(popup_6485e5dea14f8b449eda6d3b84662335)\n",
              "        ;\n",
              "\n",
              "        \n",
              "    \n",
              "    \n",
              "            var marker_e853638417cbcf19844f71d270af385a = L.marker(\n",
              "                [22.38553, 114.30775],\n",
              "                {}\n",
              "            ).addTo(map_c14162fed54c2853aa9bdc0315bac2ec);\n",
              "        \n",
              "    \n",
              "            var icon_3efa7508d7f059e480af17466b8f3de6 = L.AwesomeMarkers.icon(\n",
              "                {&quot;extraClasses&quot;: &quot;fa-rotate-0&quot;, &quot;icon&quot;: &quot;glyphicon glyphicon-tent&quot;, &quot;iconColor&quot;: &quot;white&quot;, &quot;markerColor&quot;: &quot;green&quot;, &quot;prefix&quot;: &quot;glyphicon&quot;}\n",
              "            );\n",
              "            marker_e853638417cbcf19844f71d270af385a.setIcon(icon_3efa7508d7f059e480af17466b8f3de6);\n",
              "        \n",
              "    \n",
              "        var popup_2556f1d590ac36de6cd5457f6cd19255 = L.popup({&quot;maxWidth&quot;: &quot;100%&quot;});\n",
              "\n",
              "        \n",
              "            \n",
              "                var html_4446a609f9c3a505ad8af63d774fcb14 = $(`&lt;div id=&quot;html_4446a609f9c3a505ad8af63d774fcb14&quot; style=&quot;width: 100.0%; height: 100.0%;&quot;&gt;Tai Mong Tsai Campsite&lt;/div&gt;`)[0];\n",
              "                popup_2556f1d590ac36de6cd5457f6cd19255.setContent(html_4446a609f9c3a505ad8af63d774fcb14);\n",
              "            \n",
              "        \n",
              "\n",
              "        marker_e853638417cbcf19844f71d270af385a.bindPopup(popup_2556f1d590ac36de6cd5457f6cd19255)\n",
              "        ;\n",
              "\n",
              "        \n",
              "    \n",
              "    \n",
              "            var marker_e8da82b162a5f46503b4a719cfa00617 = L.marker(\n",
              "                [22.48748, 114.24293],\n",
              "                {}\n",
              "            ).addTo(map_c14162fed54c2853aa9bdc0315bac2ec);\n",
              "        \n",
              "    \n",
              "            var icon_ea77e10cc3b6b40b111dfd1bcd5f7f38 = L.AwesomeMarkers.icon(\n",
              "                {&quot;extraClasses&quot;: &quot;fa-rotate-0&quot;, &quot;icon&quot;: &quot;glyphicon glyphicon-tent&quot;, &quot;iconColor&quot;: &quot;white&quot;, &quot;markerColor&quot;: &quot;green&quot;, &quot;prefix&quot;: &quot;glyphicon&quot;}\n",
              "            );\n",
              "            marker_e8da82b162a5f46503b4a719cfa00617.setIcon(icon_ea77e10cc3b6b40b111dfd1bcd5f7f38);\n",
              "        \n",
              "    \n",
              "        var popup_e0f481990f28ffab6ca62ba668234a5e = L.popup({&quot;maxWidth&quot;: &quot;100%&quot;});\n",
              "\n",
              "        \n",
              "            \n",
              "                var html_ebbee26c1095f167635d1ec432bdc2ad = $(`&lt;div id=&quot;html_ebbee26c1095f167635d1ec432bdc2ad&quot; style=&quot;width: 100.0%; height: 100.0%;&quot;&gt;Chung Pui Camp Site&lt;/div&gt;`)[0];\n",
              "                popup_e0f481990f28ffab6ca62ba668234a5e.setContent(html_ebbee26c1095f167635d1ec432bdc2ad);\n",
              "            \n",
              "        \n",
              "\n",
              "        marker_e8da82b162a5f46503b4a719cfa00617.bindPopup(popup_e0f481990f28ffab6ca62ba668234a5e)\n",
              "        ;\n",
              "\n",
              "        \n",
              "    \n",
              "    \n",
              "            var marker_dfc792636cb852ed9e2fa8f1ab82bd29 = L.marker(\n",
              "                [22.49841, 114.17778],\n",
              "                {}\n",
              "            ).addTo(map_c14162fed54c2853aa9bdc0315bac2ec);\n",
              "        \n",
              "    \n",
              "            var icon_3b9d5ba485e14e6f581cf020b93fa474 = L.AwesomeMarkers.icon(\n",
              "                {&quot;extraClasses&quot;: &quot;fa-rotate-0&quot;, &quot;icon&quot;: &quot;glyphicon glyphicon-tent&quot;, &quot;iconColor&quot;: &quot;white&quot;, &quot;markerColor&quot;: &quot;green&quot;, &quot;prefix&quot;: &quot;glyphicon&quot;}\n",
              "            );\n",
              "            marker_dfc792636cb852ed9e2fa8f1ab82bd29.setIcon(icon_3b9d5ba485e14e6f581cf020b93fa474);\n",
              "        \n",
              "    \n",
              "        var popup_58e9e03e1b54123992a4aca7ddab861c = L.popup({&quot;maxWidth&quot;: &quot;100%&quot;});\n",
              "\n",
              "        \n",
              "            \n",
              "                var html_9ed964d4b35ed623fde9a6a959d69cb4 = $(`&lt;div id=&quot;html_9ed964d4b35ed623fde9a6a959d69cb4&quot; style=&quot;width: 100.0%; height: 100.0%;&quot;&gt;Hok Tau Camp Site&lt;/div&gt;`)[0];\n",
              "                popup_58e9e03e1b54123992a4aca7ddab861c.setContent(html_9ed964d4b35ed623fde9a6a959d69cb4);\n",
              "            \n",
              "        \n",
              "\n",
              "        marker_dfc792636cb852ed9e2fa8f1ab82bd29.bindPopup(popup_58e9e03e1b54123992a4aca7ddab861c)\n",
              "        ;\n",
              "\n",
              "        \n",
              "    \n",
              "    \n",
              "            var marker_0499651e96a43d645d49fc765ab0322d = L.marker(\n",
              "                [22.50664, 114.2702],\n",
              "                {}\n",
              "            ).addTo(map_c14162fed54c2853aa9bdc0315bac2ec);\n",
              "        \n",
              "    \n",
              "            var icon_49fba37677d51b4d2a12debd876bf06e = L.AwesomeMarkers.icon(\n",
              "                {&quot;extraClasses&quot;: &quot;fa-rotate-0&quot;, &quot;icon&quot;: &quot;glyphicon glyphicon-tent&quot;, &quot;iconColor&quot;: &quot;white&quot;, &quot;markerColor&quot;: &quot;green&quot;, &quot;prefix&quot;: &quot;glyphicon&quot;}\n",
              "            );\n",
              "            marker_0499651e96a43d645d49fc765ab0322d.setIcon(icon_49fba37677d51b4d2a12debd876bf06e);\n",
              "        \n",
              "    \n",
              "        var popup_1ce0bb44c42012667b012d599e097686 = L.popup({&quot;maxWidth&quot;: &quot;100%&quot;});\n",
              "\n",
              "        \n",
              "            \n",
              "                var html_f84ed781c9ab66ad04bf0a5f0be53aa0 = $(`&lt;div id=&quot;html_f84ed781c9ab66ad04bf0a5f0be53aa0&quot; style=&quot;width: 100.0%; height: 100.0%;&quot;&gt;Sam A Chung Camp Site&lt;/div&gt;`)[0];\n",
              "                popup_1ce0bb44c42012667b012d599e097686.setContent(html_f84ed781c9ab66ad04bf0a5f0be53aa0);\n",
              "            \n",
              "        \n",
              "\n",
              "        marker_0499651e96a43d645d49fc765ab0322d.bindPopup(popup_1ce0bb44c42012667b012d599e097686)\n",
              "        ;\n",
              "\n",
              "        \n",
              "    \n",
              "    \n",
              "            var marker_aed76ee8b70d6f8e166f139ec7e86f2c = L.marker(\n",
              "                [22.46162, 114.34213],\n",
              "                {}\n",
              "            ).addTo(map_c14162fed54c2853aa9bdc0315bac2ec);\n",
              "        \n",
              "    \n",
              "            var icon_5c029c8f95c6f575506c7064976ceafc = L.AwesomeMarkers.icon(\n",
              "                {&quot;extraClasses&quot;: &quot;fa-rotate-0&quot;, &quot;icon&quot;: &quot;glyphicon glyphicon-tent&quot;, &quot;iconColor&quot;: &quot;white&quot;, &quot;markerColor&quot;: &quot;green&quot;, &quot;prefix&quot;: &quot;glyphicon&quot;}\n",
              "            );\n",
              "            marker_aed76ee8b70d6f8e166f139ec7e86f2c.setIcon(icon_5c029c8f95c6f575506c7064976ceafc);\n",
              "        \n",
              "    \n",
              "        var popup_1f1e633ee779e41cdc5dc6539730dcd8 = L.popup({&quot;maxWidth&quot;: &quot;100%&quot;});\n",
              "\n",
              "        \n",
              "            \n",
              "                var html_c00cfb03d59fd3b18ebb01d7bd0d2ae1 = $(`&lt;div id=&quot;html_c00cfb03d59fd3b18ebb01d7bd0d2ae1&quot; style=&quot;width: 100.0%; height: 100.0%;&quot;&gt;Wan Tsai South Camp Site&lt;/div&gt;`)[0];\n",
              "                popup_1f1e633ee779e41cdc5dc6539730dcd8.setContent(html_c00cfb03d59fd3b18ebb01d7bd0d2ae1);\n",
              "            \n",
              "        \n",
              "\n",
              "        marker_aed76ee8b70d6f8e166f139ec7e86f2c.bindPopup(popup_1f1e633ee779e41cdc5dc6539730dcd8)\n",
              "        ;\n",
              "\n",
              "        \n",
              "    \n",
              "    \n",
              "            var marker_baf11304ffbeb73839d54c2db2c260f4 = L.marker(\n",
              "                [22.43446, 114.33623],\n",
              "                {}\n",
              "            ).addTo(map_c14162fed54c2853aa9bdc0315bac2ec);\n",
              "        \n",
              "    \n",
              "            var icon_50f1eba76c4ae89fcd424826f23be8b0 = L.AwesomeMarkers.icon(\n",
              "                {&quot;extraClasses&quot;: &quot;fa-rotate-0&quot;, &quot;icon&quot;: &quot;glyphicon glyphicon-tent&quot;, &quot;iconColor&quot;: &quot;white&quot;, &quot;markerColor&quot;: &quot;green&quot;, &quot;prefix&quot;: &quot;glyphicon&quot;}\n",
              "            );\n",
              "            marker_baf11304ffbeb73839d54c2db2c260f4.setIcon(icon_50f1eba76c4ae89fcd424826f23be8b0);\n",
              "        \n",
              "    \n",
              "        var popup_0cc2fde7aa4c7d007cf33cf09d000110 = L.popup({&quot;maxWidth&quot;: &quot;100%&quot;});\n",
              "\n",
              "        \n",
              "            \n",
              "                var html_930c17a62025aef56972451dec978949 = $(`&lt;div id=&quot;html_930c17a62025aef56972451dec978949&quot; style=&quot;width: 100.0%; height: 100.0%;&quot;&gt;Wong Shek Camp Site&lt;/div&gt;`)[0];\n",
              "                popup_0cc2fde7aa4c7d007cf33cf09d000110.setContent(html_930c17a62025aef56972451dec978949);\n",
              "            \n",
              "        \n",
              "\n",
              "        marker_baf11304ffbeb73839d54c2db2c260f4.bindPopup(popup_0cc2fde7aa4c7d007cf33cf09d000110)\n",
              "        ;\n",
              "\n",
              "        \n",
              "    \n",
              "    \n",
              "            var marker_81bbc6b7da25ad0e829b1f7dca6a842c = L.marker(\n",
              "                [22.42293, 114.33584],\n",
              "                {}\n",
              "            ).addTo(map_c14162fed54c2853aa9bdc0315bac2ec);\n",
              "        \n",
              "    \n",
              "            var icon_bed1a01e513f88064a50b716fa8854cb = L.AwesomeMarkers.icon(\n",
              "                {&quot;extraClasses&quot;: &quot;fa-rotate-0&quot;, &quot;icon&quot;: &quot;glyphicon glyphicon-tent&quot;, &quot;iconColor&quot;: &quot;white&quot;, &quot;markerColor&quot;: &quot;green&quot;, &quot;prefix&quot;: &quot;glyphicon&quot;}\n",
              "            );\n",
              "            marker_81bbc6b7da25ad0e829b1f7dca6a842c.setIcon(icon_bed1a01e513f88064a50b716fa8854cb);\n",
              "        \n",
              "    \n",
              "        var popup_3315a65cdf9e987e6a2cc4a7cc413212 = L.popup({&quot;maxWidth&quot;: &quot;100%&quot;});\n",
              "\n",
              "        \n",
              "            \n",
              "                var html_9c02c74cce07dd81b38a068ed35e3e6f = $(`&lt;div id=&quot;html_9c02c74cce07dd81b38a068ed35e3e6f&quot; style=&quot;width: 100.0%; height: 100.0%;&quot;&gt;Pak Tam Au Camp Site&lt;/div&gt;`)[0];\n",
              "                popup_3315a65cdf9e987e6a2cc4a7cc413212.setContent(html_9c02c74cce07dd81b38a068ed35e3e6f);\n",
              "            \n",
              "        \n",
              "\n",
              "        marker_81bbc6b7da25ad0e829b1f7dca6a842c.bindPopup(popup_3315a65cdf9e987e6a2cc4a7cc413212)\n",
              "        ;\n",
              "\n",
              "        \n",
              "    \n",
              "    \n",
              "            var marker_672885653ba55bac50fb3fd938200549 = L.marker(\n",
              "                [22.402, 114.37152],\n",
              "                {}\n",
              "            ).addTo(map_c14162fed54c2853aa9bdc0315bac2ec);\n",
              "        \n",
              "    \n",
              "            var icon_0c70faadb087d8680330271e26cbbd42 = L.AwesomeMarkers.icon(\n",
              "                {&quot;extraClasses&quot;: &quot;fa-rotate-0&quot;, &quot;icon&quot;: &quot;glyphicon glyphicon-tent&quot;, &quot;iconColor&quot;: &quot;white&quot;, &quot;markerColor&quot;: &quot;green&quot;, &quot;prefix&quot;: &quot;glyphicon&quot;}\n",
              "            );\n",
              "            marker_672885653ba55bac50fb3fd938200549.setIcon(icon_0c70faadb087d8680330271e26cbbd42);\n",
              "        \n",
              "    \n",
              "        var popup_7a06c5726fbd9f9a62e467f037730d96 = L.popup({&quot;maxWidth&quot;: &quot;100%&quot;});\n",
              "\n",
              "        \n",
              "            \n",
              "                var html_6801bc60e3d7c38dba12b9383c9bd080 = $(`&lt;div id=&quot;html_6801bc60e3d7c38dba12b9383c9bd080&quot; style=&quot;width: 100.0%; height: 100.0%;&quot;&gt;Sai Wan Camp Site&lt;/div&gt;`)[0];\n",
              "                popup_7a06c5726fbd9f9a62e467f037730d96.setContent(html_6801bc60e3d7c38dba12b9383c9bd080);\n",
              "            \n",
              "        \n",
              "\n",
              "        marker_672885653ba55bac50fb3fd938200549.bindPopup(popup_7a06c5726fbd9f9a62e467f037730d96)\n",
              "        ;\n",
              "\n",
              "        \n",
              "    \n",
              "    \n",
              "            var marker_4c546f7e52cf220961b3e3865dcd2d03 = L.marker(\n",
              "                [22.3733, 114.3752],\n",
              "                {}\n",
              "            ).addTo(map_c14162fed54c2853aa9bdc0315bac2ec);\n",
              "        \n",
              "    \n",
              "            var icon_d51c0d8618d13c6173d8676aef4bbc90 = L.AwesomeMarkers.icon(\n",
              "                {&quot;extraClasses&quot;: &quot;fa-rotate-0&quot;, &quot;icon&quot;: &quot;glyphicon glyphicon-tent&quot;, &quot;iconColor&quot;: &quot;white&quot;, &quot;markerColor&quot;: &quot;green&quot;, &quot;prefix&quot;: &quot;glyphicon&quot;}\n",
              "            );\n",
              "            marker_4c546f7e52cf220961b3e3865dcd2d03.setIcon(icon_d51c0d8618d13c6173d8676aef4bbc90);\n",
              "        \n",
              "    \n",
              "        var popup_c55b9f8a6fdd05eaf3febee3c2a712a7 = L.popup({&quot;maxWidth&quot;: &quot;100%&quot;});\n",
              "\n",
              "        \n",
              "            \n",
              "                var html_ae5cbdf5658c6db716358db06c2f9e6b = $(`&lt;div id=&quot;html_ae5cbdf5658c6db716358db06c2f9e6b&quot; style=&quot;width: 100.0%; height: 100.0%;&quot;&gt;Long Ke Wan Camp Site&lt;/div&gt;`)[0];\n",
              "                popup_c55b9f8a6fdd05eaf3febee3c2a712a7.setContent(html_ae5cbdf5658c6db716358db06c2f9e6b);\n",
              "            \n",
              "        \n",
              "\n",
              "        marker_4c546f7e52cf220961b3e3865dcd2d03.bindPopup(popup_c55b9f8a6fdd05eaf3febee3c2a712a7)\n",
              "        ;\n",
              "\n",
              "        \n",
              "    \n",
              "    \n",
              "            var marker_7aa749cd7fe8658a2231626beca9731a = L.marker(\n",
              "                [22.44103, 114.32673],\n",
              "                {}\n",
              "            ).addTo(map_c14162fed54c2853aa9bdc0315bac2ec);\n",
              "        \n",
              "    \n",
              "            var icon_77cd3e031db449f51039f57e1d8436d0 = L.AwesomeMarkers.icon(\n",
              "                {&quot;extraClasses&quot;: &quot;fa-rotate-0&quot;, &quot;icon&quot;: &quot;glyphicon glyphicon-tent&quot;, &quot;iconColor&quot;: &quot;white&quot;, &quot;markerColor&quot;: &quot;green&quot;, &quot;prefix&quot;: &quot;glyphicon&quot;}\n",
              "            );\n",
              "            marker_7aa749cd7fe8658a2231626beca9731a.setIcon(icon_77cd3e031db449f51039f57e1d8436d0);\n",
              "        \n",
              "    \n",
              "        var popup_2c5b56fe74c636c1f461527985c73851 = L.popup({&quot;maxWidth&quot;: &quot;100%&quot;});\n",
              "\n",
              "        \n",
              "            \n",
              "                var html_b447689eea2c6502a181c0e5507808dc = $(`&lt;div id=&quot;html_b447689eea2c6502a181c0e5507808dc&quot; style=&quot;width: 100.0%; height: 100.0%;&quot;&gt;Hau Tong Kai Camp Site&lt;/div&gt;`)[0];\n",
              "                popup_2c5b56fe74c636c1f461527985c73851.setContent(html_b447689eea2c6502a181c0e5507808dc);\n",
              "            \n",
              "        \n",
              "\n",
              "        marker_7aa749cd7fe8658a2231626beca9731a.bindPopup(popup_2c5b56fe74c636c1f461527985c73851)\n",
              "        ;\n",
              "\n",
              "        \n",
              "    \n",
              "    \n",
              "            var marker_db12712330698774c7c33f5c047ea45e = L.marker(\n",
              "                [22.37811, 114.33194],\n",
              "                {}\n",
              "            ).addTo(map_c14162fed54c2853aa9bdc0315bac2ec);\n",
              "        \n",
              "    \n",
              "            var icon_c7066c45ae76cfee716b3e1d48cc9b80 = L.AwesomeMarkers.icon(\n",
              "                {&quot;extraClasses&quot;: &quot;fa-rotate-0&quot;, &quot;icon&quot;: &quot;glyphicon glyphicon-tent&quot;, &quot;iconColor&quot;: &quot;white&quot;, &quot;markerColor&quot;: &quot;green&quot;, &quot;prefix&quot;: &quot;glyphicon&quot;}\n",
              "            );\n",
              "            marker_db12712330698774c7c33f5c047ea45e.setIcon(icon_c7066c45ae76cfee716b3e1d48cc9b80);\n",
              "        \n",
              "    \n",
              "        var popup_1a8301e85302ce671f7bc15f5b1bb88f = L.popup({&quot;maxWidth&quot;: &quot;100%&quot;});\n",
              "\n",
              "        \n",
              "            \n",
              "                var html_55bac9ee78554f5194018bcad3c1ab9d = $(`&lt;div id=&quot;html_55bac9ee78554f5194018bcad3c1ab9d&quot; style=&quot;width: 100.0%; height: 100.0%;&quot;&gt;Yuen Ng Fan Camp Site&lt;/div&gt;`)[0];\n",
              "                popup_1a8301e85302ce671f7bc15f5b1bb88f.setContent(html_55bac9ee78554f5194018bcad3c1ab9d);\n",
              "            \n",
              "        \n",
              "\n",
              "        marker_db12712330698774c7c33f5c047ea45e.bindPopup(popup_1a8301e85302ce671f7bc15f5b1bb88f)\n",
              "        ;\n",
              "\n",
              "        \n",
              "    \n",
              "    \n",
              "            var marker_f52dd4cb984bb2e916c8eacd3ffbf376 = L.marker(\n",
              "                [22.35924, 114.36504],\n",
              "                {}\n",
              "            ).addTo(map_c14162fed54c2853aa9bdc0315bac2ec);\n",
              "        \n",
              "    \n",
              "            var icon_27a3537d5f7796fd867f760797ae300d = L.AwesomeMarkers.icon(\n",
              "                {&quot;extraClasses&quot;: &quot;fa-rotate-0&quot;, &quot;icon&quot;: &quot;glyphicon glyphicon-tent&quot;, &quot;iconColor&quot;: &quot;white&quot;, &quot;markerColor&quot;: &quot;green&quot;, &quot;prefix&quot;: &quot;glyphicon&quot;}\n",
              "            );\n",
              "            marker_f52dd4cb984bb2e916c8eacd3ffbf376.setIcon(icon_27a3537d5f7796fd867f760797ae300d);\n",
              "        \n",
              "    \n",
              "        var popup_7c4c988efd2703462cf128634671b3e2 = L.popup({&quot;maxWidth&quot;: &quot;100%&quot;});\n",
              "\n",
              "        \n",
              "            \n",
              "                var html_a28b9405054c0a43d48f1560f793cd07 = $(`&lt;div id=&quot;html_a28b9405054c0a43d48f1560f793cd07&quot; style=&quot;width: 100.0%; height: 100.0%;&quot;&gt;Pak Lap Camp Site&lt;/div&gt;`)[0];\n",
              "                popup_7c4c988efd2703462cf128634671b3e2.setContent(html_a28b9405054c0a43d48f1560f793cd07);\n",
              "            \n",
              "        \n",
              "\n",
              "        marker_f52dd4cb984bb2e916c8eacd3ffbf376.bindPopup(popup_7c4c988efd2703462cf128634671b3e2)\n",
              "        ;\n",
              "\n",
              "        \n",
              "    \n",
              "    \n",
              "            var marker_1276357b93b237b9d68b005fbc36e12f = L.marker(\n",
              "                [22.3822, 114.32692],\n",
              "                {}\n",
              "            ).addTo(map_c14162fed54c2853aa9bdc0315bac2ec);\n",
              "        \n",
              "    \n",
              "            var icon_6f11e1de7be1150f1adf1cfaa5c32625 = L.AwesomeMarkers.icon(\n",
              "                {&quot;extraClasses&quot;: &quot;fa-rotate-0&quot;, &quot;icon&quot;: &quot;glyphicon glyphicon-tent&quot;, &quot;iconColor&quot;: &quot;white&quot;, &quot;markerColor&quot;: &quot;green&quot;, &quot;prefix&quot;: &quot;glyphicon&quot;}\n",
              "            );\n",
              "            marker_1276357b93b237b9d68b005fbc36e12f.setIcon(icon_6f11e1de7be1150f1adf1cfaa5c32625);\n",
              "        \n",
              "    \n",
              "        var popup_5d081389f87ab6e42d6f05de0416f945 = L.popup({&quot;maxWidth&quot;: &quot;100%&quot;});\n",
              "\n",
              "        \n",
              "            \n",
              "                var html_af5f7aecce9b8fd93513d834426985d8 = $(`&lt;div id=&quot;html_af5f7aecce9b8fd93513d834426985d8&quot; style=&quot;width: 100.0%; height: 100.0%;&quot;&gt;Po Kwu Wan Camp Site&lt;/div&gt;`)[0];\n",
              "                popup_5d081389f87ab6e42d6f05de0416f945.setContent(html_af5f7aecce9b8fd93513d834426985d8);\n",
              "            \n",
              "        \n",
              "\n",
              "        marker_1276357b93b237b9d68b005fbc36e12f.bindPopup(popup_5d081389f87ab6e42d6f05de0416f945)\n",
              "        ;\n",
              "\n",
              "        \n",
              "    \n",
              "    \n",
              "            var marker_3585fa330d83f84e9b586bb12ba6ad2f = L.marker(\n",
              "                [22.46508, 114.3381],\n",
              "                {}\n",
              "            ).addTo(map_c14162fed54c2853aa9bdc0315bac2ec);\n",
              "        \n",
              "    \n",
              "            var icon_315bb0fe00218ba8edaafbf5dd184f07 = L.AwesomeMarkers.icon(\n",
              "                {&quot;extraClasses&quot;: &quot;fa-rotate-0&quot;, &quot;icon&quot;: &quot;glyphicon glyphicon-tent&quot;, &quot;iconColor&quot;: &quot;white&quot;, &quot;markerColor&quot;: &quot;green&quot;, &quot;prefix&quot;: &quot;glyphicon&quot;}\n",
              "            );\n",
              "            marker_3585fa330d83f84e9b586bb12ba6ad2f.setIcon(icon_315bb0fe00218ba8edaafbf5dd184f07);\n",
              "        \n",
              "    \n",
              "        var popup_bf112269a9cfb3b6efe83ebfe400c1ca = L.popup({&quot;maxWidth&quot;: &quot;100%&quot;});\n",
              "\n",
              "        \n",
              "            \n",
              "                var html_cf879e459026c8596bcf428dc6a0a8d7 = $(`&lt;div id=&quot;html_cf879e459026c8596bcf428dc6a0a8d7&quot; style=&quot;width: 100.0%; height: 100.0%;&quot;&gt;Wan Tsai West Camp Site&lt;/div&gt;`)[0];\n",
              "                popup_bf112269a9cfb3b6efe83ebfe400c1ca.setContent(html_cf879e459026c8596bcf428dc6a0a8d7);\n",
              "            \n",
              "        \n",
              "\n",
              "        marker_3585fa330d83f84e9b586bb12ba6ad2f.bindPopup(popup_bf112269a9cfb3b6efe83ebfe400c1ca)\n",
              "        ;\n",
              "\n",
              "        \n",
              "    \n",
              "    \n",
              "            var marker_e68971e5e43a67bcded0a6537025cefb = L.marker(\n",
              "                [22.43669, 114.33373],\n",
              "                {}\n",
              "            ).addTo(map_c14162fed54c2853aa9bdc0315bac2ec);\n",
              "        \n",
              "    \n",
              "            var icon_92ce2551a88ea70d21f19d6be6ff065c = L.AwesomeMarkers.icon(\n",
              "                {&quot;extraClasses&quot;: &quot;fa-rotate-0&quot;, &quot;icon&quot;: &quot;glyphicon glyphicon-tent&quot;, &quot;iconColor&quot;: &quot;white&quot;, &quot;markerColor&quot;: &quot;green&quot;, &quot;prefix&quot;: &quot;glyphicon&quot;}\n",
              "            );\n",
              "            marker_e68971e5e43a67bcded0a6537025cefb.setIcon(icon_92ce2551a88ea70d21f19d6be6ff065c);\n",
              "        \n",
              "    \n",
              "        var popup_e16839db13789d4ea04148f62fd990ec = L.popup({&quot;maxWidth&quot;: &quot;100%&quot;});\n",
              "\n",
              "        \n",
              "            \n",
              "                var html_3b476eab008937e0857890cb45476217 = $(`&lt;div id=&quot;html_3b476eab008937e0857890cb45476217&quot; style=&quot;width: 100.0%; height: 100.0%;&quot;&gt;Tai Tan Camp Site&lt;/div&gt;`)[0];\n",
              "                popup_e16839db13789d4ea04148f62fd990ec.setContent(html_3b476eab008937e0857890cb45476217);\n",
              "            \n",
              "        \n",
              "\n",
              "        marker_e68971e5e43a67bcded0a6537025cefb.bindPopup(popup_e16839db13789d4ea04148f62fd990ec)\n",
              "        ;\n",
              "\n",
              "        \n",
              "    \n",
              "    \n",
              "            var marker_6f439548d378ff36751eb08f3a410cd3 = L.marker(\n",
              "                [22.40626, 114.32522],\n",
              "                {}\n",
              "            ).addTo(map_c14162fed54c2853aa9bdc0315bac2ec);\n",
              "        \n",
              "    \n",
              "            var icon_1939ec47d11ceb632953ec5c8ff666ba = L.AwesomeMarkers.icon(\n",
              "                {&quot;extraClasses&quot;: &quot;fa-rotate-0&quot;, &quot;icon&quot;: &quot;glyphicon glyphicon-tent&quot;, &quot;iconColor&quot;: &quot;white&quot;, &quot;markerColor&quot;: &quot;green&quot;, &quot;prefix&quot;: &quot;glyphicon&quot;}\n",
              "            );\n",
              "            marker_6f439548d378ff36751eb08f3a410cd3.setIcon(icon_1939ec47d11ceb632953ec5c8ff666ba);\n",
              "        \n",
              "    \n",
              "        var popup_181975075dbf08494103e89dd7b7c91b = L.popup({&quot;maxWidth&quot;: &quot;100%&quot;});\n",
              "\n",
              "        \n",
              "            \n",
              "                var html_10fbc3546ad477d672a11e1446da6c7a = $(`&lt;div id=&quot;html_10fbc3546ad477d672a11e1446da6c7a&quot; style=&quot;width: 100.0%; height: 100.0%;&quot;&gt;Yee Ting Camp Site&lt;/div&gt;`)[0];\n",
              "                popup_181975075dbf08494103e89dd7b7c91b.setContent(html_10fbc3546ad477d672a11e1446da6c7a);\n",
              "            \n",
              "        \n",
              "\n",
              "        marker_6f439548d378ff36751eb08f3a410cd3.bindPopup(popup_181975075dbf08494103e89dd7b7c91b)\n",
              "        ;\n",
              "\n",
              "        \n",
              "    \n",
              "    \n",
              "            var marker_2c7bf7347c434dfeaa459b4c32935861 = L.marker(\n",
              "                [22.40274, 114.27519],\n",
              "                {}\n",
              "            ).addTo(map_c14162fed54c2853aa9bdc0315bac2ec);\n",
              "        \n",
              "    \n",
              "            var icon_34b0eca1ee2bedb435fa27094d0c03c7 = L.AwesomeMarkers.icon(\n",
              "                {&quot;extraClasses&quot;: &quot;fa-rotate-0&quot;, &quot;icon&quot;: &quot;glyphicon glyphicon-tent&quot;, &quot;iconColor&quot;: &quot;white&quot;, &quot;markerColor&quot;: &quot;green&quot;, &quot;prefix&quot;: &quot;glyphicon&quot;}\n",
              "            );\n",
              "            marker_2c7bf7347c434dfeaa459b4c32935861.setIcon(icon_34b0eca1ee2bedb435fa27094d0c03c7);\n",
              "        \n",
              "    \n",
              "        var popup_bdf8b183ad2c9f9aa1a67440009677b0 = L.popup({&quot;maxWidth&quot;: &quot;100%&quot;});\n",
              "\n",
              "        \n",
              "            \n",
              "                var html_dbd3162facf9fc6a3c1a4717829ed78f = $(`&lt;div id=&quot;html_dbd3162facf9fc6a3c1a4717829ed78f&quot; style=&quot;width: 100.0%; height: 100.0%;&quot;&gt;Shui Long Wo Camp Site&lt;/div&gt;`)[0];\n",
              "                popup_bdf8b183ad2c9f9aa1a67440009677b0.setContent(html_dbd3162facf9fc6a3c1a4717829ed78f);\n",
              "            \n",
              "        \n",
              "\n",
              "        marker_2c7bf7347c434dfeaa459b4c32935861.bindPopup(popup_bdf8b183ad2c9f9aa1a67440009677b0)\n",
              "        ;\n",
              "\n",
              "        \n",
              "    \n",
              "    \n",
              "            var marker_647a71f0d7bdf90eb64e82d941a6b84b = L.marker(\n",
              "                [22.54069, 114.44109],\n",
              "                {}\n",
              "            ).addTo(map_c14162fed54c2853aa9bdc0315bac2ec);\n",
              "        \n",
              "    \n",
              "            var icon_1e6b2f51e49c56fb6a16370f2d53b030 = L.AwesomeMarkers.icon(\n",
              "                {&quot;extraClasses&quot;: &quot;fa-rotate-0&quot;, &quot;icon&quot;: &quot;glyphicon glyphicon-tent&quot;, &quot;iconColor&quot;: &quot;white&quot;, &quot;markerColor&quot;: &quot;green&quot;, &quot;prefix&quot;: &quot;glyphicon&quot;}\n",
              "            );\n",
              "            marker_647a71f0d7bdf90eb64e82d941a6b84b.setIcon(icon_1e6b2f51e49c56fb6a16370f2d53b030);\n",
              "        \n",
              "    \n",
              "        var popup_b6603e321a46db024a2b73ab27e7b0c3 = L.popup({&quot;maxWidth&quot;: &quot;100%&quot;});\n",
              "\n",
              "        \n",
              "            \n",
              "                var html_42eb3f4e3b4625608ca3b845560afc07 = $(`&lt;div id=&quot;html_42eb3f4e3b4625608ca3b845560afc07&quot; style=&quot;width: 100.0%; height: 100.0%;&quot;&gt;Tung Ping Chau Camp Site&lt;/div&gt;`)[0];\n",
              "                popup_b6603e321a46db024a2b73ab27e7b0c3.setContent(html_42eb3f4e3b4625608ca3b845560afc07);\n",
              "            \n",
              "        \n",
              "\n",
              "        marker_647a71f0d7bdf90eb64e82d941a6b84b.bindPopup(popup_b6603e321a46db024a2b73ab27e7b0c3)\n",
              "        ;\n",
              "\n",
              "        \n",
              "    \n",
              "    \n",
              "            var marker_4161f72754f03d8d6a9b552f945b632d = L.marker(\n",
              "                [22.41132, 114.15779],\n",
              "                {}\n",
              "            ).addTo(map_c14162fed54c2853aa9bdc0315bac2ec);\n",
              "        \n",
              "    \n",
              "            var icon_f060f35eff7e07cd980c2dd6a97f02c5 = L.AwesomeMarkers.icon(\n",
              "                {&quot;extraClasses&quot;: &quot;fa-rotate-0&quot;, &quot;icon&quot;: &quot;glyphicon glyphicon-tent&quot;, &quot;iconColor&quot;: &quot;white&quot;, &quot;markerColor&quot;: &quot;green&quot;, &quot;prefix&quot;: &quot;glyphicon&quot;}\n",
              "            );\n",
              "            marker_4161f72754f03d8d6a9b552f945b632d.setIcon(icon_f060f35eff7e07cd980c2dd6a97f02c5);\n",
              "        \n",
              "    \n",
              "        var popup_42a554647a6da931bcb0b2446a2a0937 = L.popup({&quot;maxWidth&quot;: &quot;100%&quot;});\n",
              "\n",
              "        \n",
              "            \n",
              "                var html_4f2176b0f3f4a574fa467b752fc30b20 = $(`&lt;div id=&quot;html_4f2176b0f3f4a574fa467b752fc30b20&quot; style=&quot;width: 100.0%; height: 100.0%;&quot;&gt;Lead Mine Pass Camp Site&lt;/div&gt;`)[0];\n",
              "                popup_42a554647a6da931bcb0b2446a2a0937.setContent(html_4f2176b0f3f4a574fa467b752fc30b20);\n",
              "            \n",
              "        \n",
              "\n",
              "        marker_4161f72754f03d8d6a9b552f945b632d.bindPopup(popup_42a554647a6da931bcb0b2446a2a0937)\n",
              "        ;\n",
              "\n",
              "        \n",
              "    \n",
              "    \n",
              "            var marker_0344d7964b12b5ee23ece1239322471f = L.marker(\n",
              "                [22.40507, 114.10509],\n",
              "                {}\n",
              "            ).addTo(map_c14162fed54c2853aa9bdc0315bac2ec);\n",
              "        \n",
              "    \n",
              "            var icon_d99bf0e2287d7ad5f476eddd068cb65f = L.AwesomeMarkers.icon(\n",
              "                {&quot;extraClasses&quot;: &quot;fa-rotate-0&quot;, &quot;icon&quot;: &quot;glyphicon glyphicon-tent&quot;, &quot;iconColor&quot;: &quot;white&quot;, &quot;markerColor&quot;: &quot;green&quot;, &quot;prefix&quot;: &quot;glyphicon&quot;}\n",
              "            );\n",
              "            marker_0344d7964b12b5ee23ece1239322471f.setIcon(icon_d99bf0e2287d7ad5f476eddd068cb65f);\n",
              "        \n",
              "    \n",
              "        var popup_dadc5454b43e04a3617f95ea125d720c = L.popup({&quot;maxWidth&quot;: &quot;100%&quot;});\n",
              "\n",
              "        \n",
              "            \n",
              "                var html_b924e289b0f2ef7b2973ca9f3857acc2 = $(`&lt;div id=&quot;html_b924e289b0f2ef7b2973ca9f3857acc2&quot; style=&quot;width: 100.0%; height: 100.0%;&quot;&gt;Rotary Club Park Camp Site&lt;/div&gt;`)[0];\n",
              "                popup_dadc5454b43e04a3617f95ea125d720c.setContent(html_b924e289b0f2ef7b2973ca9f3857acc2);\n",
              "            \n",
              "        \n",
              "\n",
              "        marker_0344d7964b12b5ee23ece1239322471f.bindPopup(popup_dadc5454b43e04a3617f95ea125d720c)\n",
              "        ;\n",
              "\n",
              "        \n",
              "    \n",
              "    \n",
              "            var marker_5d4cbd63491724797374fefb85930d5e = L.marker(\n",
              "                [22.40681, 114.10323],\n",
              "                {}\n",
              "            ).addTo(map_c14162fed54c2853aa9bdc0315bac2ec);\n",
              "        \n",
              "    \n",
              "            var icon_adbd9565102f4c140f2d9a5270c9fea4 = L.AwesomeMarkers.icon(\n",
              "                {&quot;extraClasses&quot;: &quot;fa-rotate-0&quot;, &quot;icon&quot;: &quot;glyphicon glyphicon-tent&quot;, &quot;iconColor&quot;: &quot;white&quot;, &quot;markerColor&quot;: &quot;green&quot;, &quot;prefix&quot;: &quot;glyphicon&quot;}\n",
              "            );\n",
              "            marker_5d4cbd63491724797374fefb85930d5e.setIcon(icon_adbd9565102f4c140f2d9a5270c9fea4);\n",
              "        \n",
              "    \n",
              "        var popup_d2a82a4fb3b1235f865ef8838c2ead96 = L.popup({&quot;maxWidth&quot;: &quot;100%&quot;});\n",
              "\n",
              "        \n",
              "            \n",
              "                var html_959f9ded6a4964a8ba3e636b5e4335b0 = $(`&lt;div id=&quot;html_959f9ded6a4964a8ba3e636b5e4335b0&quot; style=&quot;width: 100.0%; height: 100.0%;&quot;&gt;Twisk Camp Site&lt;/div&gt;`)[0];\n",
              "                popup_d2a82a4fb3b1235f865ef8838c2ead96.setContent(html_959f9ded6a4964a8ba3e636b5e4335b0);\n",
              "            \n",
              "        \n",
              "\n",
              "        marker_5d4cbd63491724797374fefb85930d5e.bindPopup(popup_d2a82a4fb3b1235f865ef8838c2ead96)\n",
              "        ;\n",
              "\n",
              "        \n",
              "    \n",
              "    \n",
              "            var marker_322691e610bef333f713cde80770dd1f = L.marker(\n",
              "                [22.40996, 114.0717],\n",
              "                {}\n",
              "            ).addTo(map_c14162fed54c2853aa9bdc0315bac2ec);\n",
              "        \n",
              "    \n",
              "            var icon_16bf64231c21bb0275718cdaabf910c9 = L.AwesomeMarkers.icon(\n",
              "                {&quot;extraClasses&quot;: &quot;fa-rotate-0&quot;, &quot;icon&quot;: &quot;glyphicon glyphicon-tent&quot;, &quot;iconColor&quot;: &quot;white&quot;, &quot;markerColor&quot;: &quot;green&quot;, &quot;prefix&quot;: &quot;glyphicon&quot;}\n",
              "            );\n",
              "            marker_322691e610bef333f713cde80770dd1f.setIcon(icon_16bf64231c21bb0275718cdaabf910c9);\n",
              "        \n",
              "    \n",
              "        var popup_e03bf8d270282a6e6dd2e63e88469680 = L.popup({&quot;maxWidth&quot;: &quot;100%&quot;});\n",
              "\n",
              "        \n",
              "            \n",
              "                var html_3fbbfc290ac662c222c57966ed71c49e = $(`&lt;div id=&quot;html_3fbbfc290ac662c222c57966ed71c49e&quot; style=&quot;width: 100.0%; height: 100.0%;&quot;&gt;Ho Pui Camp Site&lt;/div&gt;`)[0];\n",
              "                popup_e03bf8d270282a6e6dd2e63e88469680.setContent(html_3fbbfc290ac662c222c57966ed71c49e);\n",
              "            \n",
              "        \n",
              "\n",
              "        marker_322691e610bef333f713cde80770dd1f.bindPopup(popup_e03bf8d270282a6e6dd2e63e88469680)\n",
              "        ;\n",
              "\n",
              "        \n",
              "    \n",
              "    \n",
              "            var marker_4a17c2421960df328196b29bc62b6729 = L.marker(\n",
              "                [22.39009, 114.06604],\n",
              "                {}\n",
              "            ).addTo(map_c14162fed54c2853aa9bdc0315bac2ec);\n",
              "        \n",
              "    \n",
              "            var icon_b619b8c4f35868b6945765dc71fac416 = L.AwesomeMarkers.icon(\n",
              "                {&quot;extraClasses&quot;: &quot;fa-rotate-0&quot;, &quot;icon&quot;: &quot;glyphicon glyphicon-tent&quot;, &quot;iconColor&quot;: &quot;white&quot;, &quot;markerColor&quot;: &quot;green&quot;, &quot;prefix&quot;: &quot;glyphicon&quot;}\n",
              "            );\n",
              "            marker_4a17c2421960df328196b29bc62b6729.setIcon(icon_b619b8c4f35868b6945765dc71fac416);\n",
              "        \n",
              "    \n",
              "        var popup_9c0e436e0a1bb6ebdd33f6a10a56c034 = L.popup({&quot;maxWidth&quot;: &quot;100%&quot;});\n",
              "\n",
              "        \n",
              "            \n",
              "                var html_03017af865eb72f02dfcd7f89d8ca88b = $(`&lt;div id=&quot;html_03017af865eb72f02dfcd7f89d8ca88b&quot; style=&quot;width: 100.0%; height: 100.0%;&quot;&gt;Tin Fu Tsai Camp Site&lt;/div&gt;`)[0];\n",
              "                popup_9c0e436e0a1bb6ebdd33f6a10a56c034.setContent(html_03017af865eb72f02dfcd7f89d8ca88b);\n",
              "            \n",
              "        \n",
              "\n",
              "        marker_4a17c2421960df328196b29bc62b6729.bindPopup(popup_9c0e436e0a1bb6ebdd33f6a10a56c034)\n",
              "        ;\n",
              "\n",
              "        \n",
              "    \n",
              "    \n",
              "            var marker_c157d150bcb61aa6561c9977a8c33671 = L.marker(\n",
              "                [22.25328, 113.9862],\n",
              "                {}\n",
              "            ).addTo(map_c14162fed54c2853aa9bdc0315bac2ec);\n",
              "        \n",
              "    \n",
              "            var icon_b621bc9331b59b4df6a3b4f090ee09cb = L.AwesomeMarkers.icon(\n",
              "                {&quot;extraClasses&quot;: &quot;fa-rotate-0&quot;, &quot;icon&quot;: &quot;glyphicon glyphicon-tent&quot;, &quot;iconColor&quot;: &quot;white&quot;, &quot;markerColor&quot;: &quot;green&quot;, &quot;prefix&quot;: &quot;glyphicon&quot;}\n",
              "            );\n",
              "            marker_c157d150bcb61aa6561c9977a8c33671.setIcon(icon_b621bc9331b59b4df6a3b4f090ee09cb);\n",
              "        \n",
              "    \n",
              "        var popup_5f1973263b30f717ec1a06e6eecb0e85 = L.popup({&quot;maxWidth&quot;: &quot;100%&quot;});\n",
              "\n",
              "        \n",
              "            \n",
              "                var html_a5d37780934d6126fc9528ae3fed2fab = $(`&lt;div id=&quot;html_a5d37780934d6126fc9528ae3fed2fab&quot; style=&quot;width: 100.0%; height: 100.0%;&quot;&gt;Nam Shan Camp Site&lt;/div&gt;`)[0];\n",
              "                popup_5f1973263b30f717ec1a06e6eecb0e85.setContent(html_a5d37780934d6126fc9528ae3fed2fab);\n",
              "            \n",
              "        \n",
              "\n",
              "        marker_c157d150bcb61aa6561c9977a8c33671.bindPopup(popup_5f1973263b30f717ec1a06e6eecb0e85)\n",
              "        ;\n",
              "\n",
              "        \n",
              "    \n",
              "    \n",
              "            var marker_f4d7d4db5b6be09237f6a88f593c4863 = L.marker(\n",
              "                [22.25183, 113.99408],\n",
              "                {}\n",
              "            ).addTo(map_c14162fed54c2853aa9bdc0315bac2ec);\n",
              "        \n",
              "    \n",
              "            var icon_669739f25aaf16b2f5716e482e7e818d = L.AwesomeMarkers.icon(\n",
              "                {&quot;extraClasses&quot;: &quot;fa-rotate-0&quot;, &quot;icon&quot;: &quot;glyphicon glyphicon-tent&quot;, &quot;iconColor&quot;: &quot;white&quot;, &quot;markerColor&quot;: &quot;green&quot;, &quot;prefix&quot;: &quot;glyphicon&quot;}\n",
              "            );\n",
              "            marker_f4d7d4db5b6be09237f6a88f593c4863.setIcon(icon_669739f25aaf16b2f5716e482e7e818d);\n",
              "        \n",
              "    \n",
              "        var popup_8508e04205042d9ccb68a2b018f3cefc = L.popup({&quot;maxWidth&quot;: &quot;100%&quot;});\n",
              "\n",
              "        \n",
              "            \n",
              "                var html_dcc60bc2981b228645ffa1988b59f99f = $(`&lt;div id=&quot;html_dcc60bc2981b228645ffa1988b59f99f&quot; style=&quot;width: 100.0%; height: 100.0%;&quot;&gt;Pak Fu Tin Camp Site&lt;/div&gt;`)[0];\n",
              "                popup_8508e04205042d9ccb68a2b018f3cefc.setContent(html_dcc60bc2981b228645ffa1988b59f99f);\n",
              "            \n",
              "        \n",
              "\n",
              "        marker_f4d7d4db5b6be09237f6a88f593c4863.bindPopup(popup_8508e04205042d9ccb68a2b018f3cefc)\n",
              "        ;\n",
              "\n",
              "        \n",
              "    \n",
              "    \n",
              "            var marker_8e27ea8c5a56bd701aea452d7c725a3d = L.marker(\n",
              "                [22.23753, 113.98818],\n",
              "                {}\n",
              "            ).addTo(map_c14162fed54c2853aa9bdc0315bac2ec);\n",
              "        \n",
              "    \n",
              "            var icon_92b530f7b7cb2b56ce1ea54da05f8b8e = L.AwesomeMarkers.icon(\n",
              "                {&quot;extraClasses&quot;: &quot;fa-rotate-0&quot;, &quot;icon&quot;: &quot;glyphicon glyphicon-tent&quot;, &quot;iconColor&quot;: &quot;white&quot;, &quot;markerColor&quot;: &quot;green&quot;, &quot;prefix&quot;: &quot;glyphicon&quot;}\n",
              "            );\n",
              "            marker_8e27ea8c5a56bd701aea452d7c725a3d.setIcon(icon_92b530f7b7cb2b56ce1ea54da05f8b8e);\n",
              "        \n",
              "    \n",
              "        var popup_be869644aac30125072e8e42fb483888 = L.popup({&quot;maxWidth&quot;: &quot;100%&quot;});\n",
              "\n",
              "        \n",
              "            \n",
              "                var html_3c0443d79000d72de421c540622159e7 = $(`&lt;div id=&quot;html_3c0443d79000d72de421c540622159e7&quot; style=&quot;width: 100.0%; height: 100.0%;&quot;&gt;Shap Long Camp Site&lt;/div&gt;`)[0];\n",
              "                popup_be869644aac30125072e8e42fb483888.setContent(html_3c0443d79000d72de421c540622159e7);\n",
              "            \n",
              "        \n",
              "\n",
              "        marker_8e27ea8c5a56bd701aea452d7c725a3d.bindPopup(popup_be869644aac30125072e8e42fb483888)\n",
              "        ;\n",
              "\n",
              "        \n",
              "    \n",
              "    \n",
              "            var marker_ace714e41d2f3f5004990b25fdc8b555 = L.marker(\n",
              "                [22.21206, 113.91518],\n",
              "                {}\n",
              "            ).addTo(map_c14162fed54c2853aa9bdc0315bac2ec);\n",
              "        \n",
              "    \n",
              "            var icon_1ca199051a9b41ea24b41decb0695762 = L.AwesomeMarkers.icon(\n",
              "                {&quot;extraClasses&quot;: &quot;fa-rotate-0&quot;, &quot;icon&quot;: &quot;glyphicon glyphicon-tent&quot;, &quot;iconColor&quot;: &quot;white&quot;, &quot;markerColor&quot;: &quot;green&quot;, &quot;prefix&quot;: &quot;glyphicon&quot;}\n",
              "            );\n",
              "            marker_ace714e41d2f3f5004990b25fdc8b555.setIcon(icon_1ca199051a9b41ea24b41decb0695762);\n",
              "        \n",
              "    \n",
              "        var popup_22f1a8446f201b3c4445ed638ab59d5b = L.popup({&quot;maxWidth&quot;: &quot;100%&quot;});\n",
              "\n",
              "        \n",
              "            \n",
              "                var html_a07bec43ea2cf644c7636c83582a7400 = $(`&lt;div id=&quot;html_a07bec43ea2cf644c7636c83582a7400&quot; style=&quot;width: 100.0%; height: 100.0%;&quot;&gt;Lo Kei Wan Camp Site&lt;/div&gt;`)[0];\n",
              "                popup_22f1a8446f201b3c4445ed638ab59d5b.setContent(html_a07bec43ea2cf644c7636c83582a7400);\n",
              "            \n",
              "        \n",
              "\n",
              "        marker_ace714e41d2f3f5004990b25fdc8b555.bindPopup(popup_22f1a8446f201b3c4445ed638ab59d5b)\n",
              "        ;\n",
              "\n",
              "        \n",
              "    \n",
              "    \n",
              "            var marker_190a07e92964cadcbb6bb620eee06387 = L.marker(\n",
              "                [22.21313, 113.90331],\n",
              "                {}\n",
              "            ).addTo(map_c14162fed54c2853aa9bdc0315bac2ec);\n",
              "        \n",
              "    \n",
              "            var icon_42a27b97d77babd2782a795098197935 = L.AwesomeMarkers.icon(\n",
              "                {&quot;extraClasses&quot;: &quot;fa-rotate-0&quot;, &quot;icon&quot;: &quot;glyphicon glyphicon-tent&quot;, &quot;iconColor&quot;: &quot;white&quot;, &quot;markerColor&quot;: &quot;green&quot;, &quot;prefix&quot;: &quot;glyphicon&quot;}\n",
              "            );\n",
              "            marker_190a07e92964cadcbb6bb620eee06387.setIcon(icon_42a27b97d77babd2782a795098197935);\n",
              "        \n",
              "    \n",
              "        var popup_8065997abedd86e5c0ba696baccbf7fb = L.popup({&quot;maxWidth&quot;: &quot;100%&quot;});\n",
              "\n",
              "        \n",
              "            \n",
              "                var html_f5a515b616f22698bb2c58946a048d67 = $(`&lt;div id=&quot;html_f5a515b616f22698bb2c58946a048d67&quot; style=&quot;width: 100.0%; height: 100.0%;&quot;&gt;Shek Lam Chau Camp Site&lt;/div&gt;`)[0];\n",
              "                popup_8065997abedd86e5c0ba696baccbf7fb.setContent(html_f5a515b616f22698bb2c58946a048d67);\n",
              "            \n",
              "        \n",
              "\n",
              "        marker_190a07e92964cadcbb6bb620eee06387.bindPopup(popup_8065997abedd86e5c0ba696baccbf7fb)\n",
              "        ;\n",
              "\n",
              "        \n",
              "    \n",
              "    \n",
              "            var marker_289d6b5357681dd43117283a32fc7b99 = L.marker(\n",
              "                [22.21327, 113.87802],\n",
              "                {}\n",
              "            ).addTo(map_c14162fed54c2853aa9bdc0315bac2ec);\n",
              "        \n",
              "    \n",
              "            var icon_34c19a8ce4f5b8aace52324c82451b7b = L.AwesomeMarkers.icon(\n",
              "                {&quot;extraClasses&quot;: &quot;fa-rotate-0&quot;, &quot;icon&quot;: &quot;glyphicon glyphicon-tent&quot;, &quot;iconColor&quot;: &quot;white&quot;, &quot;markerColor&quot;: &quot;green&quot;, &quot;prefix&quot;: &quot;glyphicon&quot;}\n",
              "            );\n",
              "            marker_289d6b5357681dd43117283a32fc7b99.setIcon(icon_34c19a8ce4f5b8aace52324c82451b7b);\n",
              "        \n",
              "    \n",
              "        var popup_a69a687547b531d231ac936193dfd371 = L.popup({&quot;maxWidth&quot;: &quot;100%&quot;});\n",
              "\n",
              "        \n",
              "            \n",
              "                var html_0f1090839397c917d34bf0c22802df2a = $(`&lt;div id=&quot;html_0f1090839397c917d34bf0c22802df2a&quot; style=&quot;width: 100.0%; height: 100.0%;&quot;&gt;Tai Long Wan Camp Site&lt;/div&gt;`)[0];\n",
              "                popup_a69a687547b531d231ac936193dfd371.setContent(html_0f1090839397c917d34bf0c22802df2a);\n",
              "            \n",
              "        \n",
              "\n",
              "        marker_289d6b5357681dd43117283a32fc7b99.bindPopup(popup_a69a687547b531d231ac936193dfd371)\n",
              "        ;\n",
              "\n",
              "        \n",
              "    \n",
              "    \n",
              "            var marker_cdcd422acc40e1e5d22f776aeaedda14 = L.marker(\n",
              "                [22.20449, 113.86373],\n",
              "                {}\n",
              "            ).addTo(map_c14162fed54c2853aa9bdc0315bac2ec);\n",
              "        \n",
              "    \n",
              "            var icon_096b0b84a8832a00d61a6bd5a7f4ef31 = L.AwesomeMarkers.icon(\n",
              "                {&quot;extraClasses&quot;: &quot;fa-rotate-0&quot;, &quot;icon&quot;: &quot;glyphicon glyphicon-tent&quot;, &quot;iconColor&quot;: &quot;white&quot;, &quot;markerColor&quot;: &quot;green&quot;, &quot;prefix&quot;: &quot;glyphicon&quot;}\n",
              "            );\n",
              "            marker_cdcd422acc40e1e5d22f776aeaedda14.setIcon(icon_096b0b84a8832a00d61a6bd5a7f4ef31);\n",
              "        \n",
              "    \n",
              "        var popup_e868b7711af0b9f24e47533a435bd1dc = L.popup({&quot;maxWidth&quot;: &quot;100%&quot;});\n",
              "\n",
              "        \n",
              "            \n",
              "                var html_92a6ea428b7798ee58cc8bcfec4d9b71 = $(`&lt;div id=&quot;html_92a6ea428b7798ee58cc8bcfec4d9b71&quot; style=&quot;width: 100.0%; height: 100.0%;&quot;&gt;Kau Ling Chung Camp Site&lt;/div&gt;`)[0];\n",
              "                popup_e868b7711af0b9f24e47533a435bd1dc.setContent(html_92a6ea428b7798ee58cc8bcfec4d9b71);\n",
              "            \n",
              "        \n",
              "\n",
              "        marker_cdcd422acc40e1e5d22f776aeaedda14.bindPopup(popup_e868b7711af0b9f24e47533a435bd1dc)\n",
              "        ;\n",
              "\n",
              "        \n",
              "    \n",
              "    \n",
              "            var marker_1c19db399f1f20d8ff9518326ad90d9a = L.marker(\n",
              "                [22.23065, 113.86651],\n",
              "                {}\n",
              "            ).addTo(map_c14162fed54c2853aa9bdc0315bac2ec);\n",
              "        \n",
              "    \n",
              "            var icon_7c5e452971bcde87f75fa5c40d5f415c = L.AwesomeMarkers.icon(\n",
              "                {&quot;extraClasses&quot;: &quot;fa-rotate-0&quot;, &quot;icon&quot;: &quot;glyphicon glyphicon-tent&quot;, &quot;iconColor&quot;: &quot;white&quot;, &quot;markerColor&quot;: &quot;green&quot;, &quot;prefix&quot;: &quot;glyphicon&quot;}\n",
              "            );\n",
              "            marker_1c19db399f1f20d8ff9518326ad90d9a.setIcon(icon_7c5e452971bcde87f75fa5c40d5f415c);\n",
              "        \n",
              "    \n",
              "        var popup_6c35baee6abcd0a39853e2da27dad560 = L.popup({&quot;maxWidth&quot;: &quot;100%&quot;});\n",
              "\n",
              "        \n",
              "            \n",
              "                var html_531316f1cfd5105b5ef03291013f0120 = $(`&lt;div id=&quot;html_531316f1cfd5105b5ef03291013f0120&quot; style=&quot;width: 100.0%; height: 100.0%;&quot;&gt;Man Cheung Po Camp Site&lt;/div&gt;`)[0];\n",
              "                popup_6c35baee6abcd0a39853e2da27dad560.setContent(html_531316f1cfd5105b5ef03291013f0120);\n",
              "            \n",
              "        \n",
              "\n",
              "        marker_1c19db399f1f20d8ff9518326ad90d9a.bindPopup(popup_6c35baee6abcd0a39853e2da27dad560)\n",
              "        ;\n",
              "\n",
              "        \n",
              "    \n",
              "    \n",
              "            var marker_84147b64796d7793e15357f88045728f = L.marker(\n",
              "                [22.39294, 114.25116],\n",
              "                {}\n",
              "            ).addTo(map_c14162fed54c2853aa9bdc0315bac2ec);\n",
              "        \n",
              "    \n",
              "            var icon_80df6dd2105d1e7765189922f43898c7 = L.AwesomeMarkers.icon(\n",
              "                {&quot;extraClasses&quot;: &quot;fa-rotate-0&quot;, &quot;icon&quot;: &quot;glyphicon glyphicon-tent&quot;, &quot;iconColor&quot;: &quot;white&quot;, &quot;markerColor&quot;: &quot;green&quot;, &quot;prefix&quot;: &quot;glyphicon&quot;}\n",
              "            );\n",
              "            marker_84147b64796d7793e15357f88045728f.setIcon(icon_80df6dd2105d1e7765189922f43898c7);\n",
              "        \n",
              "    \n",
              "        var popup_fac3b1fcbba23138731a8a2cd61856a9 = L.popup({&quot;maxWidth&quot;: &quot;100%&quot;});\n",
              "\n",
              "        \n",
              "            \n",
              "                var html_a3e6bab182c6dd52d5c88e3d5b6e67fe = $(`&lt;div id=&quot;html_a3e6bab182c6dd52d5c88e3d5b6e67fe&quot; style=&quot;width: 100.0%; height: 100.0%;&quot;&gt;Ngong Ping Camp Site&lt;/div&gt;`)[0];\n",
              "                popup_fac3b1fcbba23138731a8a2cd61856a9.setContent(html_a3e6bab182c6dd52d5c88e3d5b6e67fe);\n",
              "            \n",
              "        \n",
              "\n",
              "        marker_84147b64796d7793e15357f88045728f.bindPopup(popup_fac3b1fcbba23138731a8a2cd61856a9)\n",
              "        ;\n",
              "\n",
              "        \n",
              "    \n",
              "    \n",
              "            var marker_9d77d08dfe4116da2002bb54c6ba3709 = L.marker(\n",
              "                [22.20866, 113.84368],\n",
              "                {}\n",
              "            ).addTo(map_c14162fed54c2853aa9bdc0315bac2ec);\n",
              "        \n",
              "    \n",
              "            var icon_cf97d0dc639864f484dc576769716621 = L.AwesomeMarkers.icon(\n",
              "                {&quot;extraClasses&quot;: &quot;fa-rotate-0&quot;, &quot;icon&quot;: &quot;glyphicon glyphicon-tent&quot;, &quot;iconColor&quot;: &quot;white&quot;, &quot;markerColor&quot;: &quot;green&quot;, &quot;prefix&quot;: &quot;glyphicon&quot;}\n",
              "            );\n",
              "            marker_9d77d08dfe4116da2002bb54c6ba3709.setIcon(icon_cf97d0dc639864f484dc576769716621);\n",
              "        \n",
              "    \n",
              "        var popup_7edcde5e219e327d56d8a32cd78b95cf = L.popup({&quot;maxWidth&quot;: &quot;100%&quot;});\n",
              "\n",
              "        \n",
              "            \n",
              "                var html_485bc615f61662b81d8a58951b836319 = $(`&lt;div id=&quot;html_485bc615f61662b81d8a58951b836319&quot; style=&quot;width: 100.0%; height: 100.0%;&quot;&gt;Tsin Yue Wan Camp Site&lt;/div&gt;`)[0];\n",
              "                popup_7edcde5e219e327d56d8a32cd78b95cf.setContent(html_485bc615f61662b81d8a58951b836319);\n",
              "            \n",
              "        \n",
              "\n",
              "        marker_9d77d08dfe4116da2002bb54c6ba3709.bindPopup(popup_7edcde5e219e327d56d8a32cd78b95cf)\n",
              "        ;\n",
              "\n",
              "        \n",
              "    \n",
              "    \n",
              "            var marker_8ccb382bb1714637ebc09dcf3a1ae98d = L.marker(\n",
              "                [22.2549, 113.91422],\n",
              "                {}\n",
              "            ).addTo(map_c14162fed54c2853aa9bdc0315bac2ec);\n",
              "        \n",
              "    \n",
              "            var icon_70a00b33d3f11255ed1020b261e0deac = L.AwesomeMarkers.icon(\n",
              "                {&quot;extraClasses&quot;: &quot;fa-rotate-0&quot;, &quot;icon&quot;: &quot;glyphicon glyphicon-tent&quot;, &quot;iconColor&quot;: &quot;white&quot;, &quot;markerColor&quot;: &quot;green&quot;, &quot;prefix&quot;: &quot;glyphicon&quot;}\n",
              "            );\n",
              "            marker_8ccb382bb1714637ebc09dcf3a1ae98d.setIcon(icon_70a00b33d3f11255ed1020b261e0deac);\n",
              "        \n",
              "    \n",
              "        var popup_7729c491b40c54c3cd0d8fa821755dfd = L.popup({&quot;maxWidth&quot;: &quot;100%&quot;});\n",
              "\n",
              "        \n",
              "            \n",
              "                var html_e9f7c54f74287fec1c8a250ae1dec227 = $(`&lt;div id=&quot;html_e9f7c54f74287fec1c8a250ae1dec227&quot; style=&quot;width: 100.0%; height: 100.0%;&quot;&gt;Ngong Ping Camp Site&lt;/div&gt;`)[0];\n",
              "                popup_7729c491b40c54c3cd0d8fa821755dfd.setContent(html_e9f7c54f74287fec1c8a250ae1dec227);\n",
              "            \n",
              "        \n",
              "\n",
              "        marker_8ccb382bb1714637ebc09dcf3a1ae98d.bindPopup(popup_7729c491b40c54c3cd0d8fa821755dfd)\n",
              "        ;\n",
              "\n",
              "        \n",
              "    \n",
              "    \n",
              "            var marker_da6abc0e320bafb26d7d57d27985552b = L.marker(\n",
              "                [22.23884, 113.85283],\n",
              "                {}\n",
              "            ).addTo(map_c14162fed54c2853aa9bdc0315bac2ec);\n",
              "        \n",
              "    \n",
              "            var icon_17022bfbe5842e9449d4c6443d39e911 = L.AwesomeMarkers.icon(\n",
              "                {&quot;extraClasses&quot;: &quot;fa-rotate-0&quot;, &quot;icon&quot;: &quot;glyphicon glyphicon-tent&quot;, &quot;iconColor&quot;: &quot;white&quot;, &quot;markerColor&quot;: &quot;green&quot;, &quot;prefix&quot;: &quot;glyphicon&quot;}\n",
              "            );\n",
              "            marker_da6abc0e320bafb26d7d57d27985552b.setIcon(icon_17022bfbe5842e9449d4c6443d39e911);\n",
              "        \n",
              "    \n",
              "        var popup_426601bdb13c1083e56bb676b700b669 = L.popup({&quot;maxWidth&quot;: &quot;100%&quot;});\n",
              "\n",
              "        \n",
              "            \n",
              "                var html_29f6a46cbeda8d7234f7434aa42bd147 = $(`&lt;div id=&quot;html_29f6a46cbeda8d7234f7434aa42bd147&quot; style=&quot;width: 100.0%; height: 100.0%;&quot;&gt;Nga Ying Kok Camp Site&lt;/div&gt;`)[0];\n",
              "                popup_426601bdb13c1083e56bb676b700b669.setContent(html_29f6a46cbeda8d7234f7434aa42bd147);\n",
              "            \n",
              "        \n",
              "\n",
              "        marker_da6abc0e320bafb26d7d57d27985552b.bindPopup(popup_426601bdb13c1083e56bb676b700b669)\n",
              "        ;\n",
              "\n",
              "        \n",
              "    \n",
              "    \n",
              "            var marker_98e41f7b7e946d0e0df11b55492990a0 = L.marker(\n",
              "                [22.42639, 114.31181],\n",
              "                {}\n",
              "            ).addTo(map_c14162fed54c2853aa9bdc0315bac2ec);\n",
              "        \n",
              "    \n",
              "            var icon_383d4c8e4644cfc9bc33b20b5ea2cbc2 = L.AwesomeMarkers.icon(\n",
              "                {&quot;extraClasses&quot;: &quot;fa-rotate-0&quot;, &quot;icon&quot;: &quot;glyphicon glyphicon-tent&quot;, &quot;iconColor&quot;: &quot;white&quot;, &quot;markerColor&quot;: &quot;green&quot;, &quot;prefix&quot;: &quot;glyphicon&quot;}\n",
              "            );\n",
              "            marker_98e41f7b7e946d0e0df11b55492990a0.setIcon(icon_383d4c8e4644cfc9bc33b20b5ea2cbc2);\n",
              "        \n",
              "    \n",
              "        var popup_495514def9ba854490efd74dbc96c470 = L.popup({&quot;maxWidth&quot;: &quot;100%&quot;});\n",
              "\n",
              "        \n",
              "            \n",
              "                var html_919d37e71b4249f3908d24397509a0af = $(`&lt;div id=&quot;html_919d37e71b4249f3908d24397509a0af&quot; style=&quot;width: 100.0%; height: 100.0%;&quot;&gt;Cheung Sheung Camp Site&lt;/div&gt;`)[0];\n",
              "                popup_495514def9ba854490efd74dbc96c470.setContent(html_919d37e71b4249f3908d24397509a0af);\n",
              "            \n",
              "        \n",
              "\n",
              "        marker_98e41f7b7e946d0e0df11b55492990a0.bindPopup(popup_495514def9ba854490efd74dbc96c470)\n",
              "        ;\n",
              "\n",
              "        \n",
              "    \n",
              "    \n",
              "            var marker_d13ba7ca3f371e69ec1510690d2200a6 = L.marker(\n",
              "                [22.40962, 114.3743],\n",
              "                {}\n",
              "            ).addTo(map_c14162fed54c2853aa9bdc0315bac2ec);\n",
              "        \n",
              "    \n",
              "            var icon_9fabf150ea01865eb7823323f4204667 = L.AwesomeMarkers.icon(\n",
              "                {&quot;extraClasses&quot;: &quot;fa-rotate-0&quot;, &quot;icon&quot;: &quot;glyphicon glyphicon-tent&quot;, &quot;iconColor&quot;: &quot;white&quot;, &quot;markerColor&quot;: &quot;green&quot;, &quot;prefix&quot;: &quot;glyphicon&quot;}\n",
              "            );\n",
              "            marker_d13ba7ca3f371e69ec1510690d2200a6.setIcon(icon_9fabf150ea01865eb7823323f4204667);\n",
              "        \n",
              "    \n",
              "        var popup_0995e1359a54a21b7c9310c5600fdb3b = L.popup({&quot;maxWidth&quot;: &quot;100%&quot;});\n",
              "\n",
              "        \n",
              "            \n",
              "                var html_a5f57438fdf163ef15f6aaee1336395e = $(`&lt;div id=&quot;html_a5f57438fdf163ef15f6aaee1336395e&quot; style=&quot;width: 100.0%; height: 100.0%;&quot;&gt;Ham Tin Wan Camp Site&lt;/div&gt;`)[0];\n",
              "                popup_0995e1359a54a21b7c9310c5600fdb3b.setContent(html_a5f57438fdf163ef15f6aaee1336395e);\n",
              "            \n",
              "        \n",
              "\n",
              "        marker_d13ba7ca3f371e69ec1510690d2200a6.bindPopup(popup_0995e1359a54a21b7c9310c5600fdb3b)\n",
              "        ;\n",
              "\n",
              "        \n",
              "    \n",
              "    \n",
              "            var marker_b034954add68702cbea0e47da543a75f = L.marker(\n",
              "                [22.22887, 113.88991],\n",
              "                {}\n",
              "            ).addTo(map_c14162fed54c2853aa9bdc0315bac2ec);\n",
              "        \n",
              "    \n",
              "            var icon_579b53e4c60d0882b835b76204fda008 = L.AwesomeMarkers.icon(\n",
              "                {&quot;extraClasses&quot;: &quot;fa-rotate-0&quot;, &quot;icon&quot;: &quot;glyphicon glyphicon-tent&quot;, &quot;iconColor&quot;: &quot;white&quot;, &quot;markerColor&quot;: &quot;green&quot;, &quot;prefix&quot;: &quot;glyphicon&quot;}\n",
              "            );\n",
              "            marker_b034954add68702cbea0e47da543a75f.setIcon(icon_579b53e4c60d0882b835b76204fda008);\n",
              "        \n",
              "    \n",
              "        var popup_f7928bfa93ea60df3a051b5581722228 = L.popup({&quot;maxWidth&quot;: &quot;100%&quot;});\n",
              "\n",
              "        \n",
              "            \n",
              "                var html_d7b18adc25173eb9975658baeb9a2943 = $(`&lt;div id=&quot;html_d7b18adc25173eb9975658baeb9a2943&quot; style=&quot;width: 100.0%; height: 100.0%;&quot;&gt;Shek Pik Camp Site&lt;/div&gt;`)[0];\n",
              "                popup_f7928bfa93ea60df3a051b5581722228.setContent(html_d7b18adc25173eb9975658baeb9a2943);\n",
              "            \n",
              "        \n",
              "\n",
              "        marker_b034954add68702cbea0e47da543a75f.bindPopup(popup_f7928bfa93ea60df3a051b5581722228)\n",
              "        ;\n",
              "\n",
              "        \n",
              "    \n",
              "    \n",
              "            var marker_e5c5ca77e4682c912122d462a6e7b136 = L.marker(\n",
              "                [22.51459, 114.23185],\n",
              "                {}\n",
              "            ).addTo(map_c14162fed54c2853aa9bdc0315bac2ec);\n",
              "        \n",
              "    \n",
              "            var icon_d1a0a21dd4ec78d8f240419761000112 = L.AwesomeMarkers.icon(\n",
              "                {&quot;extraClasses&quot;: &quot;fa-rotate-0&quot;, &quot;icon&quot;: &quot;glyphicon glyphicon-tent&quot;, &quot;iconColor&quot;: &quot;white&quot;, &quot;markerColor&quot;: &quot;green&quot;, &quot;prefix&quot;: &quot;glyphicon&quot;}\n",
              "            );\n",
              "            marker_e5c5ca77e4682c912122d462a6e7b136.setIcon(icon_d1a0a21dd4ec78d8f240419761000112);\n",
              "        \n",
              "    \n",
              "        var popup_2fd7e22362a6f3b7b31c5f8ace856111 = L.popup({&quot;maxWidth&quot;: &quot;100%&quot;});\n",
              "\n",
              "        \n",
              "            \n",
              "                var html_da2b834f562cc80ba2f935aa6167f509 = $(`&lt;div id=&quot;html_da2b834f562cc80ba2f935aa6167f509&quot; style=&quot;width: 100.0%; height: 100.0%;&quot;&gt;Kong Ha Au Campsite&lt;/div&gt;`)[0];\n",
              "                popup_2fd7e22362a6f3b7b31c5f8ace856111.setContent(html_da2b834f562cc80ba2f935aa6167f509);\n",
              "            \n",
              "        \n",
              "\n",
              "        marker_e5c5ca77e4682c912122d462a6e7b136.bindPopup(popup_2fd7e22362a6f3b7b31c5f8ace856111)\n",
              "        ;\n",
              "\n",
              "        \n",
              "    \n",
              "    \n",
              "            var layer_control_dfff3aa082acac14c593a44cfbd34505 = {\n",
              "                base_layers : {\n",
              "                    &quot;cartodbpositron&quot; : tile_layer_65d198ccacc5b13557fa73d60d4ce834,\n",
              "                },\n",
              "                overlays :  {\n",
              "                },\n",
              "            };\n",
              "            L.control.layers(\n",
              "                layer_control_dfff3aa082acac14c593a44cfbd34505.base_layers,\n",
              "                layer_control_dfff3aa082acac14c593a44cfbd34505.overlays,\n",
              "                {&quot;autoZIndex&quot;: true, &quot;collapsed&quot;: true, &quot;position&quot;: &quot;topright&quot;}\n",
              "            ).addTo(map_c14162fed54c2853aa9bdc0315bac2ec);\n",
              "        \n",
              "&lt;/script&gt;\n",
              "&lt;/html&gt;\" style=\"position:absolute;width:100%;height:100%;left:0;top:0;border:none !important;\" allowfullscreen webkitallowfullscreen mozallowfullscreen></iframe></div></div>"
            ],
            "text/plain": [
              "<folium.folium.Map at 0x7ffb75f9d4b0>"
            ]
          },
          "execution_count": 11,
          "metadata": {},
          "output_type": "execute_result"
        }
      ],
      "source": [
        "df = pd.read_csv('HK_Campsite_cleaned.csv')\n",
        "center = [22.3569, 114.1153]\n",
        "m = folium.Map(location=center, zoom_start=10,width='70%', height='70%', tiles='CartoDB positron')\n",
        "\n",
        "#Add the coordinates of each camping site to the map\n",
        "for index, row in df.iterrows():\n",
        "    folium.Marker([row['Latitude'], row['Longitude']],\n",
        "                  popup=row['Name_of_Building/Facility'],\n",
        "                  icon=folium.Icon(color='green', icon='glyphicon glyphicon-tent')).add_to(m)\n",
        "\n",
        "#Add a layer controller\n",
        "folium.LayerControl().add_to(m)\n",
        "m"
      ]
    },
    {
      "attachments": {},
      "cell_type": "markdown",
      "metadata": {
        "id": "ZuNCgjFx6-ci"
      },
      "source": [
        "In this step, we set up a layer controller to hide the complex and unrelated content of the displayed map and make the camp location more clearly displayed on the interface. But there was no interactive information and the ability to display additional information and count the number of camps, so we decided to optimize on this basis."
      ]
    },
    {
      "cell_type": "code",
      "execution_count": 12,
      "metadata": {
        "colab": {
          "base_uri": "https://localhost:8080/",
          "height": 851
        },
        "id": "LGMec15-1GUV",
        "outputId": "50cdcfb9-483a-40c9-f696-85af27cadd51"
      },
      "outputs": [
        {
          "data": {
            "text/html": [
              "<div style=\"width:100%;\"><div style=\"position:relative;width:100%;height:0;padding-bottom:60%;\"><span style=\"color:#565656\">Make this Notebook Trusted to load map: File -> Trust Notebook</span><iframe srcdoc=\"&lt;!DOCTYPE html&gt;\n",
              "&lt;html&gt;\n",
              "&lt;head&gt;\n",
              "    \n",
              "    &lt;meta http-equiv=&quot;content-type&quot; content=&quot;text/html; charset=UTF-8&quot; /&gt;\n",
              "    \n",
              "        &lt;script&gt;\n",
              "            L_NO_TOUCH = false;\n",
              "            L_DISABLE_3D = false;\n",
              "        &lt;/script&gt;\n",
              "    \n",
              "    &lt;style&gt;html, body {width: 100%;height: 100%;margin: 0;padding: 0;}&lt;/style&gt;\n",
              "    &lt;style&gt;#map {position:absolute;top:0;bottom:0;right:0;left:0;}&lt;/style&gt;\n",
              "    &lt;script src=&quot;https://cdn.jsdelivr.net/npm/leaflet@1.9.3/dist/leaflet.js&quot;&gt;&lt;/script&gt;\n",
              "    &lt;script src=&quot;https://code.jquery.com/jquery-1.12.4.min.js&quot;&gt;&lt;/script&gt;\n",
              "    &lt;script src=&quot;https://cdn.jsdelivr.net/npm/bootstrap@5.2.2/dist/js/bootstrap.bundle.min.js&quot;&gt;&lt;/script&gt;\n",
              "    &lt;script src=&quot;https://cdnjs.cloudflare.com/ajax/libs/Leaflet.awesome-markers/2.0.2/leaflet.awesome-markers.js&quot;&gt;&lt;/script&gt;\n",
              "    &lt;link rel=&quot;stylesheet&quot; href=&quot;https://cdn.jsdelivr.net/npm/leaflet@1.9.3/dist/leaflet.css&quot;/&gt;\n",
              "    &lt;link rel=&quot;stylesheet&quot; href=&quot;https://cdn.jsdelivr.net/npm/bootstrap@5.2.2/dist/css/bootstrap.min.css&quot;/&gt;\n",
              "    &lt;link rel=&quot;stylesheet&quot; href=&quot;https://netdna.bootstrapcdn.com/bootstrap/3.0.0/css/bootstrap.min.css&quot;/&gt;\n",
              "    &lt;link rel=&quot;stylesheet&quot; href=&quot;https://cdn.jsdelivr.net/npm/@fortawesome/fontawesome-free@6.2.0/css/all.min.css&quot;/&gt;\n",
              "    &lt;link rel=&quot;stylesheet&quot; href=&quot;https://cdnjs.cloudflare.com/ajax/libs/Leaflet.awesome-markers/2.0.2/leaflet.awesome-markers.css&quot;/&gt;\n",
              "    &lt;link rel=&quot;stylesheet&quot; href=&quot;https://cdn.jsdelivr.net/gh/python-visualization/folium/folium/templates/leaflet.awesome.rotate.min.css&quot;/&gt;\n",
              "    \n",
              "            &lt;meta name=&quot;viewport&quot; content=&quot;width=device-width,\n",
              "                initial-scale=1.0, maximum-scale=1.0, user-scalable=no&quot; /&gt;\n",
              "            &lt;style&gt;\n",
              "                #map_03ccbe3826d722e79c7b8af03b0b0f18 {\n",
              "                    position: relative;\n",
              "                    width: 70.0%;\n",
              "                    height: 70.0%;\n",
              "                    left: 0.0%;\n",
              "                    top: 0.0%;\n",
              "                }\n",
              "                .leaflet-container { font-size: 1rem; }\n",
              "            &lt;/style&gt;\n",
              "        \n",
              "    &lt;script src=&quot;https://cdnjs.cloudflare.com/ajax/libs/leaflet.markercluster/1.1.0/leaflet.markercluster.js&quot;&gt;&lt;/script&gt;\n",
              "    &lt;link rel=&quot;stylesheet&quot; href=&quot;https://cdnjs.cloudflare.com/ajax/libs/leaflet.markercluster/1.1.0/MarkerCluster.css&quot;/&gt;\n",
              "    &lt;link rel=&quot;stylesheet&quot; href=&quot;https://cdnjs.cloudflare.com/ajax/libs/leaflet.markercluster/1.1.0/MarkerCluster.Default.css&quot;/&gt;\n",
              "&lt;/head&gt;\n",
              "&lt;body&gt;\n",
              "    \n",
              "    \n",
              "            &lt;div class=&quot;folium-map&quot; id=&quot;map_03ccbe3826d722e79c7b8af03b0b0f18&quot; &gt;&lt;/div&gt;\n",
              "        \n",
              "&lt;/body&gt;\n",
              "&lt;script&gt;\n",
              "    \n",
              "    \n",
              "            var map_03ccbe3826d722e79c7b8af03b0b0f18 = L.map(\n",
              "                &quot;map_03ccbe3826d722e79c7b8af03b0b0f18&quot;,\n",
              "                {\n",
              "                    center: [22.3569, 114.1153],\n",
              "                    crs: L.CRS.EPSG3857,\n",
              "                    zoom: 10,\n",
              "                    zoomControl: true,\n",
              "                    preferCanvas: false,\n",
              "                }\n",
              "            );\n",
              "\n",
              "            \n",
              "\n",
              "        \n",
              "    \n",
              "            var tile_layer_ed647245670313850f34b28e129281fc = L.tileLayer(\n",
              "                &quot;https://cartodb-basemaps-{s}.global.ssl.fastly.net/light_all/{z}/{x}/{y}.png&quot;,\n",
              "                {&quot;attribution&quot;: &quot;\\u0026copy; \\u003ca target=\\&quot;_blank\\&quot; href=\\&quot;http://www.openstreetmap.org/copyright\\&quot;\\u003eOpenStreetMap\\u003c/a\\u003e contributors \\u0026copy; \\u003ca target=\\&quot;_blank\\&quot; href=\\&quot;http://cartodb.com/attributions\\&quot;\\u003eCartoDB\\u003c/a\\u003e, CartoDB \\u003ca target=\\&quot;_blank\\&quot; href =\\&quot;http://cartodb.com/attributions\\&quot;\\u003eattributions\\u003c/a\\u003e&quot;, &quot;detectRetina&quot;: false, &quot;maxNativeZoom&quot;: 18, &quot;maxZoom&quot;: 18, &quot;minZoom&quot;: 0, &quot;noWrap&quot;: false, &quot;opacity&quot;: 1, &quot;subdomains&quot;: &quot;abc&quot;, &quot;tms&quot;: false}\n",
              "            ).addTo(map_03ccbe3826d722e79c7b8af03b0b0f18);\n",
              "        \n",
              "    \n",
              "            var marker_cluster_3fbd72b1f7e893ac495cea0d579b4792 = L.markerClusterGroup(\n",
              "                {}\n",
              "            );\n",
              "            map_03ccbe3826d722e79c7b8af03b0b0f18.addLayer(marker_cluster_3fbd72b1f7e893ac495cea0d579b4792);\n",
              "        \n",
              "    \n",
              "            var marker_0e6126f4ddd935f421cf8416fac335b0 = L.marker(\n",
              "                [22.49139, 114.16708],\n",
              "                {}\n",
              "            ).addTo(marker_cluster_3fbd72b1f7e893ac495cea0d579b4792);\n",
              "        \n",
              "    \n",
              "        var popup_d466cc3de712d30cb7b30d5867bb3c7a = L.popup({&quot;maxWidth&quot;: &quot;100%&quot;});\n",
              "\n",
              "        \n",
              "            \n",
              "                var html_c5926fbd0d310599970c935805648566 = $(`&lt;div id=&quot;html_c5926fbd0d310599970c935805648566&quot; style=&quot;width: 100.0%; height: 100.0%;&quot;&gt;&lt;b&gt;CountryPark:&lt;/b&gt; PAT SIN LENG COUNTRY PARK,&lt;br&gt; &lt;b&gt;Name:&lt;/b&gt; Lau Shui Heung Camp Site,&lt;br&gt; &lt;a href=&quot;http://www.afcd.gov.hk/english/country/cou_vis/cou_vis_cam/cou_vis_cam_cam/cou_vis_cam_01_LauShuiHeung.html&quot; target=&quot;_blank&quot;&gt;Website&lt;/a&gt;&lt;/div&gt;`)[0];\n",
              "                popup_d466cc3de712d30cb7b30d5867bb3c7a.setContent(html_c5926fbd0d310599970c935805648566);\n",
              "            \n",
              "        \n",
              "\n",
              "        marker_0e6126f4ddd935f421cf8416fac335b0.bindPopup(popup_d466cc3de712d30cb7b30d5867bb3c7a)\n",
              "        ;\n",
              "\n",
              "        \n",
              "    \n",
              "    \n",
              "            marker_0e6126f4ddd935f421cf8416fac335b0.bindTooltip(\n",
              "                `&lt;div&gt;\n",
              "                     PAT SIN LENG COUNTRY PARK\n",
              "                 &lt;/div&gt;`,\n",
              "                {&quot;sticky&quot;: true}\n",
              "            );\n",
              "        \n",
              "    \n",
              "            var marker_2a7f1b9184a75aa3d1c2b07c95912f10 = L.marker(\n",
              "                [22.25548, 114.29593],\n",
              "                {}\n",
              "            ).addTo(marker_cluster_3fbd72b1f7e893ac495cea0d579b4792);\n",
              "        \n",
              "    \n",
              "        var popup_025b1d369aee865424c2f82067653527 = L.popup({&quot;maxWidth&quot;: &quot;100%&quot;});\n",
              "\n",
              "        \n",
              "            \n",
              "                var html_a594403a9e1441f018d9d7fc3ab5f05c = $(`&lt;div id=&quot;html_a594403a9e1441f018d9d7fc3ab5f05c&quot; style=&quot;width: 100.0%; height: 100.0%;&quot;&gt;&lt;b&gt;CountryPark:&lt;/b&gt; TUNG LUNG FORT SPECIAL AREA,&lt;br&gt; &lt;b&gt;Name:&lt;/b&gt; Tung Lung Chau Camp Site,&lt;br&gt; &lt;a href=&quot;http://www.afcd.gov.hk/english/country/cou_vis/cou_vis_cam/cou_vis_cam_cam/cou_vis_cam_21_TungLungChau.html&quot; target=&quot;_blank&quot;&gt;Website&lt;/a&gt;&lt;/div&gt;`)[0];\n",
              "                popup_025b1d369aee865424c2f82067653527.setContent(html_a594403a9e1441f018d9d7fc3ab5f05c);\n",
              "            \n",
              "        \n",
              "\n",
              "        marker_2a7f1b9184a75aa3d1c2b07c95912f10.bindPopup(popup_025b1d369aee865424c2f82067653527)\n",
              "        ;\n",
              "\n",
              "        \n",
              "    \n",
              "    \n",
              "            marker_2a7f1b9184a75aa3d1c2b07c95912f10.bindTooltip(\n",
              "                `&lt;div&gt;\n",
              "                     TUNG LUNG FORT SPECIAL AREA\n",
              "                 &lt;/div&gt;`,\n",
              "                {&quot;sticky&quot;: true}\n",
              "            );\n",
              "        \n",
              "    \n",
              "            var marker_23014d8cec2095538b2d03e956cc442c = L.marker(\n",
              "                [22.38553, 114.30775],\n",
              "                {}\n",
              "            ).addTo(marker_cluster_3fbd72b1f7e893ac495cea0d579b4792);\n",
              "        \n",
              "    \n",
              "        var popup_cb3d0ce6bf1b3c231f8ab91fe5279469 = L.popup({&quot;maxWidth&quot;: &quot;100%&quot;});\n",
              "\n",
              "        \n",
              "            \n",
              "                var html_a249d22cc92520c589f16a36b13fac23 = $(`&lt;div id=&quot;html_a249d22cc92520c589f16a36b13fac23&quot; style=&quot;width: 100.0%; height: 100.0%;&quot;&gt;&lt;b&gt;CountryPark:&lt;/b&gt; SAI KUNG EAST COUNTRY PARK,&lt;br&gt; &lt;b&gt;Name:&lt;/b&gt; Tai Mong Tsai Campsite,&lt;br&gt; &lt;a href=&quot;http://www.afcd.gov.hk/english/country/cou_vis/cou_vis_cam/cou_vis_cam_cam/cou_vis_cam_41_TaiMongTsai1.html&quot; target=&quot;_blank&quot;&gt;Website&lt;/a&gt;&lt;/div&gt;`)[0];\n",
              "                popup_cb3d0ce6bf1b3c231f8ab91fe5279469.setContent(html_a249d22cc92520c589f16a36b13fac23);\n",
              "            \n",
              "        \n",
              "\n",
              "        marker_23014d8cec2095538b2d03e956cc442c.bindPopup(popup_cb3d0ce6bf1b3c231f8ab91fe5279469)\n",
              "        ;\n",
              "\n",
              "        \n",
              "    \n",
              "    \n",
              "            marker_23014d8cec2095538b2d03e956cc442c.bindTooltip(\n",
              "                `&lt;div&gt;\n",
              "                     SAI KUNG EAST COUNTRY PARK\n",
              "                 &lt;/div&gt;`,\n",
              "                {&quot;sticky&quot;: true}\n",
              "            );\n",
              "        \n",
              "    \n",
              "            var marker_8e74331293957919190d75b53ce5748e = L.marker(\n",
              "                [22.48748, 114.24293],\n",
              "                {}\n",
              "            ).addTo(marker_cluster_3fbd72b1f7e893ac495cea0d579b4792);\n",
              "        \n",
              "    \n",
              "        var popup_ba5521a438ca69359b39ddbf18d3fb4a = L.popup({&quot;maxWidth&quot;: &quot;100%&quot;});\n",
              "\n",
              "        \n",
              "            \n",
              "                var html_e83a92278247a54ed4faaf7a5500c1b4 = $(`&lt;div id=&quot;html_e83a92278247a54ed4faaf7a5500c1b4&quot; style=&quot;width: 100.0%; height: 100.0%;&quot;&gt;&lt;b&gt;CountryPark:&lt;/b&gt; PAT SIN LENG COUNTRY PARK,&lt;br&gt; &lt;b&gt;Name:&lt;/b&gt; Chung Pui Camp Site,&lt;br&gt; &lt;a href=&quot;http://www.afcd.gov.hk/english/country/cou_vis/cou_vis_cam/cou_vis_cam_cam/cou_vis_cam_03_ChungPui.html&quot; target=&quot;_blank&quot;&gt;Website&lt;/a&gt;&lt;/div&gt;`)[0];\n",
              "                popup_ba5521a438ca69359b39ddbf18d3fb4a.setContent(html_e83a92278247a54ed4faaf7a5500c1b4);\n",
              "            \n",
              "        \n",
              "\n",
              "        marker_8e74331293957919190d75b53ce5748e.bindPopup(popup_ba5521a438ca69359b39ddbf18d3fb4a)\n",
              "        ;\n",
              "\n",
              "        \n",
              "    \n",
              "    \n",
              "            marker_8e74331293957919190d75b53ce5748e.bindTooltip(\n",
              "                `&lt;div&gt;\n",
              "                     PAT SIN LENG COUNTRY PARK\n",
              "                 &lt;/div&gt;`,\n",
              "                {&quot;sticky&quot;: true}\n",
              "            );\n",
              "        \n",
              "    \n",
              "            var marker_1a3ef8fb5a4eb812828d123d93131b1b = L.marker(\n",
              "                [22.49841, 114.17778],\n",
              "                {}\n",
              "            ).addTo(marker_cluster_3fbd72b1f7e893ac495cea0d579b4792);\n",
              "        \n",
              "    \n",
              "        var popup_982cd397616f62a1bdb13397411a7a87 = L.popup({&quot;maxWidth&quot;: &quot;100%&quot;});\n",
              "\n",
              "        \n",
              "            \n",
              "                var html_74043950371d7441db7acf0ce5702a86 = $(`&lt;div id=&quot;html_74043950371d7441db7acf0ce5702a86&quot; style=&quot;width: 100.0%; height: 100.0%;&quot;&gt;&lt;b&gt;CountryPark:&lt;/b&gt; PAT SIN LENG COUNTRY PARK,&lt;br&gt; &lt;b&gt;Name:&lt;/b&gt; Hok Tau Camp Site,&lt;br&gt; &lt;a href=&quot;http://www.afcd.gov.hk/english/country/cou_vis/cou_vis_cam/cou_vis_cam_cam/cou_vis_cam_02_HokTau.html&quot; target=&quot;_blank&quot;&gt;Website&lt;/a&gt;&lt;/div&gt;`)[0];\n",
              "                popup_982cd397616f62a1bdb13397411a7a87.setContent(html_74043950371d7441db7acf0ce5702a86);\n",
              "            \n",
              "        \n",
              "\n",
              "        marker_1a3ef8fb5a4eb812828d123d93131b1b.bindPopup(popup_982cd397616f62a1bdb13397411a7a87)\n",
              "        ;\n",
              "\n",
              "        \n",
              "    \n",
              "    \n",
              "            marker_1a3ef8fb5a4eb812828d123d93131b1b.bindTooltip(\n",
              "                `&lt;div&gt;\n",
              "                     PAT SIN LENG COUNTRY PARK\n",
              "                 &lt;/div&gt;`,\n",
              "                {&quot;sticky&quot;: true}\n",
              "            );\n",
              "        \n",
              "    \n",
              "            var marker_6d66848ada281d9033c9ac6064f64e30 = L.marker(\n",
              "                [22.50664, 114.2702],\n",
              "                {}\n",
              "            ).addTo(marker_cluster_3fbd72b1f7e893ac495cea0d579b4792);\n",
              "        \n",
              "    \n",
              "        var popup_2285bfe6005bb3a36ada955af1657bde = L.popup({&quot;maxWidth&quot;: &quot;100%&quot;});\n",
              "\n",
              "        \n",
              "            \n",
              "                var html_49f1071b3d540dc901ef92274088b54e = $(`&lt;div id=&quot;html_49f1071b3d540dc901ef92274088b54e&quot; style=&quot;width: 100.0%; height: 100.0%;&quot;&gt;&lt;b&gt;CountryPark:&lt;/b&gt; PLOVER COVE COUNTRY PARK,&lt;br&gt; &lt;b&gt;Name:&lt;/b&gt; Sam A Chung Camp Site,&lt;br&gt; &lt;a href=&quot;http://www.afcd.gov.hk/english/country/cou_vis/cou_vis_cam/cou_vis_cam_cam/cou_vis_cam_04_SamAChung.html&quot; target=&quot;_blank&quot;&gt;Website&lt;/a&gt;&lt;/div&gt;`)[0];\n",
              "                popup_2285bfe6005bb3a36ada955af1657bde.setContent(html_49f1071b3d540dc901ef92274088b54e);\n",
              "            \n",
              "        \n",
              "\n",
              "        marker_6d66848ada281d9033c9ac6064f64e30.bindPopup(popup_2285bfe6005bb3a36ada955af1657bde)\n",
              "        ;\n",
              "\n",
              "        \n",
              "    \n",
              "    \n",
              "            marker_6d66848ada281d9033c9ac6064f64e30.bindTooltip(\n",
              "                `&lt;div&gt;\n",
              "                     PLOVER COVE COUNTRY PARK\n",
              "                 &lt;/div&gt;`,\n",
              "                {&quot;sticky&quot;: true}\n",
              "            );\n",
              "        \n",
              "    \n",
              "            var marker_9c977d498a26f5c2c07fef1a9857ec70 = L.marker(\n",
              "                [22.46162, 114.34213],\n",
              "                {}\n",
              "            ).addTo(marker_cluster_3fbd72b1f7e893ac495cea0d579b4792);\n",
              "        \n",
              "    \n",
              "        var popup_0dc23844ce73ea173e6feac677e84854 = L.popup({&quot;maxWidth&quot;: &quot;100%&quot;});\n",
              "\n",
              "        \n",
              "            \n",
              "                var html_ca8841226b46f63cd7f3e7aa8675bc0b = $(`&lt;div id=&quot;html_ca8841226b46f63cd7f3e7aa8675bc0b&quot; style=&quot;width: 100.0%; height: 100.0%;&quot;&gt;&lt;b&gt;CountryPark:&lt;/b&gt; SAI KUNG WEST COUNTRY PARK (WAN TSAI EXTENSION),&lt;br&gt; &lt;b&gt;Name:&lt;/b&gt; Wan Tsai South Camp Site,&lt;br&gt; &lt;a href=&quot;http://www.afcd.gov.hk/english/country/cou_vis/cou_vis_cam/cou_vis_cam_cam/cou_vis_cam_06_WanTsaiS.html&quot; target=&quot;_blank&quot;&gt;Website&lt;/a&gt;&lt;/div&gt;`)[0];\n",
              "                popup_0dc23844ce73ea173e6feac677e84854.setContent(html_ca8841226b46f63cd7f3e7aa8675bc0b);\n",
              "            \n",
              "        \n",
              "\n",
              "        marker_9c977d498a26f5c2c07fef1a9857ec70.bindPopup(popup_0dc23844ce73ea173e6feac677e84854)\n",
              "        ;\n",
              "\n",
              "        \n",
              "    \n",
              "    \n",
              "            marker_9c977d498a26f5c2c07fef1a9857ec70.bindTooltip(\n",
              "                `&lt;div&gt;\n",
              "                     SAI KUNG WEST COUNTRY PARK (WAN TSAI EXTENSION)\n",
              "                 &lt;/div&gt;`,\n",
              "                {&quot;sticky&quot;: true}\n",
              "            );\n",
              "        \n",
              "    \n",
              "            var marker_25e634bd683dd967963612890162342c = L.marker(\n",
              "                [22.43446, 114.33623],\n",
              "                {}\n",
              "            ).addTo(marker_cluster_3fbd72b1f7e893ac495cea0d579b4792);\n",
              "        \n",
              "    \n",
              "        var popup_a150093e3566c7c9973266eaa97934c6 = L.popup({&quot;maxWidth&quot;: &quot;100%&quot;});\n",
              "\n",
              "        \n",
              "            \n",
              "                var html_8f141225dc7037a24c3e30e75db62b0e = $(`&lt;div id=&quot;html_8f141225dc7037a24c3e30e75db62b0e&quot; style=&quot;width: 100.0%; height: 100.0%;&quot;&gt;&lt;b&gt;CountryPark:&lt;/b&gt; SAI KUNG EAST COUNTRY PARK,&lt;br&gt; &lt;b&gt;Name:&lt;/b&gt; Wong Shek Camp Site,&lt;br&gt; &lt;a href=&quot;http://www.afcd.gov.hk/english/country/cou_vis/cou_vis_cam/cou_vis_cam_cam/cou_vis_cam_11_WongShek.html&quot; target=&quot;_blank&quot;&gt;Website&lt;/a&gt;&lt;/div&gt;`)[0];\n",
              "                popup_a150093e3566c7c9973266eaa97934c6.setContent(html_8f141225dc7037a24c3e30e75db62b0e);\n",
              "            \n",
              "        \n",
              "\n",
              "        marker_25e634bd683dd967963612890162342c.bindPopup(popup_a150093e3566c7c9973266eaa97934c6)\n",
              "        ;\n",
              "\n",
              "        \n",
              "    \n",
              "    \n",
              "            marker_25e634bd683dd967963612890162342c.bindTooltip(\n",
              "                `&lt;div&gt;\n",
              "                     SAI KUNG EAST COUNTRY PARK\n",
              "                 &lt;/div&gt;`,\n",
              "                {&quot;sticky&quot;: true}\n",
              "            );\n",
              "        \n",
              "    \n",
              "            var marker_9a4de392930f8f761088a4b4f5a13d4f = L.marker(\n",
              "                [22.42293, 114.33584],\n",
              "                {}\n",
              "            ).addTo(marker_cluster_3fbd72b1f7e893ac495cea0d579b4792);\n",
              "        \n",
              "    \n",
              "        var popup_a03379c50d04a293d9ba705cb15cbcf6 = L.popup({&quot;maxWidth&quot;: &quot;100%&quot;});\n",
              "\n",
              "        \n",
              "            \n",
              "                var html_0928ae01eb9411bc1dae5499199b012a = $(`&lt;div id=&quot;html_0928ae01eb9411bc1dae5499199b012a&quot; style=&quot;width: 100.0%; height: 100.0%;&quot;&gt;&lt;b&gt;CountryPark:&lt;/b&gt; SAI KUNG EAST COUNTRY PARK,&lt;br&gt; &lt;b&gt;Name:&lt;/b&gt; Pak Tam Au Camp Site,&lt;br&gt; &lt;a href=&quot;http://www.afcd.gov.hk/english/country/cou_vis/cou_vis_cam/cou_vis_cam_cam/cou_vis_cam_12_PakTamAu.html&quot; target=&quot;_blank&quot;&gt;Website&lt;/a&gt;&lt;/div&gt;`)[0];\n",
              "                popup_a03379c50d04a293d9ba705cb15cbcf6.setContent(html_0928ae01eb9411bc1dae5499199b012a);\n",
              "            \n",
              "        \n",
              "\n",
              "        marker_9a4de392930f8f761088a4b4f5a13d4f.bindPopup(popup_a03379c50d04a293d9ba705cb15cbcf6)\n",
              "        ;\n",
              "\n",
              "        \n",
              "    \n",
              "    \n",
              "            marker_9a4de392930f8f761088a4b4f5a13d4f.bindTooltip(\n",
              "                `&lt;div&gt;\n",
              "                     SAI KUNG EAST COUNTRY PARK\n",
              "                 &lt;/div&gt;`,\n",
              "                {&quot;sticky&quot;: true}\n",
              "            );\n",
              "        \n",
              "    \n",
              "            var marker_0cb80a90ad33cb5912007ea335c5d67f = L.marker(\n",
              "                [22.402, 114.37152],\n",
              "                {}\n",
              "            ).addTo(marker_cluster_3fbd72b1f7e893ac495cea0d579b4792);\n",
              "        \n",
              "    \n",
              "        var popup_0acbb96570f704279179d78c5aec3905 = L.popup({&quot;maxWidth&quot;: &quot;100%&quot;});\n",
              "\n",
              "        \n",
              "            \n",
              "                var html_03e303c5a2082d48bdc3ba2685010f14 = $(`&lt;div id=&quot;html_03e303c5a2082d48bdc3ba2685010f14&quot; style=&quot;width: 100.0%; height: 100.0%;&quot;&gt;&lt;b&gt;CountryPark:&lt;/b&gt; SAI KUNG EAST COUNTRY PARK,&lt;br&gt; &lt;b&gt;Name:&lt;/b&gt; Sai Wan Camp Site,&lt;br&gt; &lt;a href=&quot;http://www.afcd.gov.hk/english/country/cou_vis/cou_vis_cam/cou_vis_cam_cam/cou_vis_cam_13_SaiWan.html&quot; target=&quot;_blank&quot;&gt;Website&lt;/a&gt;&lt;/div&gt;`)[0];\n",
              "                popup_0acbb96570f704279179d78c5aec3905.setContent(html_03e303c5a2082d48bdc3ba2685010f14);\n",
              "            \n",
              "        \n",
              "\n",
              "        marker_0cb80a90ad33cb5912007ea335c5d67f.bindPopup(popup_0acbb96570f704279179d78c5aec3905)\n",
              "        ;\n",
              "\n",
              "        \n",
              "    \n",
              "    \n",
              "            marker_0cb80a90ad33cb5912007ea335c5d67f.bindTooltip(\n",
              "                `&lt;div&gt;\n",
              "                     SAI KUNG EAST COUNTRY PARK\n",
              "                 &lt;/div&gt;`,\n",
              "                {&quot;sticky&quot;: true}\n",
              "            );\n",
              "        \n",
              "    \n",
              "            var marker_83d17fa482969a7aa432b1468e1852f7 = L.marker(\n",
              "                [22.3733, 114.3752],\n",
              "                {}\n",
              "            ).addTo(marker_cluster_3fbd72b1f7e893ac495cea0d579b4792);\n",
              "        \n",
              "    \n",
              "        var popup_0c4af691b0f7f6e169201885829ddbe6 = L.popup({&quot;maxWidth&quot;: &quot;100%&quot;});\n",
              "\n",
              "        \n",
              "            \n",
              "                var html_ef2fd5f83192686532388bd0e60e30c5 = $(`&lt;div id=&quot;html_ef2fd5f83192686532388bd0e60e30c5&quot; style=&quot;width: 100.0%; height: 100.0%;&quot;&gt;&lt;b&gt;CountryPark:&lt;/b&gt; SAI KUNG EAST COUNTRY PARK,&lt;br&gt; &lt;b&gt;Name:&lt;/b&gt; Long Ke Wan Camp Site,&lt;br&gt; &lt;a href=&quot;http://www.afcd.gov.hk/english/country/cou_vis/cou_vis_cam/cou_vis_cam_cam/cou_vis_cam_14_LongKeWan.html&quot; target=&quot;_blank&quot;&gt;Website&lt;/a&gt;&lt;/div&gt;`)[0];\n",
              "                popup_0c4af691b0f7f6e169201885829ddbe6.setContent(html_ef2fd5f83192686532388bd0e60e30c5);\n",
              "            \n",
              "        \n",
              "\n",
              "        marker_83d17fa482969a7aa432b1468e1852f7.bindPopup(popup_0c4af691b0f7f6e169201885829ddbe6)\n",
              "        ;\n",
              "\n",
              "        \n",
              "    \n",
              "    \n",
              "            marker_83d17fa482969a7aa432b1468e1852f7.bindTooltip(\n",
              "                `&lt;div&gt;\n",
              "                     SAI KUNG EAST COUNTRY PARK\n",
              "                 &lt;/div&gt;`,\n",
              "                {&quot;sticky&quot;: true}\n",
              "            );\n",
              "        \n",
              "    \n",
              "            var marker_366ac4d8203f1fad4d9b79c2fb3f8c46 = L.marker(\n",
              "                [22.44103, 114.32673],\n",
              "                {}\n",
              "            ).addTo(marker_cluster_3fbd72b1f7e893ac495cea0d579b4792);\n",
              "        \n",
              "    \n",
              "        var popup_6f94400a5319c5ed39bc55869739f881 = L.popup({&quot;maxWidth&quot;: &quot;100%&quot;});\n",
              "\n",
              "        \n",
              "            \n",
              "                var html_aea9514ef87e4480df545c0d1c8d45c8 = $(`&lt;div id=&quot;html_aea9514ef87e4480df545c0d1c8d45c8&quot; style=&quot;width: 100.0%; height: 100.0%;&quot;&gt;&lt;b&gt;CountryPark:&lt;/b&gt; SAI KUNG WEST COUNTRY PARK,&lt;br&gt; &lt;b&gt;Name:&lt;/b&gt; Hau Tong Kai Camp Site,&lt;br&gt; &lt;a href=&quot;http://www.afcd.gov.hk/english/country/cou_vis/cou_vis_cam/cou_vis_cam_cam/cou_vis_cam_09_HauTongKai.html&quot; target=&quot;_blank&quot;&gt;Website&lt;/a&gt;&lt;/div&gt;`)[0];\n",
              "                popup_6f94400a5319c5ed39bc55869739f881.setContent(html_aea9514ef87e4480df545c0d1c8d45c8);\n",
              "            \n",
              "        \n",
              "\n",
              "        marker_366ac4d8203f1fad4d9b79c2fb3f8c46.bindPopup(popup_6f94400a5319c5ed39bc55869739f881)\n",
              "        ;\n",
              "\n",
              "        \n",
              "    \n",
              "    \n",
              "            marker_366ac4d8203f1fad4d9b79c2fb3f8c46.bindTooltip(\n",
              "                `&lt;div&gt;\n",
              "                     SAI KUNG WEST COUNTRY PARK\n",
              "                 &lt;/div&gt;`,\n",
              "                {&quot;sticky&quot;: true}\n",
              "            );\n",
              "        \n",
              "    \n",
              "            var marker_77d8aee8e5a855ec528f7d88152cbc25 = L.marker(\n",
              "                [22.37811, 114.33194],\n",
              "                {}\n",
              "            ).addTo(marker_cluster_3fbd72b1f7e893ac495cea0d579b4792);\n",
              "        \n",
              "    \n",
              "        var popup_71714cf281ee1139086645900ee1ab70 = L.popup({&quot;maxWidth&quot;: &quot;100%&quot;});\n",
              "\n",
              "        \n",
              "            \n",
              "                var html_b9cf791e81f3d800e5b7338d382815c7 = $(`&lt;div id=&quot;html_b9cf791e81f3d800e5b7338d382815c7&quot; style=&quot;width: 100.0%; height: 100.0%;&quot;&gt;&lt;b&gt;CountryPark:&lt;/b&gt; SAI KUNG EAST COUNTRY PARK,&lt;br&gt; &lt;b&gt;Name:&lt;/b&gt; Yuen Ng Fan Camp Site,&lt;br&gt; &lt;a href=&quot;http://www.afcd.gov.hk/english/country/cou_vis/cou_vis_cam/cou_vis_cam_cam/cou_vis_cam_16_YuenNgFan.html&quot; target=&quot;_blank&quot;&gt;Website&lt;/a&gt;&lt;/div&gt;`)[0];\n",
              "                popup_71714cf281ee1139086645900ee1ab70.setContent(html_b9cf791e81f3d800e5b7338d382815c7);\n",
              "            \n",
              "        \n",
              "\n",
              "        marker_77d8aee8e5a855ec528f7d88152cbc25.bindPopup(popup_71714cf281ee1139086645900ee1ab70)\n",
              "        ;\n",
              "\n",
              "        \n",
              "    \n",
              "    \n",
              "            marker_77d8aee8e5a855ec528f7d88152cbc25.bindTooltip(\n",
              "                `&lt;div&gt;\n",
              "                     SAI KUNG EAST COUNTRY PARK\n",
              "                 &lt;/div&gt;`,\n",
              "                {&quot;sticky&quot;: true}\n",
              "            );\n",
              "        \n",
              "    \n",
              "            var marker_d079d007176baa01cc077673066acab6 = L.marker(\n",
              "                [22.35924, 114.36504],\n",
              "                {}\n",
              "            ).addTo(marker_cluster_3fbd72b1f7e893ac495cea0d579b4792);\n",
              "        \n",
              "    \n",
              "        var popup_6f2babd323c6df7475de8d9e2cf906db = L.popup({&quot;maxWidth&quot;: &quot;100%&quot;});\n",
              "\n",
              "        \n",
              "            \n",
              "                var html_1ef6dc60fb36b1cae0a9082b75eb3cbd = $(`&lt;div id=&quot;html_1ef6dc60fb36b1cae0a9082b75eb3cbd&quot; style=&quot;width: 100.0%; height: 100.0%;&quot;&gt;&lt;b&gt;CountryPark:&lt;/b&gt; SAI KUNG EAST COUNTRY PARK,&lt;br&gt; &lt;b&gt;Name:&lt;/b&gt; Pak Lap Camp Site,&lt;br&gt; &lt;a href=&quot;http://www.afcd.gov.hk/english/country/cou_vis/cou_vis_cam/cou_vis_cam_cam/cou_vis_cam_15_PakLap.html&quot; target=&quot;_blank&quot;&gt;Website&lt;/a&gt;&lt;/div&gt;`)[0];\n",
              "                popup_6f2babd323c6df7475de8d9e2cf906db.setContent(html_1ef6dc60fb36b1cae0a9082b75eb3cbd);\n",
              "            \n",
              "        \n",
              "\n",
              "        marker_d079d007176baa01cc077673066acab6.bindPopup(popup_6f2babd323c6df7475de8d9e2cf906db)\n",
              "        ;\n",
              "\n",
              "        \n",
              "    \n",
              "    \n",
              "            marker_d079d007176baa01cc077673066acab6.bindTooltip(\n",
              "                `&lt;div&gt;\n",
              "                     SAI KUNG EAST COUNTRY PARK\n",
              "                 &lt;/div&gt;`,\n",
              "                {&quot;sticky&quot;: true}\n",
              "            );\n",
              "        \n",
              "    \n",
              "            var marker_db4872746a52c9e94a7974ff548f1257 = L.marker(\n",
              "                [22.3822, 114.32692],\n",
              "                {}\n",
              "            ).addTo(marker_cluster_3fbd72b1f7e893ac495cea0d579b4792);\n",
              "        \n",
              "    \n",
              "        var popup_3c33612ec771206045f38a0c86d80f3d = L.popup({&quot;maxWidth&quot;: &quot;100%&quot;});\n",
              "\n",
              "        \n",
              "            \n",
              "                var html_d602680a3a9956e112cc76472a69f21d = $(`&lt;div id=&quot;html_d602680a3a9956e112cc76472a69f21d&quot; style=&quot;width: 100.0%; height: 100.0%;&quot;&gt;&lt;b&gt;CountryPark:&lt;/b&gt; SAI KUNG EAST COUNTRY PARK,&lt;br&gt; &lt;b&gt;Name:&lt;/b&gt; Po Kwu Wan Camp Site,&lt;br&gt; &lt;a href=&quot;http://www.afcd.gov.hk/english/country/cou_vis/cou_vis_cam/cou_vis_cam_cam/cou_vis_cam_17_PoKwuWan.html&quot; target=&quot;_blank&quot;&gt;Website&lt;/a&gt;&lt;/div&gt;`)[0];\n",
              "                popup_3c33612ec771206045f38a0c86d80f3d.setContent(html_d602680a3a9956e112cc76472a69f21d);\n",
              "            \n",
              "        \n",
              "\n",
              "        marker_db4872746a52c9e94a7974ff548f1257.bindPopup(popup_3c33612ec771206045f38a0c86d80f3d)\n",
              "        ;\n",
              "\n",
              "        \n",
              "    \n",
              "    \n",
              "            marker_db4872746a52c9e94a7974ff548f1257.bindTooltip(\n",
              "                `&lt;div&gt;\n",
              "                     SAI KUNG EAST COUNTRY PARK\n",
              "                 &lt;/div&gt;`,\n",
              "                {&quot;sticky&quot;: true}\n",
              "            );\n",
              "        \n",
              "    \n",
              "            var marker_b863abc0b133e333ac2ba70fe2a27f11 = L.marker(\n",
              "                [22.46508, 114.3381],\n",
              "                {}\n",
              "            ).addTo(marker_cluster_3fbd72b1f7e893ac495cea0d579b4792);\n",
              "        \n",
              "    \n",
              "        var popup_0736c765904998cb8e4dbe6788942cdc = L.popup({&quot;maxWidth&quot;: &quot;100%&quot;});\n",
              "\n",
              "        \n",
              "            \n",
              "                var html_8fc5e2022a195bb1fbbd6ed0baadf24a = $(`&lt;div id=&quot;html_8fc5e2022a195bb1fbbd6ed0baadf24a&quot; style=&quot;width: 100.0%; height: 100.0%;&quot;&gt;&lt;b&gt;CountryPark:&lt;/b&gt; SAI KUNG WEST COUNTRY PARK (WAN TSAI EXTENSION),&lt;br&gt; &lt;b&gt;Name:&lt;/b&gt; Wan Tsai West Camp Site,&lt;br&gt; &lt;a href=&quot;http://www.afcd.gov.hk/english/country/cou_vis/cou_vis_cam/cou_vis_cam_cam/cou_vis_cam_07_WaiTsaiW.html&quot; target=&quot;_blank&quot;&gt;Website&lt;/a&gt;&lt;/div&gt;`)[0];\n",
              "                popup_0736c765904998cb8e4dbe6788942cdc.setContent(html_8fc5e2022a195bb1fbbd6ed0baadf24a);\n",
              "            \n",
              "        \n",
              "\n",
              "        marker_b863abc0b133e333ac2ba70fe2a27f11.bindPopup(popup_0736c765904998cb8e4dbe6788942cdc)\n",
              "        ;\n",
              "\n",
              "        \n",
              "    \n",
              "    \n",
              "            marker_b863abc0b133e333ac2ba70fe2a27f11.bindTooltip(\n",
              "                `&lt;div&gt;\n",
              "                     SAI KUNG WEST COUNTRY PARK (WAN TSAI EXTENSION)\n",
              "                 &lt;/div&gt;`,\n",
              "                {&quot;sticky&quot;: true}\n",
              "            );\n",
              "        \n",
              "    \n",
              "            var marker_0c24d95f1f39236d83517ea18b82d563 = L.marker(\n",
              "                [22.43669, 114.33373],\n",
              "                {}\n",
              "            ).addTo(marker_cluster_3fbd72b1f7e893ac495cea0d579b4792);\n",
              "        \n",
              "    \n",
              "        var popup_ba34da8978e24a1b3a426f2e06de6bfe = L.popup({&quot;maxWidth&quot;: &quot;100%&quot;});\n",
              "\n",
              "        \n",
              "            \n",
              "                var html_dac5f8fac11d26f0b09d667cd43614f2 = $(`&lt;div id=&quot;html_dac5f8fac11d26f0b09d667cd43614f2&quot; style=&quot;width: 100.0%; height: 100.0%;&quot;&gt;&lt;b&gt;CountryPark:&lt;/b&gt; SAI KUNG WEST COUNTRY PARK,&lt;br&gt; &lt;b&gt;Name:&lt;/b&gt; Tai Tan Camp Site,&lt;br&gt; &lt;a href=&quot;http://www.afcd.gov.hk/english/country/cou_vis/cou_vis_cam/cou_vis_cam_cam/cou_vis_cam_10_TaiTan.html&quot; target=&quot;_blank&quot;&gt;Website&lt;/a&gt;&lt;/div&gt;`)[0];\n",
              "                popup_ba34da8978e24a1b3a426f2e06de6bfe.setContent(html_dac5f8fac11d26f0b09d667cd43614f2);\n",
              "            \n",
              "        \n",
              "\n",
              "        marker_0c24d95f1f39236d83517ea18b82d563.bindPopup(popup_ba34da8978e24a1b3a426f2e06de6bfe)\n",
              "        ;\n",
              "\n",
              "        \n",
              "    \n",
              "    \n",
              "            marker_0c24d95f1f39236d83517ea18b82d563.bindTooltip(\n",
              "                `&lt;div&gt;\n",
              "                     SAI KUNG WEST COUNTRY PARK\n",
              "                 &lt;/div&gt;`,\n",
              "                {&quot;sticky&quot;: true}\n",
              "            );\n",
              "        \n",
              "    \n",
              "            var marker_03b5522eede95ec0a2a9c277cdbebbec = L.marker(\n",
              "                [22.40626, 114.32522],\n",
              "                {}\n",
              "            ).addTo(marker_cluster_3fbd72b1f7e893ac495cea0d579b4792);\n",
              "        \n",
              "    \n",
              "        var popup_1daf154eafdda47f9ad268f0c26f0207 = L.popup({&quot;maxWidth&quot;: &quot;100%&quot;});\n",
              "\n",
              "        \n",
              "            \n",
              "                var html_5e1d468dbcc43868f35cde4d781eda7f = $(`&lt;div id=&quot;html_5e1d468dbcc43868f35cde4d781eda7f&quot; style=&quot;width: 100.0%; height: 100.0%;&quot;&gt;&lt;b&gt;CountryPark:&lt;/b&gt; SAI KUNG WEST COUNTRY PARK,&lt;br&gt; &lt;b&gt;Name:&lt;/b&gt; Yee Ting Camp Site,&lt;br&gt; &lt;a href=&quot;http://www.afcd.gov.hk/english/country/cou_vis/cou_vis_cam/cou_vis_cam_cam/cou_vis_cam_18_YeeTing.html&quot; target=&quot;_blank&quot;&gt;Website&lt;/a&gt;&lt;/div&gt;`)[0];\n",
              "                popup_1daf154eafdda47f9ad268f0c26f0207.setContent(html_5e1d468dbcc43868f35cde4d781eda7f);\n",
              "            \n",
              "        \n",
              "\n",
              "        marker_03b5522eede95ec0a2a9c277cdbebbec.bindPopup(popup_1daf154eafdda47f9ad268f0c26f0207)\n",
              "        ;\n",
              "\n",
              "        \n",
              "    \n",
              "    \n",
              "            marker_03b5522eede95ec0a2a9c277cdbebbec.bindTooltip(\n",
              "                `&lt;div&gt;\n",
              "                     SAI KUNG WEST COUNTRY PARK\n",
              "                 &lt;/div&gt;`,\n",
              "                {&quot;sticky&quot;: true}\n",
              "            );\n",
              "        \n",
              "    \n",
              "            var marker_d9705e361cb1b9826d4fcba72dd3aebb = L.marker(\n",
              "                [22.40274, 114.27519],\n",
              "                {}\n",
              "            ).addTo(marker_cluster_3fbd72b1f7e893ac495cea0d579b4792);\n",
              "        \n",
              "    \n",
              "        var popup_92bf8f71daa71e320786b67e626e654c = L.popup({&quot;maxWidth&quot;: &quot;100%&quot;});\n",
              "\n",
              "        \n",
              "            \n",
              "                var html_a6444e87438eb6e23427050897a74056 = $(`&lt;div id=&quot;html_a6444e87438eb6e23427050897a74056&quot; style=&quot;width: 100.0%; height: 100.0%;&quot;&gt;&lt;b&gt;CountryPark:&lt;/b&gt; MA ON SHAN COUNTRY PARK,&lt;br&gt; &lt;b&gt;Name:&lt;/b&gt; Shui Long Wo Camp Site,&lt;br&gt; &lt;a href=&quot;http://www.afcd.gov.hk/english/country/cou_vis/cou_vis_cam/cou_vis_cam_cam/cou_vis_cam_19_ShuiLongWo.html&quot; target=&quot;_blank&quot;&gt;Website&lt;/a&gt;&lt;/div&gt;`)[0];\n",
              "                popup_92bf8f71daa71e320786b67e626e654c.setContent(html_a6444e87438eb6e23427050897a74056);\n",
              "            \n",
              "        \n",
              "\n",
              "        marker_d9705e361cb1b9826d4fcba72dd3aebb.bindPopup(popup_92bf8f71daa71e320786b67e626e654c)\n",
              "        ;\n",
              "\n",
              "        \n",
              "    \n",
              "    \n",
              "            marker_d9705e361cb1b9826d4fcba72dd3aebb.bindTooltip(\n",
              "                `&lt;div&gt;\n",
              "                     MA ON SHAN COUNTRY PARK\n",
              "                 &lt;/div&gt;`,\n",
              "                {&quot;sticky&quot;: true}\n",
              "            );\n",
              "        \n",
              "    \n",
              "            var marker_9946ce821ae86b2a36bb529eacfe7ba0 = L.marker(\n",
              "                [22.54069, 114.44109],\n",
              "                {}\n",
              "            ).addTo(marker_cluster_3fbd72b1f7e893ac495cea0d579b4792);\n",
              "        \n",
              "    \n",
              "        var popup_fe84bdf366ae6a55125d347138fa4920 = L.popup({&quot;maxWidth&quot;: &quot;100%&quot;});\n",
              "\n",
              "        \n",
              "            \n",
              "                var html_6939227e010ebac1a561bb33c0b62074 = $(`&lt;div id=&quot;html_6939227e010ebac1a561bb33c0b62074&quot; style=&quot;width: 100.0%; height: 100.0%;&quot;&gt;&lt;b&gt;CountryPark:&lt;/b&gt; PLOVER COVE (EXTENSION) COUNTRY PARK,&lt;br&gt; &lt;b&gt;Name:&lt;/b&gt; Tung Ping Chau Camp Site,&lt;br&gt; &lt;a href=&quot;http://www.afcd.gov.hk/english/country/cou_vis/cou_vis_cam/cou_vis_cam_cam/cou_vis_cam_05_TungPingChau.html&quot; target=&quot;_blank&quot;&gt;Website&lt;/a&gt;&lt;/div&gt;`)[0];\n",
              "                popup_fe84bdf366ae6a55125d347138fa4920.setContent(html_6939227e010ebac1a561bb33c0b62074);\n",
              "            \n",
              "        \n",
              "\n",
              "        marker_9946ce821ae86b2a36bb529eacfe7ba0.bindPopup(popup_fe84bdf366ae6a55125d347138fa4920)\n",
              "        ;\n",
              "\n",
              "        \n",
              "    \n",
              "    \n",
              "            marker_9946ce821ae86b2a36bb529eacfe7ba0.bindTooltip(\n",
              "                `&lt;div&gt;\n",
              "                     PLOVER COVE (EXTENSION) COUNTRY PARK\n",
              "                 &lt;/div&gt;`,\n",
              "                {&quot;sticky&quot;: true}\n",
              "            );\n",
              "        \n",
              "    \n",
              "            var marker_e2aa18f56d7b34676addc98aeacc4665 = L.marker(\n",
              "                [22.41132, 114.15779],\n",
              "                {}\n",
              "            ).addTo(marker_cluster_3fbd72b1f7e893ac495cea0d579b4792);\n",
              "        \n",
              "    \n",
              "        var popup_54aadf11cf4bc88db469f9ad88f6d951 = L.popup({&quot;maxWidth&quot;: &quot;100%&quot;});\n",
              "\n",
              "        \n",
              "            \n",
              "                var html_3051cf066a920a3f0a901d5aaf58981c = $(`&lt;div id=&quot;html_3051cf066a920a3f0a901d5aaf58981c&quot; style=&quot;width: 100.0%; height: 100.0%;&quot;&gt;&lt;b&gt;CountryPark:&lt;/b&gt; SHING MUN COUNTRY PARK,&lt;br&gt; &lt;b&gt;Name:&lt;/b&gt; Lead Mine Pass Camp Site,&lt;br&gt; &lt;a href=&quot;http://www.afcd.gov.hk/english/country/cou_vis/cou_vis_cam/cou_vis_cam_cam/cou_vis_cam_22_LeadMinePass.html&quot; target=&quot;_blank&quot;&gt;Website&lt;/a&gt;&lt;/div&gt;`)[0];\n",
              "                popup_54aadf11cf4bc88db469f9ad88f6d951.setContent(html_3051cf066a920a3f0a901d5aaf58981c);\n",
              "            \n",
              "        \n",
              "\n",
              "        marker_e2aa18f56d7b34676addc98aeacc4665.bindPopup(popup_54aadf11cf4bc88db469f9ad88f6d951)\n",
              "        ;\n",
              "\n",
              "        \n",
              "    \n",
              "    \n",
              "            marker_e2aa18f56d7b34676addc98aeacc4665.bindTooltip(\n",
              "                `&lt;div&gt;\n",
              "                     SHING MUN COUNTRY PARK\n",
              "                 &lt;/div&gt;`,\n",
              "                {&quot;sticky&quot;: true}\n",
              "            );\n",
              "        \n",
              "    \n",
              "            var marker_be2b1929e876fa2b13934ab92eaa0b36 = L.marker(\n",
              "                [22.40507, 114.10509],\n",
              "                {}\n",
              "            ).addTo(marker_cluster_3fbd72b1f7e893ac495cea0d579b4792);\n",
              "        \n",
              "    \n",
              "        var popup_654e35e78d8686cf83d8da2d009406e3 = L.popup({&quot;maxWidth&quot;: &quot;100%&quot;});\n",
              "\n",
              "        \n",
              "            \n",
              "                var html_4bec2efee876c245a943c561296080a3 = $(`&lt;div id=&quot;html_4bec2efee876c245a943c561296080a3&quot; style=&quot;width: 100.0%; height: 100.0%;&quot;&gt;&lt;b&gt;CountryPark:&lt;/b&gt; TAI MO SHAN COUNTRY PARK,&lt;br&gt; &lt;b&gt;Name:&lt;/b&gt; Rotary Club Park Camp Site,&lt;br&gt; &lt;a href=&quot;http://www.afcd.gov.hk/english/country/cou_vis/cou_vis_cam/cou_vis_cam_cam/cou_vis_cam_23_Rotary.html&quot; target=&quot;_blank&quot;&gt;Website&lt;/a&gt;&lt;/div&gt;`)[0];\n",
              "                popup_654e35e78d8686cf83d8da2d009406e3.setContent(html_4bec2efee876c245a943c561296080a3);\n",
              "            \n",
              "        \n",
              "\n",
              "        marker_be2b1929e876fa2b13934ab92eaa0b36.bindPopup(popup_654e35e78d8686cf83d8da2d009406e3)\n",
              "        ;\n",
              "\n",
              "        \n",
              "    \n",
              "    \n",
              "            marker_be2b1929e876fa2b13934ab92eaa0b36.bindTooltip(\n",
              "                `&lt;div&gt;\n",
              "                     TAI MO SHAN COUNTRY PARK\n",
              "                 &lt;/div&gt;`,\n",
              "                {&quot;sticky&quot;: true}\n",
              "            );\n",
              "        \n",
              "    \n",
              "            var marker_3ac2e220cadebacc3d3e50d33a8ed7f1 = L.marker(\n",
              "                [22.40681, 114.10323],\n",
              "                {}\n",
              "            ).addTo(marker_cluster_3fbd72b1f7e893ac495cea0d579b4792);\n",
              "        \n",
              "    \n",
              "        var popup_521e13ad4ea83177b26cb4906d5e3ec3 = L.popup({&quot;maxWidth&quot;: &quot;100%&quot;});\n",
              "\n",
              "        \n",
              "            \n",
              "                var html_c3595ea6f6efd5b743b98b94cd8c1b4b = $(`&lt;div id=&quot;html_c3595ea6f6efd5b743b98b94cd8c1b4b&quot; style=&quot;width: 100.0%; height: 100.0%;&quot;&gt;&lt;b&gt;CountryPark:&lt;/b&gt; TAI LAM COUNTRY PARK,&lt;br&gt; &lt;b&gt;Name:&lt;/b&gt; Twisk Camp Site,&lt;br&gt; &lt;a href=&quot;http://www.afcd.gov.hk/english/country/cou_vis/cou_vis_cam/cou_vis_cam_cam/cou_vis_cam_24_Twisk.html&quot; target=&quot;_blank&quot;&gt;Website&lt;/a&gt;&lt;/div&gt;`)[0];\n",
              "                popup_521e13ad4ea83177b26cb4906d5e3ec3.setContent(html_c3595ea6f6efd5b743b98b94cd8c1b4b);\n",
              "            \n",
              "        \n",
              "\n",
              "        marker_3ac2e220cadebacc3d3e50d33a8ed7f1.bindPopup(popup_521e13ad4ea83177b26cb4906d5e3ec3)\n",
              "        ;\n",
              "\n",
              "        \n",
              "    \n",
              "    \n",
              "            marker_3ac2e220cadebacc3d3e50d33a8ed7f1.bindTooltip(\n",
              "                `&lt;div&gt;\n",
              "                     TAI LAM COUNTRY PARK\n",
              "                 &lt;/div&gt;`,\n",
              "                {&quot;sticky&quot;: true}\n",
              "            );\n",
              "        \n",
              "    \n",
              "            var marker_8c961561d9eec654baeb151f193559bc = L.marker(\n",
              "                [22.40996, 114.0717],\n",
              "                {}\n",
              "            ).addTo(marker_cluster_3fbd72b1f7e893ac495cea0d579b4792);\n",
              "        \n",
              "    \n",
              "        var popup_42b18ad65c3d224166b501ec745bbcbf = L.popup({&quot;maxWidth&quot;: &quot;100%&quot;});\n",
              "\n",
              "        \n",
              "            \n",
              "                var html_4702273eacdeb2b3eb0c010641034071 = $(`&lt;div id=&quot;html_4702273eacdeb2b3eb0c010641034071&quot; style=&quot;width: 100.0%; height: 100.0%;&quot;&gt;&lt;b&gt;CountryPark:&lt;/b&gt; TAI LAM COUNTRY PARK,&lt;br&gt; &lt;b&gt;Name:&lt;/b&gt; Ho Pui Camp Site,&lt;br&gt; &lt;a href=&quot;http://www.afcd.gov.hk/english/country/cou_vis/cou_vis_cam/cou_vis_cam_cam/cou_vis_cam_25_HoPui.html&quot; target=&quot;_blank&quot;&gt;Website&lt;/a&gt;&lt;/div&gt;`)[0];\n",
              "                popup_42b18ad65c3d224166b501ec745bbcbf.setContent(html_4702273eacdeb2b3eb0c010641034071);\n",
              "            \n",
              "        \n",
              "\n",
              "        marker_8c961561d9eec654baeb151f193559bc.bindPopup(popup_42b18ad65c3d224166b501ec745bbcbf)\n",
              "        ;\n",
              "\n",
              "        \n",
              "    \n",
              "    \n",
              "            marker_8c961561d9eec654baeb151f193559bc.bindTooltip(\n",
              "                `&lt;div&gt;\n",
              "                     TAI LAM COUNTRY PARK\n",
              "                 &lt;/div&gt;`,\n",
              "                {&quot;sticky&quot;: true}\n",
              "            );\n",
              "        \n",
              "    \n",
              "            var marker_e125bde5987672ba9ad31f3ad1abadc0 = L.marker(\n",
              "                [22.39009, 114.06604],\n",
              "                {}\n",
              "            ).addTo(marker_cluster_3fbd72b1f7e893ac495cea0d579b4792);\n",
              "        \n",
              "    \n",
              "        var popup_5bf2d9e4c2bcf66f413e84f622839872 = L.popup({&quot;maxWidth&quot;: &quot;100%&quot;});\n",
              "\n",
              "        \n",
              "            \n",
              "                var html_15af0f5a328aef13446c25f1545af040 = $(`&lt;div id=&quot;html_15af0f5a328aef13446c25f1545af040&quot; style=&quot;width: 100.0%; height: 100.0%;&quot;&gt;&lt;b&gt;CountryPark:&lt;/b&gt; TAI LAM COUNTRY PARK,&lt;br&gt; &lt;b&gt;Name:&lt;/b&gt; Tin Fu Tsai Camp Site,&lt;br&gt; &lt;a href=&quot;http://www.afcd.gov.hk/english/country/cou_vis/cou_vis_cam/cou_vis_cam_cam/cou_vis_cam_26_TinFuTsai.html&quot; target=&quot;_blank&quot;&gt;Website&lt;/a&gt;&lt;/div&gt;`)[0];\n",
              "                popup_5bf2d9e4c2bcf66f413e84f622839872.setContent(html_15af0f5a328aef13446c25f1545af040);\n",
              "            \n",
              "        \n",
              "\n",
              "        marker_e125bde5987672ba9ad31f3ad1abadc0.bindPopup(popup_5bf2d9e4c2bcf66f413e84f622839872)\n",
              "        ;\n",
              "\n",
              "        \n",
              "    \n",
              "    \n",
              "            marker_e125bde5987672ba9ad31f3ad1abadc0.bindTooltip(\n",
              "                `&lt;div&gt;\n",
              "                     TAI LAM COUNTRY PARK\n",
              "                 &lt;/div&gt;`,\n",
              "                {&quot;sticky&quot;: true}\n",
              "            );\n",
              "        \n",
              "    \n",
              "            var marker_718f77af4d47fb0b4b0e094ed6c401cb = L.marker(\n",
              "                [22.25328, 113.9862],\n",
              "                {}\n",
              "            ).addTo(marker_cluster_3fbd72b1f7e893ac495cea0d579b4792);\n",
              "        \n",
              "    \n",
              "        var popup_e3384e25da0e111a8aad81c114e5f926 = L.popup({&quot;maxWidth&quot;: &quot;100%&quot;});\n",
              "\n",
              "        \n",
              "            \n",
              "                var html_1e0ae60af6417c0080fb11b2644ab646 = $(`&lt;div id=&quot;html_1e0ae60af6417c0080fb11b2644ab646&quot; style=&quot;width: 100.0%; height: 100.0%;&quot;&gt;&lt;b&gt;CountryPark:&lt;/b&gt; LANTAU SOUTH COUNTRY PARK,&lt;br&gt; &lt;b&gt;Name:&lt;/b&gt; Nam Shan Camp Site,&lt;br&gt; &lt;a href=&quot;http://www.afcd.gov.hk/english/country/cou_vis/cou_vis_cam/cou_vis_cam_cam/cou_vis_cam_27_NamShan.html&quot; target=&quot;_blank&quot;&gt;Website&lt;/a&gt;&lt;/div&gt;`)[0];\n",
              "                popup_e3384e25da0e111a8aad81c114e5f926.setContent(html_1e0ae60af6417c0080fb11b2644ab646);\n",
              "            \n",
              "        \n",
              "\n",
              "        marker_718f77af4d47fb0b4b0e094ed6c401cb.bindPopup(popup_e3384e25da0e111a8aad81c114e5f926)\n",
              "        ;\n",
              "\n",
              "        \n",
              "    \n",
              "    \n",
              "            marker_718f77af4d47fb0b4b0e094ed6c401cb.bindTooltip(\n",
              "                `&lt;div&gt;\n",
              "                     LANTAU SOUTH COUNTRY PARK\n",
              "                 &lt;/div&gt;`,\n",
              "                {&quot;sticky&quot;: true}\n",
              "            );\n",
              "        \n",
              "    \n",
              "            var marker_ee9465a60d4819024c3911fedd516b07 = L.marker(\n",
              "                [22.25183, 113.99408],\n",
              "                {}\n",
              "            ).addTo(marker_cluster_3fbd72b1f7e893ac495cea0d579b4792);\n",
              "        \n",
              "    \n",
              "        var popup_8a3b2a2f942d70a89f04e303a500bfe2 = L.popup({&quot;maxWidth&quot;: &quot;100%&quot;});\n",
              "\n",
              "        \n",
              "            \n",
              "                var html_2265d80f47a9e2936559d53713c46a4d = $(`&lt;div id=&quot;html_2265d80f47a9e2936559d53713c46a4d&quot; style=&quot;width: 100.0%; height: 100.0%;&quot;&gt;&lt;b&gt;CountryPark:&lt;/b&gt; LANTAU SOUTH COUNTRY PARK,&lt;br&gt; &lt;b&gt;Name:&lt;/b&gt; Pak Fu Tin Camp Site,&lt;br&gt; &lt;a href=&quot;http://www.afcd.gov.hk/english/country/cou_vis/cou_vis_cam/cou_vis_cam_cam/cou_vis_cam_28_PakFuTin.html&quot; target=&quot;_blank&quot;&gt;Website&lt;/a&gt;&lt;/div&gt;`)[0];\n",
              "                popup_8a3b2a2f942d70a89f04e303a500bfe2.setContent(html_2265d80f47a9e2936559d53713c46a4d);\n",
              "            \n",
              "        \n",
              "\n",
              "        marker_ee9465a60d4819024c3911fedd516b07.bindPopup(popup_8a3b2a2f942d70a89f04e303a500bfe2)\n",
              "        ;\n",
              "\n",
              "        \n",
              "    \n",
              "    \n",
              "            marker_ee9465a60d4819024c3911fedd516b07.bindTooltip(\n",
              "                `&lt;div&gt;\n",
              "                     LANTAU SOUTH COUNTRY PARK\n",
              "                 &lt;/div&gt;`,\n",
              "                {&quot;sticky&quot;: true}\n",
              "            );\n",
              "        \n",
              "    \n",
              "            var marker_7c199b1d75ee96b9e602d8a7fb566924 = L.marker(\n",
              "                [22.23753, 113.98818],\n",
              "                {}\n",
              "            ).addTo(marker_cluster_3fbd72b1f7e893ac495cea0d579b4792);\n",
              "        \n",
              "    \n",
              "        var popup_58d2986ae25840af9b1c298bd25647c5 = L.popup({&quot;maxWidth&quot;: &quot;100%&quot;});\n",
              "\n",
              "        \n",
              "            \n",
              "                var html_dde95a6333f867e2f957d68bcfc547b9 = $(`&lt;div id=&quot;html_dde95a6333f867e2f957d68bcfc547b9&quot; style=&quot;width: 100.0%; height: 100.0%;&quot;&gt;&lt;b&gt;CountryPark:&lt;/b&gt; LANTAU SOUTH COUNTRY PARK,&lt;br&gt; &lt;b&gt;Name:&lt;/b&gt; Shap Long Camp Site,&lt;br&gt; &lt;a href=&quot;http://www.afcd.gov.hk/english/country/cou_vis/cou_vis_cam/cou_vis_cam_cam/cou_vis_cam_29_ShapLong.html&quot; target=&quot;_blank&quot;&gt;Website&lt;/a&gt;&lt;/div&gt;`)[0];\n",
              "                popup_58d2986ae25840af9b1c298bd25647c5.setContent(html_dde95a6333f867e2f957d68bcfc547b9);\n",
              "            \n",
              "        \n",
              "\n",
              "        marker_7c199b1d75ee96b9e602d8a7fb566924.bindPopup(popup_58d2986ae25840af9b1c298bd25647c5)\n",
              "        ;\n",
              "\n",
              "        \n",
              "    \n",
              "    \n",
              "            marker_7c199b1d75ee96b9e602d8a7fb566924.bindTooltip(\n",
              "                `&lt;div&gt;\n",
              "                     LANTAU SOUTH COUNTRY PARK\n",
              "                 &lt;/div&gt;`,\n",
              "                {&quot;sticky&quot;: true}\n",
              "            );\n",
              "        \n",
              "    \n",
              "            var marker_2232d5e54613253592b6d1639017958d = L.marker(\n",
              "                [22.21206, 113.91518],\n",
              "                {}\n",
              "            ).addTo(marker_cluster_3fbd72b1f7e893ac495cea0d579b4792);\n",
              "        \n",
              "    \n",
              "        var popup_30b4720ca0cb62ac55bb1722ad47a29e = L.popup({&quot;maxWidth&quot;: &quot;100%&quot;});\n",
              "\n",
              "        \n",
              "            \n",
              "                var html_5026e9d66c6a3f725e80e1d58a850892 = $(`&lt;div id=&quot;html_5026e9d66c6a3f725e80e1d58a850892&quot; style=&quot;width: 100.0%; height: 100.0%;&quot;&gt;&lt;b&gt;CountryPark:&lt;/b&gt; LANTAU SOUTH COUNTRY PARK,&lt;br&gt; &lt;b&gt;Name:&lt;/b&gt; Lo Kei Wan Camp Site,&lt;br&gt; &lt;a href=&quot;http://www.afcd.gov.hk/english/country/cou_vis/cou_vis_cam/cou_vis_cam_cam/cou_vis_cam_30_LoKeiWan.html&quot; target=&quot;_blank&quot;&gt;Website&lt;/a&gt;&lt;/div&gt;`)[0];\n",
              "                popup_30b4720ca0cb62ac55bb1722ad47a29e.setContent(html_5026e9d66c6a3f725e80e1d58a850892);\n",
              "            \n",
              "        \n",
              "\n",
              "        marker_2232d5e54613253592b6d1639017958d.bindPopup(popup_30b4720ca0cb62ac55bb1722ad47a29e)\n",
              "        ;\n",
              "\n",
              "        \n",
              "    \n",
              "    \n",
              "            marker_2232d5e54613253592b6d1639017958d.bindTooltip(\n",
              "                `&lt;div&gt;\n",
              "                     LANTAU SOUTH COUNTRY PARK\n",
              "                 &lt;/div&gt;`,\n",
              "                {&quot;sticky&quot;: true}\n",
              "            );\n",
              "        \n",
              "    \n",
              "            var marker_3333ef9cc00689415b075249c4849b34 = L.marker(\n",
              "                [22.21313, 113.90331],\n",
              "                {}\n",
              "            ).addTo(marker_cluster_3fbd72b1f7e893ac495cea0d579b4792);\n",
              "        \n",
              "    \n",
              "        var popup_beb96c3ff6385c8e2077030be0e45fa2 = L.popup({&quot;maxWidth&quot;: &quot;100%&quot;});\n",
              "\n",
              "        \n",
              "            \n",
              "                var html_98b71862936993e23f5c15460c5877f8 = $(`&lt;div id=&quot;html_98b71862936993e23f5c15460c5877f8&quot; style=&quot;width: 100.0%; height: 100.0%;&quot;&gt;&lt;b&gt;CountryPark:&lt;/b&gt; LANTAU SOUTH COUNTRY PARK,&lt;br&gt; &lt;b&gt;Name:&lt;/b&gt; Shek Lam Chau Camp Site,&lt;br&gt; &lt;a href=&quot;http://www.afcd.gov.hk/english/country/cou_vis/cou_vis_cam/cou_vis_cam_cam/cou_vis_cam_31_ShekLamChau.html&quot; target=&quot;_blank&quot;&gt;Website&lt;/a&gt;&lt;/div&gt;`)[0];\n",
              "                popup_beb96c3ff6385c8e2077030be0e45fa2.setContent(html_98b71862936993e23f5c15460c5877f8);\n",
              "            \n",
              "        \n",
              "\n",
              "        marker_3333ef9cc00689415b075249c4849b34.bindPopup(popup_beb96c3ff6385c8e2077030be0e45fa2)\n",
              "        ;\n",
              "\n",
              "        \n",
              "    \n",
              "    \n",
              "            marker_3333ef9cc00689415b075249c4849b34.bindTooltip(\n",
              "                `&lt;div&gt;\n",
              "                     LANTAU SOUTH COUNTRY PARK\n",
              "                 &lt;/div&gt;`,\n",
              "                {&quot;sticky&quot;: true}\n",
              "            );\n",
              "        \n",
              "    \n",
              "            var marker_986e40291c869160bd1195ca9602a356 = L.marker(\n",
              "                [22.21327, 113.87802],\n",
              "                {}\n",
              "            ).addTo(marker_cluster_3fbd72b1f7e893ac495cea0d579b4792);\n",
              "        \n",
              "    \n",
              "        var popup_adddc567e6b44c2a8dc579e5b00ef54f = L.popup({&quot;maxWidth&quot;: &quot;100%&quot;});\n",
              "\n",
              "        \n",
              "            \n",
              "                var html_e2529a7d362d7632f96ea7037ad9283c = $(`&lt;div id=&quot;html_e2529a7d362d7632f96ea7037ad9283c&quot; style=&quot;width: 100.0%; height: 100.0%;&quot;&gt;&lt;b&gt;CountryPark:&lt;/b&gt; LANTAU SOUTH COUNTRY PARK,&lt;br&gt; &lt;b&gt;Name:&lt;/b&gt; Tai Long Wan Camp Site,&lt;br&gt; &lt;a href=&quot;http://www.afcd.gov.hk/english/country/cou_vis/cou_vis_cam/cou_vis_cam_cam/cou_vis_cam_32_TaiLongWan.html&quot; target=&quot;_blank&quot;&gt;Website&lt;/a&gt;&lt;/div&gt;`)[0];\n",
              "                popup_adddc567e6b44c2a8dc579e5b00ef54f.setContent(html_e2529a7d362d7632f96ea7037ad9283c);\n",
              "            \n",
              "        \n",
              "\n",
              "        marker_986e40291c869160bd1195ca9602a356.bindPopup(popup_adddc567e6b44c2a8dc579e5b00ef54f)\n",
              "        ;\n",
              "\n",
              "        \n",
              "    \n",
              "    \n",
              "            marker_986e40291c869160bd1195ca9602a356.bindTooltip(\n",
              "                `&lt;div&gt;\n",
              "                     LANTAU SOUTH COUNTRY PARK\n",
              "                 &lt;/div&gt;`,\n",
              "                {&quot;sticky&quot;: true}\n",
              "            );\n",
              "        \n",
              "    \n",
              "            var marker_006524eeacd8d2ad24fcc5ecbb1bfec8 = L.marker(\n",
              "                [22.20449, 113.86373],\n",
              "                {}\n",
              "            ).addTo(marker_cluster_3fbd72b1f7e893ac495cea0d579b4792);\n",
              "        \n",
              "    \n",
              "        var popup_15c161090bde5e347fd1f950eda8dc5d = L.popup({&quot;maxWidth&quot;: &quot;100%&quot;});\n",
              "\n",
              "        \n",
              "            \n",
              "                var html_0ab289185d2657fcd76a4ebfe446c175 = $(`&lt;div id=&quot;html_0ab289185d2657fcd76a4ebfe446c175&quot; style=&quot;width: 100.0%; height: 100.0%;&quot;&gt;&lt;b&gt;CountryPark:&lt;/b&gt; LANTAU SOUTH COUNTRY PARK,&lt;br&gt; &lt;b&gt;Name:&lt;/b&gt; Kau Ling Chung Camp Site,&lt;br&gt; &lt;a href=&quot;http://www.afcd.gov.hk/english/country/cou_vis/cou_vis_cam/cou_vis_cam_cam/cou_vis_cam_33_KauLingChung.html&quot; target=&quot;_blank&quot;&gt;Website&lt;/a&gt;&lt;/div&gt;`)[0];\n",
              "                popup_15c161090bde5e347fd1f950eda8dc5d.setContent(html_0ab289185d2657fcd76a4ebfe446c175);\n",
              "            \n",
              "        \n",
              "\n",
              "        marker_006524eeacd8d2ad24fcc5ecbb1bfec8.bindPopup(popup_15c161090bde5e347fd1f950eda8dc5d)\n",
              "        ;\n",
              "\n",
              "        \n",
              "    \n",
              "    \n",
              "            marker_006524eeacd8d2ad24fcc5ecbb1bfec8.bindTooltip(\n",
              "                `&lt;div&gt;\n",
              "                     LANTAU SOUTH COUNTRY PARK\n",
              "                 &lt;/div&gt;`,\n",
              "                {&quot;sticky&quot;: true}\n",
              "            );\n",
              "        \n",
              "    \n",
              "            var marker_0697ba27e1e89d693cfeb7032387d71a = L.marker(\n",
              "                [22.23065, 113.86651],\n",
              "                {}\n",
              "            ).addTo(marker_cluster_3fbd72b1f7e893ac495cea0d579b4792);\n",
              "        \n",
              "    \n",
              "        var popup_03e1508f0728d0a79c85fc0699372a59 = L.popup({&quot;maxWidth&quot;: &quot;100%&quot;});\n",
              "\n",
              "        \n",
              "            \n",
              "                var html_b2c3dcce4b99ae0516e60250564bf955 = $(`&lt;div id=&quot;html_b2c3dcce4b99ae0516e60250564bf955&quot; style=&quot;width: 100.0%; height: 100.0%;&quot;&gt;&lt;b&gt;CountryPark:&lt;/b&gt; LANTAU SOUTH COUNTRY PARK,&lt;br&gt; &lt;b&gt;Name:&lt;/b&gt; Man Cheung Po Camp Site,&lt;br&gt; &lt;a href=&quot;http://www.afcd.gov.hk/english/country/cou_vis/cou_vis_cam/cou_vis_cam_cam/cou_vis_cam_34_ManCheungPo.html&quot; target=&quot;_blank&quot;&gt;Website&lt;/a&gt;&lt;/div&gt;`)[0];\n",
              "                popup_03e1508f0728d0a79c85fc0699372a59.setContent(html_b2c3dcce4b99ae0516e60250564bf955);\n",
              "            \n",
              "        \n",
              "\n",
              "        marker_0697ba27e1e89d693cfeb7032387d71a.bindPopup(popup_03e1508f0728d0a79c85fc0699372a59)\n",
              "        ;\n",
              "\n",
              "        \n",
              "    \n",
              "    \n",
              "            marker_0697ba27e1e89d693cfeb7032387d71a.bindTooltip(\n",
              "                `&lt;div&gt;\n",
              "                     LANTAU SOUTH COUNTRY PARK\n",
              "                 &lt;/div&gt;`,\n",
              "                {&quot;sticky&quot;: true}\n",
              "            );\n",
              "        \n",
              "    \n",
              "            var marker_e0f80f52d50011109595b36263347f97 = L.marker(\n",
              "                [22.39294, 114.25116],\n",
              "                {}\n",
              "            ).addTo(marker_cluster_3fbd72b1f7e893ac495cea0d579b4792);\n",
              "        \n",
              "    \n",
              "        var popup_cdba896b3eb0632f98078f48fa87a9ad = L.popup({&quot;maxWidth&quot;: &quot;100%&quot;});\n",
              "\n",
              "        \n",
              "            \n",
              "                var html_28817ab82b66681264e2ddc222faf5a2 = $(`&lt;div id=&quot;html_28817ab82b66681264e2ddc222faf5a2&quot; style=&quot;width: 100.0%; height: 100.0%;&quot;&gt;&lt;b&gt;CountryPark:&lt;/b&gt; MA ON SHAN COUNTRY PARK,&lt;br&gt; &lt;b&gt;Name:&lt;/b&gt; Ngong Ping Camp Site,&lt;br&gt; &lt;a href=&quot;http://www.afcd.gov.hk/english/country/cou_vis/cou_vis_cam/cou_vis_cam_cam/cou_vis_cam_20_NgongPing.html&quot; target=&quot;_blank&quot;&gt;Website&lt;/a&gt;&lt;/div&gt;`)[0];\n",
              "                popup_cdba896b3eb0632f98078f48fa87a9ad.setContent(html_28817ab82b66681264e2ddc222faf5a2);\n",
              "            \n",
              "        \n",
              "\n",
              "        marker_e0f80f52d50011109595b36263347f97.bindPopup(popup_cdba896b3eb0632f98078f48fa87a9ad)\n",
              "        ;\n",
              "\n",
              "        \n",
              "    \n",
              "    \n",
              "            marker_e0f80f52d50011109595b36263347f97.bindTooltip(\n",
              "                `&lt;div&gt;\n",
              "                     MA ON SHAN COUNTRY PARK\n",
              "                 &lt;/div&gt;`,\n",
              "                {&quot;sticky&quot;: true}\n",
              "            );\n",
              "        \n",
              "    \n",
              "            var marker_8f7679cb9bb01e1def02136b14192e6b = L.marker(\n",
              "                [22.20866, 113.84368],\n",
              "                {}\n",
              "            ).addTo(marker_cluster_3fbd72b1f7e893ac495cea0d579b4792);\n",
              "        \n",
              "    \n",
              "        var popup_76914aef987e8dbe9b7f2d3ed92517ee = L.popup({&quot;maxWidth&quot;: &quot;100%&quot;});\n",
              "\n",
              "        \n",
              "            \n",
              "                var html_bdfef06b95e61920ec8c34bbe2d21f49 = $(`&lt;div id=&quot;html_bdfef06b95e61920ec8c34bbe2d21f49&quot; style=&quot;width: 100.0%; height: 100.0%;&quot;&gt;&lt;b&gt;CountryPark:&lt;/b&gt; LANTAU SOUTH COUNTRY PARK,&lt;br&gt; &lt;b&gt;Name:&lt;/b&gt; Tsin Yue Wan Camp Site,&lt;br&gt; &lt;a href=&quot;http://www.afcd.gov.hk/english/country/cou_vis/cou_vis_cam/cou_vis_cam_cam/cou_vis_cam_36_TsinYueWan.html&quot; target=&quot;_blank&quot;&gt;Website&lt;/a&gt;&lt;/div&gt;`)[0];\n",
              "                popup_76914aef987e8dbe9b7f2d3ed92517ee.setContent(html_bdfef06b95e61920ec8c34bbe2d21f49);\n",
              "            \n",
              "        \n",
              "\n",
              "        marker_8f7679cb9bb01e1def02136b14192e6b.bindPopup(popup_76914aef987e8dbe9b7f2d3ed92517ee)\n",
              "        ;\n",
              "\n",
              "        \n",
              "    \n",
              "    \n",
              "            marker_8f7679cb9bb01e1def02136b14192e6b.bindTooltip(\n",
              "                `&lt;div&gt;\n",
              "                     LANTAU SOUTH COUNTRY PARK\n",
              "                 &lt;/div&gt;`,\n",
              "                {&quot;sticky&quot;: true}\n",
              "            );\n",
              "        \n",
              "    \n",
              "            var marker_0542fc5565b2a63ac9b7ee9f679b95bd = L.marker(\n",
              "                [22.2549, 113.91422],\n",
              "                {}\n",
              "            ).addTo(marker_cluster_3fbd72b1f7e893ac495cea0d579b4792);\n",
              "        \n",
              "    \n",
              "        var popup_20520123972a23846286839277271151 = L.popup({&quot;maxWidth&quot;: &quot;100%&quot;});\n",
              "\n",
              "        \n",
              "            \n",
              "                var html_f36827571141abec0a1d76a4b21f49ea = $(`&lt;div id=&quot;html_f36827571141abec0a1d76a4b21f49ea&quot; style=&quot;width: 100.0%; height: 100.0%;&quot;&gt;&lt;b&gt;CountryPark:&lt;/b&gt; LANTAU SOUTH COUNTRY PARK,&lt;br&gt; &lt;b&gt;Name:&lt;/b&gt; Ngong Ping Camp Site,&lt;br&gt; &lt;a href=&quot;http://www.afcd.gov.hk/english/country/cou_vis/cou_vis_cam/cou_vis_cam_cam/cou_vis_cam_37_NgongPing.html&quot; target=&quot;_blank&quot;&gt;Website&lt;/a&gt;&lt;/div&gt;`)[0];\n",
              "                popup_20520123972a23846286839277271151.setContent(html_f36827571141abec0a1d76a4b21f49ea);\n",
              "            \n",
              "        \n",
              "\n",
              "        marker_0542fc5565b2a63ac9b7ee9f679b95bd.bindPopup(popup_20520123972a23846286839277271151)\n",
              "        ;\n",
              "\n",
              "        \n",
              "    \n",
              "    \n",
              "            marker_0542fc5565b2a63ac9b7ee9f679b95bd.bindTooltip(\n",
              "                `&lt;div&gt;\n",
              "                     LANTAU SOUTH COUNTRY PARK\n",
              "                 &lt;/div&gt;`,\n",
              "                {&quot;sticky&quot;: true}\n",
              "            );\n",
              "        \n",
              "    \n",
              "            var marker_d77dd09525026d32cfaa1fea0a2bee90 = L.marker(\n",
              "                [22.23884, 113.85283],\n",
              "                {}\n",
              "            ).addTo(marker_cluster_3fbd72b1f7e893ac495cea0d579b4792);\n",
              "        \n",
              "    \n",
              "        var popup_71988f715424fb69104f026e14962851 = L.popup({&quot;maxWidth&quot;: &quot;100%&quot;});\n",
              "\n",
              "        \n",
              "            \n",
              "                var html_a1e14206309bcd56d7decc77d010bb12 = $(`&lt;div id=&quot;html_a1e14206309bcd56d7decc77d010bb12&quot; style=&quot;width: 100.0%; height: 100.0%;&quot;&gt;&lt;b&gt;CountryPark:&lt;/b&gt; LANTAU NORTH COUNTRY PARK,&lt;br&gt; &lt;b&gt;Name:&lt;/b&gt; Nga Ying Kok Camp Site,&lt;br&gt; &lt;a href=&quot;http://www.afcd.gov.hk/english/country/cou_vis/cou_vis_cam/cou_vis_cam_cam/cou_vis_cam_35_NgaYingKok.html&quot; target=&quot;_blank&quot;&gt;Website&lt;/a&gt;&lt;/div&gt;`)[0];\n",
              "                popup_71988f715424fb69104f026e14962851.setContent(html_a1e14206309bcd56d7decc77d010bb12);\n",
              "            \n",
              "        \n",
              "\n",
              "        marker_d77dd09525026d32cfaa1fea0a2bee90.bindPopup(popup_71988f715424fb69104f026e14962851)\n",
              "        ;\n",
              "\n",
              "        \n",
              "    \n",
              "    \n",
              "            marker_d77dd09525026d32cfaa1fea0a2bee90.bindTooltip(\n",
              "                `&lt;div&gt;\n",
              "                     LANTAU NORTH COUNTRY PARK\n",
              "                 &lt;/div&gt;`,\n",
              "                {&quot;sticky&quot;: true}\n",
              "            );\n",
              "        \n",
              "    \n",
              "            var marker_6b7576eae4515bd2694c7568819cf636 = L.marker(\n",
              "                [22.42639, 114.31181],\n",
              "                {}\n",
              "            ).addTo(marker_cluster_3fbd72b1f7e893ac495cea0d579b4792);\n",
              "        \n",
              "    \n",
              "        var popup_d95206aa6edf45556027a081246fd4dc = L.popup({&quot;maxWidth&quot;: &quot;100%&quot;});\n",
              "\n",
              "        \n",
              "            \n",
              "                var html_11e76f32d83e7963138973df81ab0f91 = $(`&lt;div id=&quot;html_11e76f32d83e7963138973df81ab0f91&quot; style=&quot;width: 100.0%; height: 100.0%;&quot;&gt;&lt;b&gt;CountryPark:&lt;/b&gt; SAI KUNG WEST COUNTRY PARK,&lt;br&gt; &lt;b&gt;Name:&lt;/b&gt; Cheung Sheung Camp Site,&lt;br&gt; &lt;a href=&quot;http://www.afcd.gov.hk/english/country/cou_vis/cou_vis_cam/cou_vis_cam_cam/cou_vis_cam_08_CheungSheung.html&quot; target=&quot;_blank&quot;&gt;Website&lt;/a&gt;&lt;/div&gt;`)[0];\n",
              "                popup_d95206aa6edf45556027a081246fd4dc.setContent(html_11e76f32d83e7963138973df81ab0f91);\n",
              "            \n",
              "        \n",
              "\n",
              "        marker_6b7576eae4515bd2694c7568819cf636.bindPopup(popup_d95206aa6edf45556027a081246fd4dc)\n",
              "        ;\n",
              "\n",
              "        \n",
              "    \n",
              "    \n",
              "            marker_6b7576eae4515bd2694c7568819cf636.bindTooltip(\n",
              "                `&lt;div&gt;\n",
              "                     SAI KUNG WEST COUNTRY PARK\n",
              "                 &lt;/div&gt;`,\n",
              "                {&quot;sticky&quot;: true}\n",
              "            );\n",
              "        \n",
              "    \n",
              "            var marker_c4b3b9fa57e766f7b419b9a68a5a0dd1 = L.marker(\n",
              "                [22.40962, 114.3743],\n",
              "                {}\n",
              "            ).addTo(marker_cluster_3fbd72b1f7e893ac495cea0d579b4792);\n",
              "        \n",
              "    \n",
              "        var popup_f8f4ece7da631aff3eb4aaf97fc4757a = L.popup({&quot;maxWidth&quot;: &quot;100%&quot;});\n",
              "\n",
              "        \n",
              "            \n",
              "                var html_f58686c9a84372fb1872767740898793 = $(`&lt;div id=&quot;html_f58686c9a84372fb1872767740898793&quot; style=&quot;width: 100.0%; height: 100.0%;&quot;&gt;&lt;b&gt;CountryPark:&lt;/b&gt; SAI KUNG EAST COUNTRY PARK,&lt;br&gt; &lt;b&gt;Name:&lt;/b&gt; Ham Tin Wan Camp Site,&lt;br&gt; &lt;a href=&quot;http://www.afcd.gov.hk/english/country/cou_vis/cou_vis_cam/cou_vis_cam_cam/cou_vis_cam_40_HamTinWan.html&quot; target=&quot;_blank&quot;&gt;Website&lt;/a&gt;&lt;/div&gt;`)[0];\n",
              "                popup_f8f4ece7da631aff3eb4aaf97fc4757a.setContent(html_f58686c9a84372fb1872767740898793);\n",
              "            \n",
              "        \n",
              "\n",
              "        marker_c4b3b9fa57e766f7b419b9a68a5a0dd1.bindPopup(popup_f8f4ece7da631aff3eb4aaf97fc4757a)\n",
              "        ;\n",
              "\n",
              "        \n",
              "    \n",
              "    \n",
              "            marker_c4b3b9fa57e766f7b419b9a68a5a0dd1.bindTooltip(\n",
              "                `&lt;div&gt;\n",
              "                     SAI KUNG EAST COUNTRY PARK\n",
              "                 &lt;/div&gt;`,\n",
              "                {&quot;sticky&quot;: true}\n",
              "            );\n",
              "        \n",
              "    \n",
              "            var marker_a79d7336225b216a4748ce00c05cbec8 = L.marker(\n",
              "                [22.22887, 113.88991],\n",
              "                {}\n",
              "            ).addTo(marker_cluster_3fbd72b1f7e893ac495cea0d579b4792);\n",
              "        \n",
              "    \n",
              "        var popup_a35429f7c339f663d9fc5e1ede0e2fd4 = L.popup({&quot;maxWidth&quot;: &quot;100%&quot;});\n",
              "\n",
              "        \n",
              "            \n",
              "                var html_4692c12dac7fc7fc5fc62702279635f9 = $(`&lt;div id=&quot;html_4692c12dac7fc7fc5fc62702279635f9&quot; style=&quot;width: 100.0%; height: 100.0%;&quot;&gt;&lt;b&gt;CountryPark:&lt;/b&gt; LANTAU SOUTH COUNTRY PARK,&lt;br&gt; &lt;b&gt;Name:&lt;/b&gt; Shek Pik Camp Site,&lt;br&gt; &lt;a href=&quot;http://www.afcd.gov.hk/english/country/cou_vis/cou_vis_cam/cou_vis_cam_cam/cou_vis_cam_39_ShekPik.html&quot; target=&quot;_blank&quot;&gt;Website&lt;/a&gt;&lt;/div&gt;`)[0];\n",
              "                popup_a35429f7c339f663d9fc5e1ede0e2fd4.setContent(html_4692c12dac7fc7fc5fc62702279635f9);\n",
              "            \n",
              "        \n",
              "\n",
              "        marker_a79d7336225b216a4748ce00c05cbec8.bindPopup(popup_a35429f7c339f663d9fc5e1ede0e2fd4)\n",
              "        ;\n",
              "\n",
              "        \n",
              "    \n",
              "    \n",
              "            marker_a79d7336225b216a4748ce00c05cbec8.bindTooltip(\n",
              "                `&lt;div&gt;\n",
              "                     LANTAU SOUTH COUNTRY PARK\n",
              "                 &lt;/div&gt;`,\n",
              "                {&quot;sticky&quot;: true}\n",
              "            );\n",
              "        \n",
              "    \n",
              "            var marker_b857e771f448a668d8fbef1a2ff48d43 = L.marker(\n",
              "                [22.51459, 114.23185],\n",
              "                {}\n",
              "            ).addTo(marker_cluster_3fbd72b1f7e893ac495cea0d579b4792);\n",
              "        \n",
              "    \n",
              "        var popup_42df358724b63eaba99aa1097c08849f = L.popup({&quot;maxWidth&quot;: &quot;100%&quot;});\n",
              "\n",
              "        \n",
              "            \n",
              "                var html_b46cde097eaecccb3b3d9512ae206777 = $(`&lt;div id=&quot;html_b46cde097eaecccb3b3d9512ae206777&quot; style=&quot;width: 100.0%; height: 100.0%;&quot;&gt;&lt;b&gt;CountryPark:&lt;/b&gt; PAT SIN LENG COUNTRY PARK,&lt;br&gt; &lt;b&gt;Name:&lt;/b&gt; Kong Ha Au Campsite,&lt;br&gt; &lt;a href=&quot;http://www.afcd.gov.hk/english/country/cou_vis/cou_vis_cam/cou_vis_cam_cam/cou_vis_cam_38_KongHaAu.html&quot; target=&quot;_blank&quot;&gt;Website&lt;/a&gt;&lt;/div&gt;`)[0];\n",
              "                popup_42df358724b63eaba99aa1097c08849f.setContent(html_b46cde097eaecccb3b3d9512ae206777);\n",
              "            \n",
              "        \n",
              "\n",
              "        marker_b857e771f448a668d8fbef1a2ff48d43.bindPopup(popup_42df358724b63eaba99aa1097c08849f)\n",
              "        ;\n",
              "\n",
              "        \n",
              "    \n",
              "    \n",
              "            marker_b857e771f448a668d8fbef1a2ff48d43.bindTooltip(\n",
              "                `&lt;div&gt;\n",
              "                     PAT SIN LENG COUNTRY PARK\n",
              "                 &lt;/div&gt;`,\n",
              "                {&quot;sticky&quot;: true}\n",
              "            );\n",
              "        \n",
              "    \n",
              "            var layer_control_784ea7c6b6b61eee16077ce8d0f58a62 = {\n",
              "                base_layers : {\n",
              "                    &quot;cartodbpositron&quot; : tile_layer_ed647245670313850f34b28e129281fc,\n",
              "                },\n",
              "                overlays :  {\n",
              "                },\n",
              "            };\n",
              "            L.control.layers(\n",
              "                layer_control_784ea7c6b6b61eee16077ce8d0f58a62.base_layers,\n",
              "                layer_control_784ea7c6b6b61eee16077ce8d0f58a62.overlays,\n",
              "                {&quot;autoZIndex&quot;: true, &quot;collapsed&quot;: true, &quot;position&quot;: &quot;topright&quot;}\n",
              "            ).addTo(map_03ccbe3826d722e79c7b8af03b0b0f18);\n",
              "        \n",
              "&lt;/script&gt;\n",
              "&lt;/html&gt;\" style=\"position:absolute;width:100%;height:100%;left:0;top:0;border:none !important;\" allowfullscreen webkitallowfullscreen mozallowfullscreen></iframe></div></div>"
            ],
            "text/plain": [
              "<folium.folium.Map at 0x7ffb75867610>"
            ]
          },
          "execution_count": 12,
          "metadata": {},
          "output_type": "execute_result"
        }
      ],
      "source": [
        "import pandas as pd\n",
        "from folium.plugins import MarkerCluster\n",
        "df = pd.read_csv('HK_Campsite_cleaned.csv')\n",
        "\n",
        "m = folium.Map(location=[22.3569, 114.1153], tiles='CartoDB positron', zoom_start=10, width='70%', height='70%')\n",
        "\n",
        "#Defines the MarkerCluster object\n",
        "marker_cluster = MarkerCluster(control=False)\n",
        "\n",
        "#Add a camp tag\n",
        "for i in range(len(df)):\n",
        "    folium.Marker(location=[df.iloc[i]['Latitude'], df.iloc[i]['Longitude']],\n",
        "                  tooltip=df.iloc[i]['CountryPark'],\n",
        "                  popup=f'<b>CountryPark:</b> {df.iloc[i][\"CountryPark\"]},<br> <b>Name:</b> {df.iloc[i][\"Name_of_Building/Facility\"]},<br> <a href=\"{df.iloc[i][\"Website\"]}\" target=\"_blank\">Website</a>',\n",
        "                  ).add_to(marker_cluster)\n",
        "\n",
        "#Add a MarkerCluster object to the map\n",
        "marker_cluster.add_to(m)\n",
        "folium.LayerControl().add_to(m)\n",
        "\n",
        "m"
      ]
    },
    {
      "attachments": {},
      "cell_type": "markdown",
      "metadata": {
        "id": "HtSbja9MjycV"
      },
      "source": [
        "After analysis, we found that most of the camps in Hong Kong are located in Kowloon and the New Territories, and there is almost no distribution on Hong Kong Island. Among them, Kowloon has 17 camps, 15 of which are located in SAI KUNG country park, which together with the pie chart data visualization analysis later can find that it accounts for 36.4% of the total number of camps in Hong Kong. Combining the geographical location in the map and the actual reality analysis, we can obtain the distribution reasons, that is, Hong Kong Island is small in area, the terrain is also more complex, the terrain is steep, and the wild open space and natural resources are relatively limited, so it is not conducive to setting up suitable camps. At the same time, there are many urban facilities such as residents, shops, hotels and other urban facilities on Hong Kong Island, which are relatively lacking in natural scenery and do not meet the environmental conditions required by the camp. As a result, most of Hong Kong's campsites are located in the New Territories and Kowloon areas, which have more natural attractions such as mountains, beaches, country parks, etc., which facilitate the operation of the camps, and are close to the urban area, which is also convenient for citizens and tourists to go camping, barbecue, nature exploration and other activities.  Most of the remaining camps are spread over Lantau Island, with 12. Combined with the geographical location and actual situation analysis, we can see that Lantau Island is one of the largest outlying islands in Hong Kong. Compared with Hong Kong Island and Kowloon Peninsula, Lantau Island is strategically located in the south of Hong Kong, with a warm and comfortable climate, which is a great place for outdoor activities; At the same time, it is rich in natural resources, the terrain is lofty and mountainous, and there are many national and regional parks, such as the southern coast of the World Natural Heritage Site, Tai O and so on. At the same time, Lantau Island is relatively sparsely populated and less dense, while the camp is mainly for short-term use, and there is no need to consider too many resident facilities and public services, whether it is tourists or camp special activities, it will not bring too much negative impact to local residents.\n",
        "\n",
        "\n",
        "***Code***\n",
        "In this step, we have added the interactive function of the map: each campsite is divided into different areas and parks in Hong Kong layer by layer, and the number of camps and the specific location of the camp in each area can be intuitively seen according to the zooming in and out of the map; At the same time, the function of clicking to expand the details is set in the icon, which can not only display the name of the camp and which park it belongs to, but also embed the webpage of each camp, allowing users to click to enter the official introduction webpage of the camp, which can make it easier and faster for users to understand the specific and accurate information of each camp.  In the step, we set the color of each floor to do a simple classification, so that users can intuitively see the number and location of camps in different areas of Hong Kong, and can simply and intuitively select the location of the camp closest or closer to them according to their location.  In the step of embedding the camp webpage icon to realize the hyperlink, we realized the function of embedding the website corresponding to each camp into our map, and clicking it can be jumped, so that users only need to click on the relevant link to jump directly to the official website of the camp or other relevant information pages, such as camp reservation, introduction, water source use, etc., which greatly improves the efficiency and convenience of users, and also increases the user's understanding of each camp, thereby helping them make better decisions. We created a Popup with CountryPark and Name_of_Building/Facility for each camp. Added an HTML anchor element link to Popup, with Website as an href parameter, used to click on the link and jump to the camp's website. This link is created by referencing the Website field in the DataFrame in '"
      ]
    },
    {
      "attachments": {},
      "cell_type": "markdown",
      "metadata": {
        "id": "jclhiD8j_JQu"
      },
      "source": [
        "# Visual analytics"
      ]
    },
    {
      "attachments": {},
      "cell_type": "markdown",
      "metadata": {
        "id": "KwZusWSXZ4-B"
      },
      "source": [
        "## Interactive pie chart\n"
      ]
    },
    {
      "cell_type": "code",
      "execution_count": 13,
      "metadata": {
        "colab": {
          "base_uri": "https://localhost:8080/"
        },
        "id": "Z3Zxfe4bekiH",
        "outputId": "7781882c-37da-4aec-ccd0-ef621d887025"
      },
      "outputs": [
        {
          "name": "stdout",
          "output_type": "stream",
          "text": [
            "Looking in indexes: https://pypi.org/simple, https://us-python.pkg.dev/colab-wheels/public/simple/\n",
            "Requirement already satisfied: plotly in /usr/local/lib/python3.10/dist-packages (5.13.1)\n",
            "Collecting plotly\n",
            "  Downloading plotly-5.14.1-py2.py3-none-any.whl (15.3 MB)\n",
            "\u001b[2K     \u001b[90m━━━━━━━━━━━━━━━━━━━━━━━━━━━━━━━━━━━━━━━━\u001b[0m \u001b[32m15.3/15.3 MB\u001b[0m \u001b[31m48.6 MB/s\u001b[0m eta \u001b[36m0:00:00\u001b[0m\n",
            "\u001b[?25hRequirement already satisfied: tenacity>=6.2.0 in /usr/local/lib/python3.10/dist-packages (from plotly) (8.2.2)\n",
            "Requirement already satisfied: packaging in /usr/local/lib/python3.10/dist-packages (from plotly) (23.1)\n",
            "Installing collected packages: plotly\n",
            "  Attempting uninstall: plotly\n",
            "    Found existing installation: plotly 5.13.1\n",
            "    Uninstalling plotly-5.13.1:\n",
            "      Successfully uninstalled plotly-5.13.1\n",
            "Successfully installed plotly-5.14.1\n"
          ]
        }
      ],
      "source": [
        "pip install plotly --upgrade"
      ]
    },
    {
      "cell_type": "code",
      "execution_count": 10,
      "metadata": {
        "colab": {
          "base_uri": "https://localhost:8080/",
          "height": 1000
        },
        "id": "fa3s1tFW_MeM",
        "outputId": "b99306cf-a9d9-46ca-8736-afceefcdd1d0"
      },
      "outputs": [
        {
          "data": {
            "application/vnd.plotly.v1+json": {
              "config": {
                "plotlyServerURL": "https://plot.ly"
              },
              "data": [
                {
                  "domain": {
                    "x": [
                      0,
                      1
                    ],
                    "y": [
                      0,
                      1
                    ]
                  },
                  "hovertemplate": "CountryPark=%{label}<br>Name_of_Building/Facility=%{value}<extra></extra>",
                  "labels": [
                    "LANTAU NORTH COUNTRY PARK",
                    "LANTAU SOUTH COUNTRY PARK",
                    "MA ON SHAN COUNTRY PARK",
                    "PAT SIN LENG COUNTRY PARK",
                    "PLOVER COVE (EXTENSION) COUNTRY PARK",
                    "PLOVER COVE COUNTRY PARK",
                    "SAI KUNG EAST COUNTRY PARK",
                    "SAI KUNG WEST COUNTRY PARK",
                    "SAI KUNG WEST COUNTRY PARK (WAN TSAI EXTENSION)",
                    "SHING MUN COUNTRY PARK",
                    "TAI LAM COUNTRY PARK",
                    "TAI MO SHAN COUNTRY PARK",
                    "TUNG LUNG FORT SPECIAL AREA"
                  ],
                  "legendgroup": "",
                  "name": "",
                  "showlegend": true,
                  "type": "pie",
                  "values": [
                    1,
                    11,
                    2,
                    4,
                    1,
                    1,
                    9,
                    4,
                    2,
                    1,
                    3,
                    1,
                    1
                  ]
                }
              ],
              "layout": {
                "legend": {
                  "tracegroupgap": 0
                },
                "template": {
                  "data": {
                    "bar": [
                      {
                        "error_x": {
                          "color": "#2a3f5f"
                        },
                        "error_y": {
                          "color": "#2a3f5f"
                        },
                        "marker": {
                          "line": {
                            "color": "#E5ECF6",
                            "width": 0.5
                          },
                          "pattern": {
                            "fillmode": "overlay",
                            "size": 10,
                            "solidity": 0.2
                          }
                        },
                        "type": "bar"
                      }
                    ],
                    "barpolar": [
                      {
                        "marker": {
                          "line": {
                            "color": "#E5ECF6",
                            "width": 0.5
                          },
                          "pattern": {
                            "fillmode": "overlay",
                            "size": 10,
                            "solidity": 0.2
                          }
                        },
                        "type": "barpolar"
                      }
                    ],
                    "carpet": [
                      {
                        "aaxis": {
                          "endlinecolor": "#2a3f5f",
                          "gridcolor": "white",
                          "linecolor": "white",
                          "minorgridcolor": "white",
                          "startlinecolor": "#2a3f5f"
                        },
                        "baxis": {
                          "endlinecolor": "#2a3f5f",
                          "gridcolor": "white",
                          "linecolor": "white",
                          "minorgridcolor": "white",
                          "startlinecolor": "#2a3f5f"
                        },
                        "type": "carpet"
                      }
                    ],
                    "choropleth": [
                      {
                        "colorbar": {
                          "outlinewidth": 0,
                          "ticks": ""
                        },
                        "type": "choropleth"
                      }
                    ],
                    "contour": [
                      {
                        "colorbar": {
                          "outlinewidth": 0,
                          "ticks": ""
                        },
                        "colorscale": [
                          [
                            0,
                            "#0d0887"
                          ],
                          [
                            0.1111111111111111,
                            "#46039f"
                          ],
                          [
                            0.2222222222222222,
                            "#7201a8"
                          ],
                          [
                            0.3333333333333333,
                            "#9c179e"
                          ],
                          [
                            0.4444444444444444,
                            "#bd3786"
                          ],
                          [
                            0.5555555555555556,
                            "#d8576b"
                          ],
                          [
                            0.6666666666666666,
                            "#ed7953"
                          ],
                          [
                            0.7777777777777778,
                            "#fb9f3a"
                          ],
                          [
                            0.8888888888888888,
                            "#fdca26"
                          ],
                          [
                            1,
                            "#f0f921"
                          ]
                        ],
                        "type": "contour"
                      }
                    ],
                    "contourcarpet": [
                      {
                        "colorbar": {
                          "outlinewidth": 0,
                          "ticks": ""
                        },
                        "type": "contourcarpet"
                      }
                    ],
                    "heatmap": [
                      {
                        "colorbar": {
                          "outlinewidth": 0,
                          "ticks": ""
                        },
                        "colorscale": [
                          [
                            0,
                            "#0d0887"
                          ],
                          [
                            0.1111111111111111,
                            "#46039f"
                          ],
                          [
                            0.2222222222222222,
                            "#7201a8"
                          ],
                          [
                            0.3333333333333333,
                            "#9c179e"
                          ],
                          [
                            0.4444444444444444,
                            "#bd3786"
                          ],
                          [
                            0.5555555555555556,
                            "#d8576b"
                          ],
                          [
                            0.6666666666666666,
                            "#ed7953"
                          ],
                          [
                            0.7777777777777778,
                            "#fb9f3a"
                          ],
                          [
                            0.8888888888888888,
                            "#fdca26"
                          ],
                          [
                            1,
                            "#f0f921"
                          ]
                        ],
                        "type": "heatmap"
                      }
                    ],
                    "heatmapgl": [
                      {
                        "colorbar": {
                          "outlinewidth": 0,
                          "ticks": ""
                        },
                        "colorscale": [
                          [
                            0,
                            "#0d0887"
                          ],
                          [
                            0.1111111111111111,
                            "#46039f"
                          ],
                          [
                            0.2222222222222222,
                            "#7201a8"
                          ],
                          [
                            0.3333333333333333,
                            "#9c179e"
                          ],
                          [
                            0.4444444444444444,
                            "#bd3786"
                          ],
                          [
                            0.5555555555555556,
                            "#d8576b"
                          ],
                          [
                            0.6666666666666666,
                            "#ed7953"
                          ],
                          [
                            0.7777777777777778,
                            "#fb9f3a"
                          ],
                          [
                            0.8888888888888888,
                            "#fdca26"
                          ],
                          [
                            1,
                            "#f0f921"
                          ]
                        ],
                        "type": "heatmapgl"
                      }
                    ],
                    "histogram": [
                      {
                        "marker": {
                          "pattern": {
                            "fillmode": "overlay",
                            "size": 10,
                            "solidity": 0.2
                          }
                        },
                        "type": "histogram"
                      }
                    ],
                    "histogram2d": [
                      {
                        "colorbar": {
                          "outlinewidth": 0,
                          "ticks": ""
                        },
                        "colorscale": [
                          [
                            0,
                            "#0d0887"
                          ],
                          [
                            0.1111111111111111,
                            "#46039f"
                          ],
                          [
                            0.2222222222222222,
                            "#7201a8"
                          ],
                          [
                            0.3333333333333333,
                            "#9c179e"
                          ],
                          [
                            0.4444444444444444,
                            "#bd3786"
                          ],
                          [
                            0.5555555555555556,
                            "#d8576b"
                          ],
                          [
                            0.6666666666666666,
                            "#ed7953"
                          ],
                          [
                            0.7777777777777778,
                            "#fb9f3a"
                          ],
                          [
                            0.8888888888888888,
                            "#fdca26"
                          ],
                          [
                            1,
                            "#f0f921"
                          ]
                        ],
                        "type": "histogram2d"
                      }
                    ],
                    "histogram2dcontour": [
                      {
                        "colorbar": {
                          "outlinewidth": 0,
                          "ticks": ""
                        },
                        "colorscale": [
                          [
                            0,
                            "#0d0887"
                          ],
                          [
                            0.1111111111111111,
                            "#46039f"
                          ],
                          [
                            0.2222222222222222,
                            "#7201a8"
                          ],
                          [
                            0.3333333333333333,
                            "#9c179e"
                          ],
                          [
                            0.4444444444444444,
                            "#bd3786"
                          ],
                          [
                            0.5555555555555556,
                            "#d8576b"
                          ],
                          [
                            0.6666666666666666,
                            "#ed7953"
                          ],
                          [
                            0.7777777777777778,
                            "#fb9f3a"
                          ],
                          [
                            0.8888888888888888,
                            "#fdca26"
                          ],
                          [
                            1,
                            "#f0f921"
                          ]
                        ],
                        "type": "histogram2dcontour"
                      }
                    ],
                    "mesh3d": [
                      {
                        "colorbar": {
                          "outlinewidth": 0,
                          "ticks": ""
                        },
                        "type": "mesh3d"
                      }
                    ],
                    "parcoords": [
                      {
                        "line": {
                          "colorbar": {
                            "outlinewidth": 0,
                            "ticks": ""
                          }
                        },
                        "type": "parcoords"
                      }
                    ],
                    "pie": [
                      {
                        "automargin": true,
                        "type": "pie"
                      }
                    ],
                    "scatter": [
                      {
                        "fillpattern": {
                          "fillmode": "overlay",
                          "size": 10,
                          "solidity": 0.2
                        },
                        "type": "scatter"
                      }
                    ],
                    "scatter3d": [
                      {
                        "line": {
                          "colorbar": {
                            "outlinewidth": 0,
                            "ticks": ""
                          }
                        },
                        "marker": {
                          "colorbar": {
                            "outlinewidth": 0,
                            "ticks": ""
                          }
                        },
                        "type": "scatter3d"
                      }
                    ],
                    "scattercarpet": [
                      {
                        "marker": {
                          "colorbar": {
                            "outlinewidth": 0,
                            "ticks": ""
                          }
                        },
                        "type": "scattercarpet"
                      }
                    ],
                    "scattergeo": [
                      {
                        "marker": {
                          "colorbar": {
                            "outlinewidth": 0,
                            "ticks": ""
                          }
                        },
                        "type": "scattergeo"
                      }
                    ],
                    "scattergl": [
                      {
                        "marker": {
                          "colorbar": {
                            "outlinewidth": 0,
                            "ticks": ""
                          }
                        },
                        "type": "scattergl"
                      }
                    ],
                    "scattermapbox": [
                      {
                        "marker": {
                          "colorbar": {
                            "outlinewidth": 0,
                            "ticks": ""
                          }
                        },
                        "type": "scattermapbox"
                      }
                    ],
                    "scatterpolar": [
                      {
                        "marker": {
                          "colorbar": {
                            "outlinewidth": 0,
                            "ticks": ""
                          }
                        },
                        "type": "scatterpolar"
                      }
                    ],
                    "scatterpolargl": [
                      {
                        "marker": {
                          "colorbar": {
                            "outlinewidth": 0,
                            "ticks": ""
                          }
                        },
                        "type": "scatterpolargl"
                      }
                    ],
                    "scatterternary": [
                      {
                        "marker": {
                          "colorbar": {
                            "outlinewidth": 0,
                            "ticks": ""
                          }
                        },
                        "type": "scatterternary"
                      }
                    ],
                    "surface": [
                      {
                        "colorbar": {
                          "outlinewidth": 0,
                          "ticks": ""
                        },
                        "colorscale": [
                          [
                            0,
                            "#0d0887"
                          ],
                          [
                            0.1111111111111111,
                            "#46039f"
                          ],
                          [
                            0.2222222222222222,
                            "#7201a8"
                          ],
                          [
                            0.3333333333333333,
                            "#9c179e"
                          ],
                          [
                            0.4444444444444444,
                            "#bd3786"
                          ],
                          [
                            0.5555555555555556,
                            "#d8576b"
                          ],
                          [
                            0.6666666666666666,
                            "#ed7953"
                          ],
                          [
                            0.7777777777777778,
                            "#fb9f3a"
                          ],
                          [
                            0.8888888888888888,
                            "#fdca26"
                          ],
                          [
                            1,
                            "#f0f921"
                          ]
                        ],
                        "type": "surface"
                      }
                    ],
                    "table": [
                      {
                        "cells": {
                          "fill": {
                            "color": "#EBF0F8"
                          },
                          "line": {
                            "color": "white"
                          }
                        },
                        "header": {
                          "fill": {
                            "color": "#C8D4E3"
                          },
                          "line": {
                            "color": "white"
                          }
                        },
                        "type": "table"
                      }
                    ]
                  },
                  "layout": {
                    "annotationdefaults": {
                      "arrowcolor": "#2a3f5f",
                      "arrowhead": 0,
                      "arrowwidth": 1
                    },
                    "autotypenumbers": "strict",
                    "coloraxis": {
                      "colorbar": {
                        "outlinewidth": 0,
                        "ticks": ""
                      }
                    },
                    "colorscale": {
                      "diverging": [
                        [
                          0,
                          "#8e0152"
                        ],
                        [
                          0.1,
                          "#c51b7d"
                        ],
                        [
                          0.2,
                          "#de77ae"
                        ],
                        [
                          0.3,
                          "#f1b6da"
                        ],
                        [
                          0.4,
                          "#fde0ef"
                        ],
                        [
                          0.5,
                          "#f7f7f7"
                        ],
                        [
                          0.6,
                          "#e6f5d0"
                        ],
                        [
                          0.7,
                          "#b8e186"
                        ],
                        [
                          0.8,
                          "#7fbc41"
                        ],
                        [
                          0.9,
                          "#4d9221"
                        ],
                        [
                          1,
                          "#276419"
                        ]
                      ],
                      "sequential": [
                        [
                          0,
                          "#0d0887"
                        ],
                        [
                          0.1111111111111111,
                          "#46039f"
                        ],
                        [
                          0.2222222222222222,
                          "#7201a8"
                        ],
                        [
                          0.3333333333333333,
                          "#9c179e"
                        ],
                        [
                          0.4444444444444444,
                          "#bd3786"
                        ],
                        [
                          0.5555555555555556,
                          "#d8576b"
                        ],
                        [
                          0.6666666666666666,
                          "#ed7953"
                        ],
                        [
                          0.7777777777777778,
                          "#fb9f3a"
                        ],
                        [
                          0.8888888888888888,
                          "#fdca26"
                        ],
                        [
                          1,
                          "#f0f921"
                        ]
                      ],
                      "sequentialminus": [
                        [
                          0,
                          "#0d0887"
                        ],
                        [
                          0.1111111111111111,
                          "#46039f"
                        ],
                        [
                          0.2222222222222222,
                          "#7201a8"
                        ],
                        [
                          0.3333333333333333,
                          "#9c179e"
                        ],
                        [
                          0.4444444444444444,
                          "#bd3786"
                        ],
                        [
                          0.5555555555555556,
                          "#d8576b"
                        ],
                        [
                          0.6666666666666666,
                          "#ed7953"
                        ],
                        [
                          0.7777777777777778,
                          "#fb9f3a"
                        ],
                        [
                          0.8888888888888888,
                          "#fdca26"
                        ],
                        [
                          1,
                          "#f0f921"
                        ]
                      ]
                    },
                    "colorway": [
                      "#636efa",
                      "#EF553B",
                      "#00cc96",
                      "#ab63fa",
                      "#FFA15A",
                      "#19d3f3",
                      "#FF6692",
                      "#B6E880",
                      "#FF97FF",
                      "#FECB52"
                    ],
                    "font": {
                      "color": "#2a3f5f"
                    },
                    "geo": {
                      "bgcolor": "white",
                      "lakecolor": "white",
                      "landcolor": "#E5ECF6",
                      "showlakes": true,
                      "showland": true,
                      "subunitcolor": "white"
                    },
                    "hoverlabel": {
                      "align": "left"
                    },
                    "hovermode": "closest",
                    "mapbox": {
                      "style": "light"
                    },
                    "paper_bgcolor": "white",
                    "plot_bgcolor": "#E5ECF6",
                    "polar": {
                      "angularaxis": {
                        "gridcolor": "white",
                        "linecolor": "white",
                        "ticks": ""
                      },
                      "bgcolor": "#E5ECF6",
                      "radialaxis": {
                        "gridcolor": "white",
                        "linecolor": "white",
                        "ticks": ""
                      }
                    },
                    "scene": {
                      "xaxis": {
                        "backgroundcolor": "#E5ECF6",
                        "gridcolor": "white",
                        "gridwidth": 2,
                        "linecolor": "white",
                        "showbackground": true,
                        "ticks": "",
                        "zerolinecolor": "white"
                      },
                      "yaxis": {
                        "backgroundcolor": "#E5ECF6",
                        "gridcolor": "white",
                        "gridwidth": 2,
                        "linecolor": "white",
                        "showbackground": true,
                        "ticks": "",
                        "zerolinecolor": "white"
                      },
                      "zaxis": {
                        "backgroundcolor": "#E5ECF6",
                        "gridcolor": "white",
                        "gridwidth": 2,
                        "linecolor": "white",
                        "showbackground": true,
                        "ticks": "",
                        "zerolinecolor": "white"
                      }
                    },
                    "shapedefaults": {
                      "line": {
                        "color": "#2a3f5f"
                      }
                    },
                    "ternary": {
                      "aaxis": {
                        "gridcolor": "white",
                        "linecolor": "white",
                        "ticks": ""
                      },
                      "baxis": {
                        "gridcolor": "white",
                        "linecolor": "white",
                        "ticks": ""
                      },
                      "bgcolor": "#E5ECF6",
                      "caxis": {
                        "gridcolor": "white",
                        "linecolor": "white",
                        "ticks": ""
                      }
                    },
                    "title": {
                      "x": 0.05
                    },
                    "xaxis": {
                      "automargin": true,
                      "gridcolor": "white",
                      "linecolor": "white",
                      "ticks": "",
                      "title": {
                        "standoff": 15
                      },
                      "zerolinecolor": "white",
                      "zerolinewidth": 2
                    },
                    "yaxis": {
                      "automargin": true,
                      "gridcolor": "white",
                      "linecolor": "white",
                      "ticks": "",
                      "title": {
                        "standoff": 15
                      },
                      "zerolinecolor": "white",
                      "zerolinewidth": 2
                    }
                  }
                },
                "title": {
                  "text": "Campsites by Country Park"
                }
              }
            }
          },
          "metadata": {},
          "output_type": "display_data"
        },
        {
          "data": {
            "application/vnd.plotly.v1+json": {
              "config": {
                "plotlyServerURL": "https://plot.ly"
              },
              "data": [
                {
                  "domain": {
                    "x": [
                      0,
                      1
                    ],
                    "y": [
                      0,
                      1
                    ]
                  },
                  "hovertemplate": "Source_of_water=%{label}<br>Name_of_Building/Facility=%{value}<extra></extra>",
                  "labels": [
                    "FLUSHING TOILET",
                    "STREAM WATER (SEASONAL SUPPLY)",
                    "TAP"
                  ],
                  "legendgroup": "",
                  "name": "",
                  "showlegend": true,
                  "type": "pie",
                  "values": [
                    3,
                    23,
                    15
                  ]
                }
              ],
              "layout": {
                "legend": {
                  "tracegroupgap": 0
                },
                "template": {
                  "data": {
                    "bar": [
                      {
                        "error_x": {
                          "color": "#2a3f5f"
                        },
                        "error_y": {
                          "color": "#2a3f5f"
                        },
                        "marker": {
                          "line": {
                            "color": "#E5ECF6",
                            "width": 0.5
                          },
                          "pattern": {
                            "fillmode": "overlay",
                            "size": 10,
                            "solidity": 0.2
                          }
                        },
                        "type": "bar"
                      }
                    ],
                    "barpolar": [
                      {
                        "marker": {
                          "line": {
                            "color": "#E5ECF6",
                            "width": 0.5
                          },
                          "pattern": {
                            "fillmode": "overlay",
                            "size": 10,
                            "solidity": 0.2
                          }
                        },
                        "type": "barpolar"
                      }
                    ],
                    "carpet": [
                      {
                        "aaxis": {
                          "endlinecolor": "#2a3f5f",
                          "gridcolor": "white",
                          "linecolor": "white",
                          "minorgridcolor": "white",
                          "startlinecolor": "#2a3f5f"
                        },
                        "baxis": {
                          "endlinecolor": "#2a3f5f",
                          "gridcolor": "white",
                          "linecolor": "white",
                          "minorgridcolor": "white",
                          "startlinecolor": "#2a3f5f"
                        },
                        "type": "carpet"
                      }
                    ],
                    "choropleth": [
                      {
                        "colorbar": {
                          "outlinewidth": 0,
                          "ticks": ""
                        },
                        "type": "choropleth"
                      }
                    ],
                    "contour": [
                      {
                        "colorbar": {
                          "outlinewidth": 0,
                          "ticks": ""
                        },
                        "colorscale": [
                          [
                            0,
                            "#0d0887"
                          ],
                          [
                            0.1111111111111111,
                            "#46039f"
                          ],
                          [
                            0.2222222222222222,
                            "#7201a8"
                          ],
                          [
                            0.3333333333333333,
                            "#9c179e"
                          ],
                          [
                            0.4444444444444444,
                            "#bd3786"
                          ],
                          [
                            0.5555555555555556,
                            "#d8576b"
                          ],
                          [
                            0.6666666666666666,
                            "#ed7953"
                          ],
                          [
                            0.7777777777777778,
                            "#fb9f3a"
                          ],
                          [
                            0.8888888888888888,
                            "#fdca26"
                          ],
                          [
                            1,
                            "#f0f921"
                          ]
                        ],
                        "type": "contour"
                      }
                    ],
                    "contourcarpet": [
                      {
                        "colorbar": {
                          "outlinewidth": 0,
                          "ticks": ""
                        },
                        "type": "contourcarpet"
                      }
                    ],
                    "heatmap": [
                      {
                        "colorbar": {
                          "outlinewidth": 0,
                          "ticks": ""
                        },
                        "colorscale": [
                          [
                            0,
                            "#0d0887"
                          ],
                          [
                            0.1111111111111111,
                            "#46039f"
                          ],
                          [
                            0.2222222222222222,
                            "#7201a8"
                          ],
                          [
                            0.3333333333333333,
                            "#9c179e"
                          ],
                          [
                            0.4444444444444444,
                            "#bd3786"
                          ],
                          [
                            0.5555555555555556,
                            "#d8576b"
                          ],
                          [
                            0.6666666666666666,
                            "#ed7953"
                          ],
                          [
                            0.7777777777777778,
                            "#fb9f3a"
                          ],
                          [
                            0.8888888888888888,
                            "#fdca26"
                          ],
                          [
                            1,
                            "#f0f921"
                          ]
                        ],
                        "type": "heatmap"
                      }
                    ],
                    "heatmapgl": [
                      {
                        "colorbar": {
                          "outlinewidth": 0,
                          "ticks": ""
                        },
                        "colorscale": [
                          [
                            0,
                            "#0d0887"
                          ],
                          [
                            0.1111111111111111,
                            "#46039f"
                          ],
                          [
                            0.2222222222222222,
                            "#7201a8"
                          ],
                          [
                            0.3333333333333333,
                            "#9c179e"
                          ],
                          [
                            0.4444444444444444,
                            "#bd3786"
                          ],
                          [
                            0.5555555555555556,
                            "#d8576b"
                          ],
                          [
                            0.6666666666666666,
                            "#ed7953"
                          ],
                          [
                            0.7777777777777778,
                            "#fb9f3a"
                          ],
                          [
                            0.8888888888888888,
                            "#fdca26"
                          ],
                          [
                            1,
                            "#f0f921"
                          ]
                        ],
                        "type": "heatmapgl"
                      }
                    ],
                    "histogram": [
                      {
                        "marker": {
                          "pattern": {
                            "fillmode": "overlay",
                            "size": 10,
                            "solidity": 0.2
                          }
                        },
                        "type": "histogram"
                      }
                    ],
                    "histogram2d": [
                      {
                        "colorbar": {
                          "outlinewidth": 0,
                          "ticks": ""
                        },
                        "colorscale": [
                          [
                            0,
                            "#0d0887"
                          ],
                          [
                            0.1111111111111111,
                            "#46039f"
                          ],
                          [
                            0.2222222222222222,
                            "#7201a8"
                          ],
                          [
                            0.3333333333333333,
                            "#9c179e"
                          ],
                          [
                            0.4444444444444444,
                            "#bd3786"
                          ],
                          [
                            0.5555555555555556,
                            "#d8576b"
                          ],
                          [
                            0.6666666666666666,
                            "#ed7953"
                          ],
                          [
                            0.7777777777777778,
                            "#fb9f3a"
                          ],
                          [
                            0.8888888888888888,
                            "#fdca26"
                          ],
                          [
                            1,
                            "#f0f921"
                          ]
                        ],
                        "type": "histogram2d"
                      }
                    ],
                    "histogram2dcontour": [
                      {
                        "colorbar": {
                          "outlinewidth": 0,
                          "ticks": ""
                        },
                        "colorscale": [
                          [
                            0,
                            "#0d0887"
                          ],
                          [
                            0.1111111111111111,
                            "#46039f"
                          ],
                          [
                            0.2222222222222222,
                            "#7201a8"
                          ],
                          [
                            0.3333333333333333,
                            "#9c179e"
                          ],
                          [
                            0.4444444444444444,
                            "#bd3786"
                          ],
                          [
                            0.5555555555555556,
                            "#d8576b"
                          ],
                          [
                            0.6666666666666666,
                            "#ed7953"
                          ],
                          [
                            0.7777777777777778,
                            "#fb9f3a"
                          ],
                          [
                            0.8888888888888888,
                            "#fdca26"
                          ],
                          [
                            1,
                            "#f0f921"
                          ]
                        ],
                        "type": "histogram2dcontour"
                      }
                    ],
                    "mesh3d": [
                      {
                        "colorbar": {
                          "outlinewidth": 0,
                          "ticks": ""
                        },
                        "type": "mesh3d"
                      }
                    ],
                    "parcoords": [
                      {
                        "line": {
                          "colorbar": {
                            "outlinewidth": 0,
                            "ticks": ""
                          }
                        },
                        "type": "parcoords"
                      }
                    ],
                    "pie": [
                      {
                        "automargin": true,
                        "type": "pie"
                      }
                    ],
                    "scatter": [
                      {
                        "fillpattern": {
                          "fillmode": "overlay",
                          "size": 10,
                          "solidity": 0.2
                        },
                        "type": "scatter"
                      }
                    ],
                    "scatter3d": [
                      {
                        "line": {
                          "colorbar": {
                            "outlinewidth": 0,
                            "ticks": ""
                          }
                        },
                        "marker": {
                          "colorbar": {
                            "outlinewidth": 0,
                            "ticks": ""
                          }
                        },
                        "type": "scatter3d"
                      }
                    ],
                    "scattercarpet": [
                      {
                        "marker": {
                          "colorbar": {
                            "outlinewidth": 0,
                            "ticks": ""
                          }
                        },
                        "type": "scattercarpet"
                      }
                    ],
                    "scattergeo": [
                      {
                        "marker": {
                          "colorbar": {
                            "outlinewidth": 0,
                            "ticks": ""
                          }
                        },
                        "type": "scattergeo"
                      }
                    ],
                    "scattergl": [
                      {
                        "marker": {
                          "colorbar": {
                            "outlinewidth": 0,
                            "ticks": ""
                          }
                        },
                        "type": "scattergl"
                      }
                    ],
                    "scattermapbox": [
                      {
                        "marker": {
                          "colorbar": {
                            "outlinewidth": 0,
                            "ticks": ""
                          }
                        },
                        "type": "scattermapbox"
                      }
                    ],
                    "scatterpolar": [
                      {
                        "marker": {
                          "colorbar": {
                            "outlinewidth": 0,
                            "ticks": ""
                          }
                        },
                        "type": "scatterpolar"
                      }
                    ],
                    "scatterpolargl": [
                      {
                        "marker": {
                          "colorbar": {
                            "outlinewidth": 0,
                            "ticks": ""
                          }
                        },
                        "type": "scatterpolargl"
                      }
                    ],
                    "scatterternary": [
                      {
                        "marker": {
                          "colorbar": {
                            "outlinewidth": 0,
                            "ticks": ""
                          }
                        },
                        "type": "scatterternary"
                      }
                    ],
                    "surface": [
                      {
                        "colorbar": {
                          "outlinewidth": 0,
                          "ticks": ""
                        },
                        "colorscale": [
                          [
                            0,
                            "#0d0887"
                          ],
                          [
                            0.1111111111111111,
                            "#46039f"
                          ],
                          [
                            0.2222222222222222,
                            "#7201a8"
                          ],
                          [
                            0.3333333333333333,
                            "#9c179e"
                          ],
                          [
                            0.4444444444444444,
                            "#bd3786"
                          ],
                          [
                            0.5555555555555556,
                            "#d8576b"
                          ],
                          [
                            0.6666666666666666,
                            "#ed7953"
                          ],
                          [
                            0.7777777777777778,
                            "#fb9f3a"
                          ],
                          [
                            0.8888888888888888,
                            "#fdca26"
                          ],
                          [
                            1,
                            "#f0f921"
                          ]
                        ],
                        "type": "surface"
                      }
                    ],
                    "table": [
                      {
                        "cells": {
                          "fill": {
                            "color": "#EBF0F8"
                          },
                          "line": {
                            "color": "white"
                          }
                        },
                        "header": {
                          "fill": {
                            "color": "#C8D4E3"
                          },
                          "line": {
                            "color": "white"
                          }
                        },
                        "type": "table"
                      }
                    ]
                  },
                  "layout": {
                    "annotationdefaults": {
                      "arrowcolor": "#2a3f5f",
                      "arrowhead": 0,
                      "arrowwidth": 1
                    },
                    "autotypenumbers": "strict",
                    "coloraxis": {
                      "colorbar": {
                        "outlinewidth": 0,
                        "ticks": ""
                      }
                    },
                    "colorscale": {
                      "diverging": [
                        [
                          0,
                          "#8e0152"
                        ],
                        [
                          0.1,
                          "#c51b7d"
                        ],
                        [
                          0.2,
                          "#de77ae"
                        ],
                        [
                          0.3,
                          "#f1b6da"
                        ],
                        [
                          0.4,
                          "#fde0ef"
                        ],
                        [
                          0.5,
                          "#f7f7f7"
                        ],
                        [
                          0.6,
                          "#e6f5d0"
                        ],
                        [
                          0.7,
                          "#b8e186"
                        ],
                        [
                          0.8,
                          "#7fbc41"
                        ],
                        [
                          0.9,
                          "#4d9221"
                        ],
                        [
                          1,
                          "#276419"
                        ]
                      ],
                      "sequential": [
                        [
                          0,
                          "#0d0887"
                        ],
                        [
                          0.1111111111111111,
                          "#46039f"
                        ],
                        [
                          0.2222222222222222,
                          "#7201a8"
                        ],
                        [
                          0.3333333333333333,
                          "#9c179e"
                        ],
                        [
                          0.4444444444444444,
                          "#bd3786"
                        ],
                        [
                          0.5555555555555556,
                          "#d8576b"
                        ],
                        [
                          0.6666666666666666,
                          "#ed7953"
                        ],
                        [
                          0.7777777777777778,
                          "#fb9f3a"
                        ],
                        [
                          0.8888888888888888,
                          "#fdca26"
                        ],
                        [
                          1,
                          "#f0f921"
                        ]
                      ],
                      "sequentialminus": [
                        [
                          0,
                          "#0d0887"
                        ],
                        [
                          0.1111111111111111,
                          "#46039f"
                        ],
                        [
                          0.2222222222222222,
                          "#7201a8"
                        ],
                        [
                          0.3333333333333333,
                          "#9c179e"
                        ],
                        [
                          0.4444444444444444,
                          "#bd3786"
                        ],
                        [
                          0.5555555555555556,
                          "#d8576b"
                        ],
                        [
                          0.6666666666666666,
                          "#ed7953"
                        ],
                        [
                          0.7777777777777778,
                          "#fb9f3a"
                        ],
                        [
                          0.8888888888888888,
                          "#fdca26"
                        ],
                        [
                          1,
                          "#f0f921"
                        ]
                      ]
                    },
                    "colorway": [
                      "#636efa",
                      "#EF553B",
                      "#00cc96",
                      "#ab63fa",
                      "#FFA15A",
                      "#19d3f3",
                      "#FF6692",
                      "#B6E880",
                      "#FF97FF",
                      "#FECB52"
                    ],
                    "font": {
                      "color": "#2a3f5f"
                    },
                    "geo": {
                      "bgcolor": "white",
                      "lakecolor": "white",
                      "landcolor": "#E5ECF6",
                      "showlakes": true,
                      "showland": true,
                      "subunitcolor": "white"
                    },
                    "hoverlabel": {
                      "align": "left"
                    },
                    "hovermode": "closest",
                    "mapbox": {
                      "style": "light"
                    },
                    "paper_bgcolor": "white",
                    "plot_bgcolor": "#E5ECF6",
                    "polar": {
                      "angularaxis": {
                        "gridcolor": "white",
                        "linecolor": "white",
                        "ticks": ""
                      },
                      "bgcolor": "#E5ECF6",
                      "radialaxis": {
                        "gridcolor": "white",
                        "linecolor": "white",
                        "ticks": ""
                      }
                    },
                    "scene": {
                      "xaxis": {
                        "backgroundcolor": "#E5ECF6",
                        "gridcolor": "white",
                        "gridwidth": 2,
                        "linecolor": "white",
                        "showbackground": true,
                        "ticks": "",
                        "zerolinecolor": "white"
                      },
                      "yaxis": {
                        "backgroundcolor": "#E5ECF6",
                        "gridcolor": "white",
                        "gridwidth": 2,
                        "linecolor": "white",
                        "showbackground": true,
                        "ticks": "",
                        "zerolinecolor": "white"
                      },
                      "zaxis": {
                        "backgroundcolor": "#E5ECF6",
                        "gridcolor": "white",
                        "gridwidth": 2,
                        "linecolor": "white",
                        "showbackground": true,
                        "ticks": "",
                        "zerolinecolor": "white"
                      }
                    },
                    "shapedefaults": {
                      "line": {
                        "color": "#2a3f5f"
                      }
                    },
                    "ternary": {
                      "aaxis": {
                        "gridcolor": "white",
                        "linecolor": "white",
                        "ticks": ""
                      },
                      "baxis": {
                        "gridcolor": "white",
                        "linecolor": "white",
                        "ticks": ""
                      },
                      "bgcolor": "#E5ECF6",
                      "caxis": {
                        "gridcolor": "white",
                        "linecolor": "white",
                        "ticks": ""
                      }
                    },
                    "title": {
                      "x": 0.05
                    },
                    "xaxis": {
                      "automargin": true,
                      "gridcolor": "white",
                      "linecolor": "white",
                      "ticks": "",
                      "title": {
                        "standoff": 15
                      },
                      "zerolinecolor": "white",
                      "zerolinewidth": 2
                    },
                    "yaxis": {
                      "automargin": true,
                      "gridcolor": "white",
                      "linecolor": "white",
                      "ticks": "",
                      "title": {
                        "standoff": 15
                      },
                      "zerolinecolor": "white",
                      "zerolinewidth": 2
                    }
                  }
                },
                "title": {
                  "text": "Campsites by Source of Water"
                }
              }
            }
          },
          "metadata": {},
          "output_type": "display_data"
        }
      ],
      "source": [
        "import pandas as pd\n",
        "import plotly.express as px\n",
        "\n",
        "#Sort and count by CountryPark column\n",
        "park_count = df.groupby('CountryPark')['Name_of_Building/Facility'].count().reset_index()\n",
        "\n",
        "#Draw an interactive pie chart\n",
        "fig_park = px.pie(park_count, values='Name_of_Building/Facility', names='CountryPark',\n",
        "                  title='Campsites by Country Park')\n",
        "\n",
        "#Sort and count by Source_of_water columns\n",
        "water_count = df.groupby('Source_of_water')['Name_of_Building/Facility'].count().reset_index()\n",
        "\n",
        "#Draw an interactive pie chart\n",
        "fig_water = px.pie(water_count, values='Name_of_Building/Facility', names='Source_of_water',\n",
        "                   title='Campsites by Source of Water')\n",
        "\n",
        "#plot\n",
        "fig_park.show()\n",
        "fig_water.show()"
      ]
    },
    {
      "cell_type": "code",
      "execution_count": 11,
      "metadata": {
        "colab": {
          "base_uri": "https://localhost:8080/",
          "height": 517
        },
        "id": "6jRbRJRPcVXp",
        "outputId": "2355350b-ee61-452d-b58e-312d9561abf6"
      },
      "outputs": [
        {
          "data": {
            "application/vnd.plotly.v1+json": {
              "config": {
                "plotlyServerURL": "https://plot.ly"
              },
              "data": [
                {
                  "domain": {
                    "x": [
                      0,
                      0.45
                    ],
                    "y": [
                      0,
                      1
                    ]
                  },
                  "hole": 0.3,
                  "labels": [
                    "LANTAU NORTH COUNTRY PARK",
                    "LANTAU SOUTH COUNTRY PARK",
                    "MA ON SHAN COUNTRY PARK",
                    "PAT SIN LENG COUNTRY PARK",
                    "PLOVER COVE (EXTENSION) COUNTRY PARK",
                    "PLOVER COVE COUNTRY PARK",
                    "SAI KUNG EAST COUNTRY PARK",
                    "SAI KUNG WEST COUNTRY PARK",
                    "SAI KUNG WEST COUNTRY PARK (WAN TSAI EXTENSION)",
                    "SHING MUN COUNTRY PARK",
                    "TAI LAM COUNTRY PARK",
                    "TAI MO SHAN COUNTRY PARK",
                    "TUNG LUNG FORT SPECIAL AREA"
                  ],
                  "name": "",
                  "textinfo": "label+percent",
                  "type": "pie",
                  "values": [
                    1,
                    11,
                    2,
                    4,
                    1,
                    1,
                    9,
                    4,
                    2,
                    1,
                    3,
                    1,
                    1
                  ]
                },
                {
                  "domain": {
                    "x": [
                      0.55,
                      1
                    ],
                    "y": [
                      0,
                      1
                    ]
                  },
                  "hole": 0.3,
                  "labels": [
                    "FLUSHING TOILET",
                    "STREAM WATER (SEASONAL SUPPLY)",
                    "TAP"
                  ],
                  "name": "",
                  "textinfo": "label+percent",
                  "type": "pie",
                  "values": [
                    3,
                    23,
                    15
                  ]
                }
              ],
              "layout": {
                "annotations": [
                  {
                    "font": {
                      "size": 16
                    },
                    "showarrow": false,
                    "text": "Campsites by Country Park",
                    "x": 0.225,
                    "xanchor": "center",
                    "xref": "paper",
                    "y": 1,
                    "yanchor": "bottom",
                    "yref": "paper"
                  },
                  {
                    "font": {
                      "size": 16
                    },
                    "showarrow": false,
                    "text": "Campsites by Source of Water",
                    "x": 0.775,
                    "xanchor": "center",
                    "xref": "paper",
                    "y": 1,
                    "yanchor": "bottom",
                    "yref": "paper"
                  }
                ],
                "height": 500,
                "template": {
                  "data": {
                    "bar": [
                      {
                        "error_x": {
                          "color": "#2a3f5f"
                        },
                        "error_y": {
                          "color": "#2a3f5f"
                        },
                        "marker": {
                          "line": {
                            "color": "#E5ECF6",
                            "width": 0.5
                          },
                          "pattern": {
                            "fillmode": "overlay",
                            "size": 10,
                            "solidity": 0.2
                          }
                        },
                        "type": "bar"
                      }
                    ],
                    "barpolar": [
                      {
                        "marker": {
                          "line": {
                            "color": "#E5ECF6",
                            "width": 0.5
                          },
                          "pattern": {
                            "fillmode": "overlay",
                            "size": 10,
                            "solidity": 0.2
                          }
                        },
                        "type": "barpolar"
                      }
                    ],
                    "carpet": [
                      {
                        "aaxis": {
                          "endlinecolor": "#2a3f5f",
                          "gridcolor": "white",
                          "linecolor": "white",
                          "minorgridcolor": "white",
                          "startlinecolor": "#2a3f5f"
                        },
                        "baxis": {
                          "endlinecolor": "#2a3f5f",
                          "gridcolor": "white",
                          "linecolor": "white",
                          "minorgridcolor": "white",
                          "startlinecolor": "#2a3f5f"
                        },
                        "type": "carpet"
                      }
                    ],
                    "choropleth": [
                      {
                        "colorbar": {
                          "outlinewidth": 0,
                          "ticks": ""
                        },
                        "type": "choropleth"
                      }
                    ],
                    "contour": [
                      {
                        "colorbar": {
                          "outlinewidth": 0,
                          "ticks": ""
                        },
                        "colorscale": [
                          [
                            0,
                            "#0d0887"
                          ],
                          [
                            0.1111111111111111,
                            "#46039f"
                          ],
                          [
                            0.2222222222222222,
                            "#7201a8"
                          ],
                          [
                            0.3333333333333333,
                            "#9c179e"
                          ],
                          [
                            0.4444444444444444,
                            "#bd3786"
                          ],
                          [
                            0.5555555555555556,
                            "#d8576b"
                          ],
                          [
                            0.6666666666666666,
                            "#ed7953"
                          ],
                          [
                            0.7777777777777778,
                            "#fb9f3a"
                          ],
                          [
                            0.8888888888888888,
                            "#fdca26"
                          ],
                          [
                            1,
                            "#f0f921"
                          ]
                        ],
                        "type": "contour"
                      }
                    ],
                    "contourcarpet": [
                      {
                        "colorbar": {
                          "outlinewidth": 0,
                          "ticks": ""
                        },
                        "type": "contourcarpet"
                      }
                    ],
                    "heatmap": [
                      {
                        "colorbar": {
                          "outlinewidth": 0,
                          "ticks": ""
                        },
                        "colorscale": [
                          [
                            0,
                            "#0d0887"
                          ],
                          [
                            0.1111111111111111,
                            "#46039f"
                          ],
                          [
                            0.2222222222222222,
                            "#7201a8"
                          ],
                          [
                            0.3333333333333333,
                            "#9c179e"
                          ],
                          [
                            0.4444444444444444,
                            "#bd3786"
                          ],
                          [
                            0.5555555555555556,
                            "#d8576b"
                          ],
                          [
                            0.6666666666666666,
                            "#ed7953"
                          ],
                          [
                            0.7777777777777778,
                            "#fb9f3a"
                          ],
                          [
                            0.8888888888888888,
                            "#fdca26"
                          ],
                          [
                            1,
                            "#f0f921"
                          ]
                        ],
                        "type": "heatmap"
                      }
                    ],
                    "heatmapgl": [
                      {
                        "colorbar": {
                          "outlinewidth": 0,
                          "ticks": ""
                        },
                        "colorscale": [
                          [
                            0,
                            "#0d0887"
                          ],
                          [
                            0.1111111111111111,
                            "#46039f"
                          ],
                          [
                            0.2222222222222222,
                            "#7201a8"
                          ],
                          [
                            0.3333333333333333,
                            "#9c179e"
                          ],
                          [
                            0.4444444444444444,
                            "#bd3786"
                          ],
                          [
                            0.5555555555555556,
                            "#d8576b"
                          ],
                          [
                            0.6666666666666666,
                            "#ed7953"
                          ],
                          [
                            0.7777777777777778,
                            "#fb9f3a"
                          ],
                          [
                            0.8888888888888888,
                            "#fdca26"
                          ],
                          [
                            1,
                            "#f0f921"
                          ]
                        ],
                        "type": "heatmapgl"
                      }
                    ],
                    "histogram": [
                      {
                        "marker": {
                          "pattern": {
                            "fillmode": "overlay",
                            "size": 10,
                            "solidity": 0.2
                          }
                        },
                        "type": "histogram"
                      }
                    ],
                    "histogram2d": [
                      {
                        "colorbar": {
                          "outlinewidth": 0,
                          "ticks": ""
                        },
                        "colorscale": [
                          [
                            0,
                            "#0d0887"
                          ],
                          [
                            0.1111111111111111,
                            "#46039f"
                          ],
                          [
                            0.2222222222222222,
                            "#7201a8"
                          ],
                          [
                            0.3333333333333333,
                            "#9c179e"
                          ],
                          [
                            0.4444444444444444,
                            "#bd3786"
                          ],
                          [
                            0.5555555555555556,
                            "#d8576b"
                          ],
                          [
                            0.6666666666666666,
                            "#ed7953"
                          ],
                          [
                            0.7777777777777778,
                            "#fb9f3a"
                          ],
                          [
                            0.8888888888888888,
                            "#fdca26"
                          ],
                          [
                            1,
                            "#f0f921"
                          ]
                        ],
                        "type": "histogram2d"
                      }
                    ],
                    "histogram2dcontour": [
                      {
                        "colorbar": {
                          "outlinewidth": 0,
                          "ticks": ""
                        },
                        "colorscale": [
                          [
                            0,
                            "#0d0887"
                          ],
                          [
                            0.1111111111111111,
                            "#46039f"
                          ],
                          [
                            0.2222222222222222,
                            "#7201a8"
                          ],
                          [
                            0.3333333333333333,
                            "#9c179e"
                          ],
                          [
                            0.4444444444444444,
                            "#bd3786"
                          ],
                          [
                            0.5555555555555556,
                            "#d8576b"
                          ],
                          [
                            0.6666666666666666,
                            "#ed7953"
                          ],
                          [
                            0.7777777777777778,
                            "#fb9f3a"
                          ],
                          [
                            0.8888888888888888,
                            "#fdca26"
                          ],
                          [
                            1,
                            "#f0f921"
                          ]
                        ],
                        "type": "histogram2dcontour"
                      }
                    ],
                    "mesh3d": [
                      {
                        "colorbar": {
                          "outlinewidth": 0,
                          "ticks": ""
                        },
                        "type": "mesh3d"
                      }
                    ],
                    "parcoords": [
                      {
                        "line": {
                          "colorbar": {
                            "outlinewidth": 0,
                            "ticks": ""
                          }
                        },
                        "type": "parcoords"
                      }
                    ],
                    "pie": [
                      {
                        "automargin": true,
                        "type": "pie"
                      }
                    ],
                    "scatter": [
                      {
                        "fillpattern": {
                          "fillmode": "overlay",
                          "size": 10,
                          "solidity": 0.2
                        },
                        "type": "scatter"
                      }
                    ],
                    "scatter3d": [
                      {
                        "line": {
                          "colorbar": {
                            "outlinewidth": 0,
                            "ticks": ""
                          }
                        },
                        "marker": {
                          "colorbar": {
                            "outlinewidth": 0,
                            "ticks": ""
                          }
                        },
                        "type": "scatter3d"
                      }
                    ],
                    "scattercarpet": [
                      {
                        "marker": {
                          "colorbar": {
                            "outlinewidth": 0,
                            "ticks": ""
                          }
                        },
                        "type": "scattercarpet"
                      }
                    ],
                    "scattergeo": [
                      {
                        "marker": {
                          "colorbar": {
                            "outlinewidth": 0,
                            "ticks": ""
                          }
                        },
                        "type": "scattergeo"
                      }
                    ],
                    "scattergl": [
                      {
                        "marker": {
                          "colorbar": {
                            "outlinewidth": 0,
                            "ticks": ""
                          }
                        },
                        "type": "scattergl"
                      }
                    ],
                    "scattermapbox": [
                      {
                        "marker": {
                          "colorbar": {
                            "outlinewidth": 0,
                            "ticks": ""
                          }
                        },
                        "type": "scattermapbox"
                      }
                    ],
                    "scatterpolar": [
                      {
                        "marker": {
                          "colorbar": {
                            "outlinewidth": 0,
                            "ticks": ""
                          }
                        },
                        "type": "scatterpolar"
                      }
                    ],
                    "scatterpolargl": [
                      {
                        "marker": {
                          "colorbar": {
                            "outlinewidth": 0,
                            "ticks": ""
                          }
                        },
                        "type": "scatterpolargl"
                      }
                    ],
                    "scatterternary": [
                      {
                        "marker": {
                          "colorbar": {
                            "outlinewidth": 0,
                            "ticks": ""
                          }
                        },
                        "type": "scatterternary"
                      }
                    ],
                    "surface": [
                      {
                        "colorbar": {
                          "outlinewidth": 0,
                          "ticks": ""
                        },
                        "colorscale": [
                          [
                            0,
                            "#0d0887"
                          ],
                          [
                            0.1111111111111111,
                            "#46039f"
                          ],
                          [
                            0.2222222222222222,
                            "#7201a8"
                          ],
                          [
                            0.3333333333333333,
                            "#9c179e"
                          ],
                          [
                            0.4444444444444444,
                            "#bd3786"
                          ],
                          [
                            0.5555555555555556,
                            "#d8576b"
                          ],
                          [
                            0.6666666666666666,
                            "#ed7953"
                          ],
                          [
                            0.7777777777777778,
                            "#fb9f3a"
                          ],
                          [
                            0.8888888888888888,
                            "#fdca26"
                          ],
                          [
                            1,
                            "#f0f921"
                          ]
                        ],
                        "type": "surface"
                      }
                    ],
                    "table": [
                      {
                        "cells": {
                          "fill": {
                            "color": "#EBF0F8"
                          },
                          "line": {
                            "color": "white"
                          }
                        },
                        "header": {
                          "fill": {
                            "color": "#C8D4E3"
                          },
                          "line": {
                            "color": "white"
                          }
                        },
                        "type": "table"
                      }
                    ]
                  },
                  "layout": {
                    "annotationdefaults": {
                      "arrowcolor": "#2a3f5f",
                      "arrowhead": 0,
                      "arrowwidth": 1
                    },
                    "autotypenumbers": "strict",
                    "coloraxis": {
                      "colorbar": {
                        "outlinewidth": 0,
                        "ticks": ""
                      }
                    },
                    "colorscale": {
                      "diverging": [
                        [
                          0,
                          "#8e0152"
                        ],
                        [
                          0.1,
                          "#c51b7d"
                        ],
                        [
                          0.2,
                          "#de77ae"
                        ],
                        [
                          0.3,
                          "#f1b6da"
                        ],
                        [
                          0.4,
                          "#fde0ef"
                        ],
                        [
                          0.5,
                          "#f7f7f7"
                        ],
                        [
                          0.6,
                          "#e6f5d0"
                        ],
                        [
                          0.7,
                          "#b8e186"
                        ],
                        [
                          0.8,
                          "#7fbc41"
                        ],
                        [
                          0.9,
                          "#4d9221"
                        ],
                        [
                          1,
                          "#276419"
                        ]
                      ],
                      "sequential": [
                        [
                          0,
                          "#0d0887"
                        ],
                        [
                          0.1111111111111111,
                          "#46039f"
                        ],
                        [
                          0.2222222222222222,
                          "#7201a8"
                        ],
                        [
                          0.3333333333333333,
                          "#9c179e"
                        ],
                        [
                          0.4444444444444444,
                          "#bd3786"
                        ],
                        [
                          0.5555555555555556,
                          "#d8576b"
                        ],
                        [
                          0.6666666666666666,
                          "#ed7953"
                        ],
                        [
                          0.7777777777777778,
                          "#fb9f3a"
                        ],
                        [
                          0.8888888888888888,
                          "#fdca26"
                        ],
                        [
                          1,
                          "#f0f921"
                        ]
                      ],
                      "sequentialminus": [
                        [
                          0,
                          "#0d0887"
                        ],
                        [
                          0.1111111111111111,
                          "#46039f"
                        ],
                        [
                          0.2222222222222222,
                          "#7201a8"
                        ],
                        [
                          0.3333333333333333,
                          "#9c179e"
                        ],
                        [
                          0.4444444444444444,
                          "#bd3786"
                        ],
                        [
                          0.5555555555555556,
                          "#d8576b"
                        ],
                        [
                          0.6666666666666666,
                          "#ed7953"
                        ],
                        [
                          0.7777777777777778,
                          "#fb9f3a"
                        ],
                        [
                          0.8888888888888888,
                          "#fdca26"
                        ],
                        [
                          1,
                          "#f0f921"
                        ]
                      ]
                    },
                    "colorway": [
                      "#636efa",
                      "#EF553B",
                      "#00cc96",
                      "#ab63fa",
                      "#FFA15A",
                      "#19d3f3",
                      "#FF6692",
                      "#B6E880",
                      "#FF97FF",
                      "#FECB52"
                    ],
                    "font": {
                      "color": "#2a3f5f"
                    },
                    "geo": {
                      "bgcolor": "white",
                      "lakecolor": "white",
                      "landcolor": "#E5ECF6",
                      "showlakes": true,
                      "showland": true,
                      "subunitcolor": "white"
                    },
                    "hoverlabel": {
                      "align": "left"
                    },
                    "hovermode": "closest",
                    "mapbox": {
                      "style": "light"
                    },
                    "paper_bgcolor": "white",
                    "plot_bgcolor": "#E5ECF6",
                    "polar": {
                      "angularaxis": {
                        "gridcolor": "white",
                        "linecolor": "white",
                        "ticks": ""
                      },
                      "bgcolor": "#E5ECF6",
                      "radialaxis": {
                        "gridcolor": "white",
                        "linecolor": "white",
                        "ticks": ""
                      }
                    },
                    "scene": {
                      "xaxis": {
                        "backgroundcolor": "#E5ECF6",
                        "gridcolor": "white",
                        "gridwidth": 2,
                        "linecolor": "white",
                        "showbackground": true,
                        "ticks": "",
                        "zerolinecolor": "white"
                      },
                      "yaxis": {
                        "backgroundcolor": "#E5ECF6",
                        "gridcolor": "white",
                        "gridwidth": 2,
                        "linecolor": "white",
                        "showbackground": true,
                        "ticks": "",
                        "zerolinecolor": "white"
                      },
                      "zaxis": {
                        "backgroundcolor": "#E5ECF6",
                        "gridcolor": "white",
                        "gridwidth": 2,
                        "linecolor": "white",
                        "showbackground": true,
                        "ticks": "",
                        "zerolinecolor": "white"
                      }
                    },
                    "shapedefaults": {
                      "line": {
                        "color": "#2a3f5f"
                      }
                    },
                    "ternary": {
                      "aaxis": {
                        "gridcolor": "white",
                        "linecolor": "white",
                        "ticks": ""
                      },
                      "baxis": {
                        "gridcolor": "white",
                        "linecolor": "white",
                        "ticks": ""
                      },
                      "bgcolor": "#E5ECF6",
                      "caxis": {
                        "gridcolor": "white",
                        "linecolor": "white",
                        "ticks": ""
                      }
                    },
                    "title": {
                      "x": 0.05
                    },
                    "xaxis": {
                      "automargin": true,
                      "gridcolor": "white",
                      "linecolor": "white",
                      "ticks": "",
                      "title": {
                        "standoff": 15
                      },
                      "zerolinecolor": "white",
                      "zerolinewidth": 2
                    },
                    "yaxis": {
                      "automargin": true,
                      "gridcolor": "white",
                      "linecolor": "white",
                      "ticks": "",
                      "title": {
                        "standoff": 15
                      },
                      "zerolinecolor": "white",
                      "zerolinewidth": 2
                    }
                  }
                },
                "title": {
                  "text": "Campsites by Category"
                },
                "updatemenus": [
                  {
                    "buttons": [
                      {
                        "args": [
                          {
                            "visible": [
                              true,
                              false
                            ]
                          },
                          {
                            "title": "Campsites by Country Park"
                          }
                        ],
                        "label": "Country Park",
                        "method": "update"
                      },
                      {
                        "args": [
                          {
                            "visible": [
                              false,
                              true
                            ]
                          },
                          {
                            "title": "Campsites by Source of Water"
                          }
                        ],
                        "label": "Source of Water",
                        "method": "update"
                      }
                    ],
                    "font": {
                      "color": "#000000"
                    }
                  }
                ],
                "width": 1000
              }
            }
          },
          "metadata": {},
          "output_type": "display_data"
        }
      ],
      "source": [
        "import pandas as pd\n",
        "import plotly.graph_objects as go\n",
        "from plotly.subplots import make_subplots\n",
        "\n",
        "#Sort and count by CountryPark column\n",
        "park_count = df.groupby('CountryPark')['Name_of_Building/Facility'].count().reset_index()\n",
        "\n",
        "#Sort and count by Source_of_water columns\n",
        "water_count = df.groupby('Source_of_water')['Name_of_Building/Facility'].count().reset_index()\n",
        "\n",
        "#Create an interactive pie chart with buttons\n",
        "fig = make_subplots(rows=1, cols=2, specs=[[{'type': 'domain'}, {'type': 'domain'}]], \n",
        "                    subplot_titles=('Campsites by Country Park', 'Campsites by Source of Water'))\n",
        "\n",
        "#Add the first pie chart\n",
        "fig.add_trace(go.Pie(labels=park_count['CountryPark'], values=park_count['Name_of_Building/Facility'], name='',\n",
        "                     textinfo='label+percent', hole=0.3), 1, 1)\n",
        "\n",
        "#Add a second pie chart\n",
        "fig.add_trace(go.Pie(labels=water_count['Source_of_water'], values=water_count['Name_of_Building/Facility'], name='',\n",
        "                     textinfo='label+percent', hole=0.3), 1, 2)\n",
        "\n",
        "#Update the pie chart layout\n",
        "fig.update_layout(title_text='Campsites by Category', height=500, width=1000)\n",
        "\n",
        "#Defines a button handler\n",
        "def update_trace(change):\n",
        "    if change.new == 'Country Park':\n",
        "        fig.update_traces(labels=park_count['CountryPark'], values=park_count['Name_of_Building/Facility'], row=1, col=1)\n",
        "        fig.update_traces(visible=True, row=1, col=1)\n",
        "        fig.update_traces(visible=False, row=1, col=2)\n",
        "        \n",
        "    else:\n",
        "        fig.update_traces(labels=water_count['Source_of_water'], values=water_count['Name_of_Building/Facility'], row=1, col=2)\n",
        "        fig.update_traces(visible=True, row=1, col=2)\n",
        "        fig.update_traces(visible=False, row=1, col=1)\n",
        "\n",
        "#Create a drop-down box control\n",
        "dropdown = go.layout.Updatemenu(buttons=list([\n",
        "    dict(args=[{'visible': [True, False]}, {'title': 'Campsites by Country Park'}], label='Country Park', method='update'),\n",
        "    dict(args=[{'visible': [False, True]}, {'title': 'Campsites by Source of Water'}], label='Source of Water', method='update')\n",
        "]), font=dict(color='#000000'))\n",
        "\n",
        "#Add a drop-down box\n",
        "fig.update_layout(updatemenus=[dropdown])\n",
        "\n",
        "#plot\n",
        "fig.show()"
      ]
    },
    {
      "attachments": {},
      "cell_type": "markdown",
      "metadata": {
        "id": "sL1qNddM-cMJ"
      },
      "source": [
        "***Water source analysis***\n",
        "In the camps in Hong Kong, there are a total of 3 types of water distribution, namely:STREAM WATER (SEASONAL SUPPLY)，TAP，FLUSHING TOILET，它们分别代表\"STREAM WATER (SEASONAL SUPPLY)\" refers to water sources from streams that are only available during certain seasons. These water sources do not undergo additional wastewater treatment, so it is recommended to boil the water before drinking to eliminate potential bacteria and pathogens.\"TAP\" refers to potable water from the water company. This water source has been treated and disinfected and is suitable for direct drinking or for use in cooking. However, it is still advisable to test the water source to ensure its quality and safety, especially in outdoor camping sites.\"FLUSHING TOILET\" refers to water used to flush the toilet, which comes from the water company. This water source is not suitable for drinking, cooking or other purposes, and can only be used as toilet flushing water. After using the toilet, it is recommended to flush properly and avoid flushing other objects to prevent blockages.\n",
        "\n",
        "By combining the visual pie chart and tree map, 56.1% of the camp water source is STREAM WATER (SEASONAL SUPPLY), including 23, namely Lau Shui Heung Camp Site, Sam A Chung Camp Site, etc., the specific distribution can be seen concisely and clearly in the tree map, when going to the camp of this type of water source, tourists need to bring a water filter (which can filter out larger particles, such as sediment or branches), Tools such as water treatment chemicals (e.g. water disinfectant tablets, UV sterilizers, etc.) and heating equipment (e.g. kettles) to ensure a safe water source. In addition, 36.6% of the camp water source is TAP, including 15, namely Wong Shek Camp Site, Sai Wan Camp Site, Lead Mine Pass Camp Site, etc., when going to this type of water source camp, visitors can directly use cups, water bottles or other containers to collect and store water sources. Finally, 7.32% of the camp water source is FLUSHING TOILET, including 3, namely Ngong Ping Camp Site, Shek Pik Camp Site and Kong Ha Au Campsite, which do not require the use of any additional tools when going to the camp of this type of water, but if you need to store and push these water sources, you need tools such as buckets and pumps.  By combining these two diagrams, users can clearly understand the distribution and percentage of each water source, and at the same time can concisely see which camps each water source contains, let users choose camps according to water sources or see water sources according to camps, and let users carry corresponding treatment tools according to the needs of water sources when going to a camp"
      ]
    },
    {
      "cell_type": "code",
      "execution_count": 12,
      "metadata": {
        "colab": {
          "base_uri": "https://localhost:8080/",
          "height": 542
        },
        "id": "KNqq_5jYj4pC",
        "outputId": "3ef5354c-5b8a-4c36-b2c8-653359de1bf9"
      },
      "outputs": [
        {
          "data": {
            "application/vnd.plotly.v1+json": {
              "config": {
                "plotlyServerURL": "https://plot.ly"
              },
              "data": [
                {
                  "branchvalues": "total",
                  "customdata": [
                    [
                      1,
                      "SAI KUNG WEST COUNTRY PARK"
                    ],
                    [
                      1,
                      "LANTAU SOUTH COUNTRY PARK"
                    ],
                    [
                      1,
                      "SHING MUN COUNTRY PARK"
                    ],
                    [
                      1,
                      "PAT SIN LENG COUNTRY PARK"
                    ],
                    [
                      1,
                      "PAT SIN LENG COUNTRY PARK"
                    ],
                    [
                      1,
                      "LANTAU SOUTH COUNTRY PARK"
                    ],
                    [
                      1,
                      "SAI KUNG EAST COUNTRY PARK"
                    ],
                    [
                      1,
                      "TAI LAM COUNTRY PARK"
                    ],
                    [
                      1,
                      "SAI KUNG WEST COUNTRY PARK"
                    ],
                    [
                      1,
                      "SAI KUNG EAST COUNTRY PARK"
                    ],
                    [
                      1,
                      "PAT SIN LENG COUNTRY PARK"
                    ],
                    [
                      1,
                      "PAT SIN LENG COUNTRY PARK"
                    ],
                    [
                      1,
                      "LANTAU SOUTH COUNTRY PARK"
                    ],
                    [
                      1,
                      "LANTAU SOUTH COUNTRY PARK"
                    ],
                    [
                      1,
                      "LANTAU SOUTH COUNTRY PARK"
                    ],
                    [
                      1,
                      "MA ON SHAN COUNTRY PARK"
                    ],
                    [
                      1,
                      "LANTAU SOUTH COUNTRY PARK"
                    ],
                    [
                      1,
                      "LANTAU NORTH COUNTRY PARK"
                    ],
                    [
                      1,
                      "SAI KUNG EAST COUNTRY PARK"
                    ],
                    [
                      1,
                      "SAI KUNG EAST COUNTRY PARK"
                    ],
                    [
                      1,
                      "LANTAU SOUTH COUNTRY PARK"
                    ],
                    [
                      1,
                      "LANTAU SOUTH COUNTRY PARK"
                    ],
                    [
                      1,
                      "MA ON SHAN COUNTRY PARK"
                    ],
                    [
                      1,
                      "LANTAU SOUTH COUNTRY PARK"
                    ],
                    [
                      1,
                      "SAI KUNG EAST COUNTRY PARK"
                    ],
                    [
                      1,
                      "PLOVER COVE COUNTRY PARK"
                    ],
                    [
                      1,
                      "SAI KUNG EAST COUNTRY PARK"
                    ],
                    [
                      1,
                      "TAI MO SHAN COUNTRY PARK"
                    ],
                    [
                      1,
                      "LANTAU SOUTH COUNTRY PARK"
                    ],
                    [
                      1,
                      "SAI KUNG EAST COUNTRY PARK"
                    ],
                    [
                      1,
                      "SAI KUNG WEST COUNTRY PARK"
                    ],
                    [
                      1,
                      "TAI LAM COUNTRY PARK"
                    ],
                    [
                      1,
                      "LANTAU SOUTH COUNTRY PARK"
                    ],
                    [
                      1,
                      "TUNG LUNG FORT SPECIAL AREA"
                    ],
                    [
                      1,
                      "PLOVER COVE (EXTENSION) COUNTRY PARK"
                    ],
                    [
                      1,
                      "TAI LAM COUNTRY PARK"
                    ],
                    [
                      1,
                      "SAI KUNG WEST COUNTRY PARK (WAN TSAI EXTENSION)"
                    ],
                    [
                      1,
                      "SAI KUNG WEST COUNTRY PARK (WAN TSAI EXTENSION)"
                    ],
                    [
                      1,
                      "SAI KUNG EAST COUNTRY PARK"
                    ],
                    [
                      1,
                      "SAI KUNG WEST COUNTRY PARK"
                    ],
                    [
                      1,
                      "SAI KUNG EAST COUNTRY PARK"
                    ],
                    [
                      1,
                      "LANTAU NORTH COUNTRY PARK"
                    ],
                    [
                      11,
                      "LANTAU SOUTH COUNTRY PARK"
                    ],
                    [
                      2,
                      "MA ON SHAN COUNTRY PARK"
                    ],
                    [
                      4,
                      "PAT SIN LENG COUNTRY PARK"
                    ],
                    [
                      1,
                      "PLOVER COVE (EXTENSION) COUNTRY PARK"
                    ],
                    [
                      1,
                      "PLOVER COVE COUNTRY PARK"
                    ],
                    [
                      9,
                      "SAI KUNG EAST COUNTRY PARK"
                    ],
                    [
                      4,
                      "SAI KUNG WEST COUNTRY PARK"
                    ],
                    [
                      2,
                      "SAI KUNG WEST COUNTRY PARK (WAN TSAI EXTENSION)"
                    ],
                    [
                      1,
                      "SHING MUN COUNTRY PARK"
                    ],
                    [
                      3,
                      "TAI LAM COUNTRY PARK"
                    ],
                    [
                      1,
                      "TAI MO SHAN COUNTRY PARK"
                    ],
                    [
                      1,
                      "TUNG LUNG FORT SPECIAL AREA"
                    ]
                  ],
                  "domain": {
                    "x": [
                      0,
                      1
                    ],
                    "y": [
                      0,
                      1
                    ]
                  },
                  "hovertemplate": "<b>%{hovertext}</b><br><br>labels=%{label}<br>Number of Campsites=%{customdata[0]}<br>parent=%{parent}<br>id=%{id}<br>CountryPark=%{customdata[1]}<extra></extra>",
                  "hovertext": [
                    "Cheung Sheung Camp Site",
                    "Lo Kei Wan Camp Site",
                    "Lead Mine Pass Camp Site",
                    "Lau Shui Heung Camp Site",
                    "Kong Ha Au Campsite",
                    "Kau Ling Chung Camp Site",
                    "Long Ke Wan Camp Site",
                    "Ho Pui Camp Site",
                    "Hau Tong Kai Camp Site",
                    "Ham Tin Wan Camp Site",
                    "Chung Pui Camp Site",
                    "Hok Tau Camp Site",
                    "Man Cheung Po Camp Site",
                    "Nam Shan Camp Site",
                    "Pak Fu Tin Camp Site",
                    "Ngong Ping Camp Site",
                    "Ngong Ping Camp Site",
                    "Nga Ying Kok Camp Site",
                    "Pak Lap Camp Site",
                    "Pak Tam Au Camp Site",
                    "Shek Pik Camp Site",
                    "Tai Long Wan Camp Site",
                    "Shui Long Wo Camp Site",
                    "Shek Lam Chau Camp Site",
                    "Po Kwu Wan Camp Site",
                    "Sam A Chung Camp Site",
                    "Sai Wan Camp Site",
                    "Rotary Club Park Camp Site",
                    "Shap Long Camp Site",
                    "Tai Mong Tsai Campsite",
                    "Tai Tan Camp Site",
                    "Tin Fu Tsai Camp Site",
                    "Tsin Yue Wan Camp Site",
                    "Tung Lung Chau Camp Site",
                    "Tung Ping Chau Camp Site",
                    "Twisk Camp Site",
                    "Wan Tsai South Camp Site",
                    "Wan Tsai West Camp Site",
                    "Wong Shek Camp Site",
                    "Yee Ting Camp Site",
                    "Yuen Ng Fan Camp Site",
                    "Nga Ying Kok Camp Site",
                    "(?)",
                    "(?)",
                    "(?)",
                    "Tung Ping Chau Camp Site",
                    "Sam A Chung Camp Site",
                    "(?)",
                    "(?)",
                    "(?)",
                    "Lead Mine Pass Camp Site",
                    "(?)",
                    "Rotary Club Park Camp Site",
                    "Tung Lung Chau Camp Site"
                  ],
                  "ids": [
                    "SAI KUNG WEST COUNTRY PARK/Cheung Sheung Camp Site",
                    "LANTAU SOUTH COUNTRY PARK/Lo Kei Wan Camp Site",
                    "SHING MUN COUNTRY PARK/Lead Mine Pass Camp Site",
                    "PAT SIN LENG COUNTRY PARK/Lau Shui Heung Camp Site",
                    "PAT SIN LENG COUNTRY PARK/Kong Ha Au Campsite",
                    "LANTAU SOUTH COUNTRY PARK/Kau Ling Chung Camp Site",
                    "SAI KUNG EAST COUNTRY PARK/Long Ke Wan Camp Site",
                    "TAI LAM COUNTRY PARK/Ho Pui Camp Site",
                    "SAI KUNG WEST COUNTRY PARK/Hau Tong Kai Camp Site",
                    "SAI KUNG EAST COUNTRY PARK/Ham Tin Wan Camp Site",
                    "PAT SIN LENG COUNTRY PARK/Chung Pui Camp Site",
                    "PAT SIN LENG COUNTRY PARK/Hok Tau Camp Site",
                    "LANTAU SOUTH COUNTRY PARK/Man Cheung Po Camp Site",
                    "LANTAU SOUTH COUNTRY PARK/Nam Shan Camp Site",
                    "LANTAU SOUTH COUNTRY PARK/Pak Fu Tin Camp Site",
                    "MA ON SHAN COUNTRY PARK/Ngong Ping Camp Site",
                    "LANTAU SOUTH COUNTRY PARK/Ngong Ping Camp Site",
                    "LANTAU NORTH COUNTRY PARK/Nga Ying Kok Camp Site",
                    "SAI KUNG EAST COUNTRY PARK/Pak Lap Camp Site",
                    "SAI KUNG EAST COUNTRY PARK/Pak Tam Au Camp Site",
                    "LANTAU SOUTH COUNTRY PARK/Shek Pik Camp Site",
                    "LANTAU SOUTH COUNTRY PARK/Tai Long Wan Camp Site",
                    "MA ON SHAN COUNTRY PARK/Shui Long Wo Camp Site",
                    "LANTAU SOUTH COUNTRY PARK/Shek Lam Chau Camp Site",
                    "SAI KUNG EAST COUNTRY PARK/Po Kwu Wan Camp Site",
                    "PLOVER COVE COUNTRY PARK/Sam A Chung Camp Site",
                    "SAI KUNG EAST COUNTRY PARK/Sai Wan Camp Site",
                    "TAI MO SHAN COUNTRY PARK/Rotary Club Park Camp Site",
                    "LANTAU SOUTH COUNTRY PARK/Shap Long Camp Site",
                    "SAI KUNG EAST COUNTRY PARK/Tai Mong Tsai Campsite",
                    "SAI KUNG WEST COUNTRY PARK/Tai Tan Camp Site",
                    "TAI LAM COUNTRY PARK/Tin Fu Tsai Camp Site",
                    "LANTAU SOUTH COUNTRY PARK/Tsin Yue Wan Camp Site",
                    "TUNG LUNG FORT SPECIAL AREA/Tung Lung Chau Camp Site",
                    "PLOVER COVE (EXTENSION) COUNTRY PARK/Tung Ping Chau Camp Site",
                    "TAI LAM COUNTRY PARK/Twisk Camp Site",
                    "SAI KUNG WEST COUNTRY PARK (WAN TSAI EXTENSION)/Wan Tsai South Camp Site",
                    "SAI KUNG WEST COUNTRY PARK (WAN TSAI EXTENSION)/Wan Tsai West Camp Site",
                    "SAI KUNG EAST COUNTRY PARK/Wong Shek Camp Site",
                    "SAI KUNG WEST COUNTRY PARK/Yee Ting Camp Site",
                    "SAI KUNG EAST COUNTRY PARK/Yuen Ng Fan Camp Site",
                    "LANTAU NORTH COUNTRY PARK",
                    "LANTAU SOUTH COUNTRY PARK",
                    "MA ON SHAN COUNTRY PARK",
                    "PAT SIN LENG COUNTRY PARK",
                    "PLOVER COVE (EXTENSION) COUNTRY PARK",
                    "PLOVER COVE COUNTRY PARK",
                    "SAI KUNG EAST COUNTRY PARK",
                    "SAI KUNG WEST COUNTRY PARK",
                    "SAI KUNG WEST COUNTRY PARK (WAN TSAI EXTENSION)",
                    "SHING MUN COUNTRY PARK",
                    "TAI LAM COUNTRY PARK",
                    "TAI MO SHAN COUNTRY PARK",
                    "TUNG LUNG FORT SPECIAL AREA"
                  ],
                  "labels": [
                    "Cheung Sheung Camp Site",
                    "Lo Kei Wan Camp Site",
                    "Lead Mine Pass Camp Site",
                    "Lau Shui Heung Camp Site",
                    "Kong Ha Au Campsite",
                    "Kau Ling Chung Camp Site",
                    "Long Ke Wan Camp Site",
                    "Ho Pui Camp Site",
                    "Hau Tong Kai Camp Site",
                    "Ham Tin Wan Camp Site",
                    "Chung Pui Camp Site",
                    "Hok Tau Camp Site",
                    "Man Cheung Po Camp Site",
                    "Nam Shan Camp Site",
                    "Pak Fu Tin Camp Site",
                    "Ngong Ping Camp Site",
                    "Ngong Ping Camp Site",
                    "Nga Ying Kok Camp Site",
                    "Pak Lap Camp Site",
                    "Pak Tam Au Camp Site",
                    "Shek Pik Camp Site",
                    "Tai Long Wan Camp Site",
                    "Shui Long Wo Camp Site",
                    "Shek Lam Chau Camp Site",
                    "Po Kwu Wan Camp Site",
                    "Sam A Chung Camp Site",
                    "Sai Wan Camp Site",
                    "Rotary Club Park Camp Site",
                    "Shap Long Camp Site",
                    "Tai Mong Tsai Campsite",
                    "Tai Tan Camp Site",
                    "Tin Fu Tsai Camp Site",
                    "Tsin Yue Wan Camp Site",
                    "Tung Lung Chau Camp Site",
                    "Tung Ping Chau Camp Site",
                    "Twisk Camp Site",
                    "Wan Tsai South Camp Site",
                    "Wan Tsai West Camp Site",
                    "Wong Shek Camp Site",
                    "Yee Ting Camp Site",
                    "Yuen Ng Fan Camp Site",
                    "LANTAU NORTH COUNTRY PARK",
                    "LANTAU SOUTH COUNTRY PARK",
                    "MA ON SHAN COUNTRY PARK",
                    "PAT SIN LENG COUNTRY PARK",
                    "PLOVER COVE (EXTENSION) COUNTRY PARK",
                    "PLOVER COVE COUNTRY PARK",
                    "SAI KUNG EAST COUNTRY PARK",
                    "SAI KUNG WEST COUNTRY PARK",
                    "SAI KUNG WEST COUNTRY PARK (WAN TSAI EXTENSION)",
                    "SHING MUN COUNTRY PARK",
                    "TAI LAM COUNTRY PARK",
                    "TAI MO SHAN COUNTRY PARK",
                    "TUNG LUNG FORT SPECIAL AREA"
                  ],
                  "marker": {
                    "colors": [
                      "rgb(251,180,174)",
                      "rgb(179,205,227)",
                      "rgb(204,235,197)",
                      "rgb(222,203,228)",
                      "rgb(222,203,228)",
                      "rgb(179,205,227)",
                      "rgb(254,217,166)",
                      "rgb(255,255,204)",
                      "rgb(251,180,174)",
                      "rgb(254,217,166)",
                      "rgb(222,203,228)",
                      "rgb(222,203,228)",
                      "rgb(179,205,227)",
                      "rgb(179,205,227)",
                      "rgb(179,205,227)",
                      "rgb(229,216,189)",
                      "rgb(179,205,227)",
                      "rgb(253,218,236)",
                      "rgb(254,217,166)",
                      "rgb(254,217,166)",
                      "rgb(179,205,227)",
                      "rgb(179,205,227)",
                      "rgb(229,216,189)",
                      "rgb(179,205,227)",
                      "rgb(254,217,166)",
                      "rgb(242,242,242)",
                      "rgb(254,217,166)",
                      "rgb(251,180,174)",
                      "rgb(179,205,227)",
                      "rgb(254,217,166)",
                      "rgb(251,180,174)",
                      "rgb(255,255,204)",
                      "rgb(179,205,227)",
                      "rgb(179,205,227)",
                      "rgb(204,235,197)",
                      "rgb(255,255,204)",
                      "rgb(222,203,228)",
                      "rgb(222,203,228)",
                      "rgb(254,217,166)",
                      "rgb(251,180,174)",
                      "rgb(254,217,166)",
                      "rgb(253,218,236)",
                      "rgb(179,205,227)",
                      "rgb(229,216,189)",
                      "rgb(222,203,228)",
                      "rgb(204,235,197)",
                      "rgb(242,242,242)",
                      "rgb(254,217,166)",
                      "rgb(251,180,174)",
                      "rgb(222,203,228)",
                      "rgb(204,235,197)",
                      "rgb(255,255,204)",
                      "rgb(251,180,174)",
                      "rgb(179,205,227)"
                    ]
                  },
                  "name": "",
                  "parents": [
                    "SAI KUNG WEST COUNTRY PARK",
                    "LANTAU SOUTH COUNTRY PARK",
                    "SHING MUN COUNTRY PARK",
                    "PAT SIN LENG COUNTRY PARK",
                    "PAT SIN LENG COUNTRY PARK",
                    "LANTAU SOUTH COUNTRY PARK",
                    "SAI KUNG EAST COUNTRY PARK",
                    "TAI LAM COUNTRY PARK",
                    "SAI KUNG WEST COUNTRY PARK",
                    "SAI KUNG EAST COUNTRY PARK",
                    "PAT SIN LENG COUNTRY PARK",
                    "PAT SIN LENG COUNTRY PARK",
                    "LANTAU SOUTH COUNTRY PARK",
                    "LANTAU SOUTH COUNTRY PARK",
                    "LANTAU SOUTH COUNTRY PARK",
                    "MA ON SHAN COUNTRY PARK",
                    "LANTAU SOUTH COUNTRY PARK",
                    "LANTAU NORTH COUNTRY PARK",
                    "SAI KUNG EAST COUNTRY PARK",
                    "SAI KUNG EAST COUNTRY PARK",
                    "LANTAU SOUTH COUNTRY PARK",
                    "LANTAU SOUTH COUNTRY PARK",
                    "MA ON SHAN COUNTRY PARK",
                    "LANTAU SOUTH COUNTRY PARK",
                    "SAI KUNG EAST COUNTRY PARK",
                    "PLOVER COVE COUNTRY PARK",
                    "SAI KUNG EAST COUNTRY PARK",
                    "TAI MO SHAN COUNTRY PARK",
                    "LANTAU SOUTH COUNTRY PARK",
                    "SAI KUNG EAST COUNTRY PARK",
                    "SAI KUNG WEST COUNTRY PARK",
                    "TAI LAM COUNTRY PARK",
                    "LANTAU SOUTH COUNTRY PARK",
                    "TUNG LUNG FORT SPECIAL AREA",
                    "PLOVER COVE (EXTENSION) COUNTRY PARK",
                    "TAI LAM COUNTRY PARK",
                    "SAI KUNG WEST COUNTRY PARK (WAN TSAI EXTENSION)",
                    "SAI KUNG WEST COUNTRY PARK (WAN TSAI EXTENSION)",
                    "SAI KUNG EAST COUNTRY PARK",
                    "SAI KUNG WEST COUNTRY PARK",
                    "SAI KUNG EAST COUNTRY PARK",
                    "",
                    "",
                    "",
                    "",
                    "",
                    "",
                    "",
                    "",
                    "",
                    "",
                    "",
                    "",
                    ""
                  ],
                  "textfont": {
                    "size": 15
                  },
                  "textposition": "middle center",
                  "type": "treemap",
                  "values": [
                    1,
                    1,
                    1,
                    1,
                    1,
                    1,
                    1,
                    1,
                    1,
                    1,
                    1,
                    1,
                    1,
                    1,
                    1,
                    1,
                    1,
                    1,
                    1,
                    1,
                    1,
                    1,
                    1,
                    1,
                    1,
                    1,
                    1,
                    1,
                    1,
                    1,
                    1,
                    1,
                    1,
                    1,
                    1,
                    1,
                    1,
                    1,
                    1,
                    1,
                    1,
                    1,
                    11,
                    2,
                    4,
                    1,
                    1,
                    9,
                    4,
                    2,
                    1,
                    3,
                    1,
                    1
                  ]
                }
              ],
              "layout": {
                "legend": {
                  "tracegroupgap": 0
                },
                "margin": {
                  "b": 60,
                  "l": 60,
                  "r": 60,
                  "t": 60
                },
                "template": {
                  "data": {
                    "bar": [
                      {
                        "error_x": {
                          "color": "rgb(36,36,36)"
                        },
                        "error_y": {
                          "color": "rgb(36,36,36)"
                        },
                        "marker": {
                          "line": {
                            "color": "rgb(234,234,242)",
                            "width": 0.5
                          },
                          "pattern": {
                            "fillmode": "overlay",
                            "size": 10,
                            "solidity": 0.2
                          }
                        },
                        "type": "bar"
                      }
                    ],
                    "barpolar": [
                      {
                        "marker": {
                          "line": {
                            "color": "rgb(234,234,242)",
                            "width": 0.5
                          },
                          "pattern": {
                            "fillmode": "overlay",
                            "size": 10,
                            "solidity": 0.2
                          }
                        },
                        "type": "barpolar"
                      }
                    ],
                    "carpet": [
                      {
                        "aaxis": {
                          "endlinecolor": "rgb(36,36,36)",
                          "gridcolor": "white",
                          "linecolor": "white",
                          "minorgridcolor": "white",
                          "startlinecolor": "rgb(36,36,36)"
                        },
                        "baxis": {
                          "endlinecolor": "rgb(36,36,36)",
                          "gridcolor": "white",
                          "linecolor": "white",
                          "minorgridcolor": "white",
                          "startlinecolor": "rgb(36,36,36)"
                        },
                        "type": "carpet"
                      }
                    ],
                    "choropleth": [
                      {
                        "colorbar": {
                          "outlinewidth": 0,
                          "tickcolor": "rgb(36,36,36)",
                          "ticklen": 8,
                          "ticks": "outside",
                          "tickwidth": 2
                        },
                        "type": "choropleth"
                      }
                    ],
                    "contour": [
                      {
                        "colorbar": {
                          "outlinewidth": 0,
                          "tickcolor": "rgb(36,36,36)",
                          "ticklen": 8,
                          "ticks": "outside",
                          "tickwidth": 2
                        },
                        "colorscale": [
                          [
                            0,
                            "rgb(2,4,25)"
                          ],
                          [
                            0.06274509803921569,
                            "rgb(24,15,41)"
                          ],
                          [
                            0.12549019607843137,
                            "rgb(47,23,57)"
                          ],
                          [
                            0.18823529411764706,
                            "rgb(71,28,72)"
                          ],
                          [
                            0.25098039215686274,
                            "rgb(97,30,82)"
                          ],
                          [
                            0.3137254901960784,
                            "rgb(123,30,89)"
                          ],
                          [
                            0.3764705882352941,
                            "rgb(150,27,91)"
                          ],
                          [
                            0.4392156862745098,
                            "rgb(177,22,88)"
                          ],
                          [
                            0.5019607843137255,
                            "rgb(203,26,79)"
                          ],
                          [
                            0.5647058823529412,
                            "rgb(223,47,67)"
                          ],
                          [
                            0.6274509803921569,
                            "rgb(236,76,61)"
                          ],
                          [
                            0.6901960784313725,
                            "rgb(242,107,73)"
                          ],
                          [
                            0.7529411764705882,
                            "rgb(244,135,95)"
                          ],
                          [
                            0.8156862745098039,
                            "rgb(245,162,122)"
                          ],
                          [
                            0.8784313725490196,
                            "rgb(246,188,153)"
                          ],
                          [
                            0.9411764705882353,
                            "rgb(247,212,187)"
                          ],
                          [
                            1,
                            "rgb(250,234,220)"
                          ]
                        ],
                        "type": "contour"
                      }
                    ],
                    "contourcarpet": [
                      {
                        "colorbar": {
                          "outlinewidth": 0,
                          "tickcolor": "rgb(36,36,36)",
                          "ticklen": 8,
                          "ticks": "outside",
                          "tickwidth": 2
                        },
                        "type": "contourcarpet"
                      }
                    ],
                    "heatmap": [
                      {
                        "colorbar": {
                          "outlinewidth": 0,
                          "tickcolor": "rgb(36,36,36)",
                          "ticklen": 8,
                          "ticks": "outside",
                          "tickwidth": 2
                        },
                        "colorscale": [
                          [
                            0,
                            "rgb(2,4,25)"
                          ],
                          [
                            0.06274509803921569,
                            "rgb(24,15,41)"
                          ],
                          [
                            0.12549019607843137,
                            "rgb(47,23,57)"
                          ],
                          [
                            0.18823529411764706,
                            "rgb(71,28,72)"
                          ],
                          [
                            0.25098039215686274,
                            "rgb(97,30,82)"
                          ],
                          [
                            0.3137254901960784,
                            "rgb(123,30,89)"
                          ],
                          [
                            0.3764705882352941,
                            "rgb(150,27,91)"
                          ],
                          [
                            0.4392156862745098,
                            "rgb(177,22,88)"
                          ],
                          [
                            0.5019607843137255,
                            "rgb(203,26,79)"
                          ],
                          [
                            0.5647058823529412,
                            "rgb(223,47,67)"
                          ],
                          [
                            0.6274509803921569,
                            "rgb(236,76,61)"
                          ],
                          [
                            0.6901960784313725,
                            "rgb(242,107,73)"
                          ],
                          [
                            0.7529411764705882,
                            "rgb(244,135,95)"
                          ],
                          [
                            0.8156862745098039,
                            "rgb(245,162,122)"
                          ],
                          [
                            0.8784313725490196,
                            "rgb(246,188,153)"
                          ],
                          [
                            0.9411764705882353,
                            "rgb(247,212,187)"
                          ],
                          [
                            1,
                            "rgb(250,234,220)"
                          ]
                        ],
                        "type": "heatmap"
                      }
                    ],
                    "heatmapgl": [
                      {
                        "colorbar": {
                          "outlinewidth": 0,
                          "tickcolor": "rgb(36,36,36)",
                          "ticklen": 8,
                          "ticks": "outside",
                          "tickwidth": 2
                        },
                        "colorscale": [
                          [
                            0,
                            "rgb(2,4,25)"
                          ],
                          [
                            0.06274509803921569,
                            "rgb(24,15,41)"
                          ],
                          [
                            0.12549019607843137,
                            "rgb(47,23,57)"
                          ],
                          [
                            0.18823529411764706,
                            "rgb(71,28,72)"
                          ],
                          [
                            0.25098039215686274,
                            "rgb(97,30,82)"
                          ],
                          [
                            0.3137254901960784,
                            "rgb(123,30,89)"
                          ],
                          [
                            0.3764705882352941,
                            "rgb(150,27,91)"
                          ],
                          [
                            0.4392156862745098,
                            "rgb(177,22,88)"
                          ],
                          [
                            0.5019607843137255,
                            "rgb(203,26,79)"
                          ],
                          [
                            0.5647058823529412,
                            "rgb(223,47,67)"
                          ],
                          [
                            0.6274509803921569,
                            "rgb(236,76,61)"
                          ],
                          [
                            0.6901960784313725,
                            "rgb(242,107,73)"
                          ],
                          [
                            0.7529411764705882,
                            "rgb(244,135,95)"
                          ],
                          [
                            0.8156862745098039,
                            "rgb(245,162,122)"
                          ],
                          [
                            0.8784313725490196,
                            "rgb(246,188,153)"
                          ],
                          [
                            0.9411764705882353,
                            "rgb(247,212,187)"
                          ],
                          [
                            1,
                            "rgb(250,234,220)"
                          ]
                        ],
                        "type": "heatmapgl"
                      }
                    ],
                    "histogram": [
                      {
                        "marker": {
                          "pattern": {
                            "fillmode": "overlay",
                            "size": 10,
                            "solidity": 0.2
                          }
                        },
                        "type": "histogram"
                      }
                    ],
                    "histogram2d": [
                      {
                        "colorbar": {
                          "outlinewidth": 0,
                          "tickcolor": "rgb(36,36,36)",
                          "ticklen": 8,
                          "ticks": "outside",
                          "tickwidth": 2
                        },
                        "colorscale": [
                          [
                            0,
                            "rgb(2,4,25)"
                          ],
                          [
                            0.06274509803921569,
                            "rgb(24,15,41)"
                          ],
                          [
                            0.12549019607843137,
                            "rgb(47,23,57)"
                          ],
                          [
                            0.18823529411764706,
                            "rgb(71,28,72)"
                          ],
                          [
                            0.25098039215686274,
                            "rgb(97,30,82)"
                          ],
                          [
                            0.3137254901960784,
                            "rgb(123,30,89)"
                          ],
                          [
                            0.3764705882352941,
                            "rgb(150,27,91)"
                          ],
                          [
                            0.4392156862745098,
                            "rgb(177,22,88)"
                          ],
                          [
                            0.5019607843137255,
                            "rgb(203,26,79)"
                          ],
                          [
                            0.5647058823529412,
                            "rgb(223,47,67)"
                          ],
                          [
                            0.6274509803921569,
                            "rgb(236,76,61)"
                          ],
                          [
                            0.6901960784313725,
                            "rgb(242,107,73)"
                          ],
                          [
                            0.7529411764705882,
                            "rgb(244,135,95)"
                          ],
                          [
                            0.8156862745098039,
                            "rgb(245,162,122)"
                          ],
                          [
                            0.8784313725490196,
                            "rgb(246,188,153)"
                          ],
                          [
                            0.9411764705882353,
                            "rgb(247,212,187)"
                          ],
                          [
                            1,
                            "rgb(250,234,220)"
                          ]
                        ],
                        "type": "histogram2d"
                      }
                    ],
                    "histogram2dcontour": [
                      {
                        "colorbar": {
                          "outlinewidth": 0,
                          "tickcolor": "rgb(36,36,36)",
                          "ticklen": 8,
                          "ticks": "outside",
                          "tickwidth": 2
                        },
                        "colorscale": [
                          [
                            0,
                            "rgb(2,4,25)"
                          ],
                          [
                            0.06274509803921569,
                            "rgb(24,15,41)"
                          ],
                          [
                            0.12549019607843137,
                            "rgb(47,23,57)"
                          ],
                          [
                            0.18823529411764706,
                            "rgb(71,28,72)"
                          ],
                          [
                            0.25098039215686274,
                            "rgb(97,30,82)"
                          ],
                          [
                            0.3137254901960784,
                            "rgb(123,30,89)"
                          ],
                          [
                            0.3764705882352941,
                            "rgb(150,27,91)"
                          ],
                          [
                            0.4392156862745098,
                            "rgb(177,22,88)"
                          ],
                          [
                            0.5019607843137255,
                            "rgb(203,26,79)"
                          ],
                          [
                            0.5647058823529412,
                            "rgb(223,47,67)"
                          ],
                          [
                            0.6274509803921569,
                            "rgb(236,76,61)"
                          ],
                          [
                            0.6901960784313725,
                            "rgb(242,107,73)"
                          ],
                          [
                            0.7529411764705882,
                            "rgb(244,135,95)"
                          ],
                          [
                            0.8156862745098039,
                            "rgb(245,162,122)"
                          ],
                          [
                            0.8784313725490196,
                            "rgb(246,188,153)"
                          ],
                          [
                            0.9411764705882353,
                            "rgb(247,212,187)"
                          ],
                          [
                            1,
                            "rgb(250,234,220)"
                          ]
                        ],
                        "type": "histogram2dcontour"
                      }
                    ],
                    "mesh3d": [
                      {
                        "colorbar": {
                          "outlinewidth": 0,
                          "tickcolor": "rgb(36,36,36)",
                          "ticklen": 8,
                          "ticks": "outside",
                          "tickwidth": 2
                        },
                        "type": "mesh3d"
                      }
                    ],
                    "parcoords": [
                      {
                        "line": {
                          "colorbar": {
                            "outlinewidth": 0,
                            "tickcolor": "rgb(36,36,36)",
                            "ticklen": 8,
                            "ticks": "outside",
                            "tickwidth": 2
                          }
                        },
                        "type": "parcoords"
                      }
                    ],
                    "pie": [
                      {
                        "automargin": true,
                        "type": "pie"
                      }
                    ],
                    "scatter": [
                      {
                        "fillpattern": {
                          "fillmode": "overlay",
                          "size": 10,
                          "solidity": 0.2
                        },
                        "type": "scatter"
                      }
                    ],
                    "scatter3d": [
                      {
                        "line": {
                          "colorbar": {
                            "outlinewidth": 0,
                            "tickcolor": "rgb(36,36,36)",
                            "ticklen": 8,
                            "ticks": "outside",
                            "tickwidth": 2
                          }
                        },
                        "marker": {
                          "colorbar": {
                            "outlinewidth": 0,
                            "tickcolor": "rgb(36,36,36)",
                            "ticklen": 8,
                            "ticks": "outside",
                            "tickwidth": 2
                          }
                        },
                        "type": "scatter3d"
                      }
                    ],
                    "scattercarpet": [
                      {
                        "marker": {
                          "colorbar": {
                            "outlinewidth": 0,
                            "tickcolor": "rgb(36,36,36)",
                            "ticklen": 8,
                            "ticks": "outside",
                            "tickwidth": 2
                          }
                        },
                        "type": "scattercarpet"
                      }
                    ],
                    "scattergeo": [
                      {
                        "marker": {
                          "colorbar": {
                            "outlinewidth": 0,
                            "tickcolor": "rgb(36,36,36)",
                            "ticklen": 8,
                            "ticks": "outside",
                            "tickwidth": 2
                          }
                        },
                        "type": "scattergeo"
                      }
                    ],
                    "scattergl": [
                      {
                        "marker": {
                          "colorbar": {
                            "outlinewidth": 0,
                            "tickcolor": "rgb(36,36,36)",
                            "ticklen": 8,
                            "ticks": "outside",
                            "tickwidth": 2
                          }
                        },
                        "type": "scattergl"
                      }
                    ],
                    "scattermapbox": [
                      {
                        "marker": {
                          "colorbar": {
                            "outlinewidth": 0,
                            "tickcolor": "rgb(36,36,36)",
                            "ticklen": 8,
                            "ticks": "outside",
                            "tickwidth": 2
                          }
                        },
                        "type": "scattermapbox"
                      }
                    ],
                    "scatterpolar": [
                      {
                        "marker": {
                          "colorbar": {
                            "outlinewidth": 0,
                            "tickcolor": "rgb(36,36,36)",
                            "ticklen": 8,
                            "ticks": "outside",
                            "tickwidth": 2
                          }
                        },
                        "type": "scatterpolar"
                      }
                    ],
                    "scatterpolargl": [
                      {
                        "marker": {
                          "colorbar": {
                            "outlinewidth": 0,
                            "tickcolor": "rgb(36,36,36)",
                            "ticklen": 8,
                            "ticks": "outside",
                            "tickwidth": 2
                          }
                        },
                        "type": "scatterpolargl"
                      }
                    ],
                    "scatterternary": [
                      {
                        "marker": {
                          "colorbar": {
                            "outlinewidth": 0,
                            "tickcolor": "rgb(36,36,36)",
                            "ticklen": 8,
                            "ticks": "outside",
                            "tickwidth": 2
                          }
                        },
                        "type": "scatterternary"
                      }
                    ],
                    "surface": [
                      {
                        "colorbar": {
                          "outlinewidth": 0,
                          "tickcolor": "rgb(36,36,36)",
                          "ticklen": 8,
                          "ticks": "outside",
                          "tickwidth": 2
                        },
                        "colorscale": [
                          [
                            0,
                            "rgb(2,4,25)"
                          ],
                          [
                            0.06274509803921569,
                            "rgb(24,15,41)"
                          ],
                          [
                            0.12549019607843137,
                            "rgb(47,23,57)"
                          ],
                          [
                            0.18823529411764706,
                            "rgb(71,28,72)"
                          ],
                          [
                            0.25098039215686274,
                            "rgb(97,30,82)"
                          ],
                          [
                            0.3137254901960784,
                            "rgb(123,30,89)"
                          ],
                          [
                            0.3764705882352941,
                            "rgb(150,27,91)"
                          ],
                          [
                            0.4392156862745098,
                            "rgb(177,22,88)"
                          ],
                          [
                            0.5019607843137255,
                            "rgb(203,26,79)"
                          ],
                          [
                            0.5647058823529412,
                            "rgb(223,47,67)"
                          ],
                          [
                            0.6274509803921569,
                            "rgb(236,76,61)"
                          ],
                          [
                            0.6901960784313725,
                            "rgb(242,107,73)"
                          ],
                          [
                            0.7529411764705882,
                            "rgb(244,135,95)"
                          ],
                          [
                            0.8156862745098039,
                            "rgb(245,162,122)"
                          ],
                          [
                            0.8784313725490196,
                            "rgb(246,188,153)"
                          ],
                          [
                            0.9411764705882353,
                            "rgb(247,212,187)"
                          ],
                          [
                            1,
                            "rgb(250,234,220)"
                          ]
                        ],
                        "type": "surface"
                      }
                    ],
                    "table": [
                      {
                        "cells": {
                          "fill": {
                            "color": "rgb(231,231,240)"
                          },
                          "line": {
                            "color": "white"
                          }
                        },
                        "header": {
                          "fill": {
                            "color": "rgb(183,183,191)"
                          },
                          "line": {
                            "color": "white"
                          }
                        },
                        "type": "table"
                      }
                    ]
                  },
                  "layout": {
                    "annotationdefaults": {
                      "arrowcolor": "rgb(67,103,167)"
                    },
                    "autotypenumbers": "strict",
                    "coloraxis": {
                      "colorbar": {
                        "outlinewidth": 0,
                        "tickcolor": "rgb(36,36,36)",
                        "ticklen": 8,
                        "ticks": "outside",
                        "tickwidth": 2
                      }
                    },
                    "colorscale": {
                      "sequential": [
                        [
                          0,
                          "rgb(2,4,25)"
                        ],
                        [
                          0.06274509803921569,
                          "rgb(24,15,41)"
                        ],
                        [
                          0.12549019607843137,
                          "rgb(47,23,57)"
                        ],
                        [
                          0.18823529411764706,
                          "rgb(71,28,72)"
                        ],
                        [
                          0.25098039215686274,
                          "rgb(97,30,82)"
                        ],
                        [
                          0.3137254901960784,
                          "rgb(123,30,89)"
                        ],
                        [
                          0.3764705882352941,
                          "rgb(150,27,91)"
                        ],
                        [
                          0.4392156862745098,
                          "rgb(177,22,88)"
                        ],
                        [
                          0.5019607843137255,
                          "rgb(203,26,79)"
                        ],
                        [
                          0.5647058823529412,
                          "rgb(223,47,67)"
                        ],
                        [
                          0.6274509803921569,
                          "rgb(236,76,61)"
                        ],
                        [
                          0.6901960784313725,
                          "rgb(242,107,73)"
                        ],
                        [
                          0.7529411764705882,
                          "rgb(244,135,95)"
                        ],
                        [
                          0.8156862745098039,
                          "rgb(245,162,122)"
                        ],
                        [
                          0.8784313725490196,
                          "rgb(246,188,153)"
                        ],
                        [
                          0.9411764705882353,
                          "rgb(247,212,187)"
                        ],
                        [
                          1,
                          "rgb(250,234,220)"
                        ]
                      ],
                      "sequentialminus": [
                        [
                          0,
                          "rgb(2,4,25)"
                        ],
                        [
                          0.06274509803921569,
                          "rgb(24,15,41)"
                        ],
                        [
                          0.12549019607843137,
                          "rgb(47,23,57)"
                        ],
                        [
                          0.18823529411764706,
                          "rgb(71,28,72)"
                        ],
                        [
                          0.25098039215686274,
                          "rgb(97,30,82)"
                        ],
                        [
                          0.3137254901960784,
                          "rgb(123,30,89)"
                        ],
                        [
                          0.3764705882352941,
                          "rgb(150,27,91)"
                        ],
                        [
                          0.4392156862745098,
                          "rgb(177,22,88)"
                        ],
                        [
                          0.5019607843137255,
                          "rgb(203,26,79)"
                        ],
                        [
                          0.5647058823529412,
                          "rgb(223,47,67)"
                        ],
                        [
                          0.6274509803921569,
                          "rgb(236,76,61)"
                        ],
                        [
                          0.6901960784313725,
                          "rgb(242,107,73)"
                        ],
                        [
                          0.7529411764705882,
                          "rgb(244,135,95)"
                        ],
                        [
                          0.8156862745098039,
                          "rgb(245,162,122)"
                        ],
                        [
                          0.8784313725490196,
                          "rgb(246,188,153)"
                        ],
                        [
                          0.9411764705882353,
                          "rgb(247,212,187)"
                        ],
                        [
                          1,
                          "rgb(250,234,220)"
                        ]
                      ]
                    },
                    "colorway": [
                      "rgb(76,114,176)",
                      "rgb(221,132,82)",
                      "rgb(85,168,104)",
                      "rgb(196,78,82)",
                      "rgb(129,114,179)",
                      "rgb(147,120,96)",
                      "rgb(218,139,195)",
                      "rgb(140,140,140)",
                      "rgb(204,185,116)",
                      "rgb(100,181,205)"
                    ],
                    "font": {
                      "color": "rgb(36,36,36)"
                    },
                    "geo": {
                      "bgcolor": "white",
                      "lakecolor": "white",
                      "landcolor": "rgb(234,234,242)",
                      "showlakes": true,
                      "showland": true,
                      "subunitcolor": "white"
                    },
                    "hoverlabel": {
                      "align": "left"
                    },
                    "hovermode": "closest",
                    "paper_bgcolor": "white",
                    "plot_bgcolor": "rgb(234,234,242)",
                    "polar": {
                      "angularaxis": {
                        "gridcolor": "white",
                        "linecolor": "white",
                        "showgrid": true,
                        "ticks": ""
                      },
                      "bgcolor": "rgb(234,234,242)",
                      "radialaxis": {
                        "gridcolor": "white",
                        "linecolor": "white",
                        "showgrid": true,
                        "ticks": ""
                      }
                    },
                    "scene": {
                      "xaxis": {
                        "backgroundcolor": "rgb(234,234,242)",
                        "gridcolor": "white",
                        "gridwidth": 2,
                        "linecolor": "white",
                        "showbackground": true,
                        "showgrid": true,
                        "ticks": "",
                        "zerolinecolor": "white"
                      },
                      "yaxis": {
                        "backgroundcolor": "rgb(234,234,242)",
                        "gridcolor": "white",
                        "gridwidth": 2,
                        "linecolor": "white",
                        "showbackground": true,
                        "showgrid": true,
                        "ticks": "",
                        "zerolinecolor": "white"
                      },
                      "zaxis": {
                        "backgroundcolor": "rgb(234,234,242)",
                        "gridcolor": "white",
                        "gridwidth": 2,
                        "linecolor": "white",
                        "showbackground": true,
                        "showgrid": true,
                        "ticks": "",
                        "zerolinecolor": "white"
                      }
                    },
                    "shapedefaults": {
                      "fillcolor": "rgb(67,103,167)",
                      "line": {
                        "width": 0
                      },
                      "opacity": 0.5
                    },
                    "ternary": {
                      "aaxis": {
                        "gridcolor": "white",
                        "linecolor": "white",
                        "showgrid": true,
                        "ticks": ""
                      },
                      "baxis": {
                        "gridcolor": "white",
                        "linecolor": "white",
                        "showgrid": true,
                        "ticks": ""
                      },
                      "bgcolor": "rgb(234,234,242)",
                      "caxis": {
                        "gridcolor": "white",
                        "linecolor": "white",
                        "showgrid": true,
                        "ticks": ""
                      }
                    },
                    "xaxis": {
                      "automargin": true,
                      "gridcolor": "white",
                      "linecolor": "white",
                      "showgrid": true,
                      "ticks": "",
                      "title": {
                        "standoff": 15
                      },
                      "zerolinecolor": "white"
                    },
                    "yaxis": {
                      "automargin": true,
                      "gridcolor": "white",
                      "linecolor": "white",
                      "showgrid": true,
                      "ticks": "",
                      "title": {
                        "standoff": 15
                      },
                      "zerolinecolor": "white"
                    }
                  }
                },
                "title": {
                  "text": "Distribution of Campsites in Hong Kong"
                },
                "treemapcolorway": [
                  "rgb(251,180,174)",
                  "rgb(179,205,227)",
                  "rgb(204,235,197)",
                  "rgb(222,203,228)",
                  "rgb(254,217,166)",
                  "rgb(255,255,204)",
                  "rgb(229,216,189)",
                  "rgb(253,218,236)",
                  "rgb(242,242,242)"
                ]
              }
            }
          },
          "metadata": {},
          "output_type": "display_data"
        }
      ],
      "source": [
        "import pandas as pd\n",
        "import plotly.express as px\n",
        "df = pd.read_csv('HK_Campsite_cleaned.csv')\n",
        "\n",
        "#Use the strip() function to remove spaces in the Name_of_Building/Facility column and the CountryPark column\n",
        "df['Name_of_Building/Facility'] = df['Name_of_Building/Facility'].str.strip()\n",
        "df['CountryPark'] = df['CountryPark'].str.strip()\n",
        "\n",
        "#Group count\n",
        "grouped_df = df.groupby(['CountryPark', 'Name_of_Building/Facility']).size().reset_index(name='count')\n",
        "\n",
        "#Create a treemap\n",
        "fig = px.treemap(\n",
        "    grouped_df,\n",
        "    path=['CountryPark', 'Name_of_Building/Facility'],\n",
        "    values='count',\n",
        "    color='CountryPark',\n",
        "    color_discrete_sequence=px.colors.qualitative.Pastel1, #Choose a different color scheme\n",
        "    hover_name='Name_of_Building/Facility',\n",
        "    hover_data={'count': True}, #Set extra information that needs to be displayed on hover\n",
        "    labels={'count': 'Number of Campsites'}, #Sets the label name for the count column\n",
        "    title='Distribution of Campsites in Hong Kong',\n",
        "    template='seaborn',\n",
        ")\n",
        "\n",
        "fig.update_traces(textposition='middle center', textfont_size=15) \n",
        "fig.update_layout(margin=dict(t=60, b=60, l=60, r=60)) \n",
        "\n",
        "fig.show()"
      ]
    },
    {
      "cell_type": "code",
      "execution_count": 13,
      "metadata": {
        "colab": {
          "base_uri": "https://localhost:8080/",
          "height": 542
        },
        "id": "I90mbqtzjaCK",
        "outputId": "f80c78b9-3167-4317-e0e9-55e4bcbd870b"
      },
      "outputs": [
        {
          "data": {
            "application/vnd.plotly.v1+json": {
              "config": {
                "plotlyServerURL": "https://plot.ly"
              },
              "data": [
                {
                  "branchvalues": "total",
                  "customdata": [
                    [
                      1,
                      "STREAM WATER (SEASONAL SUPPLY)"
                    ],
                    [
                      1,
                      "TAP"
                    ],
                    [
                      1,
                      "TAP"
                    ],
                    [
                      1,
                      "STREAM WATER (SEASONAL SUPPLY)"
                    ],
                    [
                      1,
                      "STREAM WATER (SEASONAL SUPPLY)"
                    ],
                    [
                      1,
                      "STREAM WATER (SEASONAL SUPPLY)"
                    ],
                    [
                      1,
                      "TAP"
                    ],
                    [
                      1,
                      "TAP"
                    ],
                    [
                      1,
                      "STREAM WATER (SEASONAL SUPPLY)"
                    ],
                    [
                      1,
                      "STREAM WATER (SEASONAL SUPPLY)"
                    ],
                    [
                      1,
                      "STREAM WATER (SEASONAL SUPPLY)"
                    ],
                    [
                      1,
                      "STREAM WATER (SEASONAL SUPPLY)"
                    ],
                    [
                      1,
                      "FLUSHING TOILET"
                    ],
                    [
                      1,
                      "STREAM WATER (SEASONAL SUPPLY)"
                    ],
                    [
                      1,
                      "STREAM WATER (SEASONAL SUPPLY)"
                    ],
                    [
                      1,
                      "STREAM WATER (SEASONAL SUPPLY)"
                    ],
                    [
                      1,
                      "TAP"
                    ],
                    [
                      1,
                      "TAP"
                    ],
                    [
                      1,
                      "STREAM WATER (SEASONAL SUPPLY)"
                    ],
                    [
                      1,
                      "STREAM WATER (SEASONAL SUPPLY)"
                    ],
                    [
                      1,
                      "FLUSHING TOILET"
                    ],
                    [
                      1,
                      "TAP"
                    ],
                    [
                      1,
                      "STREAM WATER (SEASONAL SUPPLY)"
                    ],
                    [
                      1,
                      "TAP"
                    ],
                    [
                      1,
                      "STREAM WATER (SEASONAL SUPPLY)"
                    ],
                    [
                      1,
                      "STREAM WATER (SEASONAL SUPPLY)"
                    ],
                    [
                      1,
                      "STREAM WATER (SEASONAL SUPPLY)"
                    ],
                    [
                      1,
                      "TAP"
                    ],
                    [
                      1,
                      "TAP"
                    ],
                    [
                      1,
                      "TAP"
                    ],
                    [
                      1,
                      "TAP"
                    ],
                    [
                      1,
                      "TAP"
                    ],
                    [
                      1,
                      "STREAM WATER (SEASONAL SUPPLY)"
                    ],
                    [
                      1,
                      "STREAM WATER (SEASONAL SUPPLY)"
                    ],
                    [
                      1,
                      "TAP"
                    ],
                    [
                      1,
                      "TAP"
                    ],
                    [
                      1,
                      "STREAM WATER (SEASONAL SUPPLY)"
                    ],
                    [
                      1,
                      "FLUSHING TOILET"
                    ],
                    [
                      1,
                      "STREAM WATER (SEASONAL SUPPLY)"
                    ],
                    [
                      1,
                      "STREAM WATER (SEASONAL SUPPLY)"
                    ],
                    [
                      1,
                      "STREAM WATER (SEASONAL SUPPLY)"
                    ],
                    [
                      3,
                      "FLUSHING TOILET"
                    ],
                    [
                      23,
                      "STREAM WATER (SEASONAL SUPPLY)"
                    ],
                    [
                      15,
                      "TAP"
                    ]
                  ],
                  "domain": {
                    "x": [
                      0,
                      1
                    ],
                    "y": [
                      0,
                      1
                    ]
                  },
                  "hovertemplate": "<b>%{hovertext}</b><br><br>labels=%{label}<br>Number of Campsites=%{customdata[0]}<br>parent=%{parent}<br>id=%{id}<br>Source_of_water=%{customdata[1]}<extra></extra>",
                  "hovertext": [
                    "Cheung Sheung Camp Site",
                    "Chung Pui Camp Site",
                    "Ham Tin Wan Camp Site",
                    "Shek Lam Chau Camp Site",
                    "Shap Long Camp Site",
                    "Sam A Chung Camp Site",
                    "Sai Wan Camp Site",
                    "Rotary Club Park Camp Site",
                    "Pak Tam Au Camp Site",
                    "Pak Lap Camp Site",
                    "Pak Fu Tin Camp Site",
                    "Ngong Ping Camp Site",
                    "Ngong Ping Camp Site",
                    "Nga Ying Kok Camp Site",
                    "Po Kwu Wan Camp Site",
                    "Man Cheung Po Camp Site",
                    "Nam Shan Camp Site",
                    "Hau Tong Kai Camp Site",
                    "Ho Pui Camp Site",
                    "Kau Ling Chung Camp Site",
                    "Kong Ha Au Campsite",
                    "Hok Tau Camp Site",
                    "Lau Shui Heung Camp Site",
                    "Lead Mine Pass Camp Site",
                    "Lo Kei Wan Camp Site",
                    "Long Ke Wan Camp Site",
                    "Tung Ping Chau Camp Site",
                    "Wan Tsai West Camp Site",
                    "Wan Tsai South Camp Site",
                    "Twisk Camp Site",
                    "Wong Shek Camp Site",
                    "Tung Lung Chau Camp Site",
                    "Shui Long Wo Camp Site",
                    "Tin Fu Tsai Camp Site",
                    "Tai Tan Camp Site",
                    "Tai Mong Tsai Campsite",
                    "Tai Long Wan Camp Site",
                    "Shek Pik Camp Site",
                    "Yee Ting Camp Site",
                    "Tsin Yue Wan Camp Site",
                    "Yuen Ng Fan Camp Site",
                    "(?)",
                    "(?)",
                    "(?)"
                  ],
                  "ids": [
                    "STREAM WATER (SEASONAL SUPPLY)/Cheung Sheung Camp Site",
                    "TAP/Chung Pui Camp Site",
                    "TAP/Ham Tin Wan Camp Site",
                    "STREAM WATER (SEASONAL SUPPLY)/Shek Lam Chau Camp Site",
                    "STREAM WATER (SEASONAL SUPPLY)/Shap Long Camp Site",
                    "STREAM WATER (SEASONAL SUPPLY)/Sam A Chung Camp Site",
                    "TAP/Sai Wan Camp Site",
                    "TAP/Rotary Club Park Camp Site",
                    "STREAM WATER (SEASONAL SUPPLY)/Pak Tam Au Camp Site",
                    "STREAM WATER (SEASONAL SUPPLY)/Pak Lap Camp Site",
                    "STREAM WATER (SEASONAL SUPPLY)/Pak Fu Tin Camp Site",
                    "STREAM WATER (SEASONAL SUPPLY)/Ngong Ping Camp Site",
                    "FLUSHING TOILET/Ngong Ping Camp Site",
                    "STREAM WATER (SEASONAL SUPPLY)/Nga Ying Kok Camp Site",
                    "STREAM WATER (SEASONAL SUPPLY)/Po Kwu Wan Camp Site",
                    "STREAM WATER (SEASONAL SUPPLY)/Man Cheung Po Camp Site",
                    "TAP/Nam Shan Camp Site",
                    "TAP/Hau Tong Kai Camp Site",
                    "STREAM WATER (SEASONAL SUPPLY)/Ho Pui Camp Site",
                    "STREAM WATER (SEASONAL SUPPLY)/Kau Ling Chung Camp Site",
                    "FLUSHING TOILET/Kong Ha Au Campsite",
                    "TAP/Hok Tau Camp Site",
                    "STREAM WATER (SEASONAL SUPPLY)/Lau Shui Heung Camp Site",
                    "TAP/Lead Mine Pass Camp Site",
                    "STREAM WATER (SEASONAL SUPPLY)/Lo Kei Wan Camp Site",
                    "STREAM WATER (SEASONAL SUPPLY)/Long Ke Wan Camp Site",
                    "STREAM WATER (SEASONAL SUPPLY)/Tung Ping Chau Camp Site",
                    "TAP/Wan Tsai West Camp Site",
                    "TAP/Wan Tsai South Camp Site",
                    "TAP/Twisk Camp Site",
                    "TAP/Wong Shek Camp Site",
                    "TAP/Tung Lung Chau Camp Site",
                    "STREAM WATER (SEASONAL SUPPLY)/Shui Long Wo Camp Site",
                    "STREAM WATER (SEASONAL SUPPLY)/Tin Fu Tsai Camp Site",
                    "TAP/Tai Tan Camp Site",
                    "TAP/Tai Mong Tsai Campsite",
                    "STREAM WATER (SEASONAL SUPPLY)/Tai Long Wan Camp Site",
                    "FLUSHING TOILET/Shek Pik Camp Site",
                    "STREAM WATER (SEASONAL SUPPLY)/Yee Ting Camp Site",
                    "STREAM WATER (SEASONAL SUPPLY)/Tsin Yue Wan Camp Site",
                    "STREAM WATER (SEASONAL SUPPLY)/Yuen Ng Fan Camp Site",
                    "FLUSHING TOILET",
                    "STREAM WATER (SEASONAL SUPPLY)",
                    "TAP"
                  ],
                  "labels": [
                    "Cheung Sheung Camp Site",
                    "Chung Pui Camp Site",
                    "Ham Tin Wan Camp Site",
                    "Shek Lam Chau Camp Site",
                    "Shap Long Camp Site",
                    "Sam A Chung Camp Site",
                    "Sai Wan Camp Site",
                    "Rotary Club Park Camp Site",
                    "Pak Tam Au Camp Site",
                    "Pak Lap Camp Site",
                    "Pak Fu Tin Camp Site",
                    "Ngong Ping Camp Site",
                    "Ngong Ping Camp Site",
                    "Nga Ying Kok Camp Site",
                    "Po Kwu Wan Camp Site",
                    "Man Cheung Po Camp Site",
                    "Nam Shan Camp Site",
                    "Hau Tong Kai Camp Site",
                    "Ho Pui Camp Site",
                    "Kau Ling Chung Camp Site",
                    "Kong Ha Au Campsite",
                    "Hok Tau Camp Site",
                    "Lau Shui Heung Camp Site",
                    "Lead Mine Pass Camp Site",
                    "Lo Kei Wan Camp Site",
                    "Long Ke Wan Camp Site",
                    "Tung Ping Chau Camp Site",
                    "Wan Tsai West Camp Site",
                    "Wan Tsai South Camp Site",
                    "Twisk Camp Site",
                    "Wong Shek Camp Site",
                    "Tung Lung Chau Camp Site",
                    "Shui Long Wo Camp Site",
                    "Tin Fu Tsai Camp Site",
                    "Tai Tan Camp Site",
                    "Tai Mong Tsai Campsite",
                    "Tai Long Wan Camp Site",
                    "Shek Pik Camp Site",
                    "Yee Ting Camp Site",
                    "Tsin Yue Wan Camp Site",
                    "Yuen Ng Fan Camp Site",
                    "FLUSHING TOILET",
                    "STREAM WATER (SEASONAL SUPPLY)",
                    "TAP"
                  ],
                  "marker": {
                    "colors": [
                      "rgb(251,180,174)",
                      "rgb(179,205,227)",
                      "rgb(179,205,227)",
                      "rgb(251,180,174)",
                      "rgb(251,180,174)",
                      "rgb(251,180,174)",
                      "rgb(179,205,227)",
                      "rgb(179,205,227)",
                      "rgb(251,180,174)",
                      "rgb(251,180,174)",
                      "rgb(251,180,174)",
                      "rgb(251,180,174)",
                      "rgb(204,235,197)",
                      "rgb(251,180,174)",
                      "rgb(251,180,174)",
                      "rgb(251,180,174)",
                      "rgb(179,205,227)",
                      "rgb(179,205,227)",
                      "rgb(251,180,174)",
                      "rgb(251,180,174)",
                      "rgb(204,235,197)",
                      "rgb(179,205,227)",
                      "rgb(251,180,174)",
                      "rgb(179,205,227)",
                      "rgb(251,180,174)",
                      "rgb(251,180,174)",
                      "rgb(251,180,174)",
                      "rgb(179,205,227)",
                      "rgb(179,205,227)",
                      "rgb(179,205,227)",
                      "rgb(179,205,227)",
                      "rgb(179,205,227)",
                      "rgb(251,180,174)",
                      "rgb(251,180,174)",
                      "rgb(179,205,227)",
                      "rgb(179,205,227)",
                      "rgb(251,180,174)",
                      "rgb(204,235,197)",
                      "rgb(251,180,174)",
                      "rgb(251,180,174)",
                      "rgb(251,180,174)",
                      "rgb(204,235,197)",
                      "rgb(251,180,174)",
                      "rgb(179,205,227)"
                    ]
                  },
                  "name": "",
                  "parents": [
                    "STREAM WATER (SEASONAL SUPPLY)",
                    "TAP",
                    "TAP",
                    "STREAM WATER (SEASONAL SUPPLY)",
                    "STREAM WATER (SEASONAL SUPPLY)",
                    "STREAM WATER (SEASONAL SUPPLY)",
                    "TAP",
                    "TAP",
                    "STREAM WATER (SEASONAL SUPPLY)",
                    "STREAM WATER (SEASONAL SUPPLY)",
                    "STREAM WATER (SEASONAL SUPPLY)",
                    "STREAM WATER (SEASONAL SUPPLY)",
                    "FLUSHING TOILET",
                    "STREAM WATER (SEASONAL SUPPLY)",
                    "STREAM WATER (SEASONAL SUPPLY)",
                    "STREAM WATER (SEASONAL SUPPLY)",
                    "TAP",
                    "TAP",
                    "STREAM WATER (SEASONAL SUPPLY)",
                    "STREAM WATER (SEASONAL SUPPLY)",
                    "FLUSHING TOILET",
                    "TAP",
                    "STREAM WATER (SEASONAL SUPPLY)",
                    "TAP",
                    "STREAM WATER (SEASONAL SUPPLY)",
                    "STREAM WATER (SEASONAL SUPPLY)",
                    "STREAM WATER (SEASONAL SUPPLY)",
                    "TAP",
                    "TAP",
                    "TAP",
                    "TAP",
                    "TAP",
                    "STREAM WATER (SEASONAL SUPPLY)",
                    "STREAM WATER (SEASONAL SUPPLY)",
                    "TAP",
                    "TAP",
                    "STREAM WATER (SEASONAL SUPPLY)",
                    "FLUSHING TOILET",
                    "STREAM WATER (SEASONAL SUPPLY)",
                    "STREAM WATER (SEASONAL SUPPLY)",
                    "STREAM WATER (SEASONAL SUPPLY)",
                    "",
                    "",
                    ""
                  ],
                  "textfont": {
                    "size": 15
                  },
                  "textposition": "middle center",
                  "type": "treemap",
                  "values": [
                    1,
                    1,
                    1,
                    1,
                    1,
                    1,
                    1,
                    1,
                    1,
                    1,
                    1,
                    1,
                    1,
                    1,
                    1,
                    1,
                    1,
                    1,
                    1,
                    1,
                    1,
                    1,
                    1,
                    1,
                    1,
                    1,
                    1,
                    1,
                    1,
                    1,
                    1,
                    1,
                    1,
                    1,
                    1,
                    1,
                    1,
                    1,
                    1,
                    1,
                    1,
                    3,
                    23,
                    15
                  ]
                }
              ],
              "layout": {
                "legend": {
                  "tracegroupgap": 0
                },
                "margin": {
                  "b": 60,
                  "l": 60,
                  "r": 60,
                  "t": 60
                },
                "template": {
                  "data": {
                    "bar": [
                      {
                        "error_x": {
                          "color": "rgb(36,36,36)"
                        },
                        "error_y": {
                          "color": "rgb(36,36,36)"
                        },
                        "marker": {
                          "line": {
                            "color": "rgb(234,234,242)",
                            "width": 0.5
                          },
                          "pattern": {
                            "fillmode": "overlay",
                            "size": 10,
                            "solidity": 0.2
                          }
                        },
                        "type": "bar"
                      }
                    ],
                    "barpolar": [
                      {
                        "marker": {
                          "line": {
                            "color": "rgb(234,234,242)",
                            "width": 0.5
                          },
                          "pattern": {
                            "fillmode": "overlay",
                            "size": 10,
                            "solidity": 0.2
                          }
                        },
                        "type": "barpolar"
                      }
                    ],
                    "carpet": [
                      {
                        "aaxis": {
                          "endlinecolor": "rgb(36,36,36)",
                          "gridcolor": "white",
                          "linecolor": "white",
                          "minorgridcolor": "white",
                          "startlinecolor": "rgb(36,36,36)"
                        },
                        "baxis": {
                          "endlinecolor": "rgb(36,36,36)",
                          "gridcolor": "white",
                          "linecolor": "white",
                          "minorgridcolor": "white",
                          "startlinecolor": "rgb(36,36,36)"
                        },
                        "type": "carpet"
                      }
                    ],
                    "choropleth": [
                      {
                        "colorbar": {
                          "outlinewidth": 0,
                          "tickcolor": "rgb(36,36,36)",
                          "ticklen": 8,
                          "ticks": "outside",
                          "tickwidth": 2
                        },
                        "type": "choropleth"
                      }
                    ],
                    "contour": [
                      {
                        "colorbar": {
                          "outlinewidth": 0,
                          "tickcolor": "rgb(36,36,36)",
                          "ticklen": 8,
                          "ticks": "outside",
                          "tickwidth": 2
                        },
                        "colorscale": [
                          [
                            0,
                            "rgb(2,4,25)"
                          ],
                          [
                            0.06274509803921569,
                            "rgb(24,15,41)"
                          ],
                          [
                            0.12549019607843137,
                            "rgb(47,23,57)"
                          ],
                          [
                            0.18823529411764706,
                            "rgb(71,28,72)"
                          ],
                          [
                            0.25098039215686274,
                            "rgb(97,30,82)"
                          ],
                          [
                            0.3137254901960784,
                            "rgb(123,30,89)"
                          ],
                          [
                            0.3764705882352941,
                            "rgb(150,27,91)"
                          ],
                          [
                            0.4392156862745098,
                            "rgb(177,22,88)"
                          ],
                          [
                            0.5019607843137255,
                            "rgb(203,26,79)"
                          ],
                          [
                            0.5647058823529412,
                            "rgb(223,47,67)"
                          ],
                          [
                            0.6274509803921569,
                            "rgb(236,76,61)"
                          ],
                          [
                            0.6901960784313725,
                            "rgb(242,107,73)"
                          ],
                          [
                            0.7529411764705882,
                            "rgb(244,135,95)"
                          ],
                          [
                            0.8156862745098039,
                            "rgb(245,162,122)"
                          ],
                          [
                            0.8784313725490196,
                            "rgb(246,188,153)"
                          ],
                          [
                            0.9411764705882353,
                            "rgb(247,212,187)"
                          ],
                          [
                            1,
                            "rgb(250,234,220)"
                          ]
                        ],
                        "type": "contour"
                      }
                    ],
                    "contourcarpet": [
                      {
                        "colorbar": {
                          "outlinewidth": 0,
                          "tickcolor": "rgb(36,36,36)",
                          "ticklen": 8,
                          "ticks": "outside",
                          "tickwidth": 2
                        },
                        "type": "contourcarpet"
                      }
                    ],
                    "heatmap": [
                      {
                        "colorbar": {
                          "outlinewidth": 0,
                          "tickcolor": "rgb(36,36,36)",
                          "ticklen": 8,
                          "ticks": "outside",
                          "tickwidth": 2
                        },
                        "colorscale": [
                          [
                            0,
                            "rgb(2,4,25)"
                          ],
                          [
                            0.06274509803921569,
                            "rgb(24,15,41)"
                          ],
                          [
                            0.12549019607843137,
                            "rgb(47,23,57)"
                          ],
                          [
                            0.18823529411764706,
                            "rgb(71,28,72)"
                          ],
                          [
                            0.25098039215686274,
                            "rgb(97,30,82)"
                          ],
                          [
                            0.3137254901960784,
                            "rgb(123,30,89)"
                          ],
                          [
                            0.3764705882352941,
                            "rgb(150,27,91)"
                          ],
                          [
                            0.4392156862745098,
                            "rgb(177,22,88)"
                          ],
                          [
                            0.5019607843137255,
                            "rgb(203,26,79)"
                          ],
                          [
                            0.5647058823529412,
                            "rgb(223,47,67)"
                          ],
                          [
                            0.6274509803921569,
                            "rgb(236,76,61)"
                          ],
                          [
                            0.6901960784313725,
                            "rgb(242,107,73)"
                          ],
                          [
                            0.7529411764705882,
                            "rgb(244,135,95)"
                          ],
                          [
                            0.8156862745098039,
                            "rgb(245,162,122)"
                          ],
                          [
                            0.8784313725490196,
                            "rgb(246,188,153)"
                          ],
                          [
                            0.9411764705882353,
                            "rgb(247,212,187)"
                          ],
                          [
                            1,
                            "rgb(250,234,220)"
                          ]
                        ],
                        "type": "heatmap"
                      }
                    ],
                    "heatmapgl": [
                      {
                        "colorbar": {
                          "outlinewidth": 0,
                          "tickcolor": "rgb(36,36,36)",
                          "ticklen": 8,
                          "ticks": "outside",
                          "tickwidth": 2
                        },
                        "colorscale": [
                          [
                            0,
                            "rgb(2,4,25)"
                          ],
                          [
                            0.06274509803921569,
                            "rgb(24,15,41)"
                          ],
                          [
                            0.12549019607843137,
                            "rgb(47,23,57)"
                          ],
                          [
                            0.18823529411764706,
                            "rgb(71,28,72)"
                          ],
                          [
                            0.25098039215686274,
                            "rgb(97,30,82)"
                          ],
                          [
                            0.3137254901960784,
                            "rgb(123,30,89)"
                          ],
                          [
                            0.3764705882352941,
                            "rgb(150,27,91)"
                          ],
                          [
                            0.4392156862745098,
                            "rgb(177,22,88)"
                          ],
                          [
                            0.5019607843137255,
                            "rgb(203,26,79)"
                          ],
                          [
                            0.5647058823529412,
                            "rgb(223,47,67)"
                          ],
                          [
                            0.6274509803921569,
                            "rgb(236,76,61)"
                          ],
                          [
                            0.6901960784313725,
                            "rgb(242,107,73)"
                          ],
                          [
                            0.7529411764705882,
                            "rgb(244,135,95)"
                          ],
                          [
                            0.8156862745098039,
                            "rgb(245,162,122)"
                          ],
                          [
                            0.8784313725490196,
                            "rgb(246,188,153)"
                          ],
                          [
                            0.9411764705882353,
                            "rgb(247,212,187)"
                          ],
                          [
                            1,
                            "rgb(250,234,220)"
                          ]
                        ],
                        "type": "heatmapgl"
                      }
                    ],
                    "histogram": [
                      {
                        "marker": {
                          "pattern": {
                            "fillmode": "overlay",
                            "size": 10,
                            "solidity": 0.2
                          }
                        },
                        "type": "histogram"
                      }
                    ],
                    "histogram2d": [
                      {
                        "colorbar": {
                          "outlinewidth": 0,
                          "tickcolor": "rgb(36,36,36)",
                          "ticklen": 8,
                          "ticks": "outside",
                          "tickwidth": 2
                        },
                        "colorscale": [
                          [
                            0,
                            "rgb(2,4,25)"
                          ],
                          [
                            0.06274509803921569,
                            "rgb(24,15,41)"
                          ],
                          [
                            0.12549019607843137,
                            "rgb(47,23,57)"
                          ],
                          [
                            0.18823529411764706,
                            "rgb(71,28,72)"
                          ],
                          [
                            0.25098039215686274,
                            "rgb(97,30,82)"
                          ],
                          [
                            0.3137254901960784,
                            "rgb(123,30,89)"
                          ],
                          [
                            0.3764705882352941,
                            "rgb(150,27,91)"
                          ],
                          [
                            0.4392156862745098,
                            "rgb(177,22,88)"
                          ],
                          [
                            0.5019607843137255,
                            "rgb(203,26,79)"
                          ],
                          [
                            0.5647058823529412,
                            "rgb(223,47,67)"
                          ],
                          [
                            0.6274509803921569,
                            "rgb(236,76,61)"
                          ],
                          [
                            0.6901960784313725,
                            "rgb(242,107,73)"
                          ],
                          [
                            0.7529411764705882,
                            "rgb(244,135,95)"
                          ],
                          [
                            0.8156862745098039,
                            "rgb(245,162,122)"
                          ],
                          [
                            0.8784313725490196,
                            "rgb(246,188,153)"
                          ],
                          [
                            0.9411764705882353,
                            "rgb(247,212,187)"
                          ],
                          [
                            1,
                            "rgb(250,234,220)"
                          ]
                        ],
                        "type": "histogram2d"
                      }
                    ],
                    "histogram2dcontour": [
                      {
                        "colorbar": {
                          "outlinewidth": 0,
                          "tickcolor": "rgb(36,36,36)",
                          "ticklen": 8,
                          "ticks": "outside",
                          "tickwidth": 2
                        },
                        "colorscale": [
                          [
                            0,
                            "rgb(2,4,25)"
                          ],
                          [
                            0.06274509803921569,
                            "rgb(24,15,41)"
                          ],
                          [
                            0.12549019607843137,
                            "rgb(47,23,57)"
                          ],
                          [
                            0.18823529411764706,
                            "rgb(71,28,72)"
                          ],
                          [
                            0.25098039215686274,
                            "rgb(97,30,82)"
                          ],
                          [
                            0.3137254901960784,
                            "rgb(123,30,89)"
                          ],
                          [
                            0.3764705882352941,
                            "rgb(150,27,91)"
                          ],
                          [
                            0.4392156862745098,
                            "rgb(177,22,88)"
                          ],
                          [
                            0.5019607843137255,
                            "rgb(203,26,79)"
                          ],
                          [
                            0.5647058823529412,
                            "rgb(223,47,67)"
                          ],
                          [
                            0.6274509803921569,
                            "rgb(236,76,61)"
                          ],
                          [
                            0.6901960784313725,
                            "rgb(242,107,73)"
                          ],
                          [
                            0.7529411764705882,
                            "rgb(244,135,95)"
                          ],
                          [
                            0.8156862745098039,
                            "rgb(245,162,122)"
                          ],
                          [
                            0.8784313725490196,
                            "rgb(246,188,153)"
                          ],
                          [
                            0.9411764705882353,
                            "rgb(247,212,187)"
                          ],
                          [
                            1,
                            "rgb(250,234,220)"
                          ]
                        ],
                        "type": "histogram2dcontour"
                      }
                    ],
                    "mesh3d": [
                      {
                        "colorbar": {
                          "outlinewidth": 0,
                          "tickcolor": "rgb(36,36,36)",
                          "ticklen": 8,
                          "ticks": "outside",
                          "tickwidth": 2
                        },
                        "type": "mesh3d"
                      }
                    ],
                    "parcoords": [
                      {
                        "line": {
                          "colorbar": {
                            "outlinewidth": 0,
                            "tickcolor": "rgb(36,36,36)",
                            "ticklen": 8,
                            "ticks": "outside",
                            "tickwidth": 2
                          }
                        },
                        "type": "parcoords"
                      }
                    ],
                    "pie": [
                      {
                        "automargin": true,
                        "type": "pie"
                      }
                    ],
                    "scatter": [
                      {
                        "fillpattern": {
                          "fillmode": "overlay",
                          "size": 10,
                          "solidity": 0.2
                        },
                        "type": "scatter"
                      }
                    ],
                    "scatter3d": [
                      {
                        "line": {
                          "colorbar": {
                            "outlinewidth": 0,
                            "tickcolor": "rgb(36,36,36)",
                            "ticklen": 8,
                            "ticks": "outside",
                            "tickwidth": 2
                          }
                        },
                        "marker": {
                          "colorbar": {
                            "outlinewidth": 0,
                            "tickcolor": "rgb(36,36,36)",
                            "ticklen": 8,
                            "ticks": "outside",
                            "tickwidth": 2
                          }
                        },
                        "type": "scatter3d"
                      }
                    ],
                    "scattercarpet": [
                      {
                        "marker": {
                          "colorbar": {
                            "outlinewidth": 0,
                            "tickcolor": "rgb(36,36,36)",
                            "ticklen": 8,
                            "ticks": "outside",
                            "tickwidth": 2
                          }
                        },
                        "type": "scattercarpet"
                      }
                    ],
                    "scattergeo": [
                      {
                        "marker": {
                          "colorbar": {
                            "outlinewidth": 0,
                            "tickcolor": "rgb(36,36,36)",
                            "ticklen": 8,
                            "ticks": "outside",
                            "tickwidth": 2
                          }
                        },
                        "type": "scattergeo"
                      }
                    ],
                    "scattergl": [
                      {
                        "marker": {
                          "colorbar": {
                            "outlinewidth": 0,
                            "tickcolor": "rgb(36,36,36)",
                            "ticklen": 8,
                            "ticks": "outside",
                            "tickwidth": 2
                          }
                        },
                        "type": "scattergl"
                      }
                    ],
                    "scattermapbox": [
                      {
                        "marker": {
                          "colorbar": {
                            "outlinewidth": 0,
                            "tickcolor": "rgb(36,36,36)",
                            "ticklen": 8,
                            "ticks": "outside",
                            "tickwidth": 2
                          }
                        },
                        "type": "scattermapbox"
                      }
                    ],
                    "scatterpolar": [
                      {
                        "marker": {
                          "colorbar": {
                            "outlinewidth": 0,
                            "tickcolor": "rgb(36,36,36)",
                            "ticklen": 8,
                            "ticks": "outside",
                            "tickwidth": 2
                          }
                        },
                        "type": "scatterpolar"
                      }
                    ],
                    "scatterpolargl": [
                      {
                        "marker": {
                          "colorbar": {
                            "outlinewidth": 0,
                            "tickcolor": "rgb(36,36,36)",
                            "ticklen": 8,
                            "ticks": "outside",
                            "tickwidth": 2
                          }
                        },
                        "type": "scatterpolargl"
                      }
                    ],
                    "scatterternary": [
                      {
                        "marker": {
                          "colorbar": {
                            "outlinewidth": 0,
                            "tickcolor": "rgb(36,36,36)",
                            "ticklen": 8,
                            "ticks": "outside",
                            "tickwidth": 2
                          }
                        },
                        "type": "scatterternary"
                      }
                    ],
                    "surface": [
                      {
                        "colorbar": {
                          "outlinewidth": 0,
                          "tickcolor": "rgb(36,36,36)",
                          "ticklen": 8,
                          "ticks": "outside",
                          "tickwidth": 2
                        },
                        "colorscale": [
                          [
                            0,
                            "rgb(2,4,25)"
                          ],
                          [
                            0.06274509803921569,
                            "rgb(24,15,41)"
                          ],
                          [
                            0.12549019607843137,
                            "rgb(47,23,57)"
                          ],
                          [
                            0.18823529411764706,
                            "rgb(71,28,72)"
                          ],
                          [
                            0.25098039215686274,
                            "rgb(97,30,82)"
                          ],
                          [
                            0.3137254901960784,
                            "rgb(123,30,89)"
                          ],
                          [
                            0.3764705882352941,
                            "rgb(150,27,91)"
                          ],
                          [
                            0.4392156862745098,
                            "rgb(177,22,88)"
                          ],
                          [
                            0.5019607843137255,
                            "rgb(203,26,79)"
                          ],
                          [
                            0.5647058823529412,
                            "rgb(223,47,67)"
                          ],
                          [
                            0.6274509803921569,
                            "rgb(236,76,61)"
                          ],
                          [
                            0.6901960784313725,
                            "rgb(242,107,73)"
                          ],
                          [
                            0.7529411764705882,
                            "rgb(244,135,95)"
                          ],
                          [
                            0.8156862745098039,
                            "rgb(245,162,122)"
                          ],
                          [
                            0.8784313725490196,
                            "rgb(246,188,153)"
                          ],
                          [
                            0.9411764705882353,
                            "rgb(247,212,187)"
                          ],
                          [
                            1,
                            "rgb(250,234,220)"
                          ]
                        ],
                        "type": "surface"
                      }
                    ],
                    "table": [
                      {
                        "cells": {
                          "fill": {
                            "color": "rgb(231,231,240)"
                          },
                          "line": {
                            "color": "white"
                          }
                        },
                        "header": {
                          "fill": {
                            "color": "rgb(183,183,191)"
                          },
                          "line": {
                            "color": "white"
                          }
                        },
                        "type": "table"
                      }
                    ]
                  },
                  "layout": {
                    "annotationdefaults": {
                      "arrowcolor": "rgb(67,103,167)"
                    },
                    "autotypenumbers": "strict",
                    "coloraxis": {
                      "colorbar": {
                        "outlinewidth": 0,
                        "tickcolor": "rgb(36,36,36)",
                        "ticklen": 8,
                        "ticks": "outside",
                        "tickwidth": 2
                      }
                    },
                    "colorscale": {
                      "sequential": [
                        [
                          0,
                          "rgb(2,4,25)"
                        ],
                        [
                          0.06274509803921569,
                          "rgb(24,15,41)"
                        ],
                        [
                          0.12549019607843137,
                          "rgb(47,23,57)"
                        ],
                        [
                          0.18823529411764706,
                          "rgb(71,28,72)"
                        ],
                        [
                          0.25098039215686274,
                          "rgb(97,30,82)"
                        ],
                        [
                          0.3137254901960784,
                          "rgb(123,30,89)"
                        ],
                        [
                          0.3764705882352941,
                          "rgb(150,27,91)"
                        ],
                        [
                          0.4392156862745098,
                          "rgb(177,22,88)"
                        ],
                        [
                          0.5019607843137255,
                          "rgb(203,26,79)"
                        ],
                        [
                          0.5647058823529412,
                          "rgb(223,47,67)"
                        ],
                        [
                          0.6274509803921569,
                          "rgb(236,76,61)"
                        ],
                        [
                          0.6901960784313725,
                          "rgb(242,107,73)"
                        ],
                        [
                          0.7529411764705882,
                          "rgb(244,135,95)"
                        ],
                        [
                          0.8156862745098039,
                          "rgb(245,162,122)"
                        ],
                        [
                          0.8784313725490196,
                          "rgb(246,188,153)"
                        ],
                        [
                          0.9411764705882353,
                          "rgb(247,212,187)"
                        ],
                        [
                          1,
                          "rgb(250,234,220)"
                        ]
                      ],
                      "sequentialminus": [
                        [
                          0,
                          "rgb(2,4,25)"
                        ],
                        [
                          0.06274509803921569,
                          "rgb(24,15,41)"
                        ],
                        [
                          0.12549019607843137,
                          "rgb(47,23,57)"
                        ],
                        [
                          0.18823529411764706,
                          "rgb(71,28,72)"
                        ],
                        [
                          0.25098039215686274,
                          "rgb(97,30,82)"
                        ],
                        [
                          0.3137254901960784,
                          "rgb(123,30,89)"
                        ],
                        [
                          0.3764705882352941,
                          "rgb(150,27,91)"
                        ],
                        [
                          0.4392156862745098,
                          "rgb(177,22,88)"
                        ],
                        [
                          0.5019607843137255,
                          "rgb(203,26,79)"
                        ],
                        [
                          0.5647058823529412,
                          "rgb(223,47,67)"
                        ],
                        [
                          0.6274509803921569,
                          "rgb(236,76,61)"
                        ],
                        [
                          0.6901960784313725,
                          "rgb(242,107,73)"
                        ],
                        [
                          0.7529411764705882,
                          "rgb(244,135,95)"
                        ],
                        [
                          0.8156862745098039,
                          "rgb(245,162,122)"
                        ],
                        [
                          0.8784313725490196,
                          "rgb(246,188,153)"
                        ],
                        [
                          0.9411764705882353,
                          "rgb(247,212,187)"
                        ],
                        [
                          1,
                          "rgb(250,234,220)"
                        ]
                      ]
                    },
                    "colorway": [
                      "rgb(76,114,176)",
                      "rgb(221,132,82)",
                      "rgb(85,168,104)",
                      "rgb(196,78,82)",
                      "rgb(129,114,179)",
                      "rgb(147,120,96)",
                      "rgb(218,139,195)",
                      "rgb(140,140,140)",
                      "rgb(204,185,116)",
                      "rgb(100,181,205)"
                    ],
                    "font": {
                      "color": "rgb(36,36,36)"
                    },
                    "geo": {
                      "bgcolor": "white",
                      "lakecolor": "white",
                      "landcolor": "rgb(234,234,242)",
                      "showlakes": true,
                      "showland": true,
                      "subunitcolor": "white"
                    },
                    "hoverlabel": {
                      "align": "left"
                    },
                    "hovermode": "closest",
                    "paper_bgcolor": "white",
                    "plot_bgcolor": "rgb(234,234,242)",
                    "polar": {
                      "angularaxis": {
                        "gridcolor": "white",
                        "linecolor": "white",
                        "showgrid": true,
                        "ticks": ""
                      },
                      "bgcolor": "rgb(234,234,242)",
                      "radialaxis": {
                        "gridcolor": "white",
                        "linecolor": "white",
                        "showgrid": true,
                        "ticks": ""
                      }
                    },
                    "scene": {
                      "xaxis": {
                        "backgroundcolor": "rgb(234,234,242)",
                        "gridcolor": "white",
                        "gridwidth": 2,
                        "linecolor": "white",
                        "showbackground": true,
                        "showgrid": true,
                        "ticks": "",
                        "zerolinecolor": "white"
                      },
                      "yaxis": {
                        "backgroundcolor": "rgb(234,234,242)",
                        "gridcolor": "white",
                        "gridwidth": 2,
                        "linecolor": "white",
                        "showbackground": true,
                        "showgrid": true,
                        "ticks": "",
                        "zerolinecolor": "white"
                      },
                      "zaxis": {
                        "backgroundcolor": "rgb(234,234,242)",
                        "gridcolor": "white",
                        "gridwidth": 2,
                        "linecolor": "white",
                        "showbackground": true,
                        "showgrid": true,
                        "ticks": "",
                        "zerolinecolor": "white"
                      }
                    },
                    "shapedefaults": {
                      "fillcolor": "rgb(67,103,167)",
                      "line": {
                        "width": 0
                      },
                      "opacity": 0.5
                    },
                    "ternary": {
                      "aaxis": {
                        "gridcolor": "white",
                        "linecolor": "white",
                        "showgrid": true,
                        "ticks": ""
                      },
                      "baxis": {
                        "gridcolor": "white",
                        "linecolor": "white",
                        "showgrid": true,
                        "ticks": ""
                      },
                      "bgcolor": "rgb(234,234,242)",
                      "caxis": {
                        "gridcolor": "white",
                        "linecolor": "white",
                        "showgrid": true,
                        "ticks": ""
                      }
                    },
                    "xaxis": {
                      "automargin": true,
                      "gridcolor": "white",
                      "linecolor": "white",
                      "showgrid": true,
                      "ticks": "",
                      "title": {
                        "standoff": 15
                      },
                      "zerolinecolor": "white"
                    },
                    "yaxis": {
                      "automargin": true,
                      "gridcolor": "white",
                      "linecolor": "white",
                      "showgrid": true,
                      "ticks": "",
                      "title": {
                        "standoff": 15
                      },
                      "zerolinecolor": "white"
                    }
                  }
                },
                "title": {
                  "text": "Distribution of Campsites in Hong Kong by Source of Water"
                },
                "treemapcolorway": [
                  "rgb(251,180,174)",
                  "rgb(179,205,227)",
                  "rgb(204,235,197)",
                  "rgb(222,203,228)",
                  "rgb(254,217,166)",
                  "rgb(255,255,204)",
                  "rgb(229,216,189)",
                  "rgb(253,218,236)",
                  "rgb(242,242,242)"
                ]
              }
            }
          },
          "metadata": {},
          "output_type": "display_data"
        }
      ],
      "source": [
        "import pandas as pd\n",
        "import plotly.express as px\n",
        "df = pd.read_csv('HK_Campsite_cleaned.csv')\n",
        "\n",
        "df['Name_of_Building/Facility'] = df['Name_of_Building/Facility'].str.strip()\n",
        "df['Source_of_water'] = df['Source_of_water'].str.strip()\n",
        "\n",
        "grouped_df = df.groupby(['Source_of_water', 'Name_of_Building/Facility']).size().reset_index(name='count')\n",
        "\n",
        "#Displays the name of the Name_of_Building/facility based on the water source grouping\n",
        "fig = px.treemap(\n",
        "    grouped_df,\n",
        "    path=['Source_of_water', 'Name_of_Building/Facility'],\n",
        "    values='count',\n",
        "    color='Source_of_water',\n",
        "    color_discrete_sequence=px.colors.qualitative.Pastel1,\n",
        "    hover_name='Name_of_Building/Facility',\n",
        "    hover_data={'count': True},\n",
        "    labels={'count': 'Number of Campsites'},\n",
        "    title='Distribution of Campsites in Hong Kong by Source of Water',\n",
        "    template='seaborn',\n",
        ")\n",
        "\n",
        "fig.update_traces(textposition='middle center', textfont_size=15)\n",
        "fig.update_layout(margin=dict(t=60, b=60, l=60, r=60))\n",
        "\n",
        "fig.show()"
      ]
    },
    {
      "cell_type": "code",
      "execution_count": 18,
      "metadata": {
        "colab": {
          "base_uri": "https://localhost:8080/"
        },
        "id": "rGr9L2nCunIl",
        "outputId": "c02cd605-d15e-414a-b566-0d9d22124f65"
      },
      "outputs": [
        {
          "name": "stdout",
          "output_type": "stream",
          "text": [
            "\"STREAM WATER (SEASONAL SUPPLY)\" refers to water sources from streams that are only available during certain seasons. These water sources do not undergo additional wastewater treatment, so it is recommended to boil the water before drinking to eliminate potential bacteria and pathogens.\n",
            "\"TAP\" refers to potable water from the water company. This water source has been treated and disinfected and is suitable for direct drinking or for use in cooking. However, it is still advisable to test the water source to ensure its quality and safety, especially in outdoor camping sites.\n",
            "\"FLUSHING TOILET\" refers to water used to flush the toilet, which comes from the water company. This water source is not suitable for drinking, cooking or other purposes, and can only be used as toilet flushing water. After using the toilet, it is recommended to flush properly and avoid flushing other objects to prevent blockages.\n"
          ]
        }
      ],
      "source": [
        "print(\"\\\"STREAM WATER (SEASONAL SUPPLY)\\\" refers to water sources from streams that are only available during certain seasons. These water sources do not undergo additional wastewater treatment, so it is recommended to boil the water before drinking to eliminate potential bacteria and pathogens.\")\n",
        "print(\"\\\"TAP\\\" refers to potable water from the water company. This water source has been treated and disinfected and is suitable for direct drinking or for use in cooking. However, it is still advisable to test the water source to ensure its quality and safety, especially in outdoor camping sites.\")\n",
        "print(\"\\\"FLUSHING TOILET\\\" refers to water used to flush the toilet, which comes from the water company. This water source is not suitable for drinking, cooking or other purposes, and can only be used as toilet flushing water. After using the toilet, it is recommended to flush properly and avoid flushing other objects to prevent blockages.\")"
      ]
    },
    {
      "attachments": {},
      "cell_type": "markdown",
      "metadata": {
        "id": "YT_pqKoYbQBm"
      },
      "source": [
        "## The relationship between the distribution of water sources and geographical location"
      ]
    },
    {
      "cell_type": "code",
      "execution_count": 18,
      "metadata": {
        "id": "2ST0nVIegLeY"
      },
      "outputs": [
        {
          "name": "stdout",
          "output_type": "stream",
          "text": [
            "Looking in indexes: https://pypi.tuna.tsinghua.edu.cn/simple\n",
            "Collecting ipywidgets\n",
            "  Downloading https://pypi.tuna.tsinghua.edu.cn/packages/50/7d/2c8b7bba2b1c2b5d1299f22fa7853f09b573c84e63b62870c13a6ec11990/ipywidgets-8.0.6-py3-none-any.whl (138 kB)\n",
            "Requirement already satisfied: ipython>=6.1.0 in c:\\users\\hp\\appdata\\roaming\\python\\python39\\site-packages (from ipywidgets) (8.11.0)\n",
            "Requirement already satisfied: traitlets>=4.3.1 in c:\\users\\hp\\appdata\\roaming\\python\\python39\\site-packages (from ipywidgets) (5.9.0)\n",
            "Requirement already satisfied: ipykernel>=4.5.1 in c:\\users\\hp\\appdata\\roaming\\python\\python39\\site-packages (from ipywidgets) (6.22.0)\n",
            "Collecting jupyterlab-widgets~=3.0.7\n",
            "  Downloading https://pypi.tuna.tsinghua.edu.cn/packages/46/98/e7ce879b7b5d4871b80e291be967d22e5e66fa43474c476a95fe6231f50d/jupyterlab_widgets-3.0.7-py3-none-any.whl (198 kB)\n",
            "Collecting widgetsnbextension~=4.0.7\n",
            "  Downloading https://pypi.tuna.tsinghua.edu.cn/packages/2e/f0/6e3a0d9c1ef015322cad1dd2191c338349b41151e4dc5e7ae984700c9dd2/widgetsnbextension-4.0.7-py3-none-any.whl (2.1 MB)\n",
            "Requirement already satisfied: comm>=0.1.1 in c:\\users\\hp\\appdata\\roaming\\python\\python39\\site-packages (from ipykernel>=4.5.1->ipywidgets) (0.1.3)\n",
            "Requirement already satisfied: nest-asyncio in c:\\users\\hp\\appdata\\roaming\\python\\python39\\site-packages (from ipykernel>=4.5.1->ipywidgets) (1.5.6)\n",
            "Requirement already satisfied: matplotlib-inline>=0.1 in c:\\users\\hp\\appdata\\roaming\\python\\python39\\site-packages (from ipykernel>=4.5.1->ipywidgets) (0.1.6)\n",
            "Requirement already satisfied: tornado>=6.1 in c:\\users\\hp\\appdata\\roaming\\python\\python39\\site-packages (from ipykernel>=4.5.1->ipywidgets) (6.2)\n",
            "Requirement already satisfied: packaging in c:\\users\\hp\\appdata\\roaming\\python\\python39\\site-packages (from ipykernel>=4.5.1->ipywidgets) (23.0)\n",
            "Requirement already satisfied: debugpy>=1.6.5 in c:\\users\\hp\\appdata\\roaming\\python\\python39\\site-packages (from ipykernel>=4.5.1->ipywidgets) (1.6.6)\n",
            "Requirement already satisfied: jupyter-core!=5.0.*,>=4.12 in c:\\users\\hp\\appdata\\roaming\\python\\python39\\site-packages (from ipykernel>=4.5.1->ipywidgets) (5.3.0)\n",
            "Requirement already satisfied: jupyter-client>=6.1.12 in c:\\users\\hp\\appdata\\roaming\\python\\python39\\site-packages (from ipykernel>=4.5.1->ipywidgets) (8.1.0)\n",
            "Requirement already satisfied: pyzmq>=20 in c:\\users\\hp\\appdata\\roaming\\python\\python39\\site-packages (from ipykernel>=4.5.1->ipywidgets) (25.0.2)\n",
            "Requirement already satisfied: psutil in c:\\users\\hp\\appdata\\roaming\\python\\python39\\site-packages (from ipykernel>=4.5.1->ipywidgets) (5.9.4)\n",
            "Requirement already satisfied: stack-data in c:\\users\\hp\\appdata\\roaming\\python\\python39\\site-packages (from ipython>=6.1.0->ipywidgets) (0.6.2)\n",
            "Requirement already satisfied: backcall in c:\\users\\hp\\appdata\\roaming\\python\\python39\\site-packages (from ipython>=6.1.0->ipywidgets) (0.2.0)\n",
            "Requirement already satisfied: colorama in c:\\users\\hp\\appdata\\roaming\\python\\python39\\site-packages (from ipython>=6.1.0->ipywidgets) (0.4.6)\n",
            "Requirement already satisfied: pickleshare in c:\\users\\hp\\appdata\\roaming\\python\\python39\\site-packages (from ipython>=6.1.0->ipywidgets) (0.7.5)\n",
            "Requirement already satisfied: pygments>=2.4.0 in c:\\users\\hp\\appdata\\roaming\\python\\python39\\site-packages (from ipython>=6.1.0->ipywidgets) (2.14.0)\n",
            "Requirement already satisfied: jedi>=0.16 in c:\\users\\hp\\appdata\\roaming\\python\\python39\\site-packages (from ipython>=6.1.0->ipywidgets) (0.18.2)\n",
            "Requirement already satisfied: decorator in c:\\users\\hp\\appdata\\roaming\\python\\python39\\site-packages (from ipython>=6.1.0->ipywidgets) (5.1.1)\n",
            "Requirement already satisfied: prompt-toolkit!=3.0.37,<3.1.0,>=3.0.30 in c:\\users\\hp\\appdata\\roaming\\python\\python39\\site-packages (from ipython>=6.1.0->ipywidgets) (3.0.38)\n",
            "Requirement already satisfied: parso<0.9.0,>=0.8.0 in c:\\users\\hp\\appdata\\roaming\\python\\python39\\site-packages (from jedi>=0.16->ipython>=6.1.0->ipywidgets) (0.8.3)\n",
            "Requirement already satisfied: python-dateutil>=2.8.2 in c:\\users\\hp\\appdata\\roaming\\python\\python39\\site-packages (from jupyter-client>=6.1.12->ipykernel>=4.5.1->ipywidgets) (2.8.2)\n",
            "Requirement already satisfied: importlib-metadata>=4.8.3 in c:\\users\\hp\\appdata\\roaming\\python\\python39\\site-packages (from jupyter-client>=6.1.12->ipykernel>=4.5.1->ipywidgets) (6.1.0)\n",
            "Requirement already satisfied: zipp>=0.5 in c:\\users\\hp\\appdata\\roaming\\python\\python39\\site-packages (from importlib-metadata>=4.8.3->jupyter-client>=6.1.12->ipykernel>=4.5.1->ipywidgets) (3.15.0)\n",
            "Requirement already satisfied: pywin32>=300 in c:\\users\\hp\\appdata\\roaming\\python\\python39\\site-packages (from jupyter-core!=5.0.*,>=4.12->ipykernel>=4.5.1->ipywidgets) (306)\n",
            "Requirement already satisfied: platformdirs>=2.5 in c:\\users\\hp\\appdata\\roaming\\python\\python39\\site-packages (from jupyter-core!=5.0.*,>=4.12->ipykernel>=4.5.1->ipywidgets) (3.2.0)\n",
            "Requirement already satisfied: wcwidth in c:\\users\\hp\\appdata\\roaming\\python\\python39\\site-packages (from prompt-toolkit!=3.0.37,<3.1.0,>=3.0.30->ipython>=6.1.0->ipywidgets) (0.2.6)\n",
            "Requirement already satisfied: six>=1.5 in c:\\users\\hp\\appdata\\roaming\\python\\python39\\site-packages (from python-dateutil>=2.8.2->jupyter-client>=6.1.12->ipykernel>=4.5.1->ipywidgets) (1.15.0)\n",
            "Requirement already satisfied: executing>=1.2.0 in c:\\users\\hp\\appdata\\roaming\\python\\python39\\site-packages (from stack-data->ipython>=6.1.0->ipywidgets) (1.2.0)\n",
            "Requirement already satisfied: asttokens>=2.1.0 in c:\\users\\hp\\appdata\\roaming\\python\\python39\\site-packages (from stack-data->ipython>=6.1.0->ipywidgets) (2.2.1)\n",
            "Requirement already satisfied: pure-eval in c:\\users\\hp\\appdata\\roaming\\python\\python39\\site-packages (from stack-data->ipython>=6.1.0->ipywidgets) (0.2.2)\n",
            "Installing collected packages: widgetsnbextension, jupyterlab-widgets, ipywidgets\n",
            "Successfully installed ipywidgets-8.0.6 jupyterlab-widgets-3.0.7 widgetsnbextension-4.0.7\n",
            "Note: you may need to restart the kernel to use updated packages.\n"
          ]
        },
        {
          "name": "stderr",
          "output_type": "stream",
          "text": [
            "WARNING: You are using pip version 21.2.4; however, version 23.1.2 is available.\n",
            "You should consider upgrading via the 'c:\\Users\\hp\\AppData\\Local\\Programs\\Python\\Python39\\python.exe -m pip install --upgrade pip' command.\n",
            "'apt-get' �����ڲ����ⲿ���Ҳ���ǿ����еĳ���\n",
            "���������ļ���\n"
          ]
        }
      ],
      "source": [
        "%pip install ipywidgets\n",
        "!apt-get update && apt-get install -y nodejs  #colab need"
      ]
    },
    {
      "cell_type": "code",
      "execution_count": 20,
      "metadata": {
        "colab": {
          "base_uri": "https://localhost:8080/"
        },
        "id": "Fe5STuFQitcP",
        "outputId": "2cd8b1cc-865a-4e38-f396-5b6800f820d3"
      },
      "outputs": [
        {
          "name": "stdout",
          "output_type": "stream",
          "text": [
            "Enabling notebook extension jupyter-js-widgets/extension...\n",
            "Paths used for configuration of notebook: \n",
            "    \t/usr/etc/jupyter/nbconfig/notebook.json\n",
            "Paths used for configuration of notebook: \n",
            "    \t\n",
            "      - Validating: \u001b[32mOK\u001b[0m\n",
            "Paths used for configuration of notebook: \n",
            "    \t/usr/etc/jupyter/nbconfig/notebook.json\n"
          ]
        }
      ],
      "source": [
        "!jupyter nbextension enable --py widgetsnbextension --sys-prefix #colab need"
      ]
    },
    {
      "cell_type": "code",
      "execution_count": 1,
      "metadata": {
        "colab": {
          "base_uri": "https://localhost:8080/",
          "height": 517
        },
        "id": "r1oLG6r2gteb",
        "outputId": "206338f1-e551-4cdb-b857-ad34e997abdc"
      },
      "outputs": [
        {
          "data": {
            "application/vnd.plotly.v1+json": {
              "config": {
                "plotlyServerURL": "https://plot.ly"
              },
              "data": [
                {
                  "hovertemplate": "<b>%{hovertext}</b><br><br>Source_of_water=STREAM WATER (SEASONAL SUPPLY)<br>Latitude=%{lat}<br>Longitude=%{lon}<extra></extra>",
                  "hovertext": [
                    "Lau Shui Heung Camp Site",
                    "Sam A Chung Camp Site",
                    "Pak Tam Au Camp Site",
                    "Long Ke Wan Camp Site",
                    "Yuen Ng Fan Camp Site",
                    "Pak Lap Camp Site",
                    "Po Kwu Wan Camp Site",
                    "Yee Ting Camp Site",
                    "Shui Long Wo Camp Site",
                    "Tung Ping Chau Camp Site",
                    "Ho Pui Camp Site",
                    "Tin Fu Tsai Camp Site",
                    "Pak Fu Tin Camp Site",
                    "Shap Long Camp Site",
                    "Lo Kei Wan Camp Site",
                    "Shek Lam Chau Camp Site",
                    "Tai Long Wan Camp Site",
                    "Kau Ling Chung Camp Site",
                    "Man Cheung Po Camp Site",
                    "Tsin Yue Wan Camp Site",
                    "Ngong Ping Camp Site",
                    "Nga Ying Kok Camp Site",
                    "Cheung Sheung Camp Site"
                  ],
                  "lat": [
                    22.49139,
                    22.50664,
                    22.42293,
                    22.3733,
                    22.37811,
                    22.35924,
                    22.3822,
                    22.40626,
                    22.40274,
                    22.54069,
                    22.40996,
                    22.39009,
                    22.25183,
                    22.23753,
                    22.21206,
                    22.21313,
                    22.21327,
                    22.20449,
                    22.23065,
                    22.20866,
                    22.2549,
                    22.23884,
                    22.42639
                  ],
                  "legendgroup": "STREAM WATER (SEASONAL SUPPLY)",
                  "lon": [
                    114.16708,
                    114.2702,
                    114.33584,
                    114.3752,
                    114.33194,
                    114.36504,
                    114.32692,
                    114.32522,
                    114.27519,
                    114.44109,
                    114.0717,
                    114.06604,
                    113.99408,
                    113.98818,
                    113.91518,
                    113.90331,
                    113.87802,
                    113.86373,
                    113.86651,
                    113.84368,
                    113.91422,
                    113.85283,
                    114.31181
                  ],
                  "marker": {
                    "color": "green",
                    "size": 15,
                    "symbol": "circle"
                  },
                  "mode": "markers",
                  "name": "STREAM WATER (SEASONAL SUPPLY)",
                  "showlegend": true,
                  "subplot": "mapbox",
                  "type": "scattermapbox"
                },
                {
                  "hovertemplate": "<b>%{hovertext}</b><br><br>Source_of_water=TAP<br>Latitude=%{lat}<br>Longitude=%{lon}<extra></extra>",
                  "hovertext": [
                    "Tung Lung Chau Camp Site",
                    "Tai Mong Tsai Campsite",
                    "Chung Pui Camp Site",
                    "Hok Tau Camp Site",
                    "Wan Tsai South Camp Site",
                    "Wong Shek Camp Site",
                    "Sai Wan Camp Site",
                    "Hau Tong Kai Camp Site",
                    "Wan Tsai West Camp Site",
                    "Tai Tan Camp Site",
                    "Lead Mine Pass Camp Site",
                    "Rotary Club Park Camp Site",
                    "Twisk Camp Site",
                    "Nam Shan Camp Site",
                    "Ham Tin Wan Camp Site"
                  ],
                  "lat": [
                    22.25548,
                    22.38553,
                    22.48748,
                    22.49841,
                    22.46162,
                    22.43446,
                    22.402,
                    22.44103,
                    22.46508,
                    22.43669,
                    22.41132,
                    22.40507,
                    22.40681,
                    22.25328,
                    22.40962
                  ],
                  "legendgroup": "TAP",
                  "lon": [
                    114.29593,
                    114.30775,
                    114.24293,
                    114.17778,
                    114.34213,
                    114.33623,
                    114.37152,
                    114.32673,
                    114.3381,
                    114.33373,
                    114.15779,
                    114.10509,
                    114.10323,
                    113.9862,
                    114.3743
                  ],
                  "marker": {
                    "color": "orange",
                    "size": 15,
                    "symbol": "circle"
                  },
                  "mode": "markers",
                  "name": "TAP",
                  "showlegend": true,
                  "subplot": "mapbox",
                  "type": "scattermapbox"
                },
                {
                  "hovertemplate": "<b>%{hovertext}</b><br><br>Source_of_water=FLUSHING TOILET<br>Latitude=%{lat}<br>Longitude=%{lon}<extra></extra>",
                  "hovertext": [
                    "Ngong Ping Camp Site",
                    "Shek Pik Camp Site",
                    "Kong Ha Au Campsite"
                  ],
                  "lat": [
                    22.39294,
                    22.22887,
                    22.51459
                  ],
                  "legendgroup": "FLUSHING TOILET",
                  "lon": [
                    114.25116,
                    113.88991,
                    114.23185
                  ],
                  "marker": {
                    "color": "red",
                    "size": 15,
                    "symbol": "circle"
                  },
                  "mode": "markers",
                  "name": "FLUSHING TOILET",
                  "showlegend": true,
                  "subplot": "mapbox",
                  "type": "scattermapbox"
                }
              ],
              "layout": {
                "height": 500,
                "legend": {
                  "title": {
                    "text": "Source_of_water"
                  },
                  "tracegroupgap": 0
                },
                "mapbox": {
                  "center": {
                    "lat": 22.36696536585366,
                    "lon": 114.16720414634145
                  },
                  "domain": {
                    "x": [
                      0,
                      1
                    ],
                    "y": [
                      0,
                      1
                    ]
                  },
                  "style": "open-street-map",
                  "zoom": 9
                },
                "margin": {
                  "t": 60
                },
                "template": {
                  "data": {
                    "bar": [
                      {
                        "error_x": {
                          "color": "#2a3f5f"
                        },
                        "error_y": {
                          "color": "#2a3f5f"
                        },
                        "marker": {
                          "line": {
                            "color": "#E5ECF6",
                            "width": 0.5
                          },
                          "pattern": {
                            "fillmode": "overlay",
                            "size": 10,
                            "solidity": 0.2
                          }
                        },
                        "type": "bar"
                      }
                    ],
                    "barpolar": [
                      {
                        "marker": {
                          "line": {
                            "color": "#E5ECF6",
                            "width": 0.5
                          },
                          "pattern": {
                            "fillmode": "overlay",
                            "size": 10,
                            "solidity": 0.2
                          }
                        },
                        "type": "barpolar"
                      }
                    ],
                    "carpet": [
                      {
                        "aaxis": {
                          "endlinecolor": "#2a3f5f",
                          "gridcolor": "white",
                          "linecolor": "white",
                          "minorgridcolor": "white",
                          "startlinecolor": "#2a3f5f"
                        },
                        "baxis": {
                          "endlinecolor": "#2a3f5f",
                          "gridcolor": "white",
                          "linecolor": "white",
                          "minorgridcolor": "white",
                          "startlinecolor": "#2a3f5f"
                        },
                        "type": "carpet"
                      }
                    ],
                    "choropleth": [
                      {
                        "colorbar": {
                          "outlinewidth": 0,
                          "ticks": ""
                        },
                        "type": "choropleth"
                      }
                    ],
                    "contour": [
                      {
                        "colorbar": {
                          "outlinewidth": 0,
                          "ticks": ""
                        },
                        "colorscale": [
                          [
                            0,
                            "#0d0887"
                          ],
                          [
                            0.1111111111111111,
                            "#46039f"
                          ],
                          [
                            0.2222222222222222,
                            "#7201a8"
                          ],
                          [
                            0.3333333333333333,
                            "#9c179e"
                          ],
                          [
                            0.4444444444444444,
                            "#bd3786"
                          ],
                          [
                            0.5555555555555556,
                            "#d8576b"
                          ],
                          [
                            0.6666666666666666,
                            "#ed7953"
                          ],
                          [
                            0.7777777777777778,
                            "#fb9f3a"
                          ],
                          [
                            0.8888888888888888,
                            "#fdca26"
                          ],
                          [
                            1,
                            "#f0f921"
                          ]
                        ],
                        "type": "contour"
                      }
                    ],
                    "contourcarpet": [
                      {
                        "colorbar": {
                          "outlinewidth": 0,
                          "ticks": ""
                        },
                        "type": "contourcarpet"
                      }
                    ],
                    "heatmap": [
                      {
                        "colorbar": {
                          "outlinewidth": 0,
                          "ticks": ""
                        },
                        "colorscale": [
                          [
                            0,
                            "#0d0887"
                          ],
                          [
                            0.1111111111111111,
                            "#46039f"
                          ],
                          [
                            0.2222222222222222,
                            "#7201a8"
                          ],
                          [
                            0.3333333333333333,
                            "#9c179e"
                          ],
                          [
                            0.4444444444444444,
                            "#bd3786"
                          ],
                          [
                            0.5555555555555556,
                            "#d8576b"
                          ],
                          [
                            0.6666666666666666,
                            "#ed7953"
                          ],
                          [
                            0.7777777777777778,
                            "#fb9f3a"
                          ],
                          [
                            0.8888888888888888,
                            "#fdca26"
                          ],
                          [
                            1,
                            "#f0f921"
                          ]
                        ],
                        "type": "heatmap"
                      }
                    ],
                    "heatmapgl": [
                      {
                        "colorbar": {
                          "outlinewidth": 0,
                          "ticks": ""
                        },
                        "colorscale": [
                          [
                            0,
                            "#0d0887"
                          ],
                          [
                            0.1111111111111111,
                            "#46039f"
                          ],
                          [
                            0.2222222222222222,
                            "#7201a8"
                          ],
                          [
                            0.3333333333333333,
                            "#9c179e"
                          ],
                          [
                            0.4444444444444444,
                            "#bd3786"
                          ],
                          [
                            0.5555555555555556,
                            "#d8576b"
                          ],
                          [
                            0.6666666666666666,
                            "#ed7953"
                          ],
                          [
                            0.7777777777777778,
                            "#fb9f3a"
                          ],
                          [
                            0.8888888888888888,
                            "#fdca26"
                          ],
                          [
                            1,
                            "#f0f921"
                          ]
                        ],
                        "type": "heatmapgl"
                      }
                    ],
                    "histogram": [
                      {
                        "marker": {
                          "pattern": {
                            "fillmode": "overlay",
                            "size": 10,
                            "solidity": 0.2
                          }
                        },
                        "type": "histogram"
                      }
                    ],
                    "histogram2d": [
                      {
                        "colorbar": {
                          "outlinewidth": 0,
                          "ticks": ""
                        },
                        "colorscale": [
                          [
                            0,
                            "#0d0887"
                          ],
                          [
                            0.1111111111111111,
                            "#46039f"
                          ],
                          [
                            0.2222222222222222,
                            "#7201a8"
                          ],
                          [
                            0.3333333333333333,
                            "#9c179e"
                          ],
                          [
                            0.4444444444444444,
                            "#bd3786"
                          ],
                          [
                            0.5555555555555556,
                            "#d8576b"
                          ],
                          [
                            0.6666666666666666,
                            "#ed7953"
                          ],
                          [
                            0.7777777777777778,
                            "#fb9f3a"
                          ],
                          [
                            0.8888888888888888,
                            "#fdca26"
                          ],
                          [
                            1,
                            "#f0f921"
                          ]
                        ],
                        "type": "histogram2d"
                      }
                    ],
                    "histogram2dcontour": [
                      {
                        "colorbar": {
                          "outlinewidth": 0,
                          "ticks": ""
                        },
                        "colorscale": [
                          [
                            0,
                            "#0d0887"
                          ],
                          [
                            0.1111111111111111,
                            "#46039f"
                          ],
                          [
                            0.2222222222222222,
                            "#7201a8"
                          ],
                          [
                            0.3333333333333333,
                            "#9c179e"
                          ],
                          [
                            0.4444444444444444,
                            "#bd3786"
                          ],
                          [
                            0.5555555555555556,
                            "#d8576b"
                          ],
                          [
                            0.6666666666666666,
                            "#ed7953"
                          ],
                          [
                            0.7777777777777778,
                            "#fb9f3a"
                          ],
                          [
                            0.8888888888888888,
                            "#fdca26"
                          ],
                          [
                            1,
                            "#f0f921"
                          ]
                        ],
                        "type": "histogram2dcontour"
                      }
                    ],
                    "mesh3d": [
                      {
                        "colorbar": {
                          "outlinewidth": 0,
                          "ticks": ""
                        },
                        "type": "mesh3d"
                      }
                    ],
                    "parcoords": [
                      {
                        "line": {
                          "colorbar": {
                            "outlinewidth": 0,
                            "ticks": ""
                          }
                        },
                        "type": "parcoords"
                      }
                    ],
                    "pie": [
                      {
                        "automargin": true,
                        "type": "pie"
                      }
                    ],
                    "scatter": [
                      {
                        "fillpattern": {
                          "fillmode": "overlay",
                          "size": 10,
                          "solidity": 0.2
                        },
                        "type": "scatter"
                      }
                    ],
                    "scatter3d": [
                      {
                        "line": {
                          "colorbar": {
                            "outlinewidth": 0,
                            "ticks": ""
                          }
                        },
                        "marker": {
                          "colorbar": {
                            "outlinewidth": 0,
                            "ticks": ""
                          }
                        },
                        "type": "scatter3d"
                      }
                    ],
                    "scattercarpet": [
                      {
                        "marker": {
                          "colorbar": {
                            "outlinewidth": 0,
                            "ticks": ""
                          }
                        },
                        "type": "scattercarpet"
                      }
                    ],
                    "scattergeo": [
                      {
                        "marker": {
                          "colorbar": {
                            "outlinewidth": 0,
                            "ticks": ""
                          }
                        },
                        "type": "scattergeo"
                      }
                    ],
                    "scattergl": [
                      {
                        "marker": {
                          "colorbar": {
                            "outlinewidth": 0,
                            "ticks": ""
                          }
                        },
                        "type": "scattergl"
                      }
                    ],
                    "scattermapbox": [
                      {
                        "marker": {
                          "colorbar": {
                            "outlinewidth": 0,
                            "ticks": ""
                          }
                        },
                        "type": "scattermapbox"
                      }
                    ],
                    "scatterpolar": [
                      {
                        "marker": {
                          "colorbar": {
                            "outlinewidth": 0,
                            "ticks": ""
                          }
                        },
                        "type": "scatterpolar"
                      }
                    ],
                    "scatterpolargl": [
                      {
                        "marker": {
                          "colorbar": {
                            "outlinewidth": 0,
                            "ticks": ""
                          }
                        },
                        "type": "scatterpolargl"
                      }
                    ],
                    "scatterternary": [
                      {
                        "marker": {
                          "colorbar": {
                            "outlinewidth": 0,
                            "ticks": ""
                          }
                        },
                        "type": "scatterternary"
                      }
                    ],
                    "surface": [
                      {
                        "colorbar": {
                          "outlinewidth": 0,
                          "ticks": ""
                        },
                        "colorscale": [
                          [
                            0,
                            "#0d0887"
                          ],
                          [
                            0.1111111111111111,
                            "#46039f"
                          ],
                          [
                            0.2222222222222222,
                            "#7201a8"
                          ],
                          [
                            0.3333333333333333,
                            "#9c179e"
                          ],
                          [
                            0.4444444444444444,
                            "#bd3786"
                          ],
                          [
                            0.5555555555555556,
                            "#d8576b"
                          ],
                          [
                            0.6666666666666666,
                            "#ed7953"
                          ],
                          [
                            0.7777777777777778,
                            "#fb9f3a"
                          ],
                          [
                            0.8888888888888888,
                            "#fdca26"
                          ],
                          [
                            1,
                            "#f0f921"
                          ]
                        ],
                        "type": "surface"
                      }
                    ],
                    "table": [
                      {
                        "cells": {
                          "fill": {
                            "color": "#EBF0F8"
                          },
                          "line": {
                            "color": "white"
                          }
                        },
                        "header": {
                          "fill": {
                            "color": "#C8D4E3"
                          },
                          "line": {
                            "color": "white"
                          }
                        },
                        "type": "table"
                      }
                    ]
                  },
                  "layout": {
                    "annotationdefaults": {
                      "arrowcolor": "#2a3f5f",
                      "arrowhead": 0,
                      "arrowwidth": 1
                    },
                    "autotypenumbers": "strict",
                    "coloraxis": {
                      "colorbar": {
                        "outlinewidth": 0,
                        "ticks": ""
                      }
                    },
                    "colorscale": {
                      "diverging": [
                        [
                          0,
                          "#8e0152"
                        ],
                        [
                          0.1,
                          "#c51b7d"
                        ],
                        [
                          0.2,
                          "#de77ae"
                        ],
                        [
                          0.3,
                          "#f1b6da"
                        ],
                        [
                          0.4,
                          "#fde0ef"
                        ],
                        [
                          0.5,
                          "#f7f7f7"
                        ],
                        [
                          0.6,
                          "#e6f5d0"
                        ],
                        [
                          0.7,
                          "#b8e186"
                        ],
                        [
                          0.8,
                          "#7fbc41"
                        ],
                        [
                          0.9,
                          "#4d9221"
                        ],
                        [
                          1,
                          "#276419"
                        ]
                      ],
                      "sequential": [
                        [
                          0,
                          "#0d0887"
                        ],
                        [
                          0.1111111111111111,
                          "#46039f"
                        ],
                        [
                          0.2222222222222222,
                          "#7201a8"
                        ],
                        [
                          0.3333333333333333,
                          "#9c179e"
                        ],
                        [
                          0.4444444444444444,
                          "#bd3786"
                        ],
                        [
                          0.5555555555555556,
                          "#d8576b"
                        ],
                        [
                          0.6666666666666666,
                          "#ed7953"
                        ],
                        [
                          0.7777777777777778,
                          "#fb9f3a"
                        ],
                        [
                          0.8888888888888888,
                          "#fdca26"
                        ],
                        [
                          1,
                          "#f0f921"
                        ]
                      ],
                      "sequentialminus": [
                        [
                          0,
                          "#0d0887"
                        ],
                        [
                          0.1111111111111111,
                          "#46039f"
                        ],
                        [
                          0.2222222222222222,
                          "#7201a8"
                        ],
                        [
                          0.3333333333333333,
                          "#9c179e"
                        ],
                        [
                          0.4444444444444444,
                          "#bd3786"
                        ],
                        [
                          0.5555555555555556,
                          "#d8576b"
                        ],
                        [
                          0.6666666666666666,
                          "#ed7953"
                        ],
                        [
                          0.7777777777777778,
                          "#fb9f3a"
                        ],
                        [
                          0.8888888888888888,
                          "#fdca26"
                        ],
                        [
                          1,
                          "#f0f921"
                        ]
                      ]
                    },
                    "colorway": [
                      "#636efa",
                      "#EF553B",
                      "#00cc96",
                      "#ab63fa",
                      "#FFA15A",
                      "#19d3f3",
                      "#FF6692",
                      "#B6E880",
                      "#FF97FF",
                      "#FECB52"
                    ],
                    "font": {
                      "color": "#2a3f5f"
                    },
                    "geo": {
                      "bgcolor": "white",
                      "lakecolor": "white",
                      "landcolor": "#E5ECF6",
                      "showlakes": true,
                      "showland": true,
                      "subunitcolor": "white"
                    },
                    "hoverlabel": {
                      "align": "left"
                    },
                    "hovermode": "closest",
                    "mapbox": {
                      "style": "light"
                    },
                    "paper_bgcolor": "white",
                    "plot_bgcolor": "#E5ECF6",
                    "polar": {
                      "angularaxis": {
                        "gridcolor": "white",
                        "linecolor": "white",
                        "ticks": ""
                      },
                      "bgcolor": "#E5ECF6",
                      "radialaxis": {
                        "gridcolor": "white",
                        "linecolor": "white",
                        "ticks": ""
                      }
                    },
                    "scene": {
                      "xaxis": {
                        "backgroundcolor": "#E5ECF6",
                        "gridcolor": "white",
                        "gridwidth": 2,
                        "linecolor": "white",
                        "showbackground": true,
                        "ticks": "",
                        "zerolinecolor": "white"
                      },
                      "yaxis": {
                        "backgroundcolor": "#E5ECF6",
                        "gridcolor": "white",
                        "gridwidth": 2,
                        "linecolor": "white",
                        "showbackground": true,
                        "ticks": "",
                        "zerolinecolor": "white"
                      },
                      "zaxis": {
                        "backgroundcolor": "#E5ECF6",
                        "gridcolor": "white",
                        "gridwidth": 2,
                        "linecolor": "white",
                        "showbackground": true,
                        "ticks": "",
                        "zerolinecolor": "white"
                      }
                    },
                    "shapedefaults": {
                      "line": {
                        "color": "#2a3f5f"
                      }
                    },
                    "ternary": {
                      "aaxis": {
                        "gridcolor": "white",
                        "linecolor": "white",
                        "ticks": ""
                      },
                      "baxis": {
                        "gridcolor": "white",
                        "linecolor": "white",
                        "ticks": ""
                      },
                      "bgcolor": "#E5ECF6",
                      "caxis": {
                        "gridcolor": "white",
                        "linecolor": "white",
                        "ticks": ""
                      }
                    },
                    "title": {
                      "x": 0.05
                    },
                    "xaxis": {
                      "automargin": true,
                      "gridcolor": "white",
                      "linecolor": "white",
                      "ticks": "",
                      "title": {
                        "standoff": 15
                      },
                      "zerolinecolor": "white",
                      "zerolinewidth": 2
                    },
                    "yaxis": {
                      "automargin": true,
                      "gridcolor": "white",
                      "linecolor": "white",
                      "ticks": "",
                      "title": {
                        "standoff": 15
                      },
                      "zerolinecolor": "white",
                      "zerolinewidth": 2
                    }
                  }
                }
              }
            }
          },
          "metadata": {},
          "output_type": "display_data"
        }
      ],
      "source": [
        "#两个地图转化 在colab中没显示出按钮来，在Jupyter中显示看看，不然就截图展示\n",
        "import pandas as pd\n",
        "import plotly.express as px\n",
        "import ipywidgets as widgets\n",
        "from IPython.display import display\n",
        "\n",
        "df = pd.read_csv('HK_Campsite_cleaned.csv')\n",
        "\n",
        "#Create a scatter map\n",
        "fig = px.scatter_mapbox(\n",
        "    df,\n",
        "    lat=\"Latitude\",\n",
        "    lon=\"Longitude\",\n",
        "    hover_name=\"Name_of_Building/Facility\",\n",
        "    color=\"Source_of_water\",\n",
        "    color_discrete_sequence=[\"green\", \"orange\", \"red\"],\n",
        "    zoom=9,\n",
        "    height=500,\n",
        ")\n",
        "\n",
        "#Change the marker point to a circle shape\n",
        "fig.update_traces(marker=dict(size=15, symbol='circle'))\n",
        "\n",
        "#Define map style switching functions \n",
        "def change_map_style(map_style):\n",
        "    if map_style == 'Open Street Map':\n",
        "        fig.update_layout(mapbox_style=\"open-street-map\")\n",
        "    else:\n",
        "        fig.update_layout(mapbox_style=\"carto-darkmatter\")\n",
        "    return fig\n",
        "\n",
        "style_dropdown = widgets.Dropdown(options=['Open Street Map', 'Carto Dark Matter'], description='Select style') \n",
        "widgets.interactive_output(change_map_style, {'map_style': style_dropdown})\n",
        "box_layout = widgets.Layout(display='flex', flex_flow='row', align_items='center', width='100%')\n",
        "widgets.VBox([style_dropdown, widgets.Output(layout=box_layout)], layout=widgets.Layout(width='50%'))\n",
        "\n",
        "fig.show()"
      ]
    },
    {
      "cell_type": "code",
      "execution_count": 2,
      "metadata": {
        "colab": {
          "base_uri": "https://localhost:8080/",
          "height": 617
        },
        "id": "iiIgNrRYct6Q",
        "outputId": "4521cd23-902c-4338-99f9-cd7e4af2253e"
      },
      "outputs": [
        {
          "data": {
            "application/vnd.plotly.v1+json": {
              "config": {
                "plotlyServerURL": "https://plot.ly"
              },
              "data": [
                {
                  "hovertemplate": "<b>%{hovertext}</b><br><br>Source_of_water=STREAM WATER (SEASONAL SUPPLY)<br>Latitude=%{lat}<br>Longitude=%{lon}<extra></extra>",
                  "hovertext": [
                    "Lau Shui Heung Camp Site",
                    "Sam A Chung Camp Site",
                    "Pak Tam Au Camp Site",
                    "Long Ke Wan Camp Site",
                    "Yuen Ng Fan Camp Site",
                    "Pak Lap Camp Site",
                    "Po Kwu Wan Camp Site",
                    "Yee Ting Camp Site",
                    "Shui Long Wo Camp Site",
                    "Tung Ping Chau Camp Site",
                    "Ho Pui Camp Site",
                    "Tin Fu Tsai Camp Site",
                    "Pak Fu Tin Camp Site",
                    "Shap Long Camp Site",
                    "Lo Kei Wan Camp Site",
                    "Shek Lam Chau Camp Site",
                    "Tai Long Wan Camp Site",
                    "Kau Ling Chung Camp Site",
                    "Man Cheung Po Camp Site",
                    "Tsin Yue Wan Camp Site",
                    "Ngong Ping Camp Site",
                    "Nga Ying Kok Camp Site",
                    "Cheung Sheung Camp Site"
                  ],
                  "lat": [
                    22.49139,
                    22.50664,
                    22.42293,
                    22.3733,
                    22.37811,
                    22.35924,
                    22.3822,
                    22.40626,
                    22.40274,
                    22.54069,
                    22.40996,
                    22.39009,
                    22.25183,
                    22.23753,
                    22.21206,
                    22.21313,
                    22.21327,
                    22.20449,
                    22.23065,
                    22.20866,
                    22.2549,
                    22.23884,
                    22.42639
                  ],
                  "legendgroup": "STREAM WATER (SEASONAL SUPPLY)",
                  "lon": [
                    114.16708,
                    114.2702,
                    114.33584,
                    114.3752,
                    114.33194,
                    114.36504,
                    114.32692,
                    114.32522,
                    114.27519,
                    114.44109,
                    114.0717,
                    114.06604,
                    113.99408,
                    113.98818,
                    113.91518,
                    113.90331,
                    113.87802,
                    113.86373,
                    113.86651,
                    113.84368,
                    113.91422,
                    113.85283,
                    114.31181
                  ],
                  "marker": {
                    "color": "green",
                    "size": 15,
                    "symbol": "circle"
                  },
                  "mode": "markers",
                  "name": "STREAM WATER (SEASONAL SUPPLY)",
                  "showlegend": true,
                  "subplot": "mapbox",
                  "type": "scattermapbox"
                },
                {
                  "hovertemplate": "<b>%{hovertext}</b><br><br>Source_of_water=TAP<br>Latitude=%{lat}<br>Longitude=%{lon}<extra></extra>",
                  "hovertext": [
                    "Tung Lung Chau Camp Site",
                    "Tai Mong Tsai Campsite",
                    "Chung Pui Camp Site",
                    "Hok Tau Camp Site",
                    "Wan Tsai South Camp Site",
                    "Wong Shek Camp Site",
                    "Sai Wan Camp Site",
                    "Hau Tong Kai Camp Site",
                    "Wan Tsai West Camp Site",
                    "Tai Tan Camp Site",
                    "Lead Mine Pass Camp Site",
                    "Rotary Club Park Camp Site",
                    "Twisk Camp Site",
                    "Nam Shan Camp Site",
                    "Ham Tin Wan Camp Site"
                  ],
                  "lat": [
                    22.25548,
                    22.38553,
                    22.48748,
                    22.49841,
                    22.46162,
                    22.43446,
                    22.402,
                    22.44103,
                    22.46508,
                    22.43669,
                    22.41132,
                    22.40507,
                    22.40681,
                    22.25328,
                    22.40962
                  ],
                  "legendgroup": "TAP",
                  "lon": [
                    114.29593,
                    114.30775,
                    114.24293,
                    114.17778,
                    114.34213,
                    114.33623,
                    114.37152,
                    114.32673,
                    114.3381,
                    114.33373,
                    114.15779,
                    114.10509,
                    114.10323,
                    113.9862,
                    114.3743
                  ],
                  "marker": {
                    "color": "orange",
                    "size": 15,
                    "symbol": "circle"
                  },
                  "mode": "markers",
                  "name": "TAP",
                  "showlegend": true,
                  "subplot": "mapbox",
                  "type": "scattermapbox"
                },
                {
                  "hovertemplate": "<b>%{hovertext}</b><br><br>Source_of_water=FLUSHING TOILET<br>Latitude=%{lat}<br>Longitude=%{lon}<extra></extra>",
                  "hovertext": [
                    "Ngong Ping Camp Site",
                    "Shek Pik Camp Site",
                    "Kong Ha Au Campsite"
                  ],
                  "lat": [
                    22.39294,
                    22.22887,
                    22.51459
                  ],
                  "legendgroup": "FLUSHING TOILET",
                  "lon": [
                    114.25116,
                    113.88991,
                    114.23185
                  ],
                  "marker": {
                    "color": "red",
                    "size": 15,
                    "symbol": "circle"
                  },
                  "mode": "markers",
                  "name": "FLUSHING TOILET",
                  "showlegend": true,
                  "subplot": "mapbox",
                  "type": "scattermapbox"
                }
              ],
              "layout": {
                "height": 600,
                "legend": {
                  "title": {
                    "text": "Source_of_water"
                  },
                  "tracegroupgap": 0
                },
                "mapbox": {
                  "center": {
                    "lat": 22.36696536585366,
                    "lon": 114.16720414634145
                  },
                  "domain": {
                    "x": [
                      0,
                      1
                    ],
                    "y": [
                      0,
                      1
                    ]
                  },
                  "style": "carto-darkmatter",
                  "zoom": 9
                },
                "margin": {
                  "t": 60
                },
                "template": {
                  "data": {
                    "bar": [
                      {
                        "error_x": {
                          "color": "#2a3f5f"
                        },
                        "error_y": {
                          "color": "#2a3f5f"
                        },
                        "marker": {
                          "line": {
                            "color": "#E5ECF6",
                            "width": 0.5
                          },
                          "pattern": {
                            "fillmode": "overlay",
                            "size": 10,
                            "solidity": 0.2
                          }
                        },
                        "type": "bar"
                      }
                    ],
                    "barpolar": [
                      {
                        "marker": {
                          "line": {
                            "color": "#E5ECF6",
                            "width": 0.5
                          },
                          "pattern": {
                            "fillmode": "overlay",
                            "size": 10,
                            "solidity": 0.2
                          }
                        },
                        "type": "barpolar"
                      }
                    ],
                    "carpet": [
                      {
                        "aaxis": {
                          "endlinecolor": "#2a3f5f",
                          "gridcolor": "white",
                          "linecolor": "white",
                          "minorgridcolor": "white",
                          "startlinecolor": "#2a3f5f"
                        },
                        "baxis": {
                          "endlinecolor": "#2a3f5f",
                          "gridcolor": "white",
                          "linecolor": "white",
                          "minorgridcolor": "white",
                          "startlinecolor": "#2a3f5f"
                        },
                        "type": "carpet"
                      }
                    ],
                    "choropleth": [
                      {
                        "colorbar": {
                          "outlinewidth": 0,
                          "ticks": ""
                        },
                        "type": "choropleth"
                      }
                    ],
                    "contour": [
                      {
                        "colorbar": {
                          "outlinewidth": 0,
                          "ticks": ""
                        },
                        "colorscale": [
                          [
                            0,
                            "#0d0887"
                          ],
                          [
                            0.1111111111111111,
                            "#46039f"
                          ],
                          [
                            0.2222222222222222,
                            "#7201a8"
                          ],
                          [
                            0.3333333333333333,
                            "#9c179e"
                          ],
                          [
                            0.4444444444444444,
                            "#bd3786"
                          ],
                          [
                            0.5555555555555556,
                            "#d8576b"
                          ],
                          [
                            0.6666666666666666,
                            "#ed7953"
                          ],
                          [
                            0.7777777777777778,
                            "#fb9f3a"
                          ],
                          [
                            0.8888888888888888,
                            "#fdca26"
                          ],
                          [
                            1,
                            "#f0f921"
                          ]
                        ],
                        "type": "contour"
                      }
                    ],
                    "contourcarpet": [
                      {
                        "colorbar": {
                          "outlinewidth": 0,
                          "ticks": ""
                        },
                        "type": "contourcarpet"
                      }
                    ],
                    "heatmap": [
                      {
                        "colorbar": {
                          "outlinewidth": 0,
                          "ticks": ""
                        },
                        "colorscale": [
                          [
                            0,
                            "#0d0887"
                          ],
                          [
                            0.1111111111111111,
                            "#46039f"
                          ],
                          [
                            0.2222222222222222,
                            "#7201a8"
                          ],
                          [
                            0.3333333333333333,
                            "#9c179e"
                          ],
                          [
                            0.4444444444444444,
                            "#bd3786"
                          ],
                          [
                            0.5555555555555556,
                            "#d8576b"
                          ],
                          [
                            0.6666666666666666,
                            "#ed7953"
                          ],
                          [
                            0.7777777777777778,
                            "#fb9f3a"
                          ],
                          [
                            0.8888888888888888,
                            "#fdca26"
                          ],
                          [
                            1,
                            "#f0f921"
                          ]
                        ],
                        "type": "heatmap"
                      }
                    ],
                    "heatmapgl": [
                      {
                        "colorbar": {
                          "outlinewidth": 0,
                          "ticks": ""
                        },
                        "colorscale": [
                          [
                            0,
                            "#0d0887"
                          ],
                          [
                            0.1111111111111111,
                            "#46039f"
                          ],
                          [
                            0.2222222222222222,
                            "#7201a8"
                          ],
                          [
                            0.3333333333333333,
                            "#9c179e"
                          ],
                          [
                            0.4444444444444444,
                            "#bd3786"
                          ],
                          [
                            0.5555555555555556,
                            "#d8576b"
                          ],
                          [
                            0.6666666666666666,
                            "#ed7953"
                          ],
                          [
                            0.7777777777777778,
                            "#fb9f3a"
                          ],
                          [
                            0.8888888888888888,
                            "#fdca26"
                          ],
                          [
                            1,
                            "#f0f921"
                          ]
                        ],
                        "type": "heatmapgl"
                      }
                    ],
                    "histogram": [
                      {
                        "marker": {
                          "pattern": {
                            "fillmode": "overlay",
                            "size": 10,
                            "solidity": 0.2
                          }
                        },
                        "type": "histogram"
                      }
                    ],
                    "histogram2d": [
                      {
                        "colorbar": {
                          "outlinewidth": 0,
                          "ticks": ""
                        },
                        "colorscale": [
                          [
                            0,
                            "#0d0887"
                          ],
                          [
                            0.1111111111111111,
                            "#46039f"
                          ],
                          [
                            0.2222222222222222,
                            "#7201a8"
                          ],
                          [
                            0.3333333333333333,
                            "#9c179e"
                          ],
                          [
                            0.4444444444444444,
                            "#bd3786"
                          ],
                          [
                            0.5555555555555556,
                            "#d8576b"
                          ],
                          [
                            0.6666666666666666,
                            "#ed7953"
                          ],
                          [
                            0.7777777777777778,
                            "#fb9f3a"
                          ],
                          [
                            0.8888888888888888,
                            "#fdca26"
                          ],
                          [
                            1,
                            "#f0f921"
                          ]
                        ],
                        "type": "histogram2d"
                      }
                    ],
                    "histogram2dcontour": [
                      {
                        "colorbar": {
                          "outlinewidth": 0,
                          "ticks": ""
                        },
                        "colorscale": [
                          [
                            0,
                            "#0d0887"
                          ],
                          [
                            0.1111111111111111,
                            "#46039f"
                          ],
                          [
                            0.2222222222222222,
                            "#7201a8"
                          ],
                          [
                            0.3333333333333333,
                            "#9c179e"
                          ],
                          [
                            0.4444444444444444,
                            "#bd3786"
                          ],
                          [
                            0.5555555555555556,
                            "#d8576b"
                          ],
                          [
                            0.6666666666666666,
                            "#ed7953"
                          ],
                          [
                            0.7777777777777778,
                            "#fb9f3a"
                          ],
                          [
                            0.8888888888888888,
                            "#fdca26"
                          ],
                          [
                            1,
                            "#f0f921"
                          ]
                        ],
                        "type": "histogram2dcontour"
                      }
                    ],
                    "mesh3d": [
                      {
                        "colorbar": {
                          "outlinewidth": 0,
                          "ticks": ""
                        },
                        "type": "mesh3d"
                      }
                    ],
                    "parcoords": [
                      {
                        "line": {
                          "colorbar": {
                            "outlinewidth": 0,
                            "ticks": ""
                          }
                        },
                        "type": "parcoords"
                      }
                    ],
                    "pie": [
                      {
                        "automargin": true,
                        "type": "pie"
                      }
                    ],
                    "scatter": [
                      {
                        "fillpattern": {
                          "fillmode": "overlay",
                          "size": 10,
                          "solidity": 0.2
                        },
                        "type": "scatter"
                      }
                    ],
                    "scatter3d": [
                      {
                        "line": {
                          "colorbar": {
                            "outlinewidth": 0,
                            "ticks": ""
                          }
                        },
                        "marker": {
                          "colorbar": {
                            "outlinewidth": 0,
                            "ticks": ""
                          }
                        },
                        "type": "scatter3d"
                      }
                    ],
                    "scattercarpet": [
                      {
                        "marker": {
                          "colorbar": {
                            "outlinewidth": 0,
                            "ticks": ""
                          }
                        },
                        "type": "scattercarpet"
                      }
                    ],
                    "scattergeo": [
                      {
                        "marker": {
                          "colorbar": {
                            "outlinewidth": 0,
                            "ticks": ""
                          }
                        },
                        "type": "scattergeo"
                      }
                    ],
                    "scattergl": [
                      {
                        "marker": {
                          "colorbar": {
                            "outlinewidth": 0,
                            "ticks": ""
                          }
                        },
                        "type": "scattergl"
                      }
                    ],
                    "scattermapbox": [
                      {
                        "marker": {
                          "colorbar": {
                            "outlinewidth": 0,
                            "ticks": ""
                          }
                        },
                        "type": "scattermapbox"
                      }
                    ],
                    "scatterpolar": [
                      {
                        "marker": {
                          "colorbar": {
                            "outlinewidth": 0,
                            "ticks": ""
                          }
                        },
                        "type": "scatterpolar"
                      }
                    ],
                    "scatterpolargl": [
                      {
                        "marker": {
                          "colorbar": {
                            "outlinewidth": 0,
                            "ticks": ""
                          }
                        },
                        "type": "scatterpolargl"
                      }
                    ],
                    "scatterternary": [
                      {
                        "marker": {
                          "colorbar": {
                            "outlinewidth": 0,
                            "ticks": ""
                          }
                        },
                        "type": "scatterternary"
                      }
                    ],
                    "surface": [
                      {
                        "colorbar": {
                          "outlinewidth": 0,
                          "ticks": ""
                        },
                        "colorscale": [
                          [
                            0,
                            "#0d0887"
                          ],
                          [
                            0.1111111111111111,
                            "#46039f"
                          ],
                          [
                            0.2222222222222222,
                            "#7201a8"
                          ],
                          [
                            0.3333333333333333,
                            "#9c179e"
                          ],
                          [
                            0.4444444444444444,
                            "#bd3786"
                          ],
                          [
                            0.5555555555555556,
                            "#d8576b"
                          ],
                          [
                            0.6666666666666666,
                            "#ed7953"
                          ],
                          [
                            0.7777777777777778,
                            "#fb9f3a"
                          ],
                          [
                            0.8888888888888888,
                            "#fdca26"
                          ],
                          [
                            1,
                            "#f0f921"
                          ]
                        ],
                        "type": "surface"
                      }
                    ],
                    "table": [
                      {
                        "cells": {
                          "fill": {
                            "color": "#EBF0F8"
                          },
                          "line": {
                            "color": "white"
                          }
                        },
                        "header": {
                          "fill": {
                            "color": "#C8D4E3"
                          },
                          "line": {
                            "color": "white"
                          }
                        },
                        "type": "table"
                      }
                    ]
                  },
                  "layout": {
                    "annotationdefaults": {
                      "arrowcolor": "#2a3f5f",
                      "arrowhead": 0,
                      "arrowwidth": 1
                    },
                    "autotypenumbers": "strict",
                    "coloraxis": {
                      "colorbar": {
                        "outlinewidth": 0,
                        "ticks": ""
                      }
                    },
                    "colorscale": {
                      "diverging": [
                        [
                          0,
                          "#8e0152"
                        ],
                        [
                          0.1,
                          "#c51b7d"
                        ],
                        [
                          0.2,
                          "#de77ae"
                        ],
                        [
                          0.3,
                          "#f1b6da"
                        ],
                        [
                          0.4,
                          "#fde0ef"
                        ],
                        [
                          0.5,
                          "#f7f7f7"
                        ],
                        [
                          0.6,
                          "#e6f5d0"
                        ],
                        [
                          0.7,
                          "#b8e186"
                        ],
                        [
                          0.8,
                          "#7fbc41"
                        ],
                        [
                          0.9,
                          "#4d9221"
                        ],
                        [
                          1,
                          "#276419"
                        ]
                      ],
                      "sequential": [
                        [
                          0,
                          "#0d0887"
                        ],
                        [
                          0.1111111111111111,
                          "#46039f"
                        ],
                        [
                          0.2222222222222222,
                          "#7201a8"
                        ],
                        [
                          0.3333333333333333,
                          "#9c179e"
                        ],
                        [
                          0.4444444444444444,
                          "#bd3786"
                        ],
                        [
                          0.5555555555555556,
                          "#d8576b"
                        ],
                        [
                          0.6666666666666666,
                          "#ed7953"
                        ],
                        [
                          0.7777777777777778,
                          "#fb9f3a"
                        ],
                        [
                          0.8888888888888888,
                          "#fdca26"
                        ],
                        [
                          1,
                          "#f0f921"
                        ]
                      ],
                      "sequentialminus": [
                        [
                          0,
                          "#0d0887"
                        ],
                        [
                          0.1111111111111111,
                          "#46039f"
                        ],
                        [
                          0.2222222222222222,
                          "#7201a8"
                        ],
                        [
                          0.3333333333333333,
                          "#9c179e"
                        ],
                        [
                          0.4444444444444444,
                          "#bd3786"
                        ],
                        [
                          0.5555555555555556,
                          "#d8576b"
                        ],
                        [
                          0.6666666666666666,
                          "#ed7953"
                        ],
                        [
                          0.7777777777777778,
                          "#fb9f3a"
                        ],
                        [
                          0.8888888888888888,
                          "#fdca26"
                        ],
                        [
                          1,
                          "#f0f921"
                        ]
                      ]
                    },
                    "colorway": [
                      "#636efa",
                      "#EF553B",
                      "#00cc96",
                      "#ab63fa",
                      "#FFA15A",
                      "#19d3f3",
                      "#FF6692",
                      "#B6E880",
                      "#FF97FF",
                      "#FECB52"
                    ],
                    "font": {
                      "color": "#2a3f5f"
                    },
                    "geo": {
                      "bgcolor": "white",
                      "lakecolor": "white",
                      "landcolor": "#E5ECF6",
                      "showlakes": true,
                      "showland": true,
                      "subunitcolor": "white"
                    },
                    "hoverlabel": {
                      "align": "left"
                    },
                    "hovermode": "closest",
                    "mapbox": {
                      "style": "light"
                    },
                    "paper_bgcolor": "white",
                    "plot_bgcolor": "#E5ECF6",
                    "polar": {
                      "angularaxis": {
                        "gridcolor": "white",
                        "linecolor": "white",
                        "ticks": ""
                      },
                      "bgcolor": "#E5ECF6",
                      "radialaxis": {
                        "gridcolor": "white",
                        "linecolor": "white",
                        "ticks": ""
                      }
                    },
                    "scene": {
                      "xaxis": {
                        "backgroundcolor": "#E5ECF6",
                        "gridcolor": "white",
                        "gridwidth": 2,
                        "linecolor": "white",
                        "showbackground": true,
                        "ticks": "",
                        "zerolinecolor": "white"
                      },
                      "yaxis": {
                        "backgroundcolor": "#E5ECF6",
                        "gridcolor": "white",
                        "gridwidth": 2,
                        "linecolor": "white",
                        "showbackground": true,
                        "ticks": "",
                        "zerolinecolor": "white"
                      },
                      "zaxis": {
                        "backgroundcolor": "#E5ECF6",
                        "gridcolor": "white",
                        "gridwidth": 2,
                        "linecolor": "white",
                        "showbackground": true,
                        "ticks": "",
                        "zerolinecolor": "white"
                      }
                    },
                    "shapedefaults": {
                      "line": {
                        "color": "#2a3f5f"
                      }
                    },
                    "ternary": {
                      "aaxis": {
                        "gridcolor": "white",
                        "linecolor": "white",
                        "ticks": ""
                      },
                      "baxis": {
                        "gridcolor": "white",
                        "linecolor": "white",
                        "ticks": ""
                      },
                      "bgcolor": "#E5ECF6",
                      "caxis": {
                        "gridcolor": "white",
                        "linecolor": "white",
                        "ticks": ""
                      }
                    },
                    "title": {
                      "x": 0.05
                    },
                    "xaxis": {
                      "automargin": true,
                      "gridcolor": "white",
                      "linecolor": "white",
                      "ticks": "",
                      "title": {
                        "standoff": 15
                      },
                      "zerolinecolor": "white",
                      "zerolinewidth": 2
                    },
                    "yaxis": {
                      "automargin": true,
                      "gridcolor": "white",
                      "linecolor": "white",
                      "ticks": "",
                      "title": {
                        "standoff": 15
                      },
                      "zerolinecolor": "white",
                      "zerolinewidth": 2
                    }
                  }
                }
              }
            }
          },
          "metadata": {},
          "output_type": "display_data"
        }
      ],
      "source": [
        "import pandas as pd\n",
        "import plotly.express as px\n",
        "df = pd.read_csv('HK_Campsite_cleaned.csv')\n",
        "\n",
        "#Create a scatter map\n",
        "fig = px.scatter_mapbox(\n",
        "    df,\n",
        "    lat=\"Latitude\",\n",
        "    lon=\"Longitude\",\n",
        "    hover_name=\"Name_of_Building/Facility\",\n",
        "    color=\"Source_of_water\",\n",
        "    color_discrete_sequence=[\"green\", \"orange\", \"red\"],\n",
        "    zoom=9,\n",
        "    height=600,\n",
        ")\n",
        "\n",
        "fig.update_traces(marker=dict(size=15, symbol='circle'))\n",
        "\n",
        "#Change the chart background\n",
        "fig.update_layout(mapbox_style=\"carto-darkmatter\") # open-street-map\n",
        "\n",
        "fig.show()"
      ]
    },
    {
      "attachments": {},
      "cell_type": "markdown",
      "metadata": {
        "id": "L7M3CenknLAn"
      },
      "source": [
        "This map shows the relationship between the distribution and geographical location of Hong Kong's water sources, with different colors representing different water sources. For example, red represents camps that provide water through flushing toilet. From the previous analysis, we learned that the Ngong Ping Camp Site and the Shek Pik Camp Site are located on Lantau Island and Lamma Island in Hong Kong, respectively, while the Kong Ha Au Campsite is located in Pat Sin Leng in the northwest of the New Territories. The three camps provide water through flushing toilet for several reasons: First, in terms of terrain conditions, Ngong Ping Camp Site and Shek Pik Camp Site are located close to the sea, and the surrounding environment is hillside terrain, and water sources may not be sufficient, resulting in these camps obtaining water through flushing toilet. The Kong Ha Au Campsite, on the other hand, is located in the mountainous northwest of the New Territories, and the surrounding environment is relatively dry, which may also lead to water shortages. Secondly, in terms of facility conditions, in some cases, it is difficult to supply water by other means, because these camping areas are often remote and lack urbanization facilities. It is difficult to build water treatment plants or provide piped water near these camps, so water can only be provided through flushing toilets.\n",
        "\n",
        "***Code***\n",
        "In this image, we created a scatter map using the Pandas and Plotly.express libraries and visualized the geographical location and water source types of different campsites in Hong Kong.  We used the Plotly.express library to create a scatter map that takes the latitude and longitude of the camp as the coordinates of the map, the camp name as the hint on hover, and distinguishes different campsites in different colors based on the type of water source. And use the following colors to distinguish different water source types, specifically green means that the water source type of the camp is \"TAP\", indicating that the water from the water source has been treated and disinfected, and is a safe and reliable direct drinking water source; THE ORANGE INDICATES THAT THE TYPE OF WATER USED BY THE CAMP IS \"STREAM WATER (SEASONAL SUPPLY)\", WHICH MEANS THAT THE WATER SOURCE COMES FROM A RIVER OR STREAM AND IS ONLY AVAILABLE DURING CERTAIN SEASONS. This water source is not treated with wastewater and needs to be filtered and disinfected before it can be consumed; THE RED INDICATES THAT THE TYPE OF WATER USED BY THE CAMP IS \"FLUSHING TOILET\", WHICH MEANS THAT THE WATER SOURCE CAN ONLY BE USED FOR TOILET FLUSHING AND IS NOT SUITABLE FOR DIRECT DRINKING OR COOKING. Through this color coding, we can visually distinguish the type of water source in different camps, helping camp users understand the quality and water use of the camp, and make more informed judgments when choosing and using the camp.  After this step we change the size and shape to mark the point. Here all the marker points are changed to a circle shape and their size is set to 15. On the basis of the original image, we found that it was not conducive to analysis, so we decided to change the chart background to the dark Carto style. Setting the background of a scatter map to a dark Carto style improves data readability and enhances the visual and user experience of a scatter map. This requires clear distinction for presentation details, highlighting our key message."
      ]
    },
    {
      "attachments": {},
      "cell_type": "markdown",
      "metadata": {
        "id": "CFMg7bq8lrsY"
      },
      "source": [
        "## Histogram: Distribution of tent numbers"
      ]
    },
    {
      "cell_type": "code",
      "execution_count": 23,
      "metadata": {
        "colab": {
          "base_uri": "https://localhost:8080/"
        },
        "id": "L1BpgNH7XCPn",
        "outputId": "870d2423-74f6-412f-be6b-8c0e255327e2"
      },
      "outputs": [
        {
          "data": {
            "text/plain": [
              "0     10\n",
              "1     10\n",
              "2     10\n",
              "3     35\n",
              "4     35\n",
              "5     10\n",
              "6     75\n",
              "7     10\n",
              "8     10\n",
              "9     75\n",
              "10    10\n",
              "11    10\n",
              "12    10\n",
              "13    10\n",
              "14    10\n",
              "15    75\n",
              "16    10\n",
              "17    10\n",
              "18    10\n",
              "19    10\n",
              "20    10\n",
              "21    10\n",
              "22    35\n",
              "23    10\n",
              "24    35\n",
              "25    75\n",
              "26    10\n",
              "27    10\n",
              "28    10\n",
              "29    10\n",
              "30    10\n",
              "31    10\n",
              "32    10\n",
              "33    35\n",
              "34    10\n",
              "35    10\n",
              "36    10\n",
              "37    10\n",
              "38    75\n",
              "39    10\n",
              "40    10\n",
              "Name: TentSpace, dtype: int64"
            ]
          },
          "execution_count": 23,
          "metadata": {},
          "output_type": "execute_result"
        }
      ],
      "source": [
        "#Converts the value in the TentSpace field to a number\n",
        "def parse_tent_space(s):\n",
        "    if s == 'Less than 20':\n",
        "        return 10\n",
        "    elif s == 'More than 50':\n",
        "        return 75\n",
        "    elif '-' in s:\n",
        "        return int((int(s.split('-')[0]) + int(s.split('-')[1])) / 2)\n",
        "    else:\n",
        "        return None\n",
        "\n",
        "#Determine if the 'TentSpace' value has been processed\n",
        "if isinstance(df['TentSpace'][0], str):\n",
        "    df['TentSpace'] = df['TentSpace'].apply(parse_tent_space)\n",
        "    \n",
        "\n",
        "df['TentSpace']"
      ]
    },
    {
      "attachments": {},
      "cell_type": "markdown",
      "metadata": {
        "id": "bhs5s4oxnlED"
      },
      "source": [
        "***Code***\n",
        "This step is used to test whether the conversion was successful. The purpose is to convert string values in the field 'TentSpace' to numeric values for numerical processing, analysis, and visualization. The content of this data refers to the tent area provided by the campsite. In the raw data, its value is stored as a string, for example: \"10-20\" indicates that the tent area offered by the campsite is 10 to 20 square meters. Its numerical information is very important for users of campsites to better analyze and compare the size and capacity of the sites offered by different campsites, so as to better assess the suitability and popularity of a campsite, show users better parking options, etc.  So in this process, we define a parse_tent_space function that converts the string value of the 'TentSpace' column to a number to make it easier to store and process the information of the field. And use the apply() function to apply the parse_tent_space function to each value of the 'TentSpace' column, correctly converting the tent land area to numerical data, and better adapting to the needs of data analysis and visualization. The specific steps are: This function accepts a string parameter s and returns an integer value. Specifically, the function first determines whether the string is equal to \"Less than 20\" or \"More than 50\", and if so, returns integer values of 10 and 75, respectively; Otherwise, determine whether the string contains '-', and if so, take the average of the numbers on the left and right sides of '-' and return, otherwise return None.  Second, we checked if the 'TentSpace' field in the first row of data is of type string. For a 'TentSpace' field of type string, it will call the apply() function to execute the parse_tent_space function for each record and convert it to a number."
      ]
    },
    {
      "cell_type": "code",
      "execution_count": 3,
      "metadata": {
        "colab": {
          "base_uri": "https://localhost:8080/",
          "height": 542
        },
        "id": "v_TwGAGti3-r",
        "outputId": "d872d5df-c1d7-49ac-8556-377ac086954a"
      },
      "outputs": [
        {
          "data": {
            "application/vnd.plotly.v1+json": {
              "config": {
                "plotlyServerURL": "https://plot.ly"
              },
              "data": [
                {
                  "hovertemplate": "<b>Tent Space:</b> %{x}<br><b>Campsites:</b> %{y}",
                  "name": "Tent Space",
                  "type": "bar",
                  "x": [
                    10,
                    35,
                    75
                  ],
                  "y": [
                    31,
                    5,
                    5
                  ]
                },
                {
                  "cliponaxis": false,
                  "hoverinfo": "skip",
                  "hovertemplate": "<b>Tent Space:</b> %{x}<br><b>Campsites:</b> %{y}",
                  "marker": {
                    "opacity": 0
                  },
                  "mode": "markers+text",
                  "name": "",
                  "showlegend": false,
                  "text": "",
                  "textposition": "middle right",
                  "type": "scatter",
                  "x": [],
                  "y": []
                }
              ],
              "layout": {
                "annotations": [
                  {
                    "font": {
                      "size": 10
                    },
                    "showarrow": false,
                    "text": "31 campsites<br>(Lau Shui Heung Camp Site<br>Tung Lung Chau Camp Site<br>Tai Mong Tsai Campsite<br>Sam A Chung Camp Site<br>Wong Shek Camp Site<br>Pak Tam Au Camp Site<br>Long Ke Wan Camp Site<br>Hau Tong Kai Camp Site<br>Yuen Ng Fan Camp Site<br>Pak Lap Camp Site<br>Po Kwu Wan Camp Site<br>Tai Tan Camp Site<br>Yee Ting Camp Site<br>Shui Long Wo Camp Site<br>Tung Ping Chau Camp Site<br>Lead Mine Pass Camp Site<br>Rotary Club Park Camp Site<br>Ho Pui Camp Site<br>Pak Fu Tin Camp Site<br>Shap Long Camp Site<br>Lo Kei Wan Camp Site<br>Shek Lam Chau Camp Site<br>Tai Long Wan Camp Site<br>Kau Ling Chung Camp Site<br>Man Cheung Po Camp Site<br>Tsin Yue Wan Camp Site<br>Ngong Ping Camp Site<br>Nga Ying Kok Camp Site<br>Cheung Sheung Camp Site<br>Shek Pik Camp Site<br>Kong Ha Au Campsite)",
                    "x": 10,
                    "y": 31
                  },
                  {
                    "font": {
                      "size": 10
                    },
                    "showarrow": false,
                    "text": "5 campsites<br>(Chung Pui Camp Site<br>Hok Tau Camp Site<br>Twisk Camp Site<br>Tin Fu Tsai Camp Site<br>Ngong Ping Camp Site)",
                    "x": 35,
                    "y": 5
                  },
                  {
                    "font": {
                      "size": 10
                    },
                    "showarrow": false,
                    "text": "5 campsites<br>(Wan Tsai South Camp Site<br>Sai Wan Camp Site<br>Wan Tsai West Camp Site<br>Nam Shan Camp Site<br>Ham Tin Wan Camp Site)",
                    "x": 75,
                    "y": 5
                  }
                ],
                "barmode": "stack",
                "hovermode": "closest",
                "template": {
                  "data": {
                    "bar": [
                      {
                        "error_x": {
                          "color": "#2a3f5f"
                        },
                        "error_y": {
                          "color": "#2a3f5f"
                        },
                        "marker": {
                          "line": {
                            "color": "#E5ECF6",
                            "width": 0.5
                          },
                          "pattern": {
                            "fillmode": "overlay",
                            "size": 10,
                            "solidity": 0.2
                          }
                        },
                        "type": "bar"
                      }
                    ],
                    "barpolar": [
                      {
                        "marker": {
                          "line": {
                            "color": "#E5ECF6",
                            "width": 0.5
                          },
                          "pattern": {
                            "fillmode": "overlay",
                            "size": 10,
                            "solidity": 0.2
                          }
                        },
                        "type": "barpolar"
                      }
                    ],
                    "carpet": [
                      {
                        "aaxis": {
                          "endlinecolor": "#2a3f5f",
                          "gridcolor": "white",
                          "linecolor": "white",
                          "minorgridcolor": "white",
                          "startlinecolor": "#2a3f5f"
                        },
                        "baxis": {
                          "endlinecolor": "#2a3f5f",
                          "gridcolor": "white",
                          "linecolor": "white",
                          "minorgridcolor": "white",
                          "startlinecolor": "#2a3f5f"
                        },
                        "type": "carpet"
                      }
                    ],
                    "choropleth": [
                      {
                        "colorbar": {
                          "outlinewidth": 0,
                          "ticks": ""
                        },
                        "type": "choropleth"
                      }
                    ],
                    "contour": [
                      {
                        "colorbar": {
                          "outlinewidth": 0,
                          "ticks": ""
                        },
                        "colorscale": [
                          [
                            0,
                            "#0d0887"
                          ],
                          [
                            0.1111111111111111,
                            "#46039f"
                          ],
                          [
                            0.2222222222222222,
                            "#7201a8"
                          ],
                          [
                            0.3333333333333333,
                            "#9c179e"
                          ],
                          [
                            0.4444444444444444,
                            "#bd3786"
                          ],
                          [
                            0.5555555555555556,
                            "#d8576b"
                          ],
                          [
                            0.6666666666666666,
                            "#ed7953"
                          ],
                          [
                            0.7777777777777778,
                            "#fb9f3a"
                          ],
                          [
                            0.8888888888888888,
                            "#fdca26"
                          ],
                          [
                            1,
                            "#f0f921"
                          ]
                        ],
                        "type": "contour"
                      }
                    ],
                    "contourcarpet": [
                      {
                        "colorbar": {
                          "outlinewidth": 0,
                          "ticks": ""
                        },
                        "type": "contourcarpet"
                      }
                    ],
                    "heatmap": [
                      {
                        "colorbar": {
                          "outlinewidth": 0,
                          "ticks": ""
                        },
                        "colorscale": [
                          [
                            0,
                            "#0d0887"
                          ],
                          [
                            0.1111111111111111,
                            "#46039f"
                          ],
                          [
                            0.2222222222222222,
                            "#7201a8"
                          ],
                          [
                            0.3333333333333333,
                            "#9c179e"
                          ],
                          [
                            0.4444444444444444,
                            "#bd3786"
                          ],
                          [
                            0.5555555555555556,
                            "#d8576b"
                          ],
                          [
                            0.6666666666666666,
                            "#ed7953"
                          ],
                          [
                            0.7777777777777778,
                            "#fb9f3a"
                          ],
                          [
                            0.8888888888888888,
                            "#fdca26"
                          ],
                          [
                            1,
                            "#f0f921"
                          ]
                        ],
                        "type": "heatmap"
                      }
                    ],
                    "heatmapgl": [
                      {
                        "colorbar": {
                          "outlinewidth": 0,
                          "ticks": ""
                        },
                        "colorscale": [
                          [
                            0,
                            "#0d0887"
                          ],
                          [
                            0.1111111111111111,
                            "#46039f"
                          ],
                          [
                            0.2222222222222222,
                            "#7201a8"
                          ],
                          [
                            0.3333333333333333,
                            "#9c179e"
                          ],
                          [
                            0.4444444444444444,
                            "#bd3786"
                          ],
                          [
                            0.5555555555555556,
                            "#d8576b"
                          ],
                          [
                            0.6666666666666666,
                            "#ed7953"
                          ],
                          [
                            0.7777777777777778,
                            "#fb9f3a"
                          ],
                          [
                            0.8888888888888888,
                            "#fdca26"
                          ],
                          [
                            1,
                            "#f0f921"
                          ]
                        ],
                        "type": "heatmapgl"
                      }
                    ],
                    "histogram": [
                      {
                        "marker": {
                          "pattern": {
                            "fillmode": "overlay",
                            "size": 10,
                            "solidity": 0.2
                          }
                        },
                        "type": "histogram"
                      }
                    ],
                    "histogram2d": [
                      {
                        "colorbar": {
                          "outlinewidth": 0,
                          "ticks": ""
                        },
                        "colorscale": [
                          [
                            0,
                            "#0d0887"
                          ],
                          [
                            0.1111111111111111,
                            "#46039f"
                          ],
                          [
                            0.2222222222222222,
                            "#7201a8"
                          ],
                          [
                            0.3333333333333333,
                            "#9c179e"
                          ],
                          [
                            0.4444444444444444,
                            "#bd3786"
                          ],
                          [
                            0.5555555555555556,
                            "#d8576b"
                          ],
                          [
                            0.6666666666666666,
                            "#ed7953"
                          ],
                          [
                            0.7777777777777778,
                            "#fb9f3a"
                          ],
                          [
                            0.8888888888888888,
                            "#fdca26"
                          ],
                          [
                            1,
                            "#f0f921"
                          ]
                        ],
                        "type": "histogram2d"
                      }
                    ],
                    "histogram2dcontour": [
                      {
                        "colorbar": {
                          "outlinewidth": 0,
                          "ticks": ""
                        },
                        "colorscale": [
                          [
                            0,
                            "#0d0887"
                          ],
                          [
                            0.1111111111111111,
                            "#46039f"
                          ],
                          [
                            0.2222222222222222,
                            "#7201a8"
                          ],
                          [
                            0.3333333333333333,
                            "#9c179e"
                          ],
                          [
                            0.4444444444444444,
                            "#bd3786"
                          ],
                          [
                            0.5555555555555556,
                            "#d8576b"
                          ],
                          [
                            0.6666666666666666,
                            "#ed7953"
                          ],
                          [
                            0.7777777777777778,
                            "#fb9f3a"
                          ],
                          [
                            0.8888888888888888,
                            "#fdca26"
                          ],
                          [
                            1,
                            "#f0f921"
                          ]
                        ],
                        "type": "histogram2dcontour"
                      }
                    ],
                    "mesh3d": [
                      {
                        "colorbar": {
                          "outlinewidth": 0,
                          "ticks": ""
                        },
                        "type": "mesh3d"
                      }
                    ],
                    "parcoords": [
                      {
                        "line": {
                          "colorbar": {
                            "outlinewidth": 0,
                            "ticks": ""
                          }
                        },
                        "type": "parcoords"
                      }
                    ],
                    "pie": [
                      {
                        "automargin": true,
                        "type": "pie"
                      }
                    ],
                    "scatter": [
                      {
                        "fillpattern": {
                          "fillmode": "overlay",
                          "size": 10,
                          "solidity": 0.2
                        },
                        "type": "scatter"
                      }
                    ],
                    "scatter3d": [
                      {
                        "line": {
                          "colorbar": {
                            "outlinewidth": 0,
                            "ticks": ""
                          }
                        },
                        "marker": {
                          "colorbar": {
                            "outlinewidth": 0,
                            "ticks": ""
                          }
                        },
                        "type": "scatter3d"
                      }
                    ],
                    "scattercarpet": [
                      {
                        "marker": {
                          "colorbar": {
                            "outlinewidth": 0,
                            "ticks": ""
                          }
                        },
                        "type": "scattercarpet"
                      }
                    ],
                    "scattergeo": [
                      {
                        "marker": {
                          "colorbar": {
                            "outlinewidth": 0,
                            "ticks": ""
                          }
                        },
                        "type": "scattergeo"
                      }
                    ],
                    "scattergl": [
                      {
                        "marker": {
                          "colorbar": {
                            "outlinewidth": 0,
                            "ticks": ""
                          }
                        },
                        "type": "scattergl"
                      }
                    ],
                    "scattermapbox": [
                      {
                        "marker": {
                          "colorbar": {
                            "outlinewidth": 0,
                            "ticks": ""
                          }
                        },
                        "type": "scattermapbox"
                      }
                    ],
                    "scatterpolar": [
                      {
                        "marker": {
                          "colorbar": {
                            "outlinewidth": 0,
                            "ticks": ""
                          }
                        },
                        "type": "scatterpolar"
                      }
                    ],
                    "scatterpolargl": [
                      {
                        "marker": {
                          "colorbar": {
                            "outlinewidth": 0,
                            "ticks": ""
                          }
                        },
                        "type": "scatterpolargl"
                      }
                    ],
                    "scatterternary": [
                      {
                        "marker": {
                          "colorbar": {
                            "outlinewidth": 0,
                            "ticks": ""
                          }
                        },
                        "type": "scatterternary"
                      }
                    ],
                    "surface": [
                      {
                        "colorbar": {
                          "outlinewidth": 0,
                          "ticks": ""
                        },
                        "colorscale": [
                          [
                            0,
                            "#0d0887"
                          ],
                          [
                            0.1111111111111111,
                            "#46039f"
                          ],
                          [
                            0.2222222222222222,
                            "#7201a8"
                          ],
                          [
                            0.3333333333333333,
                            "#9c179e"
                          ],
                          [
                            0.4444444444444444,
                            "#bd3786"
                          ],
                          [
                            0.5555555555555556,
                            "#d8576b"
                          ],
                          [
                            0.6666666666666666,
                            "#ed7953"
                          ],
                          [
                            0.7777777777777778,
                            "#fb9f3a"
                          ],
                          [
                            0.8888888888888888,
                            "#fdca26"
                          ],
                          [
                            1,
                            "#f0f921"
                          ]
                        ],
                        "type": "surface"
                      }
                    ],
                    "table": [
                      {
                        "cells": {
                          "fill": {
                            "color": "#EBF0F8"
                          },
                          "line": {
                            "color": "white"
                          }
                        },
                        "header": {
                          "fill": {
                            "color": "#C8D4E3"
                          },
                          "line": {
                            "color": "white"
                          }
                        },
                        "type": "table"
                      }
                    ]
                  },
                  "layout": {
                    "annotationdefaults": {
                      "arrowcolor": "#2a3f5f",
                      "arrowhead": 0,
                      "arrowwidth": 1
                    },
                    "autotypenumbers": "strict",
                    "coloraxis": {
                      "colorbar": {
                        "outlinewidth": 0,
                        "ticks": ""
                      }
                    },
                    "colorscale": {
                      "diverging": [
                        [
                          0,
                          "#8e0152"
                        ],
                        [
                          0.1,
                          "#c51b7d"
                        ],
                        [
                          0.2,
                          "#de77ae"
                        ],
                        [
                          0.3,
                          "#f1b6da"
                        ],
                        [
                          0.4,
                          "#fde0ef"
                        ],
                        [
                          0.5,
                          "#f7f7f7"
                        ],
                        [
                          0.6,
                          "#e6f5d0"
                        ],
                        [
                          0.7,
                          "#b8e186"
                        ],
                        [
                          0.8,
                          "#7fbc41"
                        ],
                        [
                          0.9,
                          "#4d9221"
                        ],
                        [
                          1,
                          "#276419"
                        ]
                      ],
                      "sequential": [
                        [
                          0,
                          "#0d0887"
                        ],
                        [
                          0.1111111111111111,
                          "#46039f"
                        ],
                        [
                          0.2222222222222222,
                          "#7201a8"
                        ],
                        [
                          0.3333333333333333,
                          "#9c179e"
                        ],
                        [
                          0.4444444444444444,
                          "#bd3786"
                        ],
                        [
                          0.5555555555555556,
                          "#d8576b"
                        ],
                        [
                          0.6666666666666666,
                          "#ed7953"
                        ],
                        [
                          0.7777777777777778,
                          "#fb9f3a"
                        ],
                        [
                          0.8888888888888888,
                          "#fdca26"
                        ],
                        [
                          1,
                          "#f0f921"
                        ]
                      ],
                      "sequentialminus": [
                        [
                          0,
                          "#0d0887"
                        ],
                        [
                          0.1111111111111111,
                          "#46039f"
                        ],
                        [
                          0.2222222222222222,
                          "#7201a8"
                        ],
                        [
                          0.3333333333333333,
                          "#9c179e"
                        ],
                        [
                          0.4444444444444444,
                          "#bd3786"
                        ],
                        [
                          0.5555555555555556,
                          "#d8576b"
                        ],
                        [
                          0.6666666666666666,
                          "#ed7953"
                        ],
                        [
                          0.7777777777777778,
                          "#fb9f3a"
                        ],
                        [
                          0.8888888888888888,
                          "#fdca26"
                        ],
                        [
                          1,
                          "#f0f921"
                        ]
                      ]
                    },
                    "colorway": [
                      "#636efa",
                      "#EF553B",
                      "#00cc96",
                      "#ab63fa",
                      "#FFA15A",
                      "#19d3f3",
                      "#FF6692",
                      "#B6E880",
                      "#FF97FF",
                      "#FECB52"
                    ],
                    "font": {
                      "color": "#2a3f5f"
                    },
                    "geo": {
                      "bgcolor": "white",
                      "lakecolor": "white",
                      "landcolor": "#E5ECF6",
                      "showlakes": true,
                      "showland": true,
                      "subunitcolor": "white"
                    },
                    "hoverlabel": {
                      "align": "left"
                    },
                    "hovermode": "closest",
                    "mapbox": {
                      "style": "light"
                    },
                    "paper_bgcolor": "white",
                    "plot_bgcolor": "#E5ECF6",
                    "polar": {
                      "angularaxis": {
                        "gridcolor": "white",
                        "linecolor": "white",
                        "ticks": ""
                      },
                      "bgcolor": "#E5ECF6",
                      "radialaxis": {
                        "gridcolor": "white",
                        "linecolor": "white",
                        "ticks": ""
                      }
                    },
                    "scene": {
                      "xaxis": {
                        "backgroundcolor": "#E5ECF6",
                        "gridcolor": "white",
                        "gridwidth": 2,
                        "linecolor": "white",
                        "showbackground": true,
                        "ticks": "",
                        "zerolinecolor": "white"
                      },
                      "yaxis": {
                        "backgroundcolor": "#E5ECF6",
                        "gridcolor": "white",
                        "gridwidth": 2,
                        "linecolor": "white",
                        "showbackground": true,
                        "ticks": "",
                        "zerolinecolor": "white"
                      },
                      "zaxis": {
                        "backgroundcolor": "#E5ECF6",
                        "gridcolor": "white",
                        "gridwidth": 2,
                        "linecolor": "white",
                        "showbackground": true,
                        "ticks": "",
                        "zerolinecolor": "white"
                      }
                    },
                    "shapedefaults": {
                      "line": {
                        "color": "#2a3f5f"
                      }
                    },
                    "ternary": {
                      "aaxis": {
                        "gridcolor": "white",
                        "linecolor": "white",
                        "ticks": ""
                      },
                      "baxis": {
                        "gridcolor": "white",
                        "linecolor": "white",
                        "ticks": ""
                      },
                      "bgcolor": "#E5ECF6",
                      "caxis": {
                        "gridcolor": "white",
                        "linecolor": "white",
                        "ticks": ""
                      }
                    },
                    "title": {
                      "x": 0.05
                    },
                    "xaxis": {
                      "automargin": true,
                      "gridcolor": "white",
                      "linecolor": "white",
                      "ticks": "",
                      "title": {
                        "standoff": 15
                      },
                      "zerolinecolor": "white",
                      "zerolinewidth": 2
                    },
                    "yaxis": {
                      "automargin": true,
                      "gridcolor": "white",
                      "linecolor": "white",
                      "ticks": "",
                      "title": {
                        "standoff": 15
                      },
                      "zerolinecolor": "white",
                      "zerolinewidth": 2
                    }
                  }
                },
                "title": {
                  "text": "Number of Campsites by Tent Space"
                },
                "xaxis": {
                  "anchor": "y",
                  "domain": [
                    0,
                    1
                  ],
                  "ticktext": [
                    "Less than 20",
                    "20-50",
                    "More than 50"
                  ],
                  "tickvals": [
                    10,
                    35,
                    75
                  ],
                  "title": {
                    "text": "Tent Space"
                  }
                },
                "yaxis": {
                  "anchor": "x",
                  "domain": [
                    0,
                    1
                  ],
                  "title": {
                    "text": "Number of Campsites"
                  }
                }
              }
            }
          },
          "metadata": {},
          "output_type": "display_data"
        }
      ],
      "source": [
        "import pandas as pd\n",
        "import plotly.graph_objs as go\n",
        "from plotly.subplots import make_subplots\n",
        "df = pd.read_csv('HK_Campsite_cleaned.csv', usecols=['TentSpace', 'Name_of_Building/Facility'])\n",
        "\n",
        "#Converts the value in the TentSpace field to a number\n",
        "def parse_tent_space(s):\n",
        "    if s == 'Less than 20':\n",
        "        return 10\n",
        "    elif s == 'More than 50':\n",
        "        return 75\n",
        "    elif '-' in s:\n",
        "        return int((int(s.split('-')[0]) + int(s.split('-')[1])) / 2)\n",
        "    else:\n",
        "        return None\n",
        "\n",
        "#Test whether 'TentSpace' is of type string, and if so, convert it to a number\n",
        "if isinstance(df['TentSpace'][0], str):\n",
        "    df['TentSpace'] = df['TentSpace'].apply(parse_tent_space)\n",
        "\n",
        "#Count the number of camps in each different TentSpace value\n",
        "counts = df.groupby('TentSpace').size().reset_index(name='counts')\n",
        "\n",
        "#Associate each camp name with its TentSpace value\n",
        "sites = df.groupby('TentSpace')['Name_of_Building/Facility'].apply(list).reset_index(name='sites')\n",
        "\n",
        "#Create a column chart\n",
        "trace = go.Bar(x=counts['TentSpace'], y=counts['counts'], name='Tent Space', \n",
        "               hovertemplate='<b>Tent Space:</b> %{x}<br><b>Campsites:</b> %{y}')\n",
        "\n",
        "#Create a subgraph\n",
        "fig = make_subplots(rows=1, cols=1, shared_xaxes=True, vertical_spacing=0.01)\n",
        "\n",
        "#Add trace\n",
        "fig.add_trace(trace)\n",
        "\n",
        "#Create a name tag track\n",
        "names_trace = go.Scatter(x=[], y=[], mode='markers+text', name='', text='', showlegend=False,\n",
        "                         textposition='middle right', cliponaxis=False, hoverinfo='skip',\n",
        "                         marker={'opacity': 0})\n",
        "fig.add_trace(names_trace)\n",
        "\n",
        "#Set up a response function for mouse movement events to display the name label\n",
        "def show_names(trace, event):\n",
        "    ts_value = event['xvals'][0]\n",
        "    site_names = sites.loc[sites['TentSpace'] == ts_value, 'sites'].iloc[0]\n",
        "\n",
        "    #If there is no camp, the name label on the event line will be triggered to be emptied\n",
        "    if not site_names:\n",
        "        names_trace.text = ''\n",
        "        names_trace.x = []\n",
        "        names_trace.y = []\n",
        "        names_trace.marker.opacity = 0\n",
        "        return\n",
        "\n",
        "    #If a camp exists, move the name label to the location that triggered the event   \n",
        "    x = [ts_value] * len(site_names)\n",
        "    y = [unique_site_names.index(name) + counts['counts'][counts['TentSpace'] == ts_value].iloc[0]\n",
        "         for name in site_names]\n",
        "    names_trace.text = [format_site_names(site_names)]\n",
        "    names_trace.x = x\n",
        "    names_trace.y = y\n",
        "    names_trace.marker.opacity = 1\n",
        "\n",
        "#Add events for histogram tracks    \n",
        "for i, ts_value in enumerate(counts['TentSpace']):\n",
        "    fig.data[0].on_hover(show_names)\n",
        "\n",
        "#Do the same as before to create a name label\n",
        "all_site_names = []\n",
        "for names in sites['sites']:\n",
        "    all_site_names += names\n",
        "unique_site_names = list(set(all_site_names))\n",
        "\n",
        "site_visibility_dict = {name: [False] * len(counts) for name in unique_site_names}\n",
        "for i, row in sites.iterrows():\n",
        "    for name in row['sites']:\n",
        "        idx = counts[counts['TentSpace'] == row['TentSpace']].index[0]\n",
        "        site_visibility_dict[name][idx] = True\n",
        "\n",
        "#Create a helper function that can format the camp name\n",
        "def format_site_names(names):\n",
        "    return '<br>'.join(names)\n",
        "\n",
        "trace_annotations = []\n",
        "for i, row in counts.iterrows():\n",
        "    site_names = sites.loc[sites['TentSpace'] == row['TentSpace'], 'sites'].iloc[0]\n",
        "    count_text = f\"{row['counts']} campsites\"\n",
        "    if site_names:\n",
        "        count_text += f\"<br>({format_site_names(site_names)})\"\n",
        "    trace_annotations.append(dict(x=row['TentSpace'], y=row['counts'],\n",
        "                                  text=count_text, showarrow=False, font=dict(size=10)))\n",
        "\n",
        "#Update layout and track properties on fig\n",
        "fig.update_layout(title='Number of Campsites by Tent Space',\n",
        "                  xaxis_title='Tent Space',\n",
        "                  yaxis_title='Number of Campsites',\n",
        "                  hovermode='closest',\n",
        "                  barmode='stack',\n",
        "                  annotations=trace_annotations)\n",
        "\n",
        "fig.update_traces(hovertemplate='<b>Tent Space:</b> %{x}<br><b>Campsites:</b> %{y}')\n",
        "\n",
        "fig.update_layout(xaxis={'ticktext': ['Less than 20', '20-50', 'More than 50'], \n",
        "                          'tickvals': [10, 35, 75]})\n",
        "\n",
        "fig.show()"
      ]
    },
    {
      "attachments": {},
      "cell_type": "markdown",
      "metadata": {
        "id": "1mGIzLmLoYw8"
      },
      "source": [
        "***Code***In this code, we used the Plotly and Pandas libraries to create a column chart that counts the area and number of campsites, and added the name label associated with the column chart to make it clearer for users to select the number of campsites according to their needs.  The specific implementation steps are as follows: We use the data of the 'TentSpace' and 'Name_of_Building/Facility' columns and convert the string values contained in 'TentSpace' to integer types; use the groupby() function of the Pandas library to count the number of camps with different 'TentSpace' values and display them in the form of a bar chart. Next, we associate the camp name with its 'TentSpace' value and dynamically add the camp name label to the column chart when needed. In order to make it easier for users to see the distribution of our data, we create auxiliary functions and data structures to format the camp name and calculate the position of the camp name label, and define the response function when the mouse-over event is triggered to present the camp name label to the user in a column chart; At the same time, the trajectory and subplot of the column chart are built, and labels are added to the subgraph.  To demonstrate the size and capacity of camp sites in Hong Kong, quickly assess needs and potential camp options, while improving user experience and making data more readable."
      ]
    },
    {
      "attachments": {},
      "cell_type": "markdown",
      "metadata": {
        "id": "6PPlPp4RiCFt"
      },
      "source": [
        "# Scraping data & Areas for improvement"
      ]
    },
    {
      "attachments": {},
      "cell_type": "markdown",
      "metadata": {
        "id": "XMKIFEblq3dK"
      },
      "source": [
        "## 一.Klook crawling(FAIL)"
      ]
    },
    {
      "cell_type": "code",
      "execution_count": null,
      "metadata": {
        "colab": {
          "base_uri": "https://localhost:8080/",
          "height": 371
        },
        "id": "XdsNrlpHh5PC",
        "outputId": "a6893436-e613-406a-e44f-8cabbe88d2d6"
      },
      "outputs": [
        {
          "data": {
            "text/html": [
              "\n",
              "        <iframe\n",
              "            width=\"1000\"\n",
              "            height=\"350\"\n",
              "            src=\"https://www.klook.com/zh-HK/experiences/list/hong-kong-camping/c2-cate19/?city_ids=2&frontend_id_list=19&l1_front_id=15\"\n",
              "            frameborder=\"0\"\n",
              "            allowfullscreen\n",
              "            \n",
              "        ></iframe>\n",
              "        "
            ],
            "text/plain": [
              "<IPython.lib.display.IFrame at 0x7fec266d97b0>"
            ]
          },
          "execution_count": 3,
          "metadata": {},
          "output_type": "execute_result"
        }
      ],
      "source": [
        "from IPython.display import IFrame\n",
        "IFrame('https://www.klook.com/zh-HK/experiences/list/hong-kong-camping/c2-cate19/?city_ids=2&frontend_id_list=19&l1_front_id=15', width=1000, height=350)"
      ]
    },
    {
      "cell_type": "code",
      "execution_count": null,
      "metadata": {
        "colab": {
          "base_uri": "https://localhost:8080/"
        },
        "id": "Ys4W-j4hh5PC",
        "outputId": "36047876-39ab-48d4-a526-edac222c3b3a"
      },
      "outputs": [
        {
          "name": "stdout",
          "output_type": "stream",
          "text": [
            "403\n"
          ]
        }
      ],
      "source": [
        "headers = {\"Accept-Language\": \"en-US, en;q=0.5\"}\n",
        "url = \"https://www.klook.com/zh-HK/experiences/list/hong-kong-camping/c2-cate19/?city_ids=2&frontend_id_list=19&l1_front_id=15\"\n",
        "\n",
        "response = requests.get(url,headers = headers)\n",
        "print(response.status_code)\n",
        "#html = response.content\n",
        "\n",
        "#soup = BeautifulSoup(html, \"html.parser\") "
      ]
    },
    {
      "cell_type": "code",
      "execution_count": null,
      "metadata": {
        "colab": {
          "base_uri": "https://localhost:8080/"
        },
        "id": "goo7orzLh5PD",
        "outputId": "f27ed5c9-1e9a-4a9c-be33-ffed1189a267"
      },
      "outputs": [
        {
          "name": "stdout",
          "output_type": "stream",
          "text": [
            "请求失败\n"
          ]
        }
      ],
      "source": [
        "import requests \n",
        "from bs4 import BeautifulSoup \n",
        "\n",
        "headers = {\"Accept-Language\": \"en-US, en;q=0.5\"}\n",
        "url = \"https://www.klook.com/zh-HK/experiences/list/hong-kong-camping/c2-cate19/?city_ids=2&frontend_id_list=19&l1_front_id=15\"\n",
        "\n",
        "response = requests.get(url, headers=headers) \n",
        "\n",
        "if response.status_code == 200:\n",
        "    soup = BeautifulSoup(response.content, 'html.parser')\n",
        "    campings = soup.find_all('div', class_='card')\n",
        "    \n",
        "    for camping in campings:\n",
        "        name = camping.find('div', class_='title').text.strip()\n",
        "        price = camping.find('div', class_='card__price').text.strip()\n",
        "        print(f'露营地: {name}\\n价格: {price}\\n')\n",
        "else:\n",
        "    print('请求失败')"
      ]
    },
    {
      "cell_type": "code",
      "execution_count": null,
      "metadata": {
        "id": "kzgiNU9bh5PD"
      },
      "outputs": [],
      "source": [
        "import requests \n",
        "from bs4 import BeautifulSoup \n",
        "\n",
        "url = \"https://www.klook.com/zh-HK/experiences/list/hong-kong-camping/c2-cate19/?city_ids=2&frontend_id_list=19&l1_front_id=15\"\n",
        "headers = {\n",
        "    \"User-Agent\": \"Mozilla/5.0 (Windows NT 10.0; Win64; x64) AppleWebKit/537.36 (KHTML, like Gecko) Chrome/89.0.4389.82 Safari/537.36\",\n",
        "    \"Accept-Language\": \"en-US, en;q=0.5\"\n",
        "}\n",
        "\n",
        "response = requests.get(url, headers=headers)\n",
        "\n",
        "if response.status_code == 200:\n",
        "    soup = BeautifulSoup(response.content, 'html.parser')\n",
        "    campings = soup.find_all('div', class_='card')\n",
        "    \n",
        "    for camping in campings:\n",
        "        name = camping.find('div', class_='title').text.strip()\n",
        "        price = camping.find('div', class_='card__price').text.strip()\n",
        "        print(f'露营地: {name}\\n价格: {price}\\n')\n",
        "else:\n",
        "    print('请求失败')"
      ]
    },
    {
      "cell_type": "code",
      "execution_count": null,
      "metadata": {
        "colab": {
          "base_uri": "https://localhost:8080/"
        },
        "id": "AMJYCX_Rh5PD",
        "outputId": "3aa602c4-283a-4610-bb12-67be0f1c5161"
      },
      "outputs": [
        {
          "name": "stdout",
          "output_type": "stream",
          "text": [
            "请求发生异常，等待 3 秒后继续执行。异常信息: HTTPSConnectionPool(host='www.klook.com', port=443): Max retries exceeded with url: /zh-HK/experiences/list/hong-kong-camping/c2-cate19/?city_ids=2&frontend_id_list=19&l1_front_id=15 (Caused by ProxyError('Cannot connect to proxy.', NewConnectionError('<urllib3.connection.HTTPSConnection object at 0x7febfac8f400>: Failed to establish a new connection: [Errno 111] Connection refused')))\n",
            "请求发生异常，等待 6 秒后继续执行。异常信息: HTTPSConnectionPool(host='www.klook.com', port=443): Max retries exceeded with url: /zh-HK/experiences/list/hong-kong-camping/c2-cate19/?city_ids=2&frontend_id_list=19&l1_front_id=15 (Caused by ProxyError('Cannot connect to proxy.', NewConnectionError('<urllib3.connection.HTTPSConnection object at 0x7febfac8f4c0>: Failed to establish a new connection: [Errno 111] Connection refused')))\n",
            "请求发生异常，等待 4 秒后继续执行。异常信息: HTTPSConnectionPool(host='www.klook.com', port=443): Max retries exceeded with url: /zh-HK/experiences/list/hong-kong-camping/c2-cate19/?city_ids=2&frontend_id_list=19&l1_front_id=15 (Caused by ProxyError('Cannot connect to proxy.', NewConnectionError('<urllib3.connection.HTTPSConnection object at 0x7febfac8e9e0>: Failed to establish a new connection: [Errno 111] Connection refused')))\n",
            "请求发生异常，等待 7 秒后继续执行。异常信息: HTTPSConnectionPool(host='www.klook.com', port=443): Max retries exceeded with url: /zh-HK/experiences/list/hong-kong-camping/c2-cate19/?city_ids=2&frontend_id_list=19&l1_front_id=15 (Caused by ProxyError('Cannot connect to proxy.', NewConnectionError('<urllib3.connection.HTTPSConnection object at 0x7febfb4e8490>: Failed to establish a new connection: [Errno 111] Connection refused')))\n",
            "请求发生异常，等待 1 秒后继续执行。异常信息: HTTPSConnectionPool(host='www.klook.com', port=443): Max retries exceeded with url: /zh-HK/experiences/list/hong-kong-camping/c2-cate19/?city_ids=2&frontend_id_list=19&l1_front_id=15 (Caused by ProxyError('Cannot connect to proxy.', NewConnectionError('<urllib3.connection.HTTPSConnection object at 0x7febfb4e8b80>: Failed to establish a new connection: [Errno 111] Connection refused')))\n"
          ]
        }
      ],
      "source": [
        "import requests\n",
        "from bs4 import BeautifulSoup\n",
        "import random\n",
        "import time\n",
        "\n",
        "url = \"https://www.klook.com/zh-HK/experiences/list/hong-kong-camping/c2-cate19/?city_ids=2&frontend_id_list=19&l1_front_id=15\"\n",
        "\n",
        "headers = {\n",
        "    \"User-Agent\": \"Mozilla/5.0 (Windows NT 10.0; Win64; x64) AppleWebKit/537.36 (KHTML, like Gecko) Chrome/89.0.4389.82 Safari/537.36\",\n",
        "    \"Accept-Language\": \"en-US, en;q=0.5\",\n",
        "    \"Referer\": \"https://www.klook.com/\",\n",
        "}\n",
        "\n",
        "proxies = {\n",
        "    \"https\": \"http://127.0.0.1:8888\",\n",
        "#   \"http\": \"http://yourproxyaddress:port\",\n",
        "}\n",
        "\n",
        "for i in range(5):\n",
        "    #A random number is generated as the wait time\n",
        "    sleep_time = random.randint(1, 10)\n",
        "    time.sleep(sleep_time)\n",
        "\n",
        "    try:\n",
        "        #A random proxy server is selected to make requests\n",
        "        response = requests.get(url, headers=headers, proxies=proxies, timeout=10)\n",
        "        \n",
        "        if response.status_code == 200:\n",
        "            soup = BeautifulSoup(response.content, 'html.parser')\n",
        "            campings = soup.find_all('div', class_='card')\n",
        "            \n",
        "            for camping in campings:\n",
        "                name = camping.find('div', class_='title').text.strip()\n",
        "                price = camping.find('div', class_='card__price').text.strip()\n",
        "                print(f'露营地: {name}\\n价格: {price}\\n')\n",
        "        else:\n",
        "            print('请求失败')\n",
        "\n",
        "    except (requests.exceptions.ConnectTimeout, requests.exceptions.HTTPError, requests.exceptions.ProxyError) as e:\n",
        "        #An exception occurs, logs and continues after a period of sleep\n",
        "        print(f'请求发生异常，等待 {sleep_time} 秒后继续执行。异常信息: {e}')\n",
        "        time.sleep(sleep_time)\n",
        "        continue"
      ]
    },
    {
      "attachments": {},
      "cell_type": "markdown",
      "metadata": {
        "id": "e-QtQ0mp0C8_"
      },
      "source": [
        "This part is our attempt to crawl the Hong Kong camp included in Klook, we tried methods such as BeautifulSoup Crawl, Selenium Crawl and User Agent Crawl, but still failed to get the website because Klook set up a complex anti-crawl function that required a real test: pull the puzzle pieces into place, and the robot could not complete the operation; At the same time, we searched the privacy file of klook's official website and whether there is an official open API to use, and the result was negative, klook's official website stated that user crawling is rejected, and there is no open API for users to use. After trying a variety of ways and not succeeding, we could only turn to crawling another official website comment, namely the 'Gocamping' website, the disadvantage is that there are fewer valid comments, a total of 8 posts to share, which also exposes the current problem of Hong Kong camping: there is no professional comprehensive camping website for camping users to share relevant experience and statistics camping-related data with each other. Here is the review crawling process and content of this site:"
      ]
    },
    {
      "attachments": {},
      "cell_type": "markdown",
      "metadata": {
        "id": "iqJwXLQmRsM_"
      },
      "source": [
        "## Gocamping comment(The reference is less significant)"
      ]
    },
    {
      "cell_type": "code",
      "execution_count": 1,
      "metadata": {
        "colab": {
          "base_uri": "https://localhost:8080/"
        },
        "id": "j_CiUjmzmWGH",
        "outputId": "6210a9cb-9f0f-4830-84c6-f63dbdc08dc3"
      },
      "outputs": [
        {
          "name": "stdout",
          "output_type": "stream",
          "text": [
            "Scraping finished and saved to campsites.csv at 2023-05-11 10:07:20\n"
          ]
        }
      ],
      "source": [
        "import requests\n",
        "from bs4 import BeautifulSoup\n",
        "import csv\n",
        "import os.path\n",
        "import time\n",
        "\n",
        "def scrape_campsites(url, filename):\n",
        "    try:\n",
        "        response = requests.get(url)\n",
        "        soup = BeautifulSoup(response.text, 'html.parser')\n",
        "        campsites = soup.find_all('div', class_='card-body')\n",
        "    except (requests.exceptions.RequestException, ValueError) as e:\n",
        "        print(f'Error occurred while scraping: {e}')\n",
        "        return\n",
        "\n",
        "    fieldnames = ['Name', 'Comment']\n",
        "    if os.path.exists(filename):\n",
        "        mode = 'a'\n",
        "        header = False\n",
        "    else:\n",
        "        mode = 'w'\n",
        "        header = True\n",
        "\n",
        "    with open(filename, mode, newline='', encoding='utf-8-sig') as csvfile:\n",
        "        writer = csv.DictWriter(csvfile, fieldnames=fieldnames)\n",
        "        if header:\n",
        "            writer.writeheader()\n",
        "\n",
        "        for campsite in campsites:\n",
        "            name = campsite.find('h5', class_='post_name').text.strip()\n",
        "            comment = campsite.find('div', class_='box').find('p').text.strip()\n",
        "            writer.writerow({'Name': name, 'Comment': comment})\n",
        "\n",
        "    print(f'Scraping finished and saved to {filename} at {time.strftime(\"%Y-%m-%d %H:%M:%S\")}')\n",
        "\n",
        "\n",
        "if __name__ == '__main__':\n",
        "    url = 'https://gocamping.hk/category/%e7%b6%93%e9%a9%97%e5%88%86%e4%ba%ab/'\n",
        "    filename = r'campsites.csv'\n",
        "    scrape_campsites(url, filename)"
      ]
    },
    {
      "attachments": {},
      "cell_type": "markdown",
      "metadata": {
        "id": "EvrsNYlA0Fdt"
      },
      "source": [
        "In this code, we crawl the names and reviews of Hong Kong campsites using Python's requests library and BeautifulSoup library, and save the results to a file in \"campsites.csv\". First, we define a function called \"scrape_campsites\" that contains parameters such as URL and file name. The function uses the requests.get method and the BeautifulSoup library to get the HTML response from the given URL, and then uses the find_all method to extract all campsite div elements with \"class_='card-body'\" from the HTML. Then, define a list called 'fieldnames' that contains the field names that will be listed in the CSV file. If the specified CSV file already exists, set mode to append mode ('a'), otherwise set to overwrite mode ('w').  In the subsequent data processing, our original plan was to use the comment content of each region to make a word cloud map or NLP model statistics, but after data crawling and processing, we found that the word frequency of the words in the comments was not enough, so we made suggestions for improving the webpage of the Hong Kong camp on this basis."
      ]
    }
  ],
  "metadata": {
    "colab": {
      "collapsed_sections": [
        "kBWyBAD0V4vN",
        "L_4IxFKtt82C",
        "LAu-FiBOZpi5",
        "jclhiD8j_JQu"
      ],
      "provenance": []
    },
    "kernelspec": {
      "display_name": "Python 3",
      "name": "python3"
    },
    "language_info": {
      "codemirror_mode": {
        "name": "ipython",
        "version": 3
      },
      "file_extension": ".py",
      "mimetype": "text/x-python",
      "name": "python",
      "nbconvert_exporter": "python",
      "pygments_lexer": "ipython3",
      "version": "3.9.10"
    }
  },
  "nbformat": 4,
  "nbformat_minor": 0
}
